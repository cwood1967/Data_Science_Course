{
 "cells": [
  {
   "cell_type": "markdown",
   "metadata": {},
   "source": [
    "# Homework 1: Construction, structures and simple statistics (0,1,2)"
   ]
  },
  {
   "cell_type": "code",
   "execution_count": 60,
   "metadata": {},
   "outputs": [],
   "source": [
    "import pandas as pd\n",
    "import numpy as np"
   ]
  },
  {
   "cell_type": "markdown",
   "metadata": {},
   "source": [
    "Some functions we have learned."
   ]
  },
  {
   "cell_type": "raw",
   "metadata": {},
   "source": [
    "pd.Series()\n",
    "df=pd.DataFrame({'A': 1.,\n",
    "                    'B': pd.Timestamp('20130102'),\n",
    "                    'C': pd.Series(1, index=list(range(4)), dtype='float32'),\n",
    "                    'D': np.array([3] * 4, dtype='int32'),\n",
    "                    'E': pd.Categorical([\"test\", \"train\", \"test\", \"train\"]),\n",
    "                    'F': 'foo'})\n",
    "df.T\n",
    "df.index\n",
    "df.columns\n",
    "df.sort_values(by='C')\n",
    "df['A']\n",
    "\n",
    "df.describe(include=['number', 'category', 'all'], percentiles=[.05, .25, .75, .95])\n",
    "df.max(skipna=False)\n",
    "df.min()\n",
    "df.sum()\n",
    "df.mean()\n",
    "df.unique()\n",
    "\n",
    "df.idxmax()\n",
    "df.iloc\n",
    "df.value_counts()\n"
   ]
  },
  {
   "cell_type": "markdown",
   "metadata": {},
   "source": [
    "# Constructing the dataset"
   ]
  },
  {
   "cell_type": "markdown",
   "metadata": {},
   "source": [
    "**Exercise 1:  Create 4 Series**  \n",
    "Create a series with 100 entries called Norm1 that has random values that are normally distributed with mean 0 and standard deviation 4.  \n",
    "Create a second series with 100 entries called Norm2 that has random values that are normally distributed with mean 3 and standard deviation 2.  \n",
    "Create a third series with 100 entries called Conditions that has either 'WT' or 'mut', randomly chosen.\n",
    "np.random.choice() can accomplish something like this.  \n",
    "Create a fourth series with 100 entries called Counts that has a poisson distribution, lambda=5."
   ]
  },
  {
   "cell_type": "code",
   "execution_count": 74,
   "metadata": {},
   "outputs": [],
   "source": [
    "Norm1 = pd.Series(np.random.normal(0, 4, 100))"
   ]
  },
  {
   "cell_type": "code",
   "execution_count": 75,
   "metadata": {},
   "outputs": [],
   "source": [
    "Norm2 = pd.Series(np.random.normal(3,2,100))"
   ]
  },
  {
   "cell_type": "code",
   "execution_count": 76,
   "metadata": {},
   "outputs": [],
   "source": [
    "Conditions = pd.Categorical(pd.Series(np.random.choice(['WT', 'mut'], size=100)))"
   ]
  },
  {
   "cell_type": "code",
   "execution_count": 77,
   "metadata": {},
   "outputs": [],
   "source": [
    "Counts=np.random.poisson(5,100)"
   ]
  },
  {
   "cell_type": "markdown",
   "metadata": {},
   "source": [
    "**Exercise 2:  Combine these into a Dataframe called df**"
   ]
  },
  {
   "cell_type": "code",
   "execution_count": 65,
   "metadata": {},
   "outputs": [],
   "source": [
    "df=pd.DataFrame({'Norm1':Norm1, 'Norm2':Norm2, 'Conditions':Conditions, 'Counts':Counts})"
   ]
  },
  {
   "cell_type": "markdown",
   "metadata": {},
   "source": [
    "# Statistics on the dataset"
   ]
  },
  {
   "cell_type": "markdown",
   "metadata": {},
   "source": [
    "The mean/stdev of Norm1 should be 0/4.  The mean/stdev of Norm2 should be 3/2.  \n",
    "\n",
    "**Question 1:  How far off are these from our dataframe?**"
   ]
  },
  {
   "cell_type": "code",
   "execution_count": 67,
   "metadata": {},
   "outputs": [
    {
     "data": {
      "text/html": [
       "<div>\n",
       "<style scoped>\n",
       "    .dataframe tbody tr th:only-of-type {\n",
       "        vertical-align: middle;\n",
       "    }\n",
       "\n",
       "    .dataframe tbody tr th {\n",
       "        vertical-align: top;\n",
       "    }\n",
       "\n",
       "    .dataframe thead th {\n",
       "        text-align: right;\n",
       "    }\n",
       "</style>\n",
       "<table border=\"1\" class=\"dataframe\">\n",
       "  <thead>\n",
       "    <tr style=\"text-align: right;\">\n",
       "      <th></th>\n",
       "      <th>Norm1</th>\n",
       "      <th>Norm2</th>\n",
       "      <th>Conditions</th>\n",
       "      <th>Counts</th>\n",
       "    </tr>\n",
       "  </thead>\n",
       "  <tbody>\n",
       "    <tr>\n",
       "      <th>count</th>\n",
       "      <td>100.000000</td>\n",
       "      <td>100.000000</td>\n",
       "      <td>100</td>\n",
       "      <td>100.000000</td>\n",
       "    </tr>\n",
       "    <tr>\n",
       "      <th>unique</th>\n",
       "      <td>NaN</td>\n",
       "      <td>NaN</td>\n",
       "      <td>2</td>\n",
       "      <td>NaN</td>\n",
       "    </tr>\n",
       "    <tr>\n",
       "      <th>top</th>\n",
       "      <td>NaN</td>\n",
       "      <td>NaN</td>\n",
       "      <td>mut</td>\n",
       "      <td>NaN</td>\n",
       "    </tr>\n",
       "    <tr>\n",
       "      <th>freq</th>\n",
       "      <td>NaN</td>\n",
       "      <td>NaN</td>\n",
       "      <td>53</td>\n",
       "      <td>NaN</td>\n",
       "    </tr>\n",
       "    <tr>\n",
       "      <th>mean</th>\n",
       "      <td>0.112305</td>\n",
       "      <td>3.001706</td>\n",
       "      <td>NaN</td>\n",
       "      <td>5.450000</td>\n",
       "    </tr>\n",
       "    <tr>\n",
       "      <th>std</th>\n",
       "      <td>4.198543</td>\n",
       "      <td>1.974028</td>\n",
       "      <td>NaN</td>\n",
       "      <td>2.271363</td>\n",
       "    </tr>\n",
       "    <tr>\n",
       "      <th>min</th>\n",
       "      <td>-10.395118</td>\n",
       "      <td>-2.256345</td>\n",
       "      <td>NaN</td>\n",
       "      <td>1.000000</td>\n",
       "    </tr>\n",
       "    <tr>\n",
       "      <th>25%</th>\n",
       "      <td>-2.633903</td>\n",
       "      <td>1.703409</td>\n",
       "      <td>NaN</td>\n",
       "      <td>4.000000</td>\n",
       "    </tr>\n",
       "    <tr>\n",
       "      <th>50%</th>\n",
       "      <td>0.360495</td>\n",
       "      <td>2.989715</td>\n",
       "      <td>NaN</td>\n",
       "      <td>5.000000</td>\n",
       "    </tr>\n",
       "    <tr>\n",
       "      <th>75%</th>\n",
       "      <td>2.778031</td>\n",
       "      <td>4.403489</td>\n",
       "      <td>NaN</td>\n",
       "      <td>7.000000</td>\n",
       "    </tr>\n",
       "    <tr>\n",
       "      <th>max</th>\n",
       "      <td>10.098709</td>\n",
       "      <td>7.970543</td>\n",
       "      <td>NaN</td>\n",
       "      <td>12.000000</td>\n",
       "    </tr>\n",
       "  </tbody>\n",
       "</table>\n",
       "</div>"
      ],
      "text/plain": [
       "             Norm1       Norm2 Conditions      Counts\n",
       "count   100.000000  100.000000        100  100.000000\n",
       "unique         NaN         NaN          2         NaN\n",
       "top            NaN         NaN        mut         NaN\n",
       "freq           NaN         NaN         53         NaN\n",
       "mean      0.112305    3.001706        NaN    5.450000\n",
       "std       4.198543    1.974028        NaN    2.271363\n",
       "min     -10.395118   -2.256345        NaN    1.000000\n",
       "25%      -2.633903    1.703409        NaN    4.000000\n",
       "50%       0.360495    2.989715        NaN    5.000000\n",
       "75%       2.778031    4.403489        NaN    7.000000\n",
       "max      10.098709    7.970543        NaN   12.000000"
      ]
     },
     "execution_count": 67,
     "metadata": {},
     "output_type": "execute_result"
    }
   ],
   "source": [
    "df.describe(include='all')"
   ]
  },
  {
   "cell_type": "markdown",
   "metadata": {},
   "source": [
    "**Question 2:  What Condition is the entry with the highest Norm1 value?**  \n",
    "You can use sort_values or iloc/idxmax to accomplish this."
   ]
  },
  {
   "cell_type": "code",
   "execution_count": 69,
   "metadata": {},
   "outputs": [
    {
     "data": {
      "text/plain": [
       "Norm1          10.0987\n",
       "Norm2         0.400695\n",
       "Conditions          WT\n",
       "Counts               6\n",
       "Name: 78, dtype: object"
      ]
     },
     "execution_count": 69,
     "metadata": {},
     "output_type": "execute_result"
    }
   ],
   "source": [
    "df.iloc[df['Norm1'].idxmax()]"
   ]
  },
  {
   "cell_type": "code",
   "execution_count": 71,
   "metadata": {},
   "outputs": [
    {
     "data": {
      "text/html": [
       "<div>\n",
       "<style scoped>\n",
       "    .dataframe tbody tr th:only-of-type {\n",
       "        vertical-align: middle;\n",
       "    }\n",
       "\n",
       "    .dataframe tbody tr th {\n",
       "        vertical-align: top;\n",
       "    }\n",
       "\n",
       "    .dataframe thead th {\n",
       "        text-align: right;\n",
       "    }\n",
       "</style>\n",
       "<table border=\"1\" class=\"dataframe\">\n",
       "  <thead>\n",
       "    <tr style=\"text-align: right;\">\n",
       "      <th></th>\n",
       "      <th>Norm1</th>\n",
       "      <th>Norm2</th>\n",
       "      <th>Conditions</th>\n",
       "      <th>Counts</th>\n",
       "    </tr>\n",
       "  </thead>\n",
       "  <tbody>\n",
       "    <tr>\n",
       "      <th>78</th>\n",
       "      <td>10.098709</td>\n",
       "      <td>0.400695</td>\n",
       "      <td>WT</td>\n",
       "      <td>6</td>\n",
       "    </tr>\n",
       "    <tr>\n",
       "      <th>99</th>\n",
       "      <td>9.133550</td>\n",
       "      <td>0.802936</td>\n",
       "      <td>mut</td>\n",
       "      <td>2</td>\n",
       "    </tr>\n",
       "    <tr>\n",
       "      <th>14</th>\n",
       "      <td>8.703185</td>\n",
       "      <td>-1.364091</td>\n",
       "      <td>WT</td>\n",
       "      <td>2</td>\n",
       "    </tr>\n",
       "    <tr>\n",
       "      <th>48</th>\n",
       "      <td>8.026477</td>\n",
       "      <td>1.981101</td>\n",
       "      <td>mut</td>\n",
       "      <td>4</td>\n",
       "    </tr>\n",
       "    <tr>\n",
       "      <th>26</th>\n",
       "      <td>6.796200</td>\n",
       "      <td>4.631206</td>\n",
       "      <td>WT</td>\n",
       "      <td>7</td>\n",
       "    </tr>\n",
       "    <tr>\n",
       "      <th>...</th>\n",
       "      <td>...</td>\n",
       "      <td>...</td>\n",
       "      <td>...</td>\n",
       "      <td>...</td>\n",
       "    </tr>\n",
       "    <tr>\n",
       "      <th>60</th>\n",
       "      <td>-7.833238</td>\n",
       "      <td>4.467063</td>\n",
       "      <td>mut</td>\n",
       "      <td>4</td>\n",
       "    </tr>\n",
       "    <tr>\n",
       "      <th>36</th>\n",
       "      <td>-8.539900</td>\n",
       "      <td>2.515395</td>\n",
       "      <td>mut</td>\n",
       "      <td>6</td>\n",
       "    </tr>\n",
       "    <tr>\n",
       "      <th>12</th>\n",
       "      <td>-8.961708</td>\n",
       "      <td>1.618199</td>\n",
       "      <td>mut</td>\n",
       "      <td>3</td>\n",
       "    </tr>\n",
       "    <tr>\n",
       "      <th>49</th>\n",
       "      <td>-9.194553</td>\n",
       "      <td>-2.256345</td>\n",
       "      <td>mut</td>\n",
       "      <td>6</td>\n",
       "    </tr>\n",
       "    <tr>\n",
       "      <th>16</th>\n",
       "      <td>-10.395118</td>\n",
       "      <td>4.511822</td>\n",
       "      <td>mut</td>\n",
       "      <td>6</td>\n",
       "    </tr>\n",
       "  </tbody>\n",
       "</table>\n",
       "<p>100 rows × 4 columns</p>\n",
       "</div>"
      ],
      "text/plain": [
       "        Norm1     Norm2 Conditions  Counts\n",
       "78  10.098709  0.400695         WT       6\n",
       "99   9.133550  0.802936        mut       2\n",
       "14   8.703185 -1.364091         WT       2\n",
       "48   8.026477  1.981101        mut       4\n",
       "26   6.796200  4.631206         WT       7\n",
       "..        ...       ...        ...     ...\n",
       "60  -7.833238  4.467063        mut       4\n",
       "36  -8.539900  2.515395        mut       6\n",
       "12  -8.961708  1.618199        mut       3\n",
       "49  -9.194553 -2.256345        mut       6\n",
       "16 -10.395118  4.511822        mut       6\n",
       "\n",
       "[100 rows x 4 columns]"
      ]
     },
     "execution_count": 71,
     "metadata": {},
     "output_type": "execute_result"
    }
   ],
   "source": [
    "df.sort_values(by='Norm1', ascending=False)"
   ]
  },
  {
   "cell_type": "markdown",
   "metadata": {},
   "source": [
    "**Question 3:  What is the most common value for Counts?**"
   ]
  },
  {
   "cell_type": "code",
   "execution_count": 85,
   "metadata": {},
   "outputs": [
    {
     "data": {
      "text/plain": [
       "5"
      ]
     },
     "execution_count": 85,
     "metadata": {},
     "output_type": "execute_result"
    }
   ],
   "source": [
    "df['Counts'].value_counts().index[0]"
   ]
  },
  {
   "cell_type": "markdown",
   "metadata": {},
   "source": [
    "# Looping"
   ]
  },
  {
   "cell_type": "markdown",
   "metadata": {},
   "source": [
    "**Exercise 3:  Loop through the columns of df and print out their names but with ' (preliminary)' tacked on to the end.**  \n",
    "It should look something like:  \n",
    "\n",
    "Norm1 (preliminary)  \n",
    "Norm2 (preliminary)  \n",
    "Conditions (preliminary)  \n",
    "Counts (preliminary)"
   ]
  },
  {
   "cell_type": "code",
   "execution_count": 73,
   "metadata": {},
   "outputs": [
    {
     "name": "stdout",
     "output_type": "stream",
     "text": [
      "Norm1 (preliminary)\n",
      "Norm2 (preliminary)\n",
      "Conditions (preliminary)\n",
      "Counts (preliminary)\n"
     ]
    }
   ],
   "source": [
    "for c in df.columns:\n",
    "    print(c+' (preliminary)')"
   ]
  },
  {
   "cell_type": "code",
   "execution_count": null,
   "metadata": {},
   "outputs": [],
   "source": []
  }
 ],
 "metadata": {
  "kernelspec": {
   "display_name": "Python 3",
   "language": "python",
   "name": "python3"
  },
  "language_info": {
   "codemirror_mode": {
    "name": "ipython",
    "version": 3
   },
   "file_extension": ".py",
   "mimetype": "text/x-python",
   "name": "python",
   "nbconvert_exporter": "python",
   "pygments_lexer": "ipython3",
   "version": "3.6.10"
  }
 },
 "nbformat": 4,
 "nbformat_minor": 4
}
