{
 "cells": [
  {
   "cell_type": "code",
   "execution_count": null,
   "metadata": {
    "colab": {},
    "colab_type": "code",
    "id": "3cSrFi89Rz34"
   },
   "outputs": [],
   "source": [
    "import numpy as np\n",
    "import pandas as pd"
   ]
  },
  {
   "cell_type": "markdown",
   "metadata": {
    "colab_type": "text",
    "id": "S7wvjMmhSHD2"
   },
   "source": [
    "# Data Selection\n",
    "\n",
    "In order to explore a dataset and perform data analysis, we need to be able to select specific parts of our data. Selecting data allows us to clean/transform data to prepare for analysis, and create the appropriate calculations to get the results we need.\n",
    "\n"
   ]
  },
  {
   "cell_type": "markdown",
   "metadata": {
    "colab_type": "text",
    "id": "Hn_CqlT7LvRS"
   },
   "source": [
    "Now that the file is available, we can open it with the Pandas `read_csv` function"
   ]
  },
  {
   "cell_type": "code",
   "execution_count": null,
   "metadata": {
    "colab": {
     "base_uri": "https://localhost:8080/",
     "height": 419
    },
    "colab_type": "code",
    "executionInfo": {
     "elapsed": 477,
     "status": "ok",
     "timestamp": 1588252591606,
     "user": {
      "displayName": "Richard Alexander",
      "photoUrl": "https://lh3.googleusercontent.com/a-/AOh14Ghn6F8r3pF0SntsFbxkmhRaWso_lCd_s8ePdlKY_g=s64",
      "userId": "13543676537814105778"
     },
     "user_tz": 300
    },
    "id": "Ndqup31sS3Bt",
    "outputId": "b837bc7e-8005-407c-f2d0-19ff9e757bb5"
   },
   "outputs": [],
   "source": [
    "# Load titanic CSV data\n",
    "csv_path = 'https://raw.githubusercontent.com/pandas-dev/pandas/master/doc/data/titanic.csv'\n",
    "titanic = pd.read_csv(csv_path)\n",
    "titanic\n"
   ]
  },
  {
   "cell_type": "markdown",
   "metadata": {
    "colab_type": "text",
    "id": "qymyaDp0Mb8d"
   },
   "source": [
    "# Selecting Columns\n",
    "\n",
    "![Selecting Columns](https://drive.google.com/uc?id=17_YMZ8CxJOPUyBIV1pHThMwIo-AwY9qB)\n"
   ]
  },
  {
   "cell_type": "markdown",
   "metadata": {
    "colab_type": "text",
    "id": "-6lDxzgsPxUn"
   },
   "source": [
    "What if we want to analyze the passengers **age**?"
   ]
  },
  {
   "cell_type": "code",
   "execution_count": null,
   "metadata": {
    "colab": {
     "base_uri": "https://localhost:8080/",
     "height": 221
    },
    "colab_type": "code",
    "executionInfo": {
     "elapsed": 476,
     "status": "ok",
     "timestamp": 1588252961667,
     "user": {
      "displayName": "Richard Alexander",
      "photoUrl": "https://lh3.googleusercontent.com/a-/AOh14Ghn6F8r3pF0SntsFbxkmhRaWso_lCd_s8ePdlKY_g=s64",
      "userId": "13543676537814105778"
     },
     "user_tz": 300
    },
    "id": "xTq5XXFDTTmt",
    "outputId": "3baf3cea-a0ee-469a-8a9e-5645c4119646"
   },
   "outputs": [],
   "source": [
    "# Select the age column Series\n",
    "ages = titanic['Age']\n",
    "ages"
   ]
  },
  {
   "cell_type": "markdown",
   "metadata": {
    "colab_type": "text",
    "id": "zymk35nRQr5m"
   },
   "source": [
    "As we expect, this created a Pandas Series"
   ]
  },
  {
   "cell_type": "code",
   "execution_count": null,
   "metadata": {
    "colab": {
     "base_uri": "https://localhost:8080/",
     "height": 34
    },
    "colab_type": "code",
    "executionInfo": {
     "elapsed": 480,
     "status": "ok",
     "timestamp": 1588253069660,
     "user": {
      "displayName": "Richard Alexander",
      "photoUrl": "https://lh3.googleusercontent.com/a-/AOh14Ghn6F8r3pF0SntsFbxkmhRaWso_lCd_s8ePdlKY_g=s64",
      "userId": "13543676537814105778"
     },
     "user_tz": 300
    },
    "id": "6c0Yb5QSQoGZ",
    "outputId": "88ccd448-db4b-433a-91b5-fa33c23848b8"
   },
   "outputs": [],
   "source": [
    "type(ages)"
   ]
  },
  {
   "cell_type": "markdown",
   "metadata": {
    "colab_type": "text",
    "id": "LB_u9oUlRQNa"
   },
   "source": [
    "The shape of our output verifies that we have a single dimension"
   ]
  },
  {
   "cell_type": "code",
   "execution_count": null,
   "metadata": {
    "colab": {
     "base_uri": "https://localhost:8080/",
     "height": 34
    },
    "colab_type": "code",
    "executionInfo": {
     "elapsed": 544,
     "status": "ok",
     "timestamp": 1588253260600,
     "user": {
      "displayName": "Richard Alexander",
      "photoUrl": "https://lh3.googleusercontent.com/a-/AOh14Ghn6F8r3pF0SntsFbxkmhRaWso_lCd_s8ePdlKY_g=s64",
      "userId": "13543676537814105778"
     },
     "user_tz": 300
    },
    "id": "uYNU0Ha_RQ6h",
    "outputId": "d82d96dd-2ea0-48be-f82f-ae26d0d691bd"
   },
   "outputs": [],
   "source": [
    "ages.shape"
   ]
  },
  {
   "cell_type": "markdown",
   "metadata": {
    "colab_type": "text",
    "id": "Bz8oMLicQSSI"
   },
   "source": [
    "If we want to analyze both **Age** and **Sex** of the passengers, we can select multiple columns, creating a new dataframe."
   ]
  },
  {
   "cell_type": "code",
   "execution_count": null,
   "metadata": {
    "colab": {
     "base_uri": "https://localhost:8080/",
     "height": 204
    },
    "colab_type": "code",
    "executionInfo": {
     "elapsed": 473,
     "status": "ok",
     "timestamp": 1588253319079,
     "user": {
      "displayName": "Richard Alexander",
      "photoUrl": "https://lh3.googleusercontent.com/a-/AOh14Ghn6F8r3pF0SntsFbxkmhRaWso_lCd_s8ePdlKY_g=s64",
      "userId": "13543676537814105778"
     },
     "user_tz": 300
    },
    "id": "wUjh5_IFV1QK",
    "outputId": "8d9cb182-092e-4c43-dff1-600f576ea905"
   },
   "outputs": [],
   "source": [
    "# Selecting multiple columns creates a new dataframe\n",
    "age_sex = titanic[[\"Age\", \"Sex\"]]\n",
    "age_sex.head()"
   ]
  },
  {
   "cell_type": "markdown",
   "metadata": {
    "colab_type": "text",
    "id": "DPqV4DORSADa"
   },
   "source": [
    "Notice the double brackets: `titanic[[\"Age\", \"Sex\"]]`\n",
    "\n",
    "This time we pass a list of column names as a parameter, rather than a single column name."
   ]
  },
  {
   "cell_type": "code",
   "execution_count": null,
   "metadata": {
    "colab": {
     "base_uri": "https://localhost:8080/",
     "height": 34
    },
    "colab_type": "code",
    "executionInfo": {
     "elapsed": 407,
     "status": "ok",
     "timestamp": 1588253536059,
     "user": {
      "displayName": "Richard Alexander",
      "photoUrl": "https://lh3.googleusercontent.com/a-/AOh14Ghn6F8r3pF0SntsFbxkmhRaWso_lCd_s8ePdlKY_g=s64",
      "userId": "13543676537814105778"
     },
     "user_tz": 300
    },
    "id": "U5Zrte7UR_p4",
    "outputId": "604512d4-fc23-42b8-b559-b46ee6394695"
   },
   "outputs": [],
   "source": [
    "# Verify that we have a new dataframe\n",
    "type(age_sex)"
   ]
  },
  {
   "cell_type": "markdown",
   "metadata": {
    "colab_type": "text",
    "id": "jWSpMr4_SeAI"
   },
   "source": [
    "Because we have a dataframe, `shape` now outputs two dimensions."
   ]
  },
  {
   "cell_type": "code",
   "execution_count": null,
   "metadata": {
    "colab": {
     "base_uri": "https://localhost:8080/",
     "height": 34
    },
    "colab_type": "code",
    "executionInfo": {
     "elapsed": 345,
     "status": "ok",
     "timestamp": 1588253577950,
     "user": {
      "displayName": "Richard Alexander",
      "photoUrl": "https://lh3.googleusercontent.com/a-/AOh14Ghn6F8r3pF0SntsFbxkmhRaWso_lCd_s8ePdlKY_g=s64",
      "userId": "13543676537814105778"
     },
     "user_tz": 300
    },
    "id": "OecX8uD8Rl2R",
    "outputId": "f0de9829-c9d3-42d4-c939-86b6878bffff"
   },
   "outputs": [],
   "source": [
    "age_sex.shape"
   ]
  },
  {
   "cell_type": "markdown",
   "metadata": {
    "colab_type": "text",
    "id": "ZCYE1F4hS7_v"
   },
   "source": [
    "# Selecting Rows\n",
    "\n",
    "![Selecting Rows](https://drive.google.com/uc?id=1NOsEk5vaDLkvCFLYDUHmci8ojat3Hmpl)\n"
   ]
  },
  {
   "cell_type": "markdown",
   "metadata": {
    "colab_type": "text",
    "id": "lr_oLlYYXGI9"
   },
   "source": [
    "### Conditional Expressions\n",
    "\n",
    "\n",
    "What if we only want to analyze passengers who are above a certain age?"
   ]
  },
  {
   "cell_type": "code",
   "execution_count": null,
   "metadata": {
    "colab": {
     "base_uri": "https://localhost:8080/",
     "height": 204
    },
    "colab_type": "code",
    "executionInfo": {
     "elapsed": 924,
     "status": "ok",
     "timestamp": 1588253912062,
     "user": {
      "displayName": "Richard Alexander",
      "photoUrl": "https://lh3.googleusercontent.com/a-/AOh14Ghn6F8r3pF0SntsFbxkmhRaWso_lCd_s8ePdlKY_g=s64",
      "userId": "13543676537814105778"
     },
     "user_tz": 300
    },
    "id": "5-XNFM_hR9-U",
    "outputId": "438923b2-351c-4fc6-9832-469d9333185d"
   },
   "outputs": [],
   "source": [
    "above_35 = titanic[titanic[\"Age\"] > 35]\n",
    "above_35.head()"
   ]
  },
  {
   "cell_type": "markdown",
   "metadata": {
    "colab_type": "text",
    "id": "oqVHuxHMT_RR"
   },
   "source": [
    "Let's deconstruct what we just did, because there are a couple of important parts.\n",
    "\n",
    "First, inspect the conditional expression where we select the age of the passengers: `titanic[\"Age\"] > 35`\n",
    "\n",
    "Evaluating this expression by itself, we see that it returns a Series of boolean values."
   ]
  },
  {
   "cell_type": "code",
   "execution_count": null,
   "metadata": {
    "colab": {
     "base_uri": "https://localhost:8080/",
     "height": 221
    },
    "colab_type": "code",
    "executionInfo": {
     "elapsed": 436,
     "status": "ok",
     "timestamp": 1588254037510,
     "user": {
      "displayName": "Richard Alexander",
      "photoUrl": "https://lh3.googleusercontent.com/a-/AOh14Ghn6F8r3pF0SntsFbxkmhRaWso_lCd_s8ePdlKY_g=s64",
      "userId": "13543676537814105778"
     },
     "user_tz": 300
    },
    "id": "3tPoU6CeT-xL",
    "outputId": "a38cd22f-e19c-4a26-9fcb-012295d65f3f"
   },
   "outputs": [],
   "source": [
    "titanic[\"Age\"] > 35"
   ]
  },
  {
   "cell_type": "markdown",
   "metadata": {
    "colab_type": "text",
    "id": "v3f4vQXdUm0-"
   },
   "source": [
    "A conditional expression can be used to select rows from a dataframe, because when we pass a boolean Series to a dataframe, Pandas will only select rows where the value is `True`.\n",
    "\n",
    "Let's double check that it worked by comparing the shape of the original to the shape of the new dataframe. We should see fewer rows in the new dataframe.\n",
    "\n"
   ]
  },
  {
   "cell_type": "code",
   "execution_count": null,
   "metadata": {
    "colab": {
     "base_uri": "https://localhost:8080/",
     "height": 34
    },
    "colab_type": "code",
    "executionInfo": {
     "elapsed": 435,
     "status": "ok",
     "timestamp": 1588254471458,
     "user": {
      "displayName": "Richard Alexander",
      "photoUrl": "https://lh3.googleusercontent.com/a-/AOh14Ghn6F8r3pF0SntsFbxkmhRaWso_lCd_s8ePdlKY_g=s64",
      "userId": "13543676537814105778"
     },
     "user_tz": 300
    },
    "id": "PJH9bKRcUlSk",
    "outputId": "aedffad8-6273-4923-8992-b29b03f80b0c"
   },
   "outputs": [],
   "source": [
    "# Original titanic dataframe shape\n",
    "titanic.shape"
   ]
  },
  {
   "cell_type": "code",
   "execution_count": null,
   "metadata": {
    "colab": {
     "base_uri": "https://localhost:8080/",
     "height": 34
    },
    "colab_type": "code",
    "executionInfo": {
     "elapsed": 374,
     "status": "ok",
     "timestamp": 1588254498038,
     "user": {
      "displayName": "Richard Alexander",
      "photoUrl": "https://lh3.googleusercontent.com/a-/AOh14Ghn6F8r3pF0SntsFbxkmhRaWso_lCd_s8ePdlKY_g=s64",
      "userId": "13543676537814105778"
     },
     "user_tz": 300
    },
    "id": "JhuLRmJzUXSz",
    "outputId": "6bcce2e7-58e2-4bb0-fd34-8495df97b20f"
   },
   "outputs": [],
   "source": [
    "# New above_35 dataframe shape has fewer rows\n",
    "above_35.shape"
   ]
  },
  {
   "cell_type": "markdown",
   "metadata": {
    "colab_type": "text",
    "id": "w_cwhpwkXZWX"
   },
   "source": [
    "### Multiple Conditions\n",
    "\n",
    "What if we want to select only rows where the passenger class is 2 or 3?"
   ]
  },
  {
   "cell_type": "code",
   "execution_count": null,
   "metadata": {
    "colab": {
     "base_uri": "https://localhost:8080/",
     "height": 204
    },
    "colab_type": "code",
    "executionInfo": {
     "elapsed": 419,
     "status": "ok",
     "timestamp": 1588254951738,
     "user": {
      "displayName": "Richard Alexander",
      "photoUrl": "https://lh3.googleusercontent.com/a-/AOh14Ghn6F8r3pF0SntsFbxkmhRaWso_lCd_s8ePdlKY_g=s64",
      "userId": "13543676537814105778"
     },
     "user_tz": 300
    },
    "id": "UU00g4LnT2gh",
    "outputId": "e1c3ea2e-df11-4650-d37b-cece54c28f02"
   },
   "outputs": [],
   "source": [
    "class_23 = titanic[(titanic[\"Pclass\"] == 2) | (titanic[\"Pclass\"] == 3)]\n",
    "class_23.head()"
   ]
  },
  {
   "cell_type": "markdown",
   "metadata": {
    "colab_type": "text",
    "id": "mqOnDaffX7UK"
   },
   "source": [
    "This time we have two conditional expressions, combined with the or `|` operator. Thus, we select rows where the passenger class is either 2 or 3.\n",
    "\n",
    "\n",
    "-------------------------\n",
    "NOTE:\n",
    "\n",
    "Because we are combining booleans, we need to remember to use the boolean `&`, `|` operators, rather than python's `and`, `or`.\n",
    "\n",
    "-------------------------\n",
    "\n",
    "\n",
    "We can deconstruct these expressions as well in order to get a feel for what is going on."
   ]
  },
  {
   "cell_type": "code",
   "execution_count": null,
   "metadata": {
    "colab": {
     "base_uri": "https://localhost:8080/",
     "height": 221
    },
    "colab_type": "code",
    "executionInfo": {
     "elapsed": 429,
     "status": "ok",
     "timestamp": 1588255806789,
     "user": {
      "displayName": "Richard Alexander",
      "photoUrl": "https://lh3.googleusercontent.com/a-/AOh14Ghn6F8r3pF0SntsFbxkmhRaWso_lCd_s8ePdlKY_g=s64",
      "userId": "13543676537814105778"
     },
     "user_tz": 300
    },
    "id": "bBuYg5LqbARZ",
    "outputId": "4988d3d2-7896-4e49-c508-33c1eb151bfb"
   },
   "outputs": [],
   "source": [
    "# Rows where passenger class is 2\n",
    "(titanic[\"Pclass\"] == 2)"
   ]
  },
  {
   "cell_type": "code",
   "execution_count": null,
   "metadata": {
    "colab": {
     "base_uri": "https://localhost:8080/",
     "height": 221
    },
    "colab_type": "code",
    "executionInfo": {
     "elapsed": 484,
     "status": "ok",
     "timestamp": 1588255838914,
     "user": {
      "displayName": "Richard Alexander",
      "photoUrl": "https://lh3.googleusercontent.com/a-/AOh14Ghn6F8r3pF0SntsFbxkmhRaWso_lCd_s8ePdlKY_g=s64",
      "userId": "13543676537814105778"
     },
     "user_tz": 300
    },
    "id": "RCl952N0bBrF",
    "outputId": "488c5da3-53f1-49d6-d0f7-0035e3a09902"
   },
   "outputs": [],
   "source": [
    "# Rows where passenger class is 3\n",
    "(titanic[\"Pclass\"] == 3)"
   ]
  },
  {
   "cell_type": "code",
   "execution_count": null,
   "metadata": {
    "colab": {
     "base_uri": "https://localhost:8080/",
     "height": 221
    },
    "colab_type": "code",
    "executionInfo": {
     "elapsed": 394,
     "status": "ok",
     "timestamp": 1588255861796,
     "user": {
      "displayName": "Richard Alexander",
      "photoUrl": "https://lh3.googleusercontent.com/a-/AOh14Ghn6F8r3pF0SntsFbxkmhRaWso_lCd_s8ePdlKY_g=s64",
      "userId": "13543676537814105778"
     },
     "user_tz": 300
    },
    "id": "_8NTm4VdbBZo",
    "outputId": "c846efad-c48c-4ff8-c25f-762aa3064490"
   },
   "outputs": [],
   "source": [
    "# Rows where passenger class is 2 or 3\n",
    "(titanic[\"Pclass\"] == 2) | (titanic[\"Pclass\"] == 3)"
   ]
  },
  {
   "cell_type": "markdown",
   "metadata": {
    "colab_type": "text",
    "id": "6o3YuJjzau5F"
   },
   "source": [
    "We can also use Pandas `isin` function to perform the same task:"
   ]
  },
  {
   "cell_type": "code",
   "execution_count": null,
   "metadata": {
    "colab": {
     "base_uri": "https://localhost:8080/",
     "height": 204
    },
    "colab_type": "code",
    "executionInfo": {
     "elapsed": 449,
     "status": "ok",
     "timestamp": 1588255617653,
     "user": {
      "displayName": "Richard Alexander",
      "photoUrl": "https://lh3.googleusercontent.com/a-/AOh14Ghn6F8r3pF0SntsFbxkmhRaWso_lCd_s8ePdlKY_g=s64",
      "userId": "13543676537814105778"
     },
     "user_tz": 300
    },
    "id": "AYSlupSLX0dJ",
    "outputId": "aff47e72-9f82-4475-ac17-8e24b6ce8a70"
   },
   "outputs": [],
   "source": [
    "# Use `isin()` to select multiple passenger classes\n",
    "class_23 = titanic[titanic[\"Pclass\"].isin([2, 3])]\n",
    "class_23.head()"
   ]
  },
  {
   "cell_type": "markdown",
   "metadata": {
    "colab_type": "text",
    "id": "Wdjl7hhRauO_"
   },
   "source": [
    "Evaluating the inner statement by itself, we see that the `isin` function returns a boolean Series, just like our previous conditional statements!"
   ]
  },
  {
   "cell_type": "code",
   "execution_count": null,
   "metadata": {
    "colab": {
     "base_uri": "https://localhost:8080/",
     "height": 221
    },
    "colab_type": "code",
    "executionInfo": {
     "elapsed": 643,
     "status": "ok",
     "timestamp": 1588255968432,
     "user": {
      "displayName": "Richard Alexander",
      "photoUrl": "https://lh3.googleusercontent.com/a-/AOh14Ghn6F8r3pF0SntsFbxkmhRaWso_lCd_s8ePdlKY_g=s64",
      "userId": "13543676537814105778"
     },
     "user_tz": 300
    },
    "id": "72yH0ltnaJP7",
    "outputId": "a9ad95b1-a128-4745-99c7-56db518e9a33"
   },
   "outputs": [],
   "source": [
    "# `isin()` returns a boolean Series\n",
    "titanic[\"Pclass\"].isin([2, 3])"
   ]
  },
  {
   "cell_type": "markdown",
   "metadata": {
    "colab_type": "text",
    "id": "bbpTZBcDc7b8"
   },
   "source": [
    "# Conditions on Multiple Columns\n",
    "\n",
    "What if we want to compare the number of female passnegers who survived to the number of male passengers who survived?\n",
    "\n",
    "We can do this by splitting our data into two dataframes. First let's select the female passengers who survived."
   ]
  },
  {
   "cell_type": "code",
   "execution_count": null,
   "metadata": {
    "colab": {
     "base_uri": "https://localhost:8080/",
     "height": 204
    },
    "colab_type": "code",
    "executionInfo": {
     "elapsed": 466,
     "status": "ok",
     "timestamp": 1588256721720,
     "user": {
      "displayName": "Richard Alexander",
      "photoUrl": "https://lh3.googleusercontent.com/a-/AOh14Ghn6F8r3pF0SntsFbxkmhRaWso_lCd_s8ePdlKY_g=s64",
      "userId": "13543676537814105778"
     },
     "user_tz": 300
    },
    "id": "oObKKBC1cy-H",
    "outputId": "28adc4bf-c2d9-4984-de9b-433c99ed1c88"
   },
   "outputs": [],
   "source": [
    "# Select female passengers who survived\n",
    "female_survived = titanic[(titanic['Survived']==1) & (titanic['Sex'] == 'female')]\n",
    "female_survived.head()"
   ]
  },
  {
   "cell_type": "code",
   "execution_count": null,
   "metadata": {
    "colab": {
     "base_uri": "https://localhost:8080/",
     "height": 34
    },
    "colab_type": "code",
    "executionInfo": {
     "elapsed": 395,
     "status": "ok",
     "timestamp": 1588256738318,
     "user": {
      "displayName": "Richard Alexander",
      "photoUrl": "https://lh3.googleusercontent.com/a-/AOh14Ghn6F8r3pF0SntsFbxkmhRaWso_lCd_s8ePdlKY_g=s64",
      "userId": "13543676537814105778"
     },
     "user_tz": 300
    },
    "id": "G-4QY0iMempA",
    "outputId": "f96c2f00-2ed7-4d7c-8405-0234e2bac75d"
   },
   "outputs": [],
   "source": [
    "# See how many females survived\n",
    "female_survived.shape"
   ]
  },
  {
   "cell_type": "code",
   "execution_count": null,
   "metadata": {
    "colab": {
     "base_uri": "https://localhost:8080/",
     "height": 204
    },
    "colab_type": "code",
    "executionInfo": {
     "elapsed": 422,
     "status": "ok",
     "timestamp": 1588256747143,
     "user": {
      "displayName": "Richard Alexander",
      "photoUrl": "https://lh3.googleusercontent.com/a-/AOh14Ghn6F8r3pF0SntsFbxkmhRaWso_lCd_s8ePdlKY_g=s64",
      "userId": "13543676537814105778"
     },
     "user_tz": 300
    },
    "id": "vmuHySJ0bsni",
    "outputId": "bacccd6e-72fa-4f93-d607-ba615408c628"
   },
   "outputs": [],
   "source": [
    "# Select male passengers who survived\n",
    "male_survived = titanic[(titanic['Survived']==1) & (titanic['Sex'] == 'male')]\n",
    "male_survived.head()"
   ]
  },
  {
   "cell_type": "code",
   "execution_count": null,
   "metadata": {
    "colab": {
     "base_uri": "https://localhost:8080/",
     "height": 34
    },
    "colab_type": "code",
    "executionInfo": {
     "elapsed": 369,
     "status": "ok",
     "timestamp": 1588256753226,
     "user": {
      "displayName": "Richard Alexander",
      "photoUrl": "https://lh3.googleusercontent.com/a-/AOh14Ghn6F8r3pF0SntsFbxkmhRaWso_lCd_s8ePdlKY_g=s64",
      "userId": "13543676537814105778"
     },
     "user_tz": 300
    },
    "id": "RUFqpVqweqyG",
    "outputId": "b173878f-7e59-435a-d650-9b0417ea92fd"
   },
   "outputs": [],
   "source": [
    "# See how many males survived\n",
    "male_survived.shape"
   ]
  },
  {
   "cell_type": "markdown",
   "metadata": {
    "colab_type": "text",
    "id": "GEaK9gfIe_EP"
   },
   "source": [
    "Compared to males, well over twice as many females survived!"
   ]
  },
  {
   "cell_type": "code",
   "execution_count": null,
   "metadata": {
    "colab": {
     "base_uri": "https://localhost:8080/",
     "height": 51
    },
    "colab_type": "code",
    "executionInfo": {
     "elapsed": 433,
     "status": "ok",
     "timestamp": 1588257035528,
     "user": {
      "displayName": "Richard Alexander",
      "photoUrl": "https://lh3.googleusercontent.com/a-/AOh14Ghn6F8r3pF0SntsFbxkmhRaWso_lCd_s8ePdlKY_g=s64",
      "userId": "13543676537814105778"
     },
     "user_tz": 300
    },
    "id": "oWedNfsFesSW",
    "outputId": "7ea7d7fa-8427-4185-bb6d-f6ed294f6598",
    "tags": []
   },
   "outputs": [],
   "source": [
    "print('Females vs males:')\n",
    "len(female_survived) / len(male_survived)"
   ]
  },
  {
   "cell_type": "markdown",
   "metadata": {
    "colab_type": "text",
    "id": "R0RmRH6tf-rc"
   },
   "source": [
    "# Selecting Known Data\n",
    "\n",
    "It is often the case that a dataset will contain blank or NA values. Inspecting the age column, we see that some ages were unknown:"
   ]
  },
  {
   "cell_type": "code",
   "execution_count": null,
   "metadata": {
    "colab": {
     "base_uri": "https://localhost:8080/",
     "height": 221
    },
    "colab_type": "code",
    "executionInfo": {
     "elapsed": 446,
     "status": "ok",
     "timestamp": 1588257258094,
     "user": {
      "displayName": "Richard Alexander",
      "photoUrl": "https://lh3.googleusercontent.com/a-/AOh14Ghn6F8r3pF0SntsFbxkmhRaWso_lCd_s8ePdlKY_g=s64",
      "userId": "13543676537814105778"
     },
     "user_tz": 300
    },
    "id": "0y7tp2wEfmay",
    "outputId": "0ba79247-cd8e-4135-a614-063f7b201343"
   },
   "outputs": [],
   "source": [
    "titanic['Age']"
   ]
  },
  {
   "cell_type": "markdown",
   "metadata": {
    "colab_type": "text",
    "id": "F6V4CRPPgt3L"
   },
   "source": [
    "(Notice the `NaN` values above)\n",
    "\n",
    "We can select only known values using Pandas' `notna` conditional function, which returns a `True` for each row where the values are not a `Null` value."
   ]
  },
  {
   "cell_type": "code",
   "execution_count": null,
   "metadata": {
    "colab": {
     "base_uri": "https://localhost:8080/",
     "height": 204
    },
    "colab_type": "code",
    "executionInfo": {
     "elapsed": 411,
     "status": "ok",
     "timestamp": 1588257491219,
     "user": {
      "displayName": "Richard Alexander",
      "photoUrl": "https://lh3.googleusercontent.com/a-/AOh14Ghn6F8r3pF0SntsFbxkmhRaWso_lCd_s8ePdlKY_g=s64",
      "userId": "13543676537814105778"
     },
     "user_tz": 300
    },
    "id": "80w2oZAngVrO",
    "outputId": "7742a4d5-e6b4-4166-a10d-83aab9ea0a7a"
   },
   "outputs": [],
   "source": [
    "age_no_na = titanic[titanic[\"Age\"].notna()]\n",
    "age_no_na.head()"
   ]
  },
  {
   "cell_type": "markdown",
   "metadata": {
    "colab_type": "text",
    "id": "HKjsN1DYhyWM"
   },
   "source": [
    "By comparing shapes, it looks like we removed over 100 rows that contained `NaN`."
   ]
  },
  {
   "cell_type": "code",
   "execution_count": null,
   "metadata": {
    "colab": {
     "base_uri": "https://localhost:8080/",
     "height": 34
    },
    "colab_type": "code",
    "executionInfo": {
     "elapsed": 478,
     "status": "ok",
     "timestamp": 1588257506674,
     "user": {
      "displayName": "Richard Alexander",
      "photoUrl": "https://lh3.googleusercontent.com/a-/AOh14Ghn6F8r3pF0SntsFbxkmhRaWso_lCd_s8ePdlKY_g=s64",
      "userId": "13543676537814105778"
     },
     "user_tz": 300
    },
    "id": "S5ApQrUNhgc1",
    "outputId": "790f74db-ff91-4d84-c54d-ba3f86b4cf27"
   },
   "outputs": [],
   "source": [
    "# Original dataframe shape\n",
    "titanic.shape"
   ]
  },
  {
   "cell_type": "code",
   "execution_count": null,
   "metadata": {
    "colab": {
     "base_uri": "https://localhost:8080/",
     "height": 34
    },
    "colab_type": "code",
    "executionInfo": {
     "elapsed": 418,
     "status": "ok",
     "timestamp": 1588257514123,
     "user": {
      "displayName": "Richard Alexander",
      "photoUrl": "https://lh3.googleusercontent.com/a-/AOh14Ghn6F8r3pF0SntsFbxkmhRaWso_lCd_s8ePdlKY_g=s64",
      "userId": "13543676537814105778"
     },
     "user_tz": 300
    },
    "id": "1b4PIOwHhkNG",
    "outputId": "9a663516-36f0-4330-901d-913851bbe101"
   },
   "outputs": [],
   "source": [
    "# New dataframe shape\n",
    "age_no_na.shape"
   ]
  },
  {
   "cell_type": "markdown",
   "metadata": {
    "colab_type": "text",
    "id": "-D_GIATtmIuq"
   },
   "source": [
    "# Selecting Rows and Columns\n",
    "\n",
    "![Selecting Rows and Columns](https://drive.google.com/uc?id=1iWzdqmL2IUYwHS3ZXdKDRqiq2ait31qk)\n",
    "\n",
    "Pandas has two functions `iloc` and `loc` that enable selection of rows and columns at the same time.\n",
    "\n",
    "- `iloc` selects rows and columns based on indexes (numbers)\n",
    "- `loc` selects rows and columns based on labels (text)\n",
    "\n",
    "Both locators select using the format `[rows, columns]`."
   ]
  },
  {
   "cell_type": "markdown",
   "metadata": {
    "colab_type": "text",
    "id": "g__5SnZbntTS"
   },
   "source": [
    "# Select with `iloc`\n",
    "\n",
    "When we know the **indexes** of the data we're interested, we can use `iloc`."
   ]
  },
  {
   "cell_type": "code",
   "execution_count": null,
   "metadata": {
    "colab": {
     "base_uri": "https://localhost:8080/",
     "height": 204
    },
    "colab_type": "code",
    "executionInfo": {
     "elapsed": 439,
     "status": "ok",
     "timestamp": 1588259442689,
     "user": {
      "displayName": "Richard Alexander",
      "photoUrl": "https://lh3.googleusercontent.com/a-/AOh14Ghn6F8r3pF0SntsFbxkmhRaWso_lCd_s8ePdlKY_g=s64",
      "userId": "13543676537814105778"
     },
     "user_tz": 300
    },
    "id": "eHE2_osOhmCm",
    "outputId": "494457a2-a095-4c80-cabd-064dea1228e0"
   },
   "outputs": [],
   "source": [
    "# Remember what our titanic dataframe looks like\n",
    "titanic.head()"
   ]
  },
  {
   "cell_type": "markdown",
   "metadata": {
    "colab_type": "text",
    "id": "_qz7hU3GpSlx"
   },
   "source": [
    "What if we want to inspect only the first 3 rows and the first 4 columns?"
   ]
  },
  {
   "cell_type": "code",
   "execution_count": null,
   "metadata": {
    "colab": {
     "base_uri": "https://localhost:8080/",
     "height": 142
    },
    "colab_type": "code",
    "executionInfo": {
     "elapsed": 482,
     "status": "ok",
     "timestamp": 1588259814544,
     "user": {
      "displayName": "Richard Alexander",
      "photoUrl": "https://lh3.googleusercontent.com/a-/AOh14Ghn6F8r3pF0SntsFbxkmhRaWso_lCd_s8ePdlKY_g=s64",
      "userId": "13543676537814105778"
     },
     "user_tz": 300
    },
    "id": "Y4y9z32Io5rC",
    "outputId": "b5d06ed0-5a57-41ac-82b3-7d7d0ad86b0b"
   },
   "outputs": [],
   "source": [
    "# Select with iloc using the format [row_range, column_range]\n",
    "subset1 = titanic.iloc[0:3, 0:4]\n",
    "subset1"
   ]
  },
  {
   "cell_type": "markdown",
   "metadata": {
    "colab_type": "text",
    "id": "NCl-bnOCqtHZ"
   },
   "source": [
    "Select the last 4 rows and the last 2 columns:"
   ]
  },
  {
   "cell_type": "code",
   "execution_count": null,
   "metadata": {
    "colab": {
     "base_uri": "https://localhost:8080/",
     "height": 173
    },
    "colab_type": "code",
    "executionInfo": {
     "elapsed": 417,
     "status": "ok",
     "timestamp": 1588260000114,
     "user": {
      "displayName": "Richard Alexander",
      "photoUrl": "https://lh3.googleusercontent.com/a-/AOh14Ghn6F8r3pF0SntsFbxkmhRaWso_lCd_s8ePdlKY_g=s64",
      "userId": "13543676537814105778"
     },
     "user_tz": 300
    },
    "id": "mzU6PsG3qOWH",
    "outputId": "bc3d3a1a-4d64-4ea3-ea3e-5e21e01a9973"
   },
   "outputs": [],
   "source": [
    "# Select with iloc using the format [row_range, column_range]\n",
    "subset2 = titanic.iloc[-4:, -2:]\n",
    "subset2"
   ]
  },
  {
   "cell_type": "markdown",
   "metadata": {
    "colab_type": "text",
    "id": "xhPamLXErQMT"
   },
   "source": [
    "Select rows and columns in the middle of the dataframe:"
   ]
  },
  {
   "cell_type": "code",
   "execution_count": null,
   "metadata": {
    "colab": {
     "base_uri": "https://localhost:8080/",
     "height": 297
    },
    "colab_type": "code",
    "executionInfo": {
     "elapsed": 420,
     "status": "ok",
     "timestamp": 1588260102951,
     "user": {
      "displayName": "Richard Alexander",
      "photoUrl": "https://lh3.googleusercontent.com/a-/AOh14Ghn6F8r3pF0SntsFbxkmhRaWso_lCd_s8ePdlKY_g=s64",
      "userId": "13543676537814105778"
     },
     "user_tz": 300
    },
    "id": "KVElQozRrE-D",
    "outputId": "97a5c3c3-bf64-4c59-b24b-8a1107fe8b36"
   },
   "outputs": [],
   "source": [
    "# Select with iloc using the format [row_range, column_range]\n",
    "subset2 = titanic.iloc[33:41, 5:7]\n",
    "subset2"
   ]
  },
  {
   "cell_type": "markdown",
   "metadata": {
    "colab_type": "text",
    "id": "befTdHHZ2VYz"
   },
   "source": [
    "Select specific rows and columns by passing a list of numbers to `iloc`.\n"
   ]
  },
  {
   "cell_type": "code",
   "execution_count": null,
   "metadata": {
    "colab": {
     "base_uri": "https://localhost:8080/",
     "height": 173
    },
    "colab_type": "code",
    "executionInfo": {
     "elapsed": 425,
     "status": "ok",
     "timestamp": 1588263035755,
     "user": {
      "displayName": "Richard Alexander",
      "photoUrl": "https://lh3.googleusercontent.com/a-/AOh14Ghn6F8r3pF0SntsFbxkmhRaWso_lCd_s8ePdlKY_g=s64",
      "userId": "13543676537814105778"
     },
     "user_tz": 300
    },
    "id": "lNNomLSU2iVP",
    "outputId": "cf954ff2-6f05-4316-c073-af0aafe052e6"
   },
   "outputs": [],
   "source": [
    "# Select with iloc using the format [rows_list, columns_list]\n",
    "titanic.iloc[[1,3,8,12], [1,4,6]]"
   ]
  },
  {
   "cell_type": "markdown",
   "metadata": {
    "colab_type": "text",
    "id": "9G1UVHBVsFII"
   },
   "source": [
    "# Select with `loc`\n",
    "\n",
    "When we know the **labels** of the data we're interested, we can use `loc`."
   ]
  },
  {
   "cell_type": "code",
   "execution_count": null,
   "metadata": {
    "colab": {
     "base_uri": "https://localhost:8080/",
     "height": 204
    },
    "colab_type": "code",
    "executionInfo": {
     "elapsed": 513,
     "status": "ok",
     "timestamp": 1588261968104,
     "user": {
      "displayName": "Richard Alexander",
      "photoUrl": "https://lh3.googleusercontent.com/a-/AOh14Ghn6F8r3pF0SntsFbxkmhRaWso_lCd_s8ePdlKY_g=s64",
      "userId": "13543676537814105778"
     },
     "user_tz": 300
    },
    "id": "WK1n6m_treE3",
    "outputId": "8bdb0096-530c-422a-cd4c-adfeb456a90a"
   },
   "outputs": [],
   "source": [
    "# Create a sample Dataframe with row labels\n",
    "df = pd.DataFrame({'date': pd.date_range('2020-01-01', periods=5),\n",
    "                   'numbers': [np.nan,1,8,5,1],\n",
    "                   'fractions': [0.481236,0.758691, 0.977380, 0.992931,\tnp.nan],\n",
    "                   'category': pd.Categorical([\"test\", \"train\", \"test\", \"train\", \"test\"]),\n",
    "                   'boolean': pd.array([True, False, False, False, True], dtype='bool')},\n",
    "                  index=['a','b','c','d', 'e'])\n",
    "df"
   ]
  },
  {
   "cell_type": "markdown",
   "metadata": {
    "colab_type": "text",
    "id": "7j03cTwPzHjS"
   },
   "source": [
    "Selecting a single row and a single column returns the **value** at that location."
   ]
  },
  {
   "cell_type": "code",
   "execution_count": null,
   "metadata": {
    "colab": {
     "base_uri": "https://localhost:8080/",
     "height": 34
    },
    "colab_type": "code",
    "executionInfo": {
     "elapsed": 615,
     "status": "ok",
     "timestamp": 1588262159868,
     "user": {
      "displayName": "Richard Alexander",
      "photoUrl": "https://lh3.googleusercontent.com/a-/AOh14Ghn6F8r3pF0SntsFbxkmhRaWso_lCd_s8ePdlKY_g=s64",
      "userId": "13543676537814105778"
     },
     "user_tz": 300
    },
    "id": "Tst2TJbAylZN",
    "outputId": "3fd43c5a-cd14-44e1-f760-92b67307d812"
   },
   "outputs": [],
   "source": [
    "df.loc['a','category']"
   ]
  },
  {
   "cell_type": "code",
   "execution_count": null,
   "metadata": {
    "colab": {
     "base_uri": "https://localhost:8080/",
     "height": 34
    },
    "colab_type": "code",
    "executionInfo": {
     "elapsed": 579,
     "status": "ok",
     "timestamp": 1588262207128,
     "user": {
      "displayName": "Richard Alexander",
      "photoUrl": "https://lh3.googleusercontent.com/a-/AOh14Ghn6F8r3pF0SntsFbxkmhRaWso_lCd_s8ePdlKY_g=s64",
      "userId": "13543676537814105778"
     },
     "user_tz": 300
    },
    "id": "7MzBLV0wzUNG",
    "outputId": "ed39e18f-d365-4223-a834-326f4435e01d"
   },
   "outputs": [],
   "source": [
    "df.loc['d','numbers']"
   ]
  },
  {
   "cell_type": "markdown",
   "metadata": {
    "colab_type": "text",
    "id": "9u49JsKeznQ5"
   },
   "source": [
    "Selecting a range of rows and a single column returns a `Series`."
   ]
  },
  {
   "cell_type": "code",
   "execution_count": null,
   "metadata": {
    "colab": {
     "base_uri": "https://localhost:8080/",
     "height": 85
    },
    "colab_type": "code",
    "executionInfo": {
     "elapsed": 492,
     "status": "ok",
     "timestamp": 1588262428975,
     "user": {
      "displayName": "Richard Alexander",
      "photoUrl": "https://lh3.googleusercontent.com/a-/AOh14Ghn6F8r3pF0SntsFbxkmhRaWso_lCd_s8ePdlKY_g=s64",
      "userId": "13543676537814105778"
     },
     "user_tz": 300
    },
    "id": "Qmooh8NIzfwE",
    "outputId": "fbb68b33-47c0-40f1-e885-1a6c421007f8"
   },
   "outputs": [],
   "source": [
    "df.loc['c':'e', 'fractions']"
   ]
  },
  {
   "cell_type": "markdown",
   "metadata": {
    "colab_type": "text",
    "id": "A2A5isME0iZD"
   },
   "source": [
    "Selecting a single row and a range of columns also returns a `Series`."
   ]
  },
  {
   "cell_type": "code",
   "execution_count": null,
   "metadata": {
    "colab": {
     "base_uri": "https://localhost:8080/",
     "height": 85
    },
    "colab_type": "code",
    "executionInfo": {
     "elapsed": 422,
     "status": "ok",
     "timestamp": 1588262518836,
     "user": {
      "displayName": "Richard Alexander",
      "photoUrl": "https://lh3.googleusercontent.com/a-/AOh14Ghn6F8r3pF0SntsFbxkmhRaWso_lCd_s8ePdlKY_g=s64",
      "userId": "13543676537814105778"
     },
     "user_tz": 300
    },
    "id": "NYsuwezy0V7v",
    "outputId": "c34817eb-ee3b-45d1-b090-ff294ba6760d"
   },
   "outputs": [],
   "source": [
    "df.loc['b', 'fractions':'boolean']"
   ]
  },
  {
   "cell_type": "markdown",
   "metadata": {
    "colab_type": "text",
    "id": "KdEu7Jwv1C1O"
   },
   "source": [
    "Selecting a range of rows and columns returns a `Dataframe`."
   ]
  },
  {
   "cell_type": "code",
   "execution_count": null,
   "metadata": {
    "colab": {
     "base_uri": "https://localhost:8080/",
     "height": 142
    },
    "colab_type": "code",
    "executionInfo": {
     "elapsed": 618,
     "status": "ok",
     "timestamp": 1588262661430,
     "user": {
      "displayName": "Richard Alexander",
      "photoUrl": "https://lh3.googleusercontent.com/a-/AOh14Ghn6F8r3pF0SntsFbxkmhRaWso_lCd_s8ePdlKY_g=s64",
      "userId": "13543676537814105778"
     },
     "user_tz": 300
    },
    "id": "CbdQcZjv0r4y",
    "outputId": "729a7b4b-4435-4551-a630-279861921f97"
   },
   "outputs": [],
   "source": [
    "df.loc['a':'c', 'numbers':'category']"
   ]
  },
  {
   "cell_type": "markdown",
   "metadata": {
    "colab_type": "text",
    "id": "S352i75C1it6"
   },
   "source": [
    "We can also select spcific rows and columns by passing lists of labels to `loc`."
   ]
  },
  {
   "cell_type": "code",
   "execution_count": null,
   "metadata": {
    "colab": {
     "base_uri": "https://localhost:8080/",
     "height": 111
    },
    "colab_type": "code",
    "executionInfo": {
     "elapsed": 677,
     "status": "ok",
     "timestamp": 1588262802836,
     "user": {
      "displayName": "Richard Alexander",
      "photoUrl": "https://lh3.googleusercontent.com/a-/AOh14Ghn6F8r3pF0SntsFbxkmhRaWso_lCd_s8ePdlKY_g=s64",
      "userId": "13543676537814105778"
     },
     "user_tz": 300
    },
    "id": "28o4mF5C1OpN",
    "outputId": "a8c95544-0f91-431f-ad95-fe9330b59973"
   },
   "outputs": [],
   "source": [
    "df.loc[['b', 'e'], ['date', 'numbers', 'boolean']]"
   ]
  },
  {
   "cell_type": "markdown",
   "metadata": {
    "colab_type": "text",
    "id": "tWxU0j7c3MaI"
   },
   "source": [
    "# Chaining Locators\n",
    "\n",
    "Locators can be chained together in a single expression."
   ]
  },
  {
   "cell_type": "code",
   "execution_count": null,
   "metadata": {
    "colab": {
     "base_uri": "https://localhost:8080/",
     "height": 204
    },
    "colab_type": "code",
    "executionInfo": {
     "elapsed": 383,
     "status": "ok",
     "timestamp": 1588263371049,
     "user": {
      "displayName": "Richard Alexander",
      "photoUrl": "https://lh3.googleusercontent.com/a-/AOh14Ghn6F8r3pF0SntsFbxkmhRaWso_lCd_s8ePdlKY_g=s64",
      "userId": "13543676537814105778"
     },
     "user_tz": 300
    },
    "id": "k8G-RTxu37Mh",
    "outputId": "8283adba-c166-4291-8afb-e8cac589984f"
   },
   "outputs": [],
   "source": [
    "# Remember what our titanic dataframe looks like\n",
    "titanic.head()"
   ]
  },
  {
   "cell_type": "markdown",
   "metadata": {
    "colab_type": "text",
    "id": "UmjFCkHH39Pf"
   },
   "source": [
    "Find a list of row indexes with `iloc`, then select all rows for the given range of column labels with `loc`."
   ]
  },
  {
   "cell_type": "code",
   "execution_count": null,
   "metadata": {
    "colab": {
     "base_uri": "https://localhost:8080/",
     "height": 142
    },
    "colab_type": "code",
    "executionInfo": {
     "elapsed": 417,
     "status": "ok",
     "timestamp": 1588263283200,
     "user": {
      "displayName": "Richard Alexander",
      "photoUrl": "https://lh3.googleusercontent.com/a-/AOh14Ghn6F8r3pF0SntsFbxkmhRaWso_lCd_s8ePdlKY_g=s64",
      "userId": "13543676537814105778"
     },
     "user_tz": 300
    },
    "id": "xgKgiZL813K_",
    "outputId": "77d9149b-a52a-4030-d9d5-398109775aea"
   },
   "outputs": [],
   "source": [
    "titanic.iloc[[1,3,5]].loc[:, 'Name':'Age']"
   ]
  },
  {
   "cell_type": "markdown",
   "metadata": {
    "colab_type": "text",
    "id": "9dnyHG4L3N2L"
   },
   "source": [
    "# Conditional Locators\n",
    "\n",
    "We can use conditional statements with both `iloc` and `loc` just as we did previously with dataframe selectors.\n",
    "\n",
    "We'll use `loc` as an example because it is a bit more common to conditionally select rows, then choose columns based on labels."
   ]
  },
  {
   "cell_type": "code",
   "execution_count": null,
   "metadata": {
    "colab": {
     "base_uri": "https://localhost:8080/",
     "height": 204
    },
    "colab_type": "code",
    "executionInfo": {
     "elapsed": 439,
     "status": "ok",
     "timestamp": 1588263979625,
     "user": {
      "displayName": "Richard Alexander",
      "photoUrl": "https://lh3.googleusercontent.com/a-/AOh14Ghn6F8r3pF0SntsFbxkmhRaWso_lCd_s8ePdlKY_g=s64",
      "userId": "13543676537814105778"
     },
     "user_tz": 300
    },
    "id": "s7s030hn6HWM",
    "outputId": "10da25e0-e2c1-4401-8639-86c50d4ced29"
   },
   "outputs": [],
   "source": [
    "# Remember what our titanic dataframe looks like\n",
    "titanic.head()"
   ]
  },
  {
   "cell_type": "markdown",
   "metadata": {
    "colab_type": "text",
    "id": "tl93Q4-t6crk"
   },
   "source": [
    "What if we want to analyze the **age** and **fare** of passengers in **Pclass 1**?"
   ]
  },
  {
   "cell_type": "code",
   "execution_count": null,
   "metadata": {
    "colab": {
     "base_uri": "https://localhost:8080/",
     "height": 419
    },
    "colab_type": "code",
    "executionInfo": {
     "elapsed": 401,
     "status": "ok",
     "timestamp": 1588264145216,
     "user": {
      "displayName": "Richard Alexander",
      "photoUrl": "https://lh3.googleusercontent.com/a-/AOh14Ghn6F8r3pF0SntsFbxkmhRaWso_lCd_s8ePdlKY_g=s64",
      "userId": "13543676537814105778"
     },
     "user_tz": 300
    },
    "id": "OgYexd4u6Qhc",
    "outputId": "6aad2133-1a69-459a-c1b6-7720e85b573b"
   },
   "outputs": [],
   "source": [
    "titanic.loc[titanic['Pclass']==1, ['Age', 'Fare']]"
   ]
  },
  {
   "cell_type": "markdown",
   "metadata": {
    "colab_type": "text",
    "id": "yxp1KzcdBzc0"
   },
   "source": [
    "Now select the cabin of male passengers who survived."
   ]
  },
  {
   "cell_type": "code",
   "execution_count": null,
   "metadata": {
    "colab": {
     "base_uri": "https://localhost:8080/",
     "height": 952
    },
    "colab_type": "code",
    "executionInfo": {
     "elapsed": 495,
     "status": "ok",
     "timestamp": 1588266053658,
     "user": {
      "displayName": "Richard Alexander",
      "photoUrl": "https://lh3.googleusercontent.com/a-/AOh14Ghn6F8r3pF0SntsFbxkmhRaWso_lCd_s8ePdlKY_g=s64",
      "userId": "13543676537814105778"
     },
     "user_tz": 300
    },
    "id": "tjoguYv6649i",
    "outputId": "933d80cd-4af7-46b5-94d4-0e62c34b0abe"
   },
   "outputs": [],
   "source": [
    "titanic.loc[((titanic['Survived']==1) & (titanic['Sex'] == 'male')), 'Cabin']"
   ]
  },
  {
   "cell_type": "markdown",
   "metadata": {
    "colab_type": "text",
    "id": "gj5kMS0SCi47"
   },
   "source": [
    "There are a lot of people who don't have cabins. We can filter them out by including the `notna` funciton in our conditional statements."
   ]
  },
  {
   "cell_type": "code",
   "execution_count": null,
   "metadata": {
    "colab": {
     "base_uri": "https://localhost:8080/",
     "height": 391
    },
    "colab_type": "code",
    "executionInfo": {
     "elapsed": 381,
     "status": "ok",
     "timestamp": 1588266354004,
     "user": {
      "displayName": "Richard Alexander",
      "photoUrl": "https://lh3.googleusercontent.com/a-/AOh14Ghn6F8r3pF0SntsFbxkmhRaWso_lCd_s8ePdlKY_g=s64",
      "userId": "13543676537814105778"
     },
     "user_tz": 300
    },
    "id": "N9MVn4QPCK2L",
    "outputId": "4e2c6a76-47fd-494a-a370-43eaa30cc7f9"
   },
   "outputs": [],
   "source": [
    "titanic.loc[((titanic['Survived']==1) & (titanic['Sex'] == 'male') & titanic['Cabin'].notna()), 'Cabin']"
   ]
  },
  {
   "cell_type": "markdown",
   "metadata": {},
   "source": [
    "# Replacing Data\n",
    "\n",
    "Locators are also great for replacing data. Let's make a new column called *age_replace* and try it."
   ]
  },
  {
   "cell_type": "code",
   "execution_count": null,
   "metadata": {},
   "outputs": [],
   "source": [
    "titanic['age_replace'] = 'age_replace'\n",
    "titanic.head()"
   ]
  },
  {
   "cell_type": "markdown",
   "metadata": {},
   "source": [
    "We will label all passengers with `age < 30` as young."
   ]
  },
  {
   "cell_type": "code",
   "execution_count": null,
   "metadata": {},
   "outputs": [],
   "source": [
    "titanic.loc[titanic['Age']<30, 'age_replace'] = 'young'\n",
    "titanic.head()"
   ]
  },
  {
   "cell_type": "markdown",
   "metadata": {},
   "source": [
    "And that means passengers with `age >= 30` are old."
   ]
  },
  {
   "cell_type": "code",
   "execution_count": null,
   "metadata": {},
   "outputs": [],
   "source": [
    "titanic.loc[titanic['Age']>=30, 'age_replace'] = 'old'\n",
    "titanic.head()"
   ]
  },
  {
   "cell_type": "markdown",
   "metadata": {
    "colab_type": "text",
    "id": "YaYi9cPlDkig"
   },
   "source": [
    "# Summary\n",
    "\n",
    "- When selecting subsets of data, square brackets `[]` are used.\n",
    "- Inside these brackets, you can use a single column/row label, a list of column/row labels, a slice of labels, a conditional expression or a colon.\n",
    "- Select specific rows and/or columns using `iloc` when using the positions in the table\n",
    "- Select specific rows and/or columns using `loc` when using the row and column names\n",
    "- Use locators to replace data\n",
    "\n"
   ]
  }
 ],
 "metadata": {
  "colab": {
   "authorship_tag": "ABX9TyPDBvDxnZcqQSLhsWpvvEtd",
   "collapsed_sections": [],
   "mount_file_id": "19DnWogaVkzR1wcayj_XUCJACyyoVKXgH",
   "name": "Pandas_3_Data_Selection.ipynb",
   "provenance": [
    {
     "file_id": "19DnWogaVkzR1wcayj_XUCJACyyoVKXgH",
     "timestamp": 1588252066254
    }
   ],
   "toc_visible": true
  },
  "kernelspec": {
   "display_name": "Python 3",
   "language": "python",
   "name": "python3"
  },
  "language_info": {
   "codemirror_mode": {
    "name": "ipython",
    "version": 3
   },
   "file_extension": ".py",
   "mimetype": "text/x-python",
   "name": "python",
   "nbconvert_exporter": "python",
   "pygments_lexer": "ipython3",
   "version": "3.6.2-final"
  }
 },
 "nbformat": 4,
 "nbformat_minor": 1
}