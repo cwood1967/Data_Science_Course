{
 "cells": [
  {
   "cell_type": "code",
   "execution_count": 2,
   "metadata": {
    "colab": {},
    "colab_type": "code",
    "id": "3cSrFi89Rz34"
   },
   "outputs": [],
   "source": [
    "import numpy as np\n",
    "import pandas as pd"
   ]
  },
  {
   "cell_type": "markdown",
   "metadata": {
    "colab_type": "text",
    "id": "S7wvjMmhSHD2"
   },
   "source": [
    "# Data Selection\n",
    "\n",
    "In order to explore a dataset and perform data analysis, we need to be able to select specific parts of our data. Selecting data allows us to clean/transform data to prepare for analysis, and create the appropriate calculations to get the results we need.\n",
    "\n"
   ]
  },
  {
   "cell_type": "markdown",
   "metadata": {
    "colab_type": "text",
    "id": "Hn_CqlT7LvRS"
   },
   "source": [
    "Now that the file is available, we can open it with the Pandas `read_csv` function"
   ]
  },
  {
   "cell_type": "code",
   "execution_count": 3,
   "metadata": {
    "colab": {
     "base_uri": "https://localhost:8080/",
     "height": 419
    },
    "colab_type": "code",
    "executionInfo": {
     "elapsed": 477,
     "status": "ok",
     "timestamp": 1588252591606,
     "user": {
      "displayName": "Richard Alexander",
      "photoUrl": "https://lh3.googleusercontent.com/a-/AOh14Ghn6F8r3pF0SntsFbxkmhRaWso_lCd_s8ePdlKY_g=s64",
      "userId": "13543676537814105778"
     },
     "user_tz": 300
    },
    "id": "Ndqup31sS3Bt",
    "outputId": "b837bc7e-8005-407c-f2d0-19ff9e757bb5"
   },
   "outputs": [
    {
     "output_type": "execute_result",
     "data": {
      "text/plain": "     PassengerId  Survived  Pclass  \\\n0              1         0       3   \n1              2         1       1   \n2              3         1       3   \n3              4         1       1   \n4              5         0       3   \n..           ...       ...     ...   \n886          887         0       2   \n887          888         1       1   \n888          889         0       3   \n889          890         1       1   \n890          891         0       3   \n\n                                                  Name     Sex   Age  SibSp  \\\n0                              Braund, Mr. Owen Harris    male  22.0      1   \n1    Cumings, Mrs. John Bradley (Florence Briggs Th...  female  38.0      1   \n2                               Heikkinen, Miss. Laina  female  26.0      0   \n3         Futrelle, Mrs. Jacques Heath (Lily May Peel)  female  35.0      1   \n4                             Allen, Mr. William Henry    male  35.0      0   \n..                                                 ...     ...   ...    ...   \n886                              Montvila, Rev. Juozas    male  27.0      0   \n887                       Graham, Miss. Margaret Edith  female  19.0      0   \n888           Johnston, Miss. Catherine Helen \"Carrie\"  female   NaN      1   \n889                              Behr, Mr. Karl Howell    male  26.0      0   \n890                                Dooley, Mr. Patrick    male  32.0      0   \n\n     Parch            Ticket     Fare Cabin Embarked  \n0        0         A/5 21171   7.2500   NaN        S  \n1        0          PC 17599  71.2833   C85        C  \n2        0  STON/O2. 3101282   7.9250   NaN        S  \n3        0            113803  53.1000  C123        S  \n4        0            373450   8.0500   NaN        S  \n..     ...               ...      ...   ...      ...  \n886      0            211536  13.0000   NaN        S  \n887      0            112053  30.0000   B42        S  \n888      2        W./C. 6607  23.4500   NaN        S  \n889      0            111369  30.0000  C148        C  \n890      0            370376   7.7500   NaN        Q  \n\n[891 rows x 12 columns]",
      "text/html": "<div>\n<style scoped>\n    .dataframe tbody tr th:only-of-type {\n        vertical-align: middle;\n    }\n\n    .dataframe tbody tr th {\n        vertical-align: top;\n    }\n\n    .dataframe thead th {\n        text-align: right;\n    }\n</style>\n<table border=\"1\" class=\"dataframe\">\n  <thead>\n    <tr style=\"text-align: right;\">\n      <th></th>\n      <th>PassengerId</th>\n      <th>Survived</th>\n      <th>Pclass</th>\n      <th>Name</th>\n      <th>Sex</th>\n      <th>Age</th>\n      <th>SibSp</th>\n      <th>Parch</th>\n      <th>Ticket</th>\n      <th>Fare</th>\n      <th>Cabin</th>\n      <th>Embarked</th>\n    </tr>\n  </thead>\n  <tbody>\n    <tr>\n      <th>0</th>\n      <td>1</td>\n      <td>0</td>\n      <td>3</td>\n      <td>Braund, Mr. Owen Harris</td>\n      <td>male</td>\n      <td>22.0</td>\n      <td>1</td>\n      <td>0</td>\n      <td>A/5 21171</td>\n      <td>7.2500</td>\n      <td>NaN</td>\n      <td>S</td>\n    </tr>\n    <tr>\n      <th>1</th>\n      <td>2</td>\n      <td>1</td>\n      <td>1</td>\n      <td>Cumings, Mrs. John Bradley (Florence Briggs Th...</td>\n      <td>female</td>\n      <td>38.0</td>\n      <td>1</td>\n      <td>0</td>\n      <td>PC 17599</td>\n      <td>71.2833</td>\n      <td>C85</td>\n      <td>C</td>\n    </tr>\n    <tr>\n      <th>2</th>\n      <td>3</td>\n      <td>1</td>\n      <td>3</td>\n      <td>Heikkinen, Miss. Laina</td>\n      <td>female</td>\n      <td>26.0</td>\n      <td>0</td>\n      <td>0</td>\n      <td>STON/O2. 3101282</td>\n      <td>7.9250</td>\n      <td>NaN</td>\n      <td>S</td>\n    </tr>\n    <tr>\n      <th>3</th>\n      <td>4</td>\n      <td>1</td>\n      <td>1</td>\n      <td>Futrelle, Mrs. Jacques Heath (Lily May Peel)</td>\n      <td>female</td>\n      <td>35.0</td>\n      <td>1</td>\n      <td>0</td>\n      <td>113803</td>\n      <td>53.1000</td>\n      <td>C123</td>\n      <td>S</td>\n    </tr>\n    <tr>\n      <th>4</th>\n      <td>5</td>\n      <td>0</td>\n      <td>3</td>\n      <td>Allen, Mr. William Henry</td>\n      <td>male</td>\n      <td>35.0</td>\n      <td>0</td>\n      <td>0</td>\n      <td>373450</td>\n      <td>8.0500</td>\n      <td>NaN</td>\n      <td>S</td>\n    </tr>\n    <tr>\n      <th>5</th>\n      <td>6</td>\n      <td>0</td>\n      <td>3</td>\n      <td>Moran, Mr. James</td>\n      <td>male</td>\n      <td>NaN</td>\n      <td>0</td>\n      <td>0</td>\n      <td>330877</td>\n      <td>8.4583</td>\n      <td>NaN</td>\n      <td>Q</td>\n    </tr>\n    <tr>\n      <th>6</th>\n      <td>7</td>\n      <td>0</td>\n      <td>1</td>\n      <td>McCarthy, Mr. Timothy J</td>\n      <td>male</td>\n      <td>54.0</td>\n      <td>0</td>\n      <td>0</td>\n      <td>17463</td>\n      <td>51.8625</td>\n      <td>E46</td>\n      <td>S</td>\n    </tr>\n    <tr>\n      <th>7</th>\n      <td>8</td>\n      <td>0</td>\n      <td>3</td>\n      <td>Palsson, Master. Gosta Leonard</td>\n      <td>male</td>\n      <td>2.0</td>\n      <td>3</td>\n      <td>1</td>\n      <td>349909</td>\n      <td>21.0750</td>\n      <td>NaN</td>\n      <td>S</td>\n    </tr>\n    <tr>\n      <th>8</th>\n      <td>9</td>\n      <td>1</td>\n      <td>3</td>\n      <td>Johnson, Mrs. Oscar W (Elisabeth Vilhelmina Berg)</td>\n      <td>female</td>\n      <td>27.0</td>\n      <td>0</td>\n      <td>2</td>\n      <td>347742</td>\n      <td>11.1333</td>\n      <td>NaN</td>\n      <td>S</td>\n    </tr>\n    <tr>\n      <th>9</th>\n      <td>10</td>\n      <td>1</td>\n      <td>2</td>\n      <td>Nasser, Mrs. Nicholas (Adele Achem)</td>\n      <td>female</td>\n      <td>14.0</td>\n      <td>1</td>\n      <td>0</td>\n      <td>237736</td>\n      <td>30.0708</td>\n      <td>NaN</td>\n      <td>C</td>\n    </tr>\n    <tr>\n      <th>10</th>\n      <td>11</td>\n      <td>1</td>\n      <td>3</td>\n      <td>Sandstrom, Miss. Marguerite Rut</td>\n      <td>female</td>\n      <td>4.0</td>\n      <td>1</td>\n      <td>1</td>\n      <td>PP 9549</td>\n      <td>16.7000</td>\n      <td>G6</td>\n      <td>S</td>\n    </tr>\n    <tr>\n      <th>11</th>\n      <td>12</td>\n      <td>1</td>\n      <td>1</td>\n      <td>Bonnell, Miss. Elizabeth</td>\n      <td>female</td>\n      <td>58.0</td>\n      <td>0</td>\n      <td>0</td>\n      <td>113783</td>\n      <td>26.5500</td>\n      <td>C103</td>\n      <td>S</td>\n    </tr>\n    <tr>\n      <th>12</th>\n      <td>13</td>\n      <td>0</td>\n      <td>3</td>\n      <td>Saundercock, Mr. William Henry</td>\n      <td>male</td>\n      <td>20.0</td>\n      <td>0</td>\n      <td>0</td>\n      <td>A/5. 2151</td>\n      <td>8.0500</td>\n      <td>NaN</td>\n      <td>S</td>\n    </tr>\n    <tr>\n      <th>13</th>\n      <td>14</td>\n      <td>0</td>\n      <td>3</td>\n      <td>Andersson, Mr. Anders Johan</td>\n      <td>male</td>\n      <td>39.0</td>\n      <td>1</td>\n      <td>5</td>\n      <td>347082</td>\n      <td>31.2750</td>\n      <td>NaN</td>\n      <td>S</td>\n    </tr>\n    <tr>\n      <th>14</th>\n      <td>15</td>\n      <td>0</td>\n      <td>3</td>\n      <td>Vestrom, Miss. Hulda Amanda Adolfina</td>\n      <td>female</td>\n      <td>14.0</td>\n      <td>0</td>\n      <td>0</td>\n      <td>350406</td>\n      <td>7.8542</td>\n      <td>NaN</td>\n      <td>S</td>\n    </tr>\n    <tr>\n      <th>15</th>\n      <td>16</td>\n      <td>1</td>\n      <td>2</td>\n      <td>Hewlett, Mrs. (Mary D Kingcome)</td>\n      <td>female</td>\n      <td>55.0</td>\n      <td>0</td>\n      <td>0</td>\n      <td>248706</td>\n      <td>16.0000</td>\n      <td>NaN</td>\n      <td>S</td>\n    </tr>\n    <tr>\n      <th>16</th>\n      <td>17</td>\n      <td>0</td>\n      <td>3</td>\n      <td>Rice, Master. Eugene</td>\n      <td>male</td>\n      <td>2.0</td>\n      <td>4</td>\n      <td>1</td>\n      <td>382652</td>\n      <td>29.1250</td>\n      <td>NaN</td>\n      <td>Q</td>\n    </tr>\n    <tr>\n      <th>17</th>\n      <td>18</td>\n      <td>1</td>\n      <td>2</td>\n      <td>Williams, Mr. Charles Eugene</td>\n      <td>male</td>\n      <td>NaN</td>\n      <td>0</td>\n      <td>0</td>\n      <td>244373</td>\n      <td>13.0000</td>\n      <td>NaN</td>\n      <td>S</td>\n    </tr>\n    <tr>\n      <th>18</th>\n      <td>19</td>\n      <td>0</td>\n      <td>3</td>\n      <td>Vander Planke, Mrs. Julius (Emelia Maria Vande...</td>\n      <td>female</td>\n      <td>31.0</td>\n      <td>1</td>\n      <td>0</td>\n      <td>345763</td>\n      <td>18.0000</td>\n      <td>NaN</td>\n      <td>S</td>\n    </tr>\n    <tr>\n      <th>19</th>\n      <td>20</td>\n      <td>1</td>\n      <td>3</td>\n      <td>Masselmani, Mrs. Fatima</td>\n      <td>female</td>\n      <td>NaN</td>\n      <td>0</td>\n      <td>0</td>\n      <td>2649</td>\n      <td>7.2250</td>\n      <td>NaN</td>\n      <td>C</td>\n    </tr>\n    <tr>\n      <th>20</th>\n      <td>21</td>\n      <td>0</td>\n      <td>2</td>\n      <td>Fynney, Mr. Joseph J</td>\n      <td>male</td>\n      <td>35.0</td>\n      <td>0</td>\n      <td>0</td>\n      <td>239865</td>\n      <td>26.0000</td>\n      <td>NaN</td>\n      <td>S</td>\n    </tr>\n    <tr>\n      <th>21</th>\n      <td>22</td>\n      <td>1</td>\n      <td>2</td>\n      <td>Beesley, Mr. Lawrence</td>\n      <td>male</td>\n      <td>34.0</td>\n      <td>0</td>\n      <td>0</td>\n      <td>248698</td>\n      <td>13.0000</td>\n      <td>D56</td>\n      <td>S</td>\n    </tr>\n    <tr>\n      <th>22</th>\n      <td>23</td>\n      <td>1</td>\n      <td>3</td>\n      <td>McGowan, Miss. Anna \"Annie\"</td>\n      <td>female</td>\n      <td>15.0</td>\n      <td>0</td>\n      <td>0</td>\n      <td>330923</td>\n      <td>8.0292</td>\n      <td>NaN</td>\n      <td>Q</td>\n    </tr>\n    <tr>\n      <th>23</th>\n      <td>24</td>\n      <td>1</td>\n      <td>1</td>\n      <td>Sloper, Mr. William Thompson</td>\n      <td>male</td>\n      <td>28.0</td>\n      <td>0</td>\n      <td>0</td>\n      <td>113788</td>\n      <td>35.5000</td>\n      <td>A6</td>\n      <td>S</td>\n    </tr>\n    <tr>\n      <th>24</th>\n      <td>25</td>\n      <td>0</td>\n      <td>3</td>\n      <td>Palsson, Miss. Torborg Danira</td>\n      <td>female</td>\n      <td>8.0</td>\n      <td>3</td>\n      <td>1</td>\n      <td>349909</td>\n      <td>21.0750</td>\n      <td>NaN</td>\n      <td>S</td>\n    </tr>\n    <tr>\n      <th>25</th>\n      <td>26</td>\n      <td>1</td>\n      <td>3</td>\n      <td>Asplund, Mrs. Carl Oscar (Selma Augusta Emilia...</td>\n      <td>female</td>\n      <td>38.0</td>\n      <td>1</td>\n      <td>5</td>\n      <td>347077</td>\n      <td>31.3875</td>\n      <td>NaN</td>\n      <td>S</td>\n    </tr>\n    <tr>\n      <th>26</th>\n      <td>27</td>\n      <td>0</td>\n      <td>3</td>\n      <td>Emir, Mr. Farred Chehab</td>\n      <td>male</td>\n      <td>NaN</td>\n      <td>0</td>\n      <td>0</td>\n      <td>2631</td>\n      <td>7.2250</td>\n      <td>NaN</td>\n      <td>C</td>\n    </tr>\n    <tr>\n      <th>27</th>\n      <td>28</td>\n      <td>0</td>\n      <td>1</td>\n      <td>Fortune, Mr. Charles Alexander</td>\n      <td>male</td>\n      <td>19.0</td>\n      <td>3</td>\n      <td>2</td>\n      <td>19950</td>\n      <td>263.0000</td>\n      <td>C23 C25 C27</td>\n      <td>S</td>\n    </tr>\n    <tr>\n      <th>28</th>\n      <td>29</td>\n      <td>1</td>\n      <td>3</td>\n      <td>O'Dwyer, Miss. Ellen \"Nellie\"</td>\n      <td>female</td>\n      <td>NaN</td>\n      <td>0</td>\n      <td>0</td>\n      <td>330959</td>\n      <td>7.8792</td>\n      <td>NaN</td>\n      <td>Q</td>\n    </tr>\n    <tr>\n      <th>29</th>\n      <td>30</td>\n      <td>0</td>\n      <td>3</td>\n      <td>Todoroff, Mr. Lalio</td>\n      <td>male</td>\n      <td>NaN</td>\n      <td>0</td>\n      <td>0</td>\n      <td>349216</td>\n      <td>7.8958</td>\n      <td>NaN</td>\n      <td>S</td>\n    </tr>\n    <tr>\n      <th>...</th>\n      <td>...</td>\n      <td>...</td>\n      <td>...</td>\n      <td>...</td>\n      <td>...</td>\n      <td>...</td>\n      <td>...</td>\n      <td>...</td>\n      <td>...</td>\n      <td>...</td>\n      <td>...</td>\n      <td>...</td>\n    </tr>\n    <tr>\n      <th>861</th>\n      <td>862</td>\n      <td>0</td>\n      <td>2</td>\n      <td>Giles, Mr. Frederick Edward</td>\n      <td>male</td>\n      <td>21.0</td>\n      <td>1</td>\n      <td>0</td>\n      <td>28134</td>\n      <td>11.5000</td>\n      <td>NaN</td>\n      <td>S</td>\n    </tr>\n    <tr>\n      <th>862</th>\n      <td>863</td>\n      <td>1</td>\n      <td>1</td>\n      <td>Swift, Mrs. Frederick Joel (Margaret Welles Ba...</td>\n      <td>female</td>\n      <td>48.0</td>\n      <td>0</td>\n      <td>0</td>\n      <td>17466</td>\n      <td>25.9292</td>\n      <td>D17</td>\n      <td>S</td>\n    </tr>\n    <tr>\n      <th>863</th>\n      <td>864</td>\n      <td>0</td>\n      <td>3</td>\n      <td>Sage, Miss. Dorothy Edith \"Dolly\"</td>\n      <td>female</td>\n      <td>NaN</td>\n      <td>8</td>\n      <td>2</td>\n      <td>CA. 2343</td>\n      <td>69.5500</td>\n      <td>NaN</td>\n      <td>S</td>\n    </tr>\n    <tr>\n      <th>864</th>\n      <td>865</td>\n      <td>0</td>\n      <td>2</td>\n      <td>Gill, Mr. John William</td>\n      <td>male</td>\n      <td>24.0</td>\n      <td>0</td>\n      <td>0</td>\n      <td>233866</td>\n      <td>13.0000</td>\n      <td>NaN</td>\n      <td>S</td>\n    </tr>\n    <tr>\n      <th>865</th>\n      <td>866</td>\n      <td>1</td>\n      <td>2</td>\n      <td>Bystrom, Mrs. (Karolina)</td>\n      <td>female</td>\n      <td>42.0</td>\n      <td>0</td>\n      <td>0</td>\n      <td>236852</td>\n      <td>13.0000</td>\n      <td>NaN</td>\n      <td>S</td>\n    </tr>\n    <tr>\n      <th>866</th>\n      <td>867</td>\n      <td>1</td>\n      <td>2</td>\n      <td>Duran y More, Miss. Asuncion</td>\n      <td>female</td>\n      <td>27.0</td>\n      <td>1</td>\n      <td>0</td>\n      <td>SC/PARIS 2149</td>\n      <td>13.8583</td>\n      <td>NaN</td>\n      <td>C</td>\n    </tr>\n    <tr>\n      <th>867</th>\n      <td>868</td>\n      <td>0</td>\n      <td>1</td>\n      <td>Roebling, Mr. Washington Augustus II</td>\n      <td>male</td>\n      <td>31.0</td>\n      <td>0</td>\n      <td>0</td>\n      <td>PC 17590</td>\n      <td>50.4958</td>\n      <td>A24</td>\n      <td>S</td>\n    </tr>\n    <tr>\n      <th>868</th>\n      <td>869</td>\n      <td>0</td>\n      <td>3</td>\n      <td>van Melkebeke, Mr. Philemon</td>\n      <td>male</td>\n      <td>NaN</td>\n      <td>0</td>\n      <td>0</td>\n      <td>345777</td>\n      <td>9.5000</td>\n      <td>NaN</td>\n      <td>S</td>\n    </tr>\n    <tr>\n      <th>869</th>\n      <td>870</td>\n      <td>1</td>\n      <td>3</td>\n      <td>Johnson, Master. Harold Theodor</td>\n      <td>male</td>\n      <td>4.0</td>\n      <td>1</td>\n      <td>1</td>\n      <td>347742</td>\n      <td>11.1333</td>\n      <td>NaN</td>\n      <td>S</td>\n    </tr>\n    <tr>\n      <th>870</th>\n      <td>871</td>\n      <td>0</td>\n      <td>3</td>\n      <td>Balkic, Mr. Cerin</td>\n      <td>male</td>\n      <td>26.0</td>\n      <td>0</td>\n      <td>0</td>\n      <td>349248</td>\n      <td>7.8958</td>\n      <td>NaN</td>\n      <td>S</td>\n    </tr>\n    <tr>\n      <th>871</th>\n      <td>872</td>\n      <td>1</td>\n      <td>1</td>\n      <td>Beckwith, Mrs. Richard Leonard (Sallie Monypeny)</td>\n      <td>female</td>\n      <td>47.0</td>\n      <td>1</td>\n      <td>1</td>\n      <td>11751</td>\n      <td>52.5542</td>\n      <td>D35</td>\n      <td>S</td>\n    </tr>\n    <tr>\n      <th>872</th>\n      <td>873</td>\n      <td>0</td>\n      <td>1</td>\n      <td>Carlsson, Mr. Frans Olof</td>\n      <td>male</td>\n      <td>33.0</td>\n      <td>0</td>\n      <td>0</td>\n      <td>695</td>\n      <td>5.0000</td>\n      <td>B51 B53 B55</td>\n      <td>S</td>\n    </tr>\n    <tr>\n      <th>873</th>\n      <td>874</td>\n      <td>0</td>\n      <td>3</td>\n      <td>Vander Cruyssen, Mr. Victor</td>\n      <td>male</td>\n      <td>47.0</td>\n      <td>0</td>\n      <td>0</td>\n      <td>345765</td>\n      <td>9.0000</td>\n      <td>NaN</td>\n      <td>S</td>\n    </tr>\n    <tr>\n      <th>874</th>\n      <td>875</td>\n      <td>1</td>\n      <td>2</td>\n      <td>Abelson, Mrs. Samuel (Hannah Wizosky)</td>\n      <td>female</td>\n      <td>28.0</td>\n      <td>1</td>\n      <td>0</td>\n      <td>P/PP 3381</td>\n      <td>24.0000</td>\n      <td>NaN</td>\n      <td>C</td>\n    </tr>\n    <tr>\n      <th>875</th>\n      <td>876</td>\n      <td>1</td>\n      <td>3</td>\n      <td>Najib, Miss. Adele Kiamie \"Jane\"</td>\n      <td>female</td>\n      <td>15.0</td>\n      <td>0</td>\n      <td>0</td>\n      <td>2667</td>\n      <td>7.2250</td>\n      <td>NaN</td>\n      <td>C</td>\n    </tr>\n    <tr>\n      <th>876</th>\n      <td>877</td>\n      <td>0</td>\n      <td>3</td>\n      <td>Gustafsson, Mr. Alfred Ossian</td>\n      <td>male</td>\n      <td>20.0</td>\n      <td>0</td>\n      <td>0</td>\n      <td>7534</td>\n      <td>9.8458</td>\n      <td>NaN</td>\n      <td>S</td>\n    </tr>\n    <tr>\n      <th>877</th>\n      <td>878</td>\n      <td>0</td>\n      <td>3</td>\n      <td>Petroff, Mr. Nedelio</td>\n      <td>male</td>\n      <td>19.0</td>\n      <td>0</td>\n      <td>0</td>\n      <td>349212</td>\n      <td>7.8958</td>\n      <td>NaN</td>\n      <td>S</td>\n    </tr>\n    <tr>\n      <th>878</th>\n      <td>879</td>\n      <td>0</td>\n      <td>3</td>\n      <td>Laleff, Mr. Kristo</td>\n      <td>male</td>\n      <td>NaN</td>\n      <td>0</td>\n      <td>0</td>\n      <td>349217</td>\n      <td>7.8958</td>\n      <td>NaN</td>\n      <td>S</td>\n    </tr>\n    <tr>\n      <th>879</th>\n      <td>880</td>\n      <td>1</td>\n      <td>1</td>\n      <td>Potter, Mrs. Thomas Jr (Lily Alexenia Wilson)</td>\n      <td>female</td>\n      <td>56.0</td>\n      <td>0</td>\n      <td>1</td>\n      <td>11767</td>\n      <td>83.1583</td>\n      <td>C50</td>\n      <td>C</td>\n    </tr>\n    <tr>\n      <th>880</th>\n      <td>881</td>\n      <td>1</td>\n      <td>2</td>\n      <td>Shelley, Mrs. William (Imanita Parrish Hall)</td>\n      <td>female</td>\n      <td>25.0</td>\n      <td>0</td>\n      <td>1</td>\n      <td>230433</td>\n      <td>26.0000</td>\n      <td>NaN</td>\n      <td>S</td>\n    </tr>\n    <tr>\n      <th>881</th>\n      <td>882</td>\n      <td>0</td>\n      <td>3</td>\n      <td>Markun, Mr. Johann</td>\n      <td>male</td>\n      <td>33.0</td>\n      <td>0</td>\n      <td>0</td>\n      <td>349257</td>\n      <td>7.8958</td>\n      <td>NaN</td>\n      <td>S</td>\n    </tr>\n    <tr>\n      <th>882</th>\n      <td>883</td>\n      <td>0</td>\n      <td>3</td>\n      <td>Dahlberg, Miss. Gerda Ulrika</td>\n      <td>female</td>\n      <td>22.0</td>\n      <td>0</td>\n      <td>0</td>\n      <td>7552</td>\n      <td>10.5167</td>\n      <td>NaN</td>\n      <td>S</td>\n    </tr>\n    <tr>\n      <th>883</th>\n      <td>884</td>\n      <td>0</td>\n      <td>2</td>\n      <td>Banfield, Mr. Frederick James</td>\n      <td>male</td>\n      <td>28.0</td>\n      <td>0</td>\n      <td>0</td>\n      <td>C.A./SOTON 34068</td>\n      <td>10.5000</td>\n      <td>NaN</td>\n      <td>S</td>\n    </tr>\n    <tr>\n      <th>884</th>\n      <td>885</td>\n      <td>0</td>\n      <td>3</td>\n      <td>Sutehall, Mr. Henry Jr</td>\n      <td>male</td>\n      <td>25.0</td>\n      <td>0</td>\n      <td>0</td>\n      <td>SOTON/OQ 392076</td>\n      <td>7.0500</td>\n      <td>NaN</td>\n      <td>S</td>\n    </tr>\n    <tr>\n      <th>885</th>\n      <td>886</td>\n      <td>0</td>\n      <td>3</td>\n      <td>Rice, Mrs. William (Margaret Norton)</td>\n      <td>female</td>\n      <td>39.0</td>\n      <td>0</td>\n      <td>5</td>\n      <td>382652</td>\n      <td>29.1250</td>\n      <td>NaN</td>\n      <td>Q</td>\n    </tr>\n    <tr>\n      <th>886</th>\n      <td>887</td>\n      <td>0</td>\n      <td>2</td>\n      <td>Montvila, Rev. Juozas</td>\n      <td>male</td>\n      <td>27.0</td>\n      <td>0</td>\n      <td>0</td>\n      <td>211536</td>\n      <td>13.0000</td>\n      <td>NaN</td>\n      <td>S</td>\n    </tr>\n    <tr>\n      <th>887</th>\n      <td>888</td>\n      <td>1</td>\n      <td>1</td>\n      <td>Graham, Miss. Margaret Edith</td>\n      <td>female</td>\n      <td>19.0</td>\n      <td>0</td>\n      <td>0</td>\n      <td>112053</td>\n      <td>30.0000</td>\n      <td>B42</td>\n      <td>S</td>\n    </tr>\n    <tr>\n      <th>888</th>\n      <td>889</td>\n      <td>0</td>\n      <td>3</td>\n      <td>Johnston, Miss. Catherine Helen \"Carrie\"</td>\n      <td>female</td>\n      <td>NaN</td>\n      <td>1</td>\n      <td>2</td>\n      <td>W./C. 6607</td>\n      <td>23.4500</td>\n      <td>NaN</td>\n      <td>S</td>\n    </tr>\n    <tr>\n      <th>889</th>\n      <td>890</td>\n      <td>1</td>\n      <td>1</td>\n      <td>Behr, Mr. Karl Howell</td>\n      <td>male</td>\n      <td>26.0</td>\n      <td>0</td>\n      <td>0</td>\n      <td>111369</td>\n      <td>30.0000</td>\n      <td>C148</td>\n      <td>C</td>\n    </tr>\n    <tr>\n      <th>890</th>\n      <td>891</td>\n      <td>0</td>\n      <td>3</td>\n      <td>Dooley, Mr. Patrick</td>\n      <td>male</td>\n      <td>32.0</td>\n      <td>0</td>\n      <td>0</td>\n      <td>370376</td>\n      <td>7.7500</td>\n      <td>NaN</td>\n      <td>Q</td>\n    </tr>\n  </tbody>\n</table>\n<p>891 rows × 12 columns</p>\n</div>"
     },
     "metadata": {},
     "execution_count": 3
    }
   ],
   "source": [
    "# Load titanic CSV data\n",
    "csv_path = 'https://raw.githubusercontent.com/pandas-dev/pandas/master/doc/data/titanic.csv'\n",
    "titanic = pd.read_csv(csv_path)\n",
    "titanic\n"
   ]
  },
  {
   "cell_type": "markdown",
   "metadata": {
    "colab_type": "text",
    "id": "qymyaDp0Mb8d"
   },
   "source": [
    "# Selecting Columns\n",
    "\n",
    "![Selecting Columns](https://drive.google.com/uc?id=17_YMZ8CxJOPUyBIV1pHThMwIo-AwY9qB)\n"
   ]
  },
  {
   "cell_type": "markdown",
   "metadata": {
    "colab_type": "text",
    "id": "-6lDxzgsPxUn"
   },
   "source": [
    "What if we want to analyze the passengers **age**?"
   ]
  },
  {
   "cell_type": "code",
   "execution_count": 4,
   "metadata": {
    "colab": {
     "base_uri": "https://localhost:8080/",
     "height": 221
    },
    "colab_type": "code",
    "executionInfo": {
     "elapsed": 476,
     "status": "ok",
     "timestamp": 1588252961667,
     "user": {
      "displayName": "Richard Alexander",
      "photoUrl": "https://lh3.googleusercontent.com/a-/AOh14Ghn6F8r3pF0SntsFbxkmhRaWso_lCd_s8ePdlKY_g=s64",
      "userId": "13543676537814105778"
     },
     "user_tz": 300
    },
    "id": "xTq5XXFDTTmt",
    "outputId": "3baf3cea-a0ee-469a-8a9e-5645c4119646"
   },
   "outputs": [
    {
     "output_type": "execute_result",
     "data": {
      "text/plain": "0      22.0\n1      38.0\n2      26.0\n3      35.0\n4      35.0\n       ... \n886    27.0\n887    19.0\n888     NaN\n889    26.0\n890    32.0\nName: Age, Length: 891, dtype: float64"
     },
     "metadata": {},
     "execution_count": 4
    }
   ],
   "source": [
    "# Select the age column Series\n",
    "ages = titanic['Age']\n",
    "ages"
   ]
  },
  {
   "cell_type": "markdown",
   "metadata": {
    "colab_type": "text",
    "id": "zymk35nRQr5m"
   },
   "source": [
    "As we expect, this created a Pandas Series"
   ]
  },
  {
   "cell_type": "code",
   "execution_count": 5,
   "metadata": {
    "colab": {
     "base_uri": "https://localhost:8080/",
     "height": 34
    },
    "colab_type": "code",
    "executionInfo": {
     "elapsed": 480,
     "status": "ok",
     "timestamp": 1588253069660,
     "user": {
      "displayName": "Richard Alexander",
      "photoUrl": "https://lh3.googleusercontent.com/a-/AOh14Ghn6F8r3pF0SntsFbxkmhRaWso_lCd_s8ePdlKY_g=s64",
      "userId": "13543676537814105778"
     },
     "user_tz": 300
    },
    "id": "6c0Yb5QSQoGZ",
    "outputId": "88ccd448-db4b-433a-91b5-fa33c23848b8"
   },
   "outputs": [
    {
     "output_type": "execute_result",
     "data": {
      "text/plain": "pandas.core.series.Series"
     },
     "metadata": {},
     "execution_count": 5
    }
   ],
   "source": [
    "type(ages)"
   ]
  },
  {
   "cell_type": "markdown",
   "metadata": {
    "colab_type": "text",
    "id": "LB_u9oUlRQNa"
   },
   "source": [
    "The shape of our output verifies that we have a single dimension"
   ]
  },
  {
   "cell_type": "code",
   "execution_count": 6,
   "metadata": {
    "colab": {
     "base_uri": "https://localhost:8080/",
     "height": 34
    },
    "colab_type": "code",
    "executionInfo": {
     "elapsed": 544,
     "status": "ok",
     "timestamp": 1588253260600,
     "user": {
      "displayName": "Richard Alexander",
      "photoUrl": "https://lh3.googleusercontent.com/a-/AOh14Ghn6F8r3pF0SntsFbxkmhRaWso_lCd_s8ePdlKY_g=s64",
      "userId": "13543676537814105778"
     },
     "user_tz": 300
    },
    "id": "uYNU0Ha_RQ6h",
    "outputId": "d82d96dd-2ea0-48be-f82f-ae26d0d691bd"
   },
   "outputs": [
    {
     "output_type": "execute_result",
     "data": {
      "text/plain": "(891,)"
     },
     "metadata": {},
     "execution_count": 6
    }
   ],
   "source": [
    "ages.shape"
   ]
  },
  {
   "cell_type": "markdown",
   "metadata": {
    "colab_type": "text",
    "id": "Bz8oMLicQSSI"
   },
   "source": [
    "If we want to analyze both **Age** and **Sex** of the passengers, we can select multiple columns, creating a new dataframe."
   ]
  },
  {
   "cell_type": "code",
   "execution_count": 7,
   "metadata": {
    "colab": {
     "base_uri": "https://localhost:8080/",
     "height": 204
    },
    "colab_type": "code",
    "executionInfo": {
     "elapsed": 473,
     "status": "ok",
     "timestamp": 1588253319079,
     "user": {
      "displayName": "Richard Alexander",
      "photoUrl": "https://lh3.googleusercontent.com/a-/AOh14Ghn6F8r3pF0SntsFbxkmhRaWso_lCd_s8ePdlKY_g=s64",
      "userId": "13543676537814105778"
     },
     "user_tz": 300
    },
    "id": "wUjh5_IFV1QK",
    "outputId": "8d9cb182-092e-4c43-dff1-600f576ea905"
   },
   "outputs": [
    {
     "output_type": "execute_result",
     "data": {
      "text/plain": "    Age     Sex\n0  22.0    male\n1  38.0  female\n2  26.0  female\n3  35.0  female\n4  35.0    male",
      "text/html": "<div>\n<style scoped>\n    .dataframe tbody tr th:only-of-type {\n        vertical-align: middle;\n    }\n\n    .dataframe tbody tr th {\n        vertical-align: top;\n    }\n\n    .dataframe thead th {\n        text-align: right;\n    }\n</style>\n<table border=\"1\" class=\"dataframe\">\n  <thead>\n    <tr style=\"text-align: right;\">\n      <th></th>\n      <th>Age</th>\n      <th>Sex</th>\n    </tr>\n  </thead>\n  <tbody>\n    <tr>\n      <th>0</th>\n      <td>22.0</td>\n      <td>male</td>\n    </tr>\n    <tr>\n      <th>1</th>\n      <td>38.0</td>\n      <td>female</td>\n    </tr>\n    <tr>\n      <th>2</th>\n      <td>26.0</td>\n      <td>female</td>\n    </tr>\n    <tr>\n      <th>3</th>\n      <td>35.0</td>\n      <td>female</td>\n    </tr>\n    <tr>\n      <th>4</th>\n      <td>35.0</td>\n      <td>male</td>\n    </tr>\n  </tbody>\n</table>\n</div>"
     },
     "metadata": {},
     "execution_count": 7
    }
   ],
   "source": [
    "# Selecting multiple columns creates a new dataframe\n",
    "age_sex = titanic[[\"Age\", \"Sex\"]]\n",
    "age_sex.head()"
   ]
  },
  {
   "cell_type": "markdown",
   "metadata": {
    "colab_type": "text",
    "id": "DPqV4DORSADa"
   },
   "source": [
    "Notice the double brackets: `titanic[[\"Age\", \"Sex\"]]`\n",
    "\n",
    "This time we pass a list of column names as a parameter, rather than a single column name."
   ]
  },
  {
   "cell_type": "code",
   "execution_count": 8,
   "metadata": {
    "colab": {
     "base_uri": "https://localhost:8080/",
     "height": 34
    },
    "colab_type": "code",
    "executionInfo": {
     "elapsed": 407,
     "status": "ok",
     "timestamp": 1588253536059,
     "user": {
      "displayName": "Richard Alexander",
      "photoUrl": "https://lh3.googleusercontent.com/a-/AOh14Ghn6F8r3pF0SntsFbxkmhRaWso_lCd_s8ePdlKY_g=s64",
      "userId": "13543676537814105778"
     },
     "user_tz": 300
    },
    "id": "U5Zrte7UR_p4",
    "outputId": "604512d4-fc23-42b8-b559-b46ee6394695"
   },
   "outputs": [
    {
     "output_type": "execute_result",
     "data": {
      "text/plain": "pandas.core.frame.DataFrame"
     },
     "metadata": {},
     "execution_count": 8
    }
   ],
   "source": [
    "# Verify that we have a new dataframe\n",
    "type(age_sex)"
   ]
  },
  {
   "cell_type": "markdown",
   "metadata": {
    "colab_type": "text",
    "id": "jWSpMr4_SeAI"
   },
   "source": [
    "Because we have a dataframe, `shape` now outputs two dimensions."
   ]
  },
  {
   "cell_type": "code",
   "execution_count": 9,
   "metadata": {
    "colab": {
     "base_uri": "https://localhost:8080/",
     "height": 34
    },
    "colab_type": "code",
    "executionInfo": {
     "elapsed": 345,
     "status": "ok",
     "timestamp": 1588253577950,
     "user": {
      "displayName": "Richard Alexander",
      "photoUrl": "https://lh3.googleusercontent.com/a-/AOh14Ghn6F8r3pF0SntsFbxkmhRaWso_lCd_s8ePdlKY_g=s64",
      "userId": "13543676537814105778"
     },
     "user_tz": 300
    },
    "id": "OecX8uD8Rl2R",
    "outputId": "f0de9829-c9d3-42d4-c939-86b6878bffff"
   },
   "outputs": [
    {
     "output_type": "execute_result",
     "data": {
      "text/plain": "(891, 2)"
     },
     "metadata": {},
     "execution_count": 9
    }
   ],
   "source": [
    "age_sex.shape"
   ]
  },
  {
   "cell_type": "code",
   "execution_count": 0,
   "metadata": {
    "colab": {},
    "colab_type": "code",
    "id": "FipeD8uBS6d1"
   },
   "outputs": [],
   "source": []
  },
  {
   "cell_type": "markdown",
   "metadata": {
    "colab_type": "text",
    "id": "ZCYE1F4hS7_v"
   },
   "source": [
    "# Selecting Rows\n",
    "\n",
    "![Selecting Rows](https://drive.google.com/uc?id=1NOsEk5vaDLkvCFLYDUHmci8ojat3Hmpl)\n"
   ]
  },
  {
   "cell_type": "markdown",
   "metadata": {
    "colab_type": "text",
    "id": "lr_oLlYYXGI9"
   },
   "source": [
    "### Conditional Expressions\n",
    "\n",
    "\n",
    "What if we only want to analyze passengers who are above a certain age?"
   ]
  },
  {
   "cell_type": "code",
   "execution_count": 10,
   "metadata": {
    "colab": {
     "base_uri": "https://localhost:8080/",
     "height": 204
    },
    "colab_type": "code",
    "executionInfo": {
     "elapsed": 924,
     "status": "ok",
     "timestamp": 1588253912062,
     "user": {
      "displayName": "Richard Alexander",
      "photoUrl": "https://lh3.googleusercontent.com/a-/AOh14Ghn6F8r3pF0SntsFbxkmhRaWso_lCd_s8ePdlKY_g=s64",
      "userId": "13543676537814105778"
     },
     "user_tz": 300
    },
    "id": "5-XNFM_hR9-U",
    "outputId": "438923b2-351c-4fc6-9832-469d9333185d"
   },
   "outputs": [
    {
     "output_type": "execute_result",
     "data": {
      "text/plain": "    PassengerId  Survived  Pclass  \\\n1             2         1       1   \n6             7         0       1   \n11           12         1       1   \n13           14         0       3   \n15           16         1       2   \n\n                                                 Name     Sex   Age  SibSp  \\\n1   Cumings, Mrs. John Bradley (Florence Briggs Th...  female  38.0      1   \n6                             McCarthy, Mr. Timothy J    male  54.0      0   \n11                           Bonnell, Miss. Elizabeth  female  58.0      0   \n13                        Andersson, Mr. Anders Johan    male  39.0      1   \n15                   Hewlett, Mrs. (Mary D Kingcome)   female  55.0      0   \n\n    Parch    Ticket     Fare Cabin Embarked  \n1       0  PC 17599  71.2833   C85        C  \n6       0     17463  51.8625   E46        S  \n11      0    113783  26.5500  C103        S  \n13      5    347082  31.2750   NaN        S  \n15      0    248706  16.0000   NaN        S  ",
      "text/html": "<div>\n<style scoped>\n    .dataframe tbody tr th:only-of-type {\n        vertical-align: middle;\n    }\n\n    .dataframe tbody tr th {\n        vertical-align: top;\n    }\n\n    .dataframe thead th {\n        text-align: right;\n    }\n</style>\n<table border=\"1\" class=\"dataframe\">\n  <thead>\n    <tr style=\"text-align: right;\">\n      <th></th>\n      <th>PassengerId</th>\n      <th>Survived</th>\n      <th>Pclass</th>\n      <th>Name</th>\n      <th>Sex</th>\n      <th>Age</th>\n      <th>SibSp</th>\n      <th>Parch</th>\n      <th>Ticket</th>\n      <th>Fare</th>\n      <th>Cabin</th>\n      <th>Embarked</th>\n    </tr>\n  </thead>\n  <tbody>\n    <tr>\n      <th>1</th>\n      <td>2</td>\n      <td>1</td>\n      <td>1</td>\n      <td>Cumings, Mrs. John Bradley (Florence Briggs Th...</td>\n      <td>female</td>\n      <td>38.0</td>\n      <td>1</td>\n      <td>0</td>\n      <td>PC 17599</td>\n      <td>71.2833</td>\n      <td>C85</td>\n      <td>C</td>\n    </tr>\n    <tr>\n      <th>6</th>\n      <td>7</td>\n      <td>0</td>\n      <td>1</td>\n      <td>McCarthy, Mr. Timothy J</td>\n      <td>male</td>\n      <td>54.0</td>\n      <td>0</td>\n      <td>0</td>\n      <td>17463</td>\n      <td>51.8625</td>\n      <td>E46</td>\n      <td>S</td>\n    </tr>\n    <tr>\n      <th>11</th>\n      <td>12</td>\n      <td>1</td>\n      <td>1</td>\n      <td>Bonnell, Miss. Elizabeth</td>\n      <td>female</td>\n      <td>58.0</td>\n      <td>0</td>\n      <td>0</td>\n      <td>113783</td>\n      <td>26.5500</td>\n      <td>C103</td>\n      <td>S</td>\n    </tr>\n    <tr>\n      <th>13</th>\n      <td>14</td>\n      <td>0</td>\n      <td>3</td>\n      <td>Andersson, Mr. Anders Johan</td>\n      <td>male</td>\n      <td>39.0</td>\n      <td>1</td>\n      <td>5</td>\n      <td>347082</td>\n      <td>31.2750</td>\n      <td>NaN</td>\n      <td>S</td>\n    </tr>\n    <tr>\n      <th>15</th>\n      <td>16</td>\n      <td>1</td>\n      <td>2</td>\n      <td>Hewlett, Mrs. (Mary D Kingcome)</td>\n      <td>female</td>\n      <td>55.0</td>\n      <td>0</td>\n      <td>0</td>\n      <td>248706</td>\n      <td>16.0000</td>\n      <td>NaN</td>\n      <td>S</td>\n    </tr>\n  </tbody>\n</table>\n</div>"
     },
     "metadata": {},
     "execution_count": 10
    }
   ],
   "source": [
    "above_35 = titanic[titanic[\"Age\"] > 35]\n",
    "above_35.head()"
   ]
  },
  {
   "cell_type": "markdown",
   "metadata": {
    "colab_type": "text",
    "id": "oqVHuxHMT_RR"
   },
   "source": [
    "Let's deconstruct what we just did, because there are a couple of important parts.\n",
    "\n",
    "First, inspect the conditional expression where we select the age of the passengers: `titanic[\"Age\"] > 35`\n",
    "\n",
    "Evaluating this expression by itself, we see that it returns a Series of boolean values."
   ]
  },
  {
   "cell_type": "code",
   "execution_count": 11,
   "metadata": {
    "colab": {
     "base_uri": "https://localhost:8080/",
     "height": 221
    },
    "colab_type": "code",
    "executionInfo": {
     "elapsed": 436,
     "status": "ok",
     "timestamp": 1588254037510,
     "user": {
      "displayName": "Richard Alexander",
      "photoUrl": "https://lh3.googleusercontent.com/a-/AOh14Ghn6F8r3pF0SntsFbxkmhRaWso_lCd_s8ePdlKY_g=s64",
      "userId": "13543676537814105778"
     },
     "user_tz": 300
    },
    "id": "3tPoU6CeT-xL",
    "outputId": "a38cd22f-e19c-4a26-9fcb-012295d65f3f"
   },
   "outputs": [
    {
     "output_type": "execute_result",
     "data": {
      "text/plain": "0      False\n1       True\n2      False\n3      False\n4      False\n       ...  \n886    False\n887    False\n888    False\n889    False\n890    False\nName: Age, Length: 891, dtype: bool"
     },
     "metadata": {},
     "execution_count": 11
    }
   ],
   "source": [
    "titanic[\"Age\"] > 35"
   ]
  },
  {
   "cell_type": "markdown",
   "metadata": {
    "colab_type": "text",
    "id": "v3f4vQXdUm0-"
   },
   "source": [
    "A conditional expression can be used to select rows from a dataframe, because when we pass a boolean Series to a dataframe, Pandas will only select rows where the value is `True`.\n",
    "\n",
    "Let's double check that it worked by comparing the shape of the original to the shape of the new dataframe. We should see fewer rows in the new dataframe.\n",
    "\n"
   ]
  },
  {
   "cell_type": "code",
   "execution_count": 12,
   "metadata": {
    "colab": {
     "base_uri": "https://localhost:8080/",
     "height": 34
    },
    "colab_type": "code",
    "executionInfo": {
     "elapsed": 435,
     "status": "ok",
     "timestamp": 1588254471458,
     "user": {
      "displayName": "Richard Alexander",
      "photoUrl": "https://lh3.googleusercontent.com/a-/AOh14Ghn6F8r3pF0SntsFbxkmhRaWso_lCd_s8ePdlKY_g=s64",
      "userId": "13543676537814105778"
     },
     "user_tz": 300
    },
    "id": "PJH9bKRcUlSk",
    "outputId": "aedffad8-6273-4923-8992-b29b03f80b0c"
   },
   "outputs": [
    {
     "output_type": "execute_result",
     "data": {
      "text/plain": "(891, 12)"
     },
     "metadata": {},
     "execution_count": 12
    }
   ],
   "source": [
    "# Original titanic dataframe shape\n",
    "titanic.shape"
   ]
  },
  {
   "cell_type": "code",
   "execution_count": 13,
   "metadata": {
    "colab": {
     "base_uri": "https://localhost:8080/",
     "height": 34
    },
    "colab_type": "code",
    "executionInfo": {
     "elapsed": 374,
     "status": "ok",
     "timestamp": 1588254498038,
     "user": {
      "displayName": "Richard Alexander",
      "photoUrl": "https://lh3.googleusercontent.com/a-/AOh14Ghn6F8r3pF0SntsFbxkmhRaWso_lCd_s8ePdlKY_g=s64",
      "userId": "13543676537814105778"
     },
     "user_tz": 300
    },
    "id": "JhuLRmJzUXSz",
    "outputId": "6bcce2e7-58e2-4bb0-fd34-8495df97b20f"
   },
   "outputs": [
    {
     "output_type": "execute_result",
     "data": {
      "text/plain": "(217, 12)"
     },
     "metadata": {},
     "execution_count": 13
    }
   ],
   "source": [
    "# New above_35 dataframe shape has fewer rows\n",
    "above_35.shape"
   ]
  },
  {
   "cell_type": "markdown",
   "metadata": {
    "colab_type": "text",
    "id": "w_cwhpwkXZWX"
   },
   "source": [
    "### Multiple Conditions\n",
    "\n",
    "What if we want to select only rows where the passenger class is 2 or 3?"
   ]
  },
  {
   "cell_type": "code",
   "execution_count": 14,
   "metadata": {
    "colab": {
     "base_uri": "https://localhost:8080/",
     "height": 204
    },
    "colab_type": "code",
    "executionInfo": {
     "elapsed": 419,
     "status": "ok",
     "timestamp": 1588254951738,
     "user": {
      "displayName": "Richard Alexander",
      "photoUrl": "https://lh3.googleusercontent.com/a-/AOh14Ghn6F8r3pF0SntsFbxkmhRaWso_lCd_s8ePdlKY_g=s64",
      "userId": "13543676537814105778"
     },
     "user_tz": 300
    },
    "id": "UU00g4LnT2gh",
    "outputId": "e1c3ea2e-df11-4650-d37b-cece54c28f02"
   },
   "outputs": [
    {
     "output_type": "execute_result",
     "data": {
      "text/plain": "   PassengerId  Survived  Pclass                            Name     Sex  \\\n0            1         0       3         Braund, Mr. Owen Harris    male   \n2            3         1       3          Heikkinen, Miss. Laina  female   \n4            5         0       3        Allen, Mr. William Henry    male   \n5            6         0       3                Moran, Mr. James    male   \n7            8         0       3  Palsson, Master. Gosta Leonard    male   \n\n    Age  SibSp  Parch            Ticket     Fare Cabin Embarked  \n0  22.0      1      0         A/5 21171   7.2500   NaN        S  \n2  26.0      0      0  STON/O2. 3101282   7.9250   NaN        S  \n4  35.0      0      0            373450   8.0500   NaN        S  \n5   NaN      0      0            330877   8.4583   NaN        Q  \n7   2.0      3      1            349909  21.0750   NaN        S  ",
      "text/html": "<div>\n<style scoped>\n    .dataframe tbody tr th:only-of-type {\n        vertical-align: middle;\n    }\n\n    .dataframe tbody tr th {\n        vertical-align: top;\n    }\n\n    .dataframe thead th {\n        text-align: right;\n    }\n</style>\n<table border=\"1\" class=\"dataframe\">\n  <thead>\n    <tr style=\"text-align: right;\">\n      <th></th>\n      <th>PassengerId</th>\n      <th>Survived</th>\n      <th>Pclass</th>\n      <th>Name</th>\n      <th>Sex</th>\n      <th>Age</th>\n      <th>SibSp</th>\n      <th>Parch</th>\n      <th>Ticket</th>\n      <th>Fare</th>\n      <th>Cabin</th>\n      <th>Embarked</th>\n    </tr>\n  </thead>\n  <tbody>\n    <tr>\n      <th>0</th>\n      <td>1</td>\n      <td>0</td>\n      <td>3</td>\n      <td>Braund, Mr. Owen Harris</td>\n      <td>male</td>\n      <td>22.0</td>\n      <td>1</td>\n      <td>0</td>\n      <td>A/5 21171</td>\n      <td>7.2500</td>\n      <td>NaN</td>\n      <td>S</td>\n    </tr>\n    <tr>\n      <th>2</th>\n      <td>3</td>\n      <td>1</td>\n      <td>3</td>\n      <td>Heikkinen, Miss. Laina</td>\n      <td>female</td>\n      <td>26.0</td>\n      <td>0</td>\n      <td>0</td>\n      <td>STON/O2. 3101282</td>\n      <td>7.9250</td>\n      <td>NaN</td>\n      <td>S</td>\n    </tr>\n    <tr>\n      <th>4</th>\n      <td>5</td>\n      <td>0</td>\n      <td>3</td>\n      <td>Allen, Mr. William Henry</td>\n      <td>male</td>\n      <td>35.0</td>\n      <td>0</td>\n      <td>0</td>\n      <td>373450</td>\n      <td>8.0500</td>\n      <td>NaN</td>\n      <td>S</td>\n    </tr>\n    <tr>\n      <th>5</th>\n      <td>6</td>\n      <td>0</td>\n      <td>3</td>\n      <td>Moran, Mr. James</td>\n      <td>male</td>\n      <td>NaN</td>\n      <td>0</td>\n      <td>0</td>\n      <td>330877</td>\n      <td>8.4583</td>\n      <td>NaN</td>\n      <td>Q</td>\n    </tr>\n    <tr>\n      <th>7</th>\n      <td>8</td>\n      <td>0</td>\n      <td>3</td>\n      <td>Palsson, Master. Gosta Leonard</td>\n      <td>male</td>\n      <td>2.0</td>\n      <td>3</td>\n      <td>1</td>\n      <td>349909</td>\n      <td>21.0750</td>\n      <td>NaN</td>\n      <td>S</td>\n    </tr>\n  </tbody>\n</table>\n</div>"
     },
     "metadata": {},
     "execution_count": 14
    }
   ],
   "source": [
    "class_23 = titanic[(titanic[\"Pclass\"] == 2) | (titanic[\"Pclass\"] == 3)]\n",
    "class_23.head()"
   ]
  },
  {
   "cell_type": "markdown",
   "metadata": {
    "colab_type": "text",
    "id": "mqOnDaffX7UK"
   },
   "source": [
    "This time we have two conditional expressions, combined with the or `|` operator. Thus, we select rows where the passenger class is either 2 or 3.\n",
    "\n",
    "\n",
    "-------------------------\n",
    "NOTE:\n",
    "\n",
    "Because we are combining booleans, we need to remember to use the boolean `&`, `|` operators, rather than python's `and`, `or`.\n",
    "\n",
    "-------------------------\n",
    "\n",
    "\n",
    "We can deconstruct these expressions as well in order to get a feel for what is going on."
   ]
  },
  {
   "cell_type": "code",
   "execution_count": 15,
   "metadata": {
    "colab": {
     "base_uri": "https://localhost:8080/",
     "height": 221
    },
    "colab_type": "code",
    "executionInfo": {
     "elapsed": 429,
     "status": "ok",
     "timestamp": 1588255806789,
     "user": {
      "displayName": "Richard Alexander",
      "photoUrl": "https://lh3.googleusercontent.com/a-/AOh14Ghn6F8r3pF0SntsFbxkmhRaWso_lCd_s8ePdlKY_g=s64",
      "userId": "13543676537814105778"
     },
     "user_tz": 300
    },
    "id": "bBuYg5LqbARZ",
    "outputId": "4988d3d2-7896-4e49-c508-33c1eb151bfb"
   },
   "outputs": [
    {
     "output_type": "execute_result",
     "data": {
      "text/plain": "0      False\n1      False\n2      False\n3      False\n4      False\n       ...  \n886     True\n887    False\n888    False\n889    False\n890    False\nName: Pclass, Length: 891, dtype: bool"
     },
     "metadata": {},
     "execution_count": 15
    }
   ],
   "source": [
    "# Rows where passenger class is 2\n",
    "(titanic[\"Pclass\"] == 2)"
   ]
  },
  {
   "cell_type": "code",
   "execution_count": 16,
   "metadata": {
    "colab": {
     "base_uri": "https://localhost:8080/",
     "height": 221
    },
    "colab_type": "code",
    "executionInfo": {
     "elapsed": 484,
     "status": "ok",
     "timestamp": 1588255838914,
     "user": {
      "displayName": "Richard Alexander",
      "photoUrl": "https://lh3.googleusercontent.com/a-/AOh14Ghn6F8r3pF0SntsFbxkmhRaWso_lCd_s8ePdlKY_g=s64",
      "userId": "13543676537814105778"
     },
     "user_tz": 300
    },
    "id": "RCl952N0bBrF",
    "outputId": "488c5da3-53f1-49d6-d0f7-0035e3a09902"
   },
   "outputs": [
    {
     "output_type": "execute_result",
     "data": {
      "text/plain": "0       True\n1      False\n2       True\n3      False\n4       True\n       ...  \n886    False\n887    False\n888     True\n889    False\n890     True\nName: Pclass, Length: 891, dtype: bool"
     },
     "metadata": {},
     "execution_count": 16
    }
   ],
   "source": [
    "# Rows where passenger class is 3\n",
    "(titanic[\"Pclass\"] == 3)"
   ]
  },
  {
   "cell_type": "code",
   "execution_count": 17,
   "metadata": {
    "colab": {
     "base_uri": "https://localhost:8080/",
     "height": 221
    },
    "colab_type": "code",
    "executionInfo": {
     "elapsed": 394,
     "status": "ok",
     "timestamp": 1588255861796,
     "user": {
      "displayName": "Richard Alexander",
      "photoUrl": "https://lh3.googleusercontent.com/a-/AOh14Ghn6F8r3pF0SntsFbxkmhRaWso_lCd_s8ePdlKY_g=s64",
      "userId": "13543676537814105778"
     },
     "user_tz": 300
    },
    "id": "_8NTm4VdbBZo",
    "outputId": "c846efad-c48c-4ff8-c25f-762aa3064490"
   },
   "outputs": [
    {
     "output_type": "execute_result",
     "data": {
      "text/plain": "0       True\n1      False\n2       True\n3      False\n4       True\n       ...  \n886     True\n887    False\n888     True\n889    False\n890     True\nName: Pclass, Length: 891, dtype: bool"
     },
     "metadata": {},
     "execution_count": 17
    }
   ],
   "source": [
    "# Rows where passenger class is 2 or 3\n",
    "(titanic[\"Pclass\"] == 2) | (titanic[\"Pclass\"] == 3)"
   ]
  },
  {
   "cell_type": "markdown",
   "metadata": {
    "colab_type": "text",
    "id": "6o3YuJjzau5F"
   },
   "source": [
    "We can also use Pandas `isin` function to perform the same task:"
   ]
  },
  {
   "cell_type": "code",
   "execution_count": 18,
   "metadata": {
    "colab": {
     "base_uri": "https://localhost:8080/",
     "height": 204
    },
    "colab_type": "code",
    "executionInfo": {
     "elapsed": 449,
     "status": "ok",
     "timestamp": 1588255617653,
     "user": {
      "displayName": "Richard Alexander",
      "photoUrl": "https://lh3.googleusercontent.com/a-/AOh14Ghn6F8r3pF0SntsFbxkmhRaWso_lCd_s8ePdlKY_g=s64",
      "userId": "13543676537814105778"
     },
     "user_tz": 300
    },
    "id": "AYSlupSLX0dJ",
    "outputId": "aff47e72-9f82-4475-ac17-8e24b6ce8a70"
   },
   "outputs": [
    {
     "output_type": "execute_result",
     "data": {
      "text/plain": "   PassengerId  Survived  Pclass                            Name     Sex  \\\n0            1         0       3         Braund, Mr. Owen Harris    male   \n2            3         1       3          Heikkinen, Miss. Laina  female   \n4            5         0       3        Allen, Mr. William Henry    male   \n5            6         0       3                Moran, Mr. James    male   \n7            8         0       3  Palsson, Master. Gosta Leonard    male   \n\n    Age  SibSp  Parch            Ticket     Fare Cabin Embarked  \n0  22.0      1      0         A/5 21171   7.2500   NaN        S  \n2  26.0      0      0  STON/O2. 3101282   7.9250   NaN        S  \n4  35.0      0      0            373450   8.0500   NaN        S  \n5   NaN      0      0            330877   8.4583   NaN        Q  \n7   2.0      3      1            349909  21.0750   NaN        S  ",
      "text/html": "<div>\n<style scoped>\n    .dataframe tbody tr th:only-of-type {\n        vertical-align: middle;\n    }\n\n    .dataframe tbody tr th {\n        vertical-align: top;\n    }\n\n    .dataframe thead th {\n        text-align: right;\n    }\n</style>\n<table border=\"1\" class=\"dataframe\">\n  <thead>\n    <tr style=\"text-align: right;\">\n      <th></th>\n      <th>PassengerId</th>\n      <th>Survived</th>\n      <th>Pclass</th>\n      <th>Name</th>\n      <th>Sex</th>\n      <th>Age</th>\n      <th>SibSp</th>\n      <th>Parch</th>\n      <th>Ticket</th>\n      <th>Fare</th>\n      <th>Cabin</th>\n      <th>Embarked</th>\n    </tr>\n  </thead>\n  <tbody>\n    <tr>\n      <th>0</th>\n      <td>1</td>\n      <td>0</td>\n      <td>3</td>\n      <td>Braund, Mr. Owen Harris</td>\n      <td>male</td>\n      <td>22.0</td>\n      <td>1</td>\n      <td>0</td>\n      <td>A/5 21171</td>\n      <td>7.2500</td>\n      <td>NaN</td>\n      <td>S</td>\n    </tr>\n    <tr>\n      <th>2</th>\n      <td>3</td>\n      <td>1</td>\n      <td>3</td>\n      <td>Heikkinen, Miss. Laina</td>\n      <td>female</td>\n      <td>26.0</td>\n      <td>0</td>\n      <td>0</td>\n      <td>STON/O2. 3101282</td>\n      <td>7.9250</td>\n      <td>NaN</td>\n      <td>S</td>\n    </tr>\n    <tr>\n      <th>4</th>\n      <td>5</td>\n      <td>0</td>\n      <td>3</td>\n      <td>Allen, Mr. William Henry</td>\n      <td>male</td>\n      <td>35.0</td>\n      <td>0</td>\n      <td>0</td>\n      <td>373450</td>\n      <td>8.0500</td>\n      <td>NaN</td>\n      <td>S</td>\n    </tr>\n    <tr>\n      <th>5</th>\n      <td>6</td>\n      <td>0</td>\n      <td>3</td>\n      <td>Moran, Mr. James</td>\n      <td>male</td>\n      <td>NaN</td>\n      <td>0</td>\n      <td>0</td>\n      <td>330877</td>\n      <td>8.4583</td>\n      <td>NaN</td>\n      <td>Q</td>\n    </tr>\n    <tr>\n      <th>7</th>\n      <td>8</td>\n      <td>0</td>\n      <td>3</td>\n      <td>Palsson, Master. Gosta Leonard</td>\n      <td>male</td>\n      <td>2.0</td>\n      <td>3</td>\n      <td>1</td>\n      <td>349909</td>\n      <td>21.0750</td>\n      <td>NaN</td>\n      <td>S</td>\n    </tr>\n  </tbody>\n</table>\n</div>"
     },
     "metadata": {},
     "execution_count": 18
    }
   ],
   "source": [
    "# Use `isin()` to select multiple passenger classes\n",
    "class_23 = titanic[titanic[\"Pclass\"].isin([2, 3])]\n",
    "class_23.head()"
   ]
  },
  {
   "cell_type": "markdown",
   "metadata": {
    "colab_type": "text",
    "id": "Wdjl7hhRauO_"
   },
   "source": [
    "Evaluating the inner statement by itself, we see that the `isin` function returns a boolean Series, just like our previous conditional statements!"
   ]
  },
  {
   "cell_type": "code",
   "execution_count": 19,
   "metadata": {
    "colab": {
     "base_uri": "https://localhost:8080/",
     "height": 221
    },
    "colab_type": "code",
    "executionInfo": {
     "elapsed": 643,
     "status": "ok",
     "timestamp": 1588255968432,
     "user": {
      "displayName": "Richard Alexander",
      "photoUrl": "https://lh3.googleusercontent.com/a-/AOh14Ghn6F8r3pF0SntsFbxkmhRaWso_lCd_s8ePdlKY_g=s64",
      "userId": "13543676537814105778"
     },
     "user_tz": 300
    },
    "id": "72yH0ltnaJP7",
    "outputId": "a9ad95b1-a128-4745-99c7-56db518e9a33"
   },
   "outputs": [
    {
     "output_type": "execute_result",
     "data": {
      "text/plain": "0       True\n1      False\n2       True\n3      False\n4       True\n       ...  \n886     True\n887    False\n888     True\n889    False\n890     True\nName: Pclass, Length: 891, dtype: bool"
     },
     "metadata": {},
     "execution_count": 19
    }
   ],
   "source": [
    "# `isin()` returns a boolean Series\n",
    "titanic[\"Pclass\"].isin([2, 3])"
   ]
  },
  {
   "cell_type": "markdown",
   "metadata": {
    "colab_type": "text",
    "id": "bbpTZBcDc7b8"
   },
   "source": [
    "# Conditions on Multiple Columns\n",
    "\n",
    "What if we want to compare the number of female passnegers who survived to the number of male passengers who survived?\n",
    "\n",
    "We can do this by splitting our data into two dataframes. First let's select the female passengers who survived."
   ]
  },
  {
   "cell_type": "code",
   "execution_count": 20,
   "metadata": {
    "colab": {
     "base_uri": "https://localhost:8080/",
     "height": 204
    },
    "colab_type": "code",
    "executionInfo": {
     "elapsed": 466,
     "status": "ok",
     "timestamp": 1588256721720,
     "user": {
      "displayName": "Richard Alexander",
      "photoUrl": "https://lh3.googleusercontent.com/a-/AOh14Ghn6F8r3pF0SntsFbxkmhRaWso_lCd_s8ePdlKY_g=s64",
      "userId": "13543676537814105778"
     },
     "user_tz": 300
    },
    "id": "oObKKBC1cy-H",
    "outputId": "28adc4bf-c2d9-4984-de9b-433c99ed1c88"
   },
   "outputs": [
    {
     "output_type": "execute_result",
     "data": {
      "text/plain": "   PassengerId  Survived  Pclass  \\\n1            2         1       1   \n2            3         1       3   \n3            4         1       1   \n8            9         1       3   \n9           10         1       2   \n\n                                                Name     Sex   Age  SibSp  \\\n1  Cumings, Mrs. John Bradley (Florence Briggs Th...  female  38.0      1   \n2                             Heikkinen, Miss. Laina  female  26.0      0   \n3       Futrelle, Mrs. Jacques Heath (Lily May Peel)  female  35.0      1   \n8  Johnson, Mrs. Oscar W (Elisabeth Vilhelmina Berg)  female  27.0      0   \n9                Nasser, Mrs. Nicholas (Adele Achem)  female  14.0      1   \n\n   Parch            Ticket     Fare Cabin Embarked  \n1      0          PC 17599  71.2833   C85        C  \n2      0  STON/O2. 3101282   7.9250   NaN        S  \n3      0            113803  53.1000  C123        S  \n8      2            347742  11.1333   NaN        S  \n9      0            237736  30.0708   NaN        C  ",
      "text/html": "<div>\n<style scoped>\n    .dataframe tbody tr th:only-of-type {\n        vertical-align: middle;\n    }\n\n    .dataframe tbody tr th {\n        vertical-align: top;\n    }\n\n    .dataframe thead th {\n        text-align: right;\n    }\n</style>\n<table border=\"1\" class=\"dataframe\">\n  <thead>\n    <tr style=\"text-align: right;\">\n      <th></th>\n      <th>PassengerId</th>\n      <th>Survived</th>\n      <th>Pclass</th>\n      <th>Name</th>\n      <th>Sex</th>\n      <th>Age</th>\n      <th>SibSp</th>\n      <th>Parch</th>\n      <th>Ticket</th>\n      <th>Fare</th>\n      <th>Cabin</th>\n      <th>Embarked</th>\n    </tr>\n  </thead>\n  <tbody>\n    <tr>\n      <th>1</th>\n      <td>2</td>\n      <td>1</td>\n      <td>1</td>\n      <td>Cumings, Mrs. John Bradley (Florence Briggs Th...</td>\n      <td>female</td>\n      <td>38.0</td>\n      <td>1</td>\n      <td>0</td>\n      <td>PC 17599</td>\n      <td>71.2833</td>\n      <td>C85</td>\n      <td>C</td>\n    </tr>\n    <tr>\n      <th>2</th>\n      <td>3</td>\n      <td>1</td>\n      <td>3</td>\n      <td>Heikkinen, Miss. Laina</td>\n      <td>female</td>\n      <td>26.0</td>\n      <td>0</td>\n      <td>0</td>\n      <td>STON/O2. 3101282</td>\n      <td>7.9250</td>\n      <td>NaN</td>\n      <td>S</td>\n    </tr>\n    <tr>\n      <th>3</th>\n      <td>4</td>\n      <td>1</td>\n      <td>1</td>\n      <td>Futrelle, Mrs. Jacques Heath (Lily May Peel)</td>\n      <td>female</td>\n      <td>35.0</td>\n      <td>1</td>\n      <td>0</td>\n      <td>113803</td>\n      <td>53.1000</td>\n      <td>C123</td>\n      <td>S</td>\n    </tr>\n    <tr>\n      <th>8</th>\n      <td>9</td>\n      <td>1</td>\n      <td>3</td>\n      <td>Johnson, Mrs. Oscar W (Elisabeth Vilhelmina Berg)</td>\n      <td>female</td>\n      <td>27.0</td>\n      <td>0</td>\n      <td>2</td>\n      <td>347742</td>\n      <td>11.1333</td>\n      <td>NaN</td>\n      <td>S</td>\n    </tr>\n    <tr>\n      <th>9</th>\n      <td>10</td>\n      <td>1</td>\n      <td>2</td>\n      <td>Nasser, Mrs. Nicholas (Adele Achem)</td>\n      <td>female</td>\n      <td>14.0</td>\n      <td>1</td>\n      <td>0</td>\n      <td>237736</td>\n      <td>30.0708</td>\n      <td>NaN</td>\n      <td>C</td>\n    </tr>\n  </tbody>\n</table>\n</div>"
     },
     "metadata": {},
     "execution_count": 20
    }
   ],
   "source": [
    "# Select female passengers who survived\n",
    "female_survived = titanic[(titanic['Survived']==1) & (titanic['Sex'] == 'female')]\n",
    "female_survived.head()"
   ]
  },
  {
   "cell_type": "code",
   "execution_count": 21,
   "metadata": {
    "colab": {
     "base_uri": "https://localhost:8080/",
     "height": 34
    },
    "colab_type": "code",
    "executionInfo": {
     "elapsed": 395,
     "status": "ok",
     "timestamp": 1588256738318,
     "user": {
      "displayName": "Richard Alexander",
      "photoUrl": "https://lh3.googleusercontent.com/a-/AOh14Ghn6F8r3pF0SntsFbxkmhRaWso_lCd_s8ePdlKY_g=s64",
      "userId": "13543676537814105778"
     },
     "user_tz": 300
    },
    "id": "G-4QY0iMempA",
    "outputId": "f96c2f00-2ed7-4d7c-8405-0234e2bac75d"
   },
   "outputs": [
    {
     "output_type": "execute_result",
     "data": {
      "text/plain": "(233, 12)"
     },
     "metadata": {},
     "execution_count": 21
    }
   ],
   "source": [
    "# See how many females survived\n",
    "female_survived.shape"
   ]
  },
  {
   "cell_type": "code",
   "execution_count": 22,
   "metadata": {
    "colab": {
     "base_uri": "https://localhost:8080/",
     "height": 204
    },
    "colab_type": "code",
    "executionInfo": {
     "elapsed": 422,
     "status": "ok",
     "timestamp": 1588256747143,
     "user": {
      "displayName": "Richard Alexander",
      "photoUrl": "https://lh3.googleusercontent.com/a-/AOh14Ghn6F8r3pF0SntsFbxkmhRaWso_lCd_s8ePdlKY_g=s64",
      "userId": "13543676537814105778"
     },
     "user_tz": 300
    },
    "id": "vmuHySJ0bsni",
    "outputId": "bacccd6e-72fa-4f93-d607-ba615408c628"
   },
   "outputs": [
    {
     "output_type": "execute_result",
     "data": {
      "text/plain": "    PassengerId  Survived  Pclass                          Name   Sex   Age  \\\n17           18         1       2  Williams, Mr. Charles Eugene  male   NaN   \n21           22         1       2         Beesley, Mr. Lawrence  male  34.0   \n23           24         1       1  Sloper, Mr. William Thompson  male  28.0   \n36           37         1       3              Mamee, Mr. Hanna  male   NaN   \n55           56         1       1             Woolner, Mr. Hugh  male   NaN   \n\n    SibSp  Parch  Ticket     Fare Cabin Embarked  \n17      0      0  244373  13.0000   NaN        S  \n21      0      0  248698  13.0000   D56        S  \n23      0      0  113788  35.5000    A6        S  \n36      0      0    2677   7.2292   NaN        C  \n55      0      0   19947  35.5000   C52        S  ",
      "text/html": "<div>\n<style scoped>\n    .dataframe tbody tr th:only-of-type {\n        vertical-align: middle;\n    }\n\n    .dataframe tbody tr th {\n        vertical-align: top;\n    }\n\n    .dataframe thead th {\n        text-align: right;\n    }\n</style>\n<table border=\"1\" class=\"dataframe\">\n  <thead>\n    <tr style=\"text-align: right;\">\n      <th></th>\n      <th>PassengerId</th>\n      <th>Survived</th>\n      <th>Pclass</th>\n      <th>Name</th>\n      <th>Sex</th>\n      <th>Age</th>\n      <th>SibSp</th>\n      <th>Parch</th>\n      <th>Ticket</th>\n      <th>Fare</th>\n      <th>Cabin</th>\n      <th>Embarked</th>\n    </tr>\n  </thead>\n  <tbody>\n    <tr>\n      <th>17</th>\n      <td>18</td>\n      <td>1</td>\n      <td>2</td>\n      <td>Williams, Mr. Charles Eugene</td>\n      <td>male</td>\n      <td>NaN</td>\n      <td>0</td>\n      <td>0</td>\n      <td>244373</td>\n      <td>13.0000</td>\n      <td>NaN</td>\n      <td>S</td>\n    </tr>\n    <tr>\n      <th>21</th>\n      <td>22</td>\n      <td>1</td>\n      <td>2</td>\n      <td>Beesley, Mr. Lawrence</td>\n      <td>male</td>\n      <td>34.0</td>\n      <td>0</td>\n      <td>0</td>\n      <td>248698</td>\n      <td>13.0000</td>\n      <td>D56</td>\n      <td>S</td>\n    </tr>\n    <tr>\n      <th>23</th>\n      <td>24</td>\n      <td>1</td>\n      <td>1</td>\n      <td>Sloper, Mr. William Thompson</td>\n      <td>male</td>\n      <td>28.0</td>\n      <td>0</td>\n      <td>0</td>\n      <td>113788</td>\n      <td>35.5000</td>\n      <td>A6</td>\n      <td>S</td>\n    </tr>\n    <tr>\n      <th>36</th>\n      <td>37</td>\n      <td>1</td>\n      <td>3</td>\n      <td>Mamee, Mr. Hanna</td>\n      <td>male</td>\n      <td>NaN</td>\n      <td>0</td>\n      <td>0</td>\n      <td>2677</td>\n      <td>7.2292</td>\n      <td>NaN</td>\n      <td>C</td>\n    </tr>\n    <tr>\n      <th>55</th>\n      <td>56</td>\n      <td>1</td>\n      <td>1</td>\n      <td>Woolner, Mr. Hugh</td>\n      <td>male</td>\n      <td>NaN</td>\n      <td>0</td>\n      <td>0</td>\n      <td>19947</td>\n      <td>35.5000</td>\n      <td>C52</td>\n      <td>S</td>\n    </tr>\n  </tbody>\n</table>\n</div>"
     },
     "metadata": {},
     "execution_count": 22
    }
   ],
   "source": [
    "# Select male passengers who survived\n",
    "male_survived = titanic[(titanic['Survived']==1) & (titanic['Sex'] == 'male')]\n",
    "male_survived.head()"
   ]
  },
  {
   "cell_type": "code",
   "execution_count": 23,
   "metadata": {
    "colab": {
     "base_uri": "https://localhost:8080/",
     "height": 34
    },
    "colab_type": "code",
    "executionInfo": {
     "elapsed": 369,
     "status": "ok",
     "timestamp": 1588256753226,
     "user": {
      "displayName": "Richard Alexander",
      "photoUrl": "https://lh3.googleusercontent.com/a-/AOh14Ghn6F8r3pF0SntsFbxkmhRaWso_lCd_s8ePdlKY_g=s64",
      "userId": "13543676537814105778"
     },
     "user_tz": 300
    },
    "id": "RUFqpVqweqyG",
    "outputId": "b173878f-7e59-435a-d650-9b0417ea92fd"
   },
   "outputs": [
    {
     "output_type": "execute_result",
     "data": {
      "text/plain": "(109, 12)"
     },
     "metadata": {},
     "execution_count": 23
    }
   ],
   "source": [
    "# See how many males survived\n",
    "male_survived.shape"
   ]
  },
  {
   "cell_type": "markdown",
   "metadata": {
    "colab_type": "text",
    "id": "GEaK9gfIe_EP"
   },
   "source": [
    "Compared to males, well over twice as many females survived!"
   ]
  },
  {
   "cell_type": "code",
   "execution_count": 24,
   "metadata": {
    "colab": {
     "base_uri": "https://localhost:8080/",
     "height": 51
    },
    "colab_type": "code",
    "executionInfo": {
     "elapsed": 433,
     "status": "ok",
     "timestamp": 1588257035528,
     "user": {
      "displayName": "Richard Alexander",
      "photoUrl": "https://lh3.googleusercontent.com/a-/AOh14Ghn6F8r3pF0SntsFbxkmhRaWso_lCd_s8ePdlKY_g=s64",
      "userId": "13543676537814105778"
     },
     "user_tz": 300
    },
    "id": "oWedNfsFesSW",
    "outputId": "7ea7d7fa-8427-4185-bb6d-f6ed294f6598"
   },
   "outputs": [
    {
     "output_type": "stream",
     "name": "stdout",
     "text": "Females vs males:\n"
    },
    {
     "output_type": "execute_result",
     "data": {
      "text/plain": "2.1376146788990824"
     },
     "metadata": {},
     "execution_count": 24
    }
   ],
   "source": [
    "print('Females vs males:')\n",
    "len(female_survived) / len(male_survived)"
   ]
  },
  {
   "cell_type": "markdown",
   "metadata": {
    "colab_type": "text",
    "id": "R0RmRH6tf-rc"
   },
   "source": [
    "# Selecting Known Data\n",
    "\n",
    "It is often the case that a dataset will contain blank or NA values. Inspecting the age column, we see that some ages were unknown:"
   ]
  },
  {
   "cell_type": "code",
   "execution_count": 25,
   "metadata": {
    "colab": {
     "base_uri": "https://localhost:8080/",
     "height": 221
    },
    "colab_type": "code",
    "executionInfo": {
     "elapsed": 446,
     "status": "ok",
     "timestamp": 1588257258094,
     "user": {
      "displayName": "Richard Alexander",
      "photoUrl": "https://lh3.googleusercontent.com/a-/AOh14Ghn6F8r3pF0SntsFbxkmhRaWso_lCd_s8ePdlKY_g=s64",
      "userId": "13543676537814105778"
     },
     "user_tz": 300
    },
    "id": "0y7tp2wEfmay",
    "outputId": "0ba79247-cd8e-4135-a614-063f7b201343"
   },
   "outputs": [
    {
     "output_type": "execute_result",
     "data": {
      "text/plain": "0      22.0\n1      38.0\n2      26.0\n3      35.0\n4      35.0\n       ... \n886    27.0\n887    19.0\n888     NaN\n889    26.0\n890    32.0\nName: Age, Length: 891, dtype: float64"
     },
     "metadata": {},
     "execution_count": 25
    }
   ],
   "source": [
    "titanic['Age']"
   ]
  },
  {
   "cell_type": "markdown",
   "metadata": {
    "colab_type": "text",
    "id": "F6V4CRPPgt3L"
   },
   "source": [
    "(Notice the `NaN` values above)\n",
    "\n",
    "We can select only known values using Pandas' `notna` conditional function, which returns a `True` for each row where the values are not a `Null` value."
   ]
  },
  {
   "cell_type": "code",
   "execution_count": 26,
   "metadata": {
    "colab": {
     "base_uri": "https://localhost:8080/",
     "height": 204
    },
    "colab_type": "code",
    "executionInfo": {
     "elapsed": 411,
     "status": "ok",
     "timestamp": 1588257491219,
     "user": {
      "displayName": "Richard Alexander",
      "photoUrl": "https://lh3.googleusercontent.com/a-/AOh14Ghn6F8r3pF0SntsFbxkmhRaWso_lCd_s8ePdlKY_g=s64",
      "userId": "13543676537814105778"
     },
     "user_tz": 300
    },
    "id": "80w2oZAngVrO",
    "outputId": "7742a4d5-e6b4-4166-a10d-83aab9ea0a7a"
   },
   "outputs": [
    {
     "output_type": "execute_result",
     "data": {
      "text/plain": "   PassengerId  Survived  Pclass  \\\n0            1         0       3   \n1            2         1       1   \n2            3         1       3   \n3            4         1       1   \n4            5         0       3   \n\n                                                Name     Sex   Age  SibSp  \\\n0                            Braund, Mr. Owen Harris    male  22.0      1   \n1  Cumings, Mrs. John Bradley (Florence Briggs Th...  female  38.0      1   \n2                             Heikkinen, Miss. Laina  female  26.0      0   \n3       Futrelle, Mrs. Jacques Heath (Lily May Peel)  female  35.0      1   \n4                           Allen, Mr. William Henry    male  35.0      0   \n\n   Parch            Ticket     Fare Cabin Embarked  \n0      0         A/5 21171   7.2500   NaN        S  \n1      0          PC 17599  71.2833   C85        C  \n2      0  STON/O2. 3101282   7.9250   NaN        S  \n3      0            113803  53.1000  C123        S  \n4      0            373450   8.0500   NaN        S  ",
      "text/html": "<div>\n<style scoped>\n    .dataframe tbody tr th:only-of-type {\n        vertical-align: middle;\n    }\n\n    .dataframe tbody tr th {\n        vertical-align: top;\n    }\n\n    .dataframe thead th {\n        text-align: right;\n    }\n</style>\n<table border=\"1\" class=\"dataframe\">\n  <thead>\n    <tr style=\"text-align: right;\">\n      <th></th>\n      <th>PassengerId</th>\n      <th>Survived</th>\n      <th>Pclass</th>\n      <th>Name</th>\n      <th>Sex</th>\n      <th>Age</th>\n      <th>SibSp</th>\n      <th>Parch</th>\n      <th>Ticket</th>\n      <th>Fare</th>\n      <th>Cabin</th>\n      <th>Embarked</th>\n    </tr>\n  </thead>\n  <tbody>\n    <tr>\n      <th>0</th>\n      <td>1</td>\n      <td>0</td>\n      <td>3</td>\n      <td>Braund, Mr. Owen Harris</td>\n      <td>male</td>\n      <td>22.0</td>\n      <td>1</td>\n      <td>0</td>\n      <td>A/5 21171</td>\n      <td>7.2500</td>\n      <td>NaN</td>\n      <td>S</td>\n    </tr>\n    <tr>\n      <th>1</th>\n      <td>2</td>\n      <td>1</td>\n      <td>1</td>\n      <td>Cumings, Mrs. John Bradley (Florence Briggs Th...</td>\n      <td>female</td>\n      <td>38.0</td>\n      <td>1</td>\n      <td>0</td>\n      <td>PC 17599</td>\n      <td>71.2833</td>\n      <td>C85</td>\n      <td>C</td>\n    </tr>\n    <tr>\n      <th>2</th>\n      <td>3</td>\n      <td>1</td>\n      <td>3</td>\n      <td>Heikkinen, Miss. Laina</td>\n      <td>female</td>\n      <td>26.0</td>\n      <td>0</td>\n      <td>0</td>\n      <td>STON/O2. 3101282</td>\n      <td>7.9250</td>\n      <td>NaN</td>\n      <td>S</td>\n    </tr>\n    <tr>\n      <th>3</th>\n      <td>4</td>\n      <td>1</td>\n      <td>1</td>\n      <td>Futrelle, Mrs. Jacques Heath (Lily May Peel)</td>\n      <td>female</td>\n      <td>35.0</td>\n      <td>1</td>\n      <td>0</td>\n      <td>113803</td>\n      <td>53.1000</td>\n      <td>C123</td>\n      <td>S</td>\n    </tr>\n    <tr>\n      <th>4</th>\n      <td>5</td>\n      <td>0</td>\n      <td>3</td>\n      <td>Allen, Mr. William Henry</td>\n      <td>male</td>\n      <td>35.0</td>\n      <td>0</td>\n      <td>0</td>\n      <td>373450</td>\n      <td>8.0500</td>\n      <td>NaN</td>\n      <td>S</td>\n    </tr>\n  </tbody>\n</table>\n</div>"
     },
     "metadata": {},
     "execution_count": 26
    }
   ],
   "source": [
    "age_no_na = titanic[titanic[\"Age\"].notna()]\n",
    "age_no_na.head()"
   ]
  },
  {
   "cell_type": "markdown",
   "metadata": {
    "colab_type": "text",
    "id": "HKjsN1DYhyWM"
   },
   "source": [
    "By comparing shapes, it looks like we removed over 100 rows that contained `NaN`."
   ]
  },
  {
   "cell_type": "code",
   "execution_count": 27,
   "metadata": {
    "colab": {
     "base_uri": "https://localhost:8080/",
     "height": 34
    },
    "colab_type": "code",
    "executionInfo": {
     "elapsed": 478,
     "status": "ok",
     "timestamp": 1588257506674,
     "user": {
      "displayName": "Richard Alexander",
      "photoUrl": "https://lh3.googleusercontent.com/a-/AOh14Ghn6F8r3pF0SntsFbxkmhRaWso_lCd_s8ePdlKY_g=s64",
      "userId": "13543676537814105778"
     },
     "user_tz": 300
    },
    "id": "S5ApQrUNhgc1",
    "outputId": "790f74db-ff91-4d84-c54d-ba3f86b4cf27"
   },
   "outputs": [
    {
     "output_type": "execute_result",
     "data": {
      "text/plain": "(891, 12)"
     },
     "metadata": {},
     "execution_count": 27
    }
   ],
   "source": [
    "# Original dataframe shape\n",
    "titanic.shape"
   ]
  },
  {
   "cell_type": "code",
   "execution_count": 28,
   "metadata": {
    "colab": {
     "base_uri": "https://localhost:8080/",
     "height": 34
    },
    "colab_type": "code",
    "executionInfo": {
     "elapsed": 418,
     "status": "ok",
     "timestamp": 1588257514123,
     "user": {
      "displayName": "Richard Alexander",
      "photoUrl": "https://lh3.googleusercontent.com/a-/AOh14Ghn6F8r3pF0SntsFbxkmhRaWso_lCd_s8ePdlKY_g=s64",
      "userId": "13543676537814105778"
     },
     "user_tz": 300
    },
    "id": "1b4PIOwHhkNG",
    "outputId": "9a663516-36f0-4330-901d-913851bbe101"
   },
   "outputs": [
    {
     "output_type": "execute_result",
     "data": {
      "text/plain": "(714, 12)"
     },
     "metadata": {},
     "execution_count": 28
    }
   ],
   "source": [
    "# New dataframe shape\n",
    "age_no_na.shape"
   ]
  },
  {
   "cell_type": "markdown",
   "metadata": {
    "colab_type": "text",
    "id": "-D_GIATtmIuq"
   },
   "source": [
    "# Selecting Rows and Columns\n",
    "\n",
    "![Selecting Rows and Columns](https://drive.google.com/uc?id=1iWzdqmL2IUYwHS3ZXdKDRqiq2ait31qk)\n",
    "\n",
    "Pandas has two functions `iloc` and `loc` that enable selection of rows and columns at the same time.\n",
    "\n",
    "- `iloc` selects rows and columns based on indexes (numbers)\n",
    "- `loc` selects rows and columns based on labels (text)\n",
    "\n",
    "Both locators select using the format `[rows, columns]`."
   ]
  },
  {
   "cell_type": "markdown",
   "metadata": {
    "colab_type": "text",
    "id": "g__5SnZbntTS"
   },
   "source": [
    "# Select with `iloc`\n",
    "\n",
    "When we know the **indexes** of the data we're interested, we can use `iloc`."
   ]
  },
  {
   "cell_type": "code",
   "execution_count": 29,
   "metadata": {
    "colab": {
     "base_uri": "https://localhost:8080/",
     "height": 204
    },
    "colab_type": "code",
    "executionInfo": {
     "elapsed": 439,
     "status": "ok",
     "timestamp": 1588259442689,
     "user": {
      "displayName": "Richard Alexander",
      "photoUrl": "https://lh3.googleusercontent.com/a-/AOh14Ghn6F8r3pF0SntsFbxkmhRaWso_lCd_s8ePdlKY_g=s64",
      "userId": "13543676537814105778"
     },
     "user_tz": 300
    },
    "id": "eHE2_osOhmCm",
    "outputId": "494457a2-a095-4c80-cabd-064dea1228e0"
   },
   "outputs": [
    {
     "output_type": "execute_result",
     "data": {
      "text/plain": "   PassengerId  Survived  Pclass  \\\n0            1         0       3   \n1            2         1       1   \n2            3         1       3   \n3            4         1       1   \n4            5         0       3   \n\n                                                Name     Sex   Age  SibSp  \\\n0                            Braund, Mr. Owen Harris    male  22.0      1   \n1  Cumings, Mrs. John Bradley (Florence Briggs Th...  female  38.0      1   \n2                             Heikkinen, Miss. Laina  female  26.0      0   \n3       Futrelle, Mrs. Jacques Heath (Lily May Peel)  female  35.0      1   \n4                           Allen, Mr. William Henry    male  35.0      0   \n\n   Parch            Ticket     Fare Cabin Embarked  \n0      0         A/5 21171   7.2500   NaN        S  \n1      0          PC 17599  71.2833   C85        C  \n2      0  STON/O2. 3101282   7.9250   NaN        S  \n3      0            113803  53.1000  C123        S  \n4      0            373450   8.0500   NaN        S  ",
      "text/html": "<div>\n<style scoped>\n    .dataframe tbody tr th:only-of-type {\n        vertical-align: middle;\n    }\n\n    .dataframe tbody tr th {\n        vertical-align: top;\n    }\n\n    .dataframe thead th {\n        text-align: right;\n    }\n</style>\n<table border=\"1\" class=\"dataframe\">\n  <thead>\n    <tr style=\"text-align: right;\">\n      <th></th>\n      <th>PassengerId</th>\n      <th>Survived</th>\n      <th>Pclass</th>\n      <th>Name</th>\n      <th>Sex</th>\n      <th>Age</th>\n      <th>SibSp</th>\n      <th>Parch</th>\n      <th>Ticket</th>\n      <th>Fare</th>\n      <th>Cabin</th>\n      <th>Embarked</th>\n    </tr>\n  </thead>\n  <tbody>\n    <tr>\n      <th>0</th>\n      <td>1</td>\n      <td>0</td>\n      <td>3</td>\n      <td>Braund, Mr. Owen Harris</td>\n      <td>male</td>\n      <td>22.0</td>\n      <td>1</td>\n      <td>0</td>\n      <td>A/5 21171</td>\n      <td>7.2500</td>\n      <td>NaN</td>\n      <td>S</td>\n    </tr>\n    <tr>\n      <th>1</th>\n      <td>2</td>\n      <td>1</td>\n      <td>1</td>\n      <td>Cumings, Mrs. John Bradley (Florence Briggs Th...</td>\n      <td>female</td>\n      <td>38.0</td>\n      <td>1</td>\n      <td>0</td>\n      <td>PC 17599</td>\n      <td>71.2833</td>\n      <td>C85</td>\n      <td>C</td>\n    </tr>\n    <tr>\n      <th>2</th>\n      <td>3</td>\n      <td>1</td>\n      <td>3</td>\n      <td>Heikkinen, Miss. Laina</td>\n      <td>female</td>\n      <td>26.0</td>\n      <td>0</td>\n      <td>0</td>\n      <td>STON/O2. 3101282</td>\n      <td>7.9250</td>\n      <td>NaN</td>\n      <td>S</td>\n    </tr>\n    <tr>\n      <th>3</th>\n      <td>4</td>\n      <td>1</td>\n      <td>1</td>\n      <td>Futrelle, Mrs. Jacques Heath (Lily May Peel)</td>\n      <td>female</td>\n      <td>35.0</td>\n      <td>1</td>\n      <td>0</td>\n      <td>113803</td>\n      <td>53.1000</td>\n      <td>C123</td>\n      <td>S</td>\n    </tr>\n    <tr>\n      <th>4</th>\n      <td>5</td>\n      <td>0</td>\n      <td>3</td>\n      <td>Allen, Mr. William Henry</td>\n      <td>male</td>\n      <td>35.0</td>\n      <td>0</td>\n      <td>0</td>\n      <td>373450</td>\n      <td>8.0500</td>\n      <td>NaN</td>\n      <td>S</td>\n    </tr>\n  </tbody>\n</table>\n</div>"
     },
     "metadata": {},
     "execution_count": 29
    }
   ],
   "source": [
    "# Remember what our titanic dataframe looks like\n",
    "titanic.head()"
   ]
  },
  {
   "cell_type": "markdown",
   "metadata": {
    "colab_type": "text",
    "id": "_qz7hU3GpSlx"
   },
   "source": [
    "What if we want to inspect only the first 3 rows and the first 4 columns?"
   ]
  },
  {
   "cell_type": "code",
   "execution_count": 30,
   "metadata": {
    "colab": {
     "base_uri": "https://localhost:8080/",
     "height": 142
    },
    "colab_type": "code",
    "executionInfo": {
     "elapsed": 482,
     "status": "ok",
     "timestamp": 1588259814544,
     "user": {
      "displayName": "Richard Alexander",
      "photoUrl": "https://lh3.googleusercontent.com/a-/AOh14Ghn6F8r3pF0SntsFbxkmhRaWso_lCd_s8ePdlKY_g=s64",
      "userId": "13543676537814105778"
     },
     "user_tz": 300
    },
    "id": "Y4y9z32Io5rC",
    "outputId": "b5d06ed0-5a57-41ac-82b3-7d7d0ad86b0b"
   },
   "outputs": [
    {
     "output_type": "execute_result",
     "data": {
      "text/plain": "   PassengerId  Survived  Pclass  \\\n0            1         0       3   \n1            2         1       1   \n2            3         1       3   \n\n                                                Name  \n0                            Braund, Mr. Owen Harris  \n1  Cumings, Mrs. John Bradley (Florence Briggs Th...  \n2                             Heikkinen, Miss. Laina  ",
      "text/html": "<div>\n<style scoped>\n    .dataframe tbody tr th:only-of-type {\n        vertical-align: middle;\n    }\n\n    .dataframe tbody tr th {\n        vertical-align: top;\n    }\n\n    .dataframe thead th {\n        text-align: right;\n    }\n</style>\n<table border=\"1\" class=\"dataframe\">\n  <thead>\n    <tr style=\"text-align: right;\">\n      <th></th>\n      <th>PassengerId</th>\n      <th>Survived</th>\n      <th>Pclass</th>\n      <th>Name</th>\n    </tr>\n  </thead>\n  <tbody>\n    <tr>\n      <th>0</th>\n      <td>1</td>\n      <td>0</td>\n      <td>3</td>\n      <td>Braund, Mr. Owen Harris</td>\n    </tr>\n    <tr>\n      <th>1</th>\n      <td>2</td>\n      <td>1</td>\n      <td>1</td>\n      <td>Cumings, Mrs. John Bradley (Florence Briggs Th...</td>\n    </tr>\n    <tr>\n      <th>2</th>\n      <td>3</td>\n      <td>1</td>\n      <td>3</td>\n      <td>Heikkinen, Miss. Laina</td>\n    </tr>\n  </tbody>\n</table>\n</div>"
     },
     "metadata": {},
     "execution_count": 30
    }
   ],
   "source": [
    "# Select with iloc using the format [row_range, column_range]\n",
    "subset1 = titanic.iloc[0:3, 0:4]\n",
    "subset1"
   ]
  },
  {
   "cell_type": "markdown",
   "metadata": {
    "colab_type": "text",
    "id": "NCl-bnOCqtHZ"
   },
   "source": [
    "Select the last 4 rows and the last 2 columns:"
   ]
  },
  {
   "cell_type": "code",
   "execution_count": 31,
   "metadata": {
    "colab": {
     "base_uri": "https://localhost:8080/",
     "height": 173
    },
    "colab_type": "code",
    "executionInfo": {
     "elapsed": 417,
     "status": "ok",
     "timestamp": 1588260000114,
     "user": {
      "displayName": "Richard Alexander",
      "photoUrl": "https://lh3.googleusercontent.com/a-/AOh14Ghn6F8r3pF0SntsFbxkmhRaWso_lCd_s8ePdlKY_g=s64",
      "userId": "13543676537814105778"
     },
     "user_tz": 300
    },
    "id": "mzU6PsG3qOWH",
    "outputId": "bc3d3a1a-4d64-4ea3-ea3e-5e21e01a9973"
   },
   "outputs": [
    {
     "output_type": "execute_result",
     "data": {
      "text/plain": "    Cabin Embarked\n887   B42        S\n888   NaN        S\n889  C148        C\n890   NaN        Q",
      "text/html": "<div>\n<style scoped>\n    .dataframe tbody tr th:only-of-type {\n        vertical-align: middle;\n    }\n\n    .dataframe tbody tr th {\n        vertical-align: top;\n    }\n\n    .dataframe thead th {\n        text-align: right;\n    }\n</style>\n<table border=\"1\" class=\"dataframe\">\n  <thead>\n    <tr style=\"text-align: right;\">\n      <th></th>\n      <th>Cabin</th>\n      <th>Embarked</th>\n    </tr>\n  </thead>\n  <tbody>\n    <tr>\n      <th>887</th>\n      <td>B42</td>\n      <td>S</td>\n    </tr>\n    <tr>\n      <th>888</th>\n      <td>NaN</td>\n      <td>S</td>\n    </tr>\n    <tr>\n      <th>889</th>\n      <td>C148</td>\n      <td>C</td>\n    </tr>\n    <tr>\n      <th>890</th>\n      <td>NaN</td>\n      <td>Q</td>\n    </tr>\n  </tbody>\n</table>\n</div>"
     },
     "metadata": {},
     "execution_count": 31
    }
   ],
   "source": [
    "# Select with iloc using the format [row_range, column_range]\n",
    "subset2 = titanic.iloc[-4:, -2:]\n",
    "subset2"
   ]
  },
  {
   "cell_type": "markdown",
   "metadata": {
    "colab_type": "text",
    "id": "xhPamLXErQMT"
   },
   "source": [
    "Select rows and columns in the middle of the dataframe:"
   ]
  },
  {
   "cell_type": "code",
   "execution_count": 32,
   "metadata": {
    "colab": {
     "base_uri": "https://localhost:8080/",
     "height": 297
    },
    "colab_type": "code",
    "executionInfo": {
     "elapsed": 420,
     "status": "ok",
     "timestamp": 1588260102951,
     "user": {
      "displayName": "Richard Alexander",
      "photoUrl": "https://lh3.googleusercontent.com/a-/AOh14Ghn6F8r3pF0SntsFbxkmhRaWso_lCd_s8ePdlKY_g=s64",
      "userId": "13543676537814105778"
     },
     "user_tz": 300
    },
    "id": "KVElQozRrE-D",
    "outputId": "97a5c3c3-bf64-4c59-b24b-8a1107fe8b36"
   },
   "outputs": [
    {
     "output_type": "execute_result",
     "data": {
      "text/plain": "     Age  SibSp\n33  66.0      0\n34  28.0      1\n35  42.0      1\n36   NaN      0\n37  21.0      0\n38  18.0      2\n39  14.0      1\n40  40.0      1",
      "text/html": "<div>\n<style scoped>\n    .dataframe tbody tr th:only-of-type {\n        vertical-align: middle;\n    }\n\n    .dataframe tbody tr th {\n        vertical-align: top;\n    }\n\n    .dataframe thead th {\n        text-align: right;\n    }\n</style>\n<table border=\"1\" class=\"dataframe\">\n  <thead>\n    <tr style=\"text-align: right;\">\n      <th></th>\n      <th>Age</th>\n      <th>SibSp</th>\n    </tr>\n  </thead>\n  <tbody>\n    <tr>\n      <th>33</th>\n      <td>66.0</td>\n      <td>0</td>\n    </tr>\n    <tr>\n      <th>34</th>\n      <td>28.0</td>\n      <td>1</td>\n    </tr>\n    <tr>\n      <th>35</th>\n      <td>42.0</td>\n      <td>1</td>\n    </tr>\n    <tr>\n      <th>36</th>\n      <td>NaN</td>\n      <td>0</td>\n    </tr>\n    <tr>\n      <th>37</th>\n      <td>21.0</td>\n      <td>0</td>\n    </tr>\n    <tr>\n      <th>38</th>\n      <td>18.0</td>\n      <td>2</td>\n    </tr>\n    <tr>\n      <th>39</th>\n      <td>14.0</td>\n      <td>1</td>\n    </tr>\n    <tr>\n      <th>40</th>\n      <td>40.0</td>\n      <td>1</td>\n    </tr>\n  </tbody>\n</table>\n</div>"
     },
     "metadata": {},
     "execution_count": 32
    }
   ],
   "source": [
    "# Select with iloc using the format [row_range, column_range]\n",
    "subset2 = titanic.iloc[33:41, 5:7]\n",
    "subset2"
   ]
  },
  {
   "cell_type": "markdown",
   "metadata": {
    "colab_type": "text",
    "id": "befTdHHZ2VYz"
   },
   "source": [
    "Select specific rows and columns by passing a list of numbers to `iloc`.\n"
   ]
  },
  {
   "cell_type": "code",
   "execution_count": 33,
   "metadata": {
    "colab": {
     "base_uri": "https://localhost:8080/",
     "height": 173
    },
    "colab_type": "code",
    "executionInfo": {
     "elapsed": 425,
     "status": "ok",
     "timestamp": 1588263035755,
     "user": {
      "displayName": "Richard Alexander",
      "photoUrl": "https://lh3.googleusercontent.com/a-/AOh14Ghn6F8r3pF0SntsFbxkmhRaWso_lCd_s8ePdlKY_g=s64",
      "userId": "13543676537814105778"
     },
     "user_tz": 300
    },
    "id": "lNNomLSU2iVP",
    "outputId": "cf954ff2-6f05-4316-c073-af0aafe052e6"
   },
   "outputs": [
    {
     "output_type": "execute_result",
     "data": {
      "text/plain": "    Survived     Sex  SibSp\n1          1  female      1\n3          1  female      1\n8          1  female      0\n12         0    male      0",
      "text/html": "<div>\n<style scoped>\n    .dataframe tbody tr th:only-of-type {\n        vertical-align: middle;\n    }\n\n    .dataframe tbody tr th {\n        vertical-align: top;\n    }\n\n    .dataframe thead th {\n        text-align: right;\n    }\n</style>\n<table border=\"1\" class=\"dataframe\">\n  <thead>\n    <tr style=\"text-align: right;\">\n      <th></th>\n      <th>Survived</th>\n      <th>Sex</th>\n      <th>SibSp</th>\n    </tr>\n  </thead>\n  <tbody>\n    <tr>\n      <th>1</th>\n      <td>1</td>\n      <td>female</td>\n      <td>1</td>\n    </tr>\n    <tr>\n      <th>3</th>\n      <td>1</td>\n      <td>female</td>\n      <td>1</td>\n    </tr>\n    <tr>\n      <th>8</th>\n      <td>1</td>\n      <td>female</td>\n      <td>0</td>\n    </tr>\n    <tr>\n      <th>12</th>\n      <td>0</td>\n      <td>male</td>\n      <td>0</td>\n    </tr>\n  </tbody>\n</table>\n</div>"
     },
     "metadata": {},
     "execution_count": 33
    }
   ],
   "source": [
    "# Select with iloc using the format [rows_list, columns_list]\n",
    "titanic.iloc[[1,3,8,12], [1,4,6]]"
   ]
  },
  {
   "cell_type": "markdown",
   "metadata": {
    "colab_type": "text",
    "id": "9G1UVHBVsFII"
   },
   "source": [
    "# Select with `loc`\n",
    "\n",
    "When we know the **labels** of the data we're interested, we can use `loc`."
   ]
  },
  {
   "cell_type": "code",
   "execution_count": 59,
   "metadata": {
    "colab": {
     "base_uri": "https://localhost:8080/",
     "height": 204
    },
    "colab_type": "code",
    "executionInfo": {
     "elapsed": 513,
     "status": "ok",
     "timestamp": 1588261968104,
     "user": {
      "displayName": "Richard Alexander",
      "photoUrl": "https://lh3.googleusercontent.com/a-/AOh14Ghn6F8r3pF0SntsFbxkmhRaWso_lCd_s8ePdlKY_g=s64",
      "userId": "13543676537814105778"
     },
     "user_tz": 300
    },
    "id": "WK1n6m_treE3",
    "outputId": "8bdb0096-530c-422a-cd4c-adfeb456a90a"
   },
   "outputs": [
    {
     "output_type": "error",
     "ename": "TypeError",
     "evalue": "data type \"boolean\" not understood",
     "traceback": [
      "\u001b[1;31m---------------------------------------------------------------------------\u001b[0m",
      "\u001b[1;31mTypeError\u001b[0m                                 Traceback (most recent call last)",
      "\u001b[1;32m<ipython-input-59-79065d1e6c69>\u001b[0m in \u001b[0;36m<module>\u001b[1;34m\u001b[0m\n\u001b[0;32m      4\u001b[0m                    \u001b[1;34m'fractions'\u001b[0m\u001b[1;33m:\u001b[0m \u001b[1;33m[\u001b[0m\u001b[1;36m0.481236\u001b[0m\u001b[1;33m,\u001b[0m\u001b[1;36m0.758691\u001b[0m\u001b[1;33m,\u001b[0m \u001b[1;36m0.977380\u001b[0m\u001b[1;33m,\u001b[0m \u001b[1;36m0.992931\u001b[0m\u001b[1;33m,\u001b[0m \u001b[0mnp\u001b[0m\u001b[1;33m.\u001b[0m\u001b[0mnan\u001b[0m\u001b[1;33m]\u001b[0m\u001b[1;33m,\u001b[0m\u001b[1;33m\u001b[0m\u001b[0m\n\u001b[0;32m      5\u001b[0m                    \u001b[1;34m'category'\u001b[0m\u001b[1;33m:\u001b[0m \u001b[0mpd\u001b[0m\u001b[1;33m.\u001b[0m\u001b[0mCategorical\u001b[0m\u001b[1;33m(\u001b[0m\u001b[1;33m[\u001b[0m\u001b[1;34m\"test\"\u001b[0m\u001b[1;33m,\u001b[0m \u001b[1;34m\"train\"\u001b[0m\u001b[1;33m,\u001b[0m \u001b[1;34m\"test\"\u001b[0m\u001b[1;33m,\u001b[0m \u001b[1;34m\"train\"\u001b[0m\u001b[1;33m,\u001b[0m \u001b[1;34m\"test\"\u001b[0m\u001b[1;33m]\u001b[0m\u001b[1;33m)\u001b[0m\u001b[1;33m,\u001b[0m\u001b[1;33m\u001b[0m\u001b[0m\n\u001b[1;32m----> 6\u001b[1;33m                    'boolean': pd.array([True, False, False, False, True], dtype='boolean')},\n\u001b[0m\u001b[0;32m      7\u001b[0m                   index=['a','b','c','d', 'e'])\n\u001b[0;32m      8\u001b[0m \u001b[0mdf\u001b[0m\u001b[1;33m\u001b[0m\u001b[0m\n",
      "\u001b[1;32m~\\AppData\\Local\\conda\\conda\\envs\\bid_match\\lib\\site-packages\\pandas\\core\\arrays\\array_.py\u001b[0m in \u001b[0;36marray\u001b[1;34m(data, dtype, copy)\u001b[0m\n\u001b[0;32m    278\u001b[0m         \u001b[1;32mreturn\u001b[0m \u001b[0mTimedeltaArray\u001b[0m\u001b[1;33m.\u001b[0m\u001b[0m_from_sequence\u001b[0m\u001b[1;33m(\u001b[0m\u001b[0mdata\u001b[0m\u001b[1;33m,\u001b[0m \u001b[0mdtype\u001b[0m\u001b[1;33m=\u001b[0m\u001b[0mdtype\u001b[0m\u001b[1;33m,\u001b[0m \u001b[0mcopy\u001b[0m\u001b[1;33m=\u001b[0m\u001b[0mcopy\u001b[0m\u001b[1;33m)\u001b[0m\u001b[1;33m\u001b[0m\u001b[0m\n\u001b[0;32m    279\u001b[0m \u001b[1;33m\u001b[0m\u001b[0m\n\u001b[1;32m--> 280\u001b[1;33m     \u001b[0mresult\u001b[0m \u001b[1;33m=\u001b[0m \u001b[0mPandasArray\u001b[0m\u001b[1;33m.\u001b[0m\u001b[0m_from_sequence\u001b[0m\u001b[1;33m(\u001b[0m\u001b[0mdata\u001b[0m\u001b[1;33m,\u001b[0m \u001b[0mdtype\u001b[0m\u001b[1;33m=\u001b[0m\u001b[0mdtype\u001b[0m\u001b[1;33m,\u001b[0m \u001b[0mcopy\u001b[0m\u001b[1;33m=\u001b[0m\u001b[0mcopy\u001b[0m\u001b[1;33m)\u001b[0m\u001b[1;33m\u001b[0m\u001b[0m\n\u001b[0m\u001b[0;32m    281\u001b[0m     \u001b[1;32mreturn\u001b[0m \u001b[0mresult\u001b[0m\u001b[1;33m\u001b[0m\u001b[0m\n",
      "\u001b[1;32m~\\AppData\\Local\\conda\\conda\\envs\\bid_match\\lib\\site-packages\\pandas\\core\\arrays\\numpy_.py\u001b[0m in \u001b[0;36m_from_sequence\u001b[1;34m(cls, scalars, dtype, copy)\u001b[0m\n\u001b[0;32m    140\u001b[0m             \u001b[0mdtype\u001b[0m \u001b[1;33m=\u001b[0m \u001b[0mdtype\u001b[0m\u001b[1;33m.\u001b[0m\u001b[0m_dtype\u001b[0m\u001b[1;33m\u001b[0m\u001b[0m\n\u001b[0;32m    141\u001b[0m \u001b[1;33m\u001b[0m\u001b[0m\n\u001b[1;32m--> 142\u001b[1;33m         \u001b[0mresult\u001b[0m \u001b[1;33m=\u001b[0m \u001b[0mnp\u001b[0m\u001b[1;33m.\u001b[0m\u001b[0masarray\u001b[0m\u001b[1;33m(\u001b[0m\u001b[0mscalars\u001b[0m\u001b[1;33m,\u001b[0m \u001b[0mdtype\u001b[0m\u001b[1;33m=\u001b[0m\u001b[0mdtype\u001b[0m\u001b[1;33m)\u001b[0m\u001b[1;33m\u001b[0m\u001b[0m\n\u001b[0m\u001b[0;32m    143\u001b[0m         \u001b[1;32mif\u001b[0m \u001b[0mcopy\u001b[0m \u001b[1;32mand\u001b[0m \u001b[0mresult\u001b[0m \u001b[1;32mis\u001b[0m \u001b[0mscalars\u001b[0m\u001b[1;33m:\u001b[0m\u001b[1;33m\u001b[0m\u001b[0m\n\u001b[0;32m    144\u001b[0m             \u001b[0mresult\u001b[0m \u001b[1;33m=\u001b[0m \u001b[0mresult\u001b[0m\u001b[1;33m.\u001b[0m\u001b[0mcopy\u001b[0m\u001b[1;33m(\u001b[0m\u001b[1;33m)\u001b[0m\u001b[1;33m\u001b[0m\u001b[0m\n",
      "\u001b[1;32m~\\AppData\\Local\\conda\\conda\\envs\\bid_match\\lib\\site-packages\\numpy\\core\\numeric.py\u001b[0m in \u001b[0;36masarray\u001b[1;34m(a, dtype, order)\u001b[0m\n\u001b[0;32m    536\u001b[0m \u001b[1;33m\u001b[0m\u001b[0m\n\u001b[0;32m    537\u001b[0m     \"\"\"\n\u001b[1;32m--> 538\u001b[1;33m     \u001b[1;32mreturn\u001b[0m \u001b[0marray\u001b[0m\u001b[1;33m(\u001b[0m\u001b[0ma\u001b[0m\u001b[1;33m,\u001b[0m \u001b[0mdtype\u001b[0m\u001b[1;33m,\u001b[0m \u001b[0mcopy\u001b[0m\u001b[1;33m=\u001b[0m\u001b[1;32mFalse\u001b[0m\u001b[1;33m,\u001b[0m \u001b[0morder\u001b[0m\u001b[1;33m=\u001b[0m\u001b[0morder\u001b[0m\u001b[1;33m)\u001b[0m\u001b[1;33m\u001b[0m\u001b[0m\n\u001b[0m\u001b[0;32m    539\u001b[0m \u001b[1;33m\u001b[0m\u001b[0m\n\u001b[0;32m    540\u001b[0m \u001b[1;33m\u001b[0m\u001b[0m\n",
      "\u001b[1;31mTypeError\u001b[0m: data type \"boolean\" not understood"
     ]
    }
   ],
   "source": [
    "# Create a sample Dataframe with row labels\n",
    "df = pd.DataFrame({'date': pd.date_range('2020-01-01', periods=5),\n",
    "                   'numbers': [np.nan,1,8,5,1],\n",
    "                   'fractions': [0.481236,0.758691, 0.977380, 0.992931,\tnp.nan],\n",
    "                   'category': pd.Categorical([\"test\", \"train\", \"test\", \"train\", \"test\"]),\n",
    "                   'boolean': pd.array([True, False, False, False, True], dtype='boolean')},\n",
    "                  index=['a','b','c','d', 'e'])\n",
    "df"
   ]
  },
  {
   "cell_type": "markdown",
   "metadata": {
    "colab_type": "text",
    "id": "7j03cTwPzHjS"
   },
   "source": [
    "Selecting a single row and a single column returns the **value** at that location."
   ]
  },
  {
   "cell_type": "code",
   "execution_count": 35,
   "metadata": {
    "colab": {
     "base_uri": "https://localhost:8080/",
     "height": 34
    },
    "colab_type": "code",
    "executionInfo": {
     "elapsed": 615,
     "status": "ok",
     "timestamp": 1588262159868,
     "user": {
      "displayName": "Richard Alexander",
      "photoUrl": "https://lh3.googleusercontent.com/a-/AOh14Ghn6F8r3pF0SntsFbxkmhRaWso_lCd_s8ePdlKY_g=s64",
      "userId": "13543676537814105778"
     },
     "user_tz": 300
    },
    "id": "Tst2TJbAylZN",
    "outputId": "3fd43c5a-cd14-44e1-f760-92b67307d812"
   },
   "outputs": [
    {
     "output_type": "error",
     "ename": "NameError",
     "evalue": "name 'df' is not defined",
     "traceback": [
      "\u001b[1;31m---------------------------------------------------------------------------\u001b[0m",
      "\u001b[1;31mNameError\u001b[0m                                 Traceback (most recent call last)",
      "\u001b[1;32m<ipython-input-35-8d04bb9e062f>\u001b[0m in \u001b[0;36m<module>\u001b[1;34m\u001b[0m\n\u001b[1;32m----> 1\u001b[1;33m \u001b[0mdf\u001b[0m\u001b[1;33m.\u001b[0m\u001b[0mloc\u001b[0m\u001b[1;33m[\u001b[0m\u001b[1;34m'a'\u001b[0m\u001b[1;33m,\u001b[0m\u001b[1;34m'category'\u001b[0m\u001b[1;33m]\u001b[0m\u001b[1;33m\u001b[0m\u001b[0m\n\u001b[0m",
      "\u001b[1;31mNameError\u001b[0m: name 'df' is not defined"
     ]
    }
   ],
   "source": [
    "df.loc['a','category']"
   ]
  },
  {
   "cell_type": "code",
   "execution_count": 36,
   "metadata": {
    "colab": {
     "base_uri": "https://localhost:8080/",
     "height": 34
    },
    "colab_type": "code",
    "executionInfo": {
     "elapsed": 579,
     "status": "ok",
     "timestamp": 1588262207128,
     "user": {
      "displayName": "Richard Alexander",
      "photoUrl": "https://lh3.googleusercontent.com/a-/AOh14Ghn6F8r3pF0SntsFbxkmhRaWso_lCd_s8ePdlKY_g=s64",
      "userId": "13543676537814105778"
     },
     "user_tz": 300
    },
    "id": "7MzBLV0wzUNG",
    "outputId": "ed39e18f-d365-4223-a834-326f4435e01d"
   },
   "outputs": [
    {
     "output_type": "error",
     "ename": "NameError",
     "evalue": "name 'df' is not defined",
     "traceback": [
      "\u001b[1;31m---------------------------------------------------------------------------\u001b[0m",
      "\u001b[1;31mNameError\u001b[0m                                 Traceback (most recent call last)",
      "\u001b[1;32m<ipython-input-36-c62c66c8ac19>\u001b[0m in \u001b[0;36m<module>\u001b[1;34m\u001b[0m\n\u001b[1;32m----> 1\u001b[1;33m \u001b[0mdf\u001b[0m\u001b[1;33m.\u001b[0m\u001b[0mloc\u001b[0m\u001b[1;33m[\u001b[0m\u001b[1;34m'd'\u001b[0m\u001b[1;33m,\u001b[0m\u001b[1;34m'numbers'\u001b[0m\u001b[1;33m]\u001b[0m\u001b[1;33m\u001b[0m\u001b[0m\n\u001b[0m",
      "\u001b[1;31mNameError\u001b[0m: name 'df' is not defined"
     ]
    }
   ],
   "source": [
    "df.loc['d','numbers']"
   ]
  },
  {
   "cell_type": "markdown",
   "metadata": {
    "colab_type": "text",
    "id": "9u49JsKeznQ5"
   },
   "source": [
    "Selecting a range of rows and a single column returns a `Series`."
   ]
  },
  {
   "cell_type": "code",
   "execution_count": 37,
   "metadata": {
    "colab": {
     "base_uri": "https://localhost:8080/",
     "height": 85
    },
    "colab_type": "code",
    "executionInfo": {
     "elapsed": 492,
     "status": "ok",
     "timestamp": 1588262428975,
     "user": {
      "displayName": "Richard Alexander",
      "photoUrl": "https://lh3.googleusercontent.com/a-/AOh14Ghn6F8r3pF0SntsFbxkmhRaWso_lCd_s8ePdlKY_g=s64",
      "userId": "13543676537814105778"
     },
     "user_tz": 300
    },
    "id": "Qmooh8NIzfwE",
    "outputId": "fbb68b33-47c0-40f1-e885-1a6c421007f8"
   },
   "outputs": [
    {
     "output_type": "error",
     "ename": "NameError",
     "evalue": "name 'df' is not defined",
     "traceback": [
      "\u001b[1;31m---------------------------------------------------------------------------\u001b[0m",
      "\u001b[1;31mNameError\u001b[0m                                 Traceback (most recent call last)",
      "\u001b[1;32m<ipython-input-37-46c50f4d35fc>\u001b[0m in \u001b[0;36m<module>\u001b[1;34m\u001b[0m\n\u001b[1;32m----> 1\u001b[1;33m \u001b[0mdf\u001b[0m\u001b[1;33m.\u001b[0m\u001b[0mloc\u001b[0m\u001b[1;33m[\u001b[0m\u001b[1;34m'c'\u001b[0m\u001b[1;33m:\u001b[0m\u001b[1;34m'e'\u001b[0m\u001b[1;33m,\u001b[0m \u001b[1;34m'fractions'\u001b[0m\u001b[1;33m]\u001b[0m\u001b[1;33m\u001b[0m\u001b[0m\n\u001b[0m",
      "\u001b[1;31mNameError\u001b[0m: name 'df' is not defined"
     ]
    }
   ],
   "source": [
    "df.loc['c':'e', 'fractions']"
   ]
  },
  {
   "cell_type": "markdown",
   "metadata": {
    "colab_type": "text",
    "id": "A2A5isME0iZD"
   },
   "source": [
    "Selecting a single row and a range of columns also returns a `Series`."
   ]
  },
  {
   "cell_type": "code",
   "execution_count": 38,
   "metadata": {
    "colab": {
     "base_uri": "https://localhost:8080/",
     "height": 85
    },
    "colab_type": "code",
    "executionInfo": {
     "elapsed": 422,
     "status": "ok",
     "timestamp": 1588262518836,
     "user": {
      "displayName": "Richard Alexander",
      "photoUrl": "https://lh3.googleusercontent.com/a-/AOh14Ghn6F8r3pF0SntsFbxkmhRaWso_lCd_s8ePdlKY_g=s64",
      "userId": "13543676537814105778"
     },
     "user_tz": 300
    },
    "id": "NYsuwezy0V7v",
    "outputId": "c34817eb-ee3b-45d1-b090-ff294ba6760d"
   },
   "outputs": [
    {
     "output_type": "error",
     "ename": "NameError",
     "evalue": "name 'df' is not defined",
     "traceback": [
      "\u001b[1;31m---------------------------------------------------------------------------\u001b[0m",
      "\u001b[1;31mNameError\u001b[0m                                 Traceback (most recent call last)",
      "\u001b[1;32m<ipython-input-38-b0674715cc60>\u001b[0m in \u001b[0;36m<module>\u001b[1;34m\u001b[0m\n\u001b[1;32m----> 1\u001b[1;33m \u001b[0mdf\u001b[0m\u001b[1;33m.\u001b[0m\u001b[0mloc\u001b[0m\u001b[1;33m[\u001b[0m\u001b[1;34m'b'\u001b[0m\u001b[1;33m,\u001b[0m \u001b[1;34m'fractions'\u001b[0m\u001b[1;33m:\u001b[0m\u001b[1;34m'boolean'\u001b[0m\u001b[1;33m]\u001b[0m\u001b[1;33m\u001b[0m\u001b[0m\n\u001b[0m",
      "\u001b[1;31mNameError\u001b[0m: name 'df' is not defined"
     ]
    }
   ],
   "source": [
    "df.loc['b', 'fractions':'boolean']"
   ]
  },
  {
   "cell_type": "markdown",
   "metadata": {
    "colab_type": "text",
    "id": "KdEu7Jwv1C1O"
   },
   "source": [
    "Selecting a range of rows and columns returns a `Dataframe`."
   ]
  },
  {
   "cell_type": "code",
   "execution_count": 39,
   "metadata": {
    "colab": {
     "base_uri": "https://localhost:8080/",
     "height": 142
    },
    "colab_type": "code",
    "executionInfo": {
     "elapsed": 618,
     "status": "ok",
     "timestamp": 1588262661430,
     "user": {
      "displayName": "Richard Alexander",
      "photoUrl": "https://lh3.googleusercontent.com/a-/AOh14Ghn6F8r3pF0SntsFbxkmhRaWso_lCd_s8ePdlKY_g=s64",
      "userId": "13543676537814105778"
     },
     "user_tz": 300
    },
    "id": "CbdQcZjv0r4y",
    "outputId": "729a7b4b-4435-4551-a630-279861921f97"
   },
   "outputs": [
    {
     "output_type": "error",
     "ename": "NameError",
     "evalue": "name 'df' is not defined",
     "traceback": [
      "\u001b[1;31m---------------------------------------------------------------------------\u001b[0m",
      "\u001b[1;31mNameError\u001b[0m                                 Traceback (most recent call last)",
      "\u001b[1;32m<ipython-input-39-25153cfbc71d>\u001b[0m in \u001b[0;36m<module>\u001b[1;34m\u001b[0m\n\u001b[1;32m----> 1\u001b[1;33m \u001b[0mdf\u001b[0m\u001b[1;33m.\u001b[0m\u001b[0mloc\u001b[0m\u001b[1;33m[\u001b[0m\u001b[1;34m'a'\u001b[0m\u001b[1;33m:\u001b[0m\u001b[1;34m'c'\u001b[0m\u001b[1;33m,\u001b[0m \u001b[1;34m'numbers'\u001b[0m\u001b[1;33m:\u001b[0m\u001b[1;34m'category'\u001b[0m\u001b[1;33m]\u001b[0m\u001b[1;33m\u001b[0m\u001b[0m\n\u001b[0m",
      "\u001b[1;31mNameError\u001b[0m: name 'df' is not defined"
     ]
    }
   ],
   "source": [
    "df.loc['a':'c', 'numbers':'category']"
   ]
  },
  {
   "cell_type": "markdown",
   "metadata": {
    "colab_type": "text",
    "id": "S352i75C1it6"
   },
   "source": [
    "We can also select spcific rows and columns by passing lists of labels to `loc`."
   ]
  },
  {
   "cell_type": "code",
   "execution_count": 40,
   "metadata": {
    "colab": {
     "base_uri": "https://localhost:8080/",
     "height": 111
    },
    "colab_type": "code",
    "executionInfo": {
     "elapsed": 677,
     "status": "ok",
     "timestamp": 1588262802836,
     "user": {
      "displayName": "Richard Alexander",
      "photoUrl": "https://lh3.googleusercontent.com/a-/AOh14Ghn6F8r3pF0SntsFbxkmhRaWso_lCd_s8ePdlKY_g=s64",
      "userId": "13543676537814105778"
     },
     "user_tz": 300
    },
    "id": "28o4mF5C1OpN",
    "outputId": "a8c95544-0f91-431f-ad95-fe9330b59973"
   },
   "outputs": [
    {
     "output_type": "error",
     "ename": "NameError",
     "evalue": "name 'df' is not defined",
     "traceback": [
      "\u001b[1;31m---------------------------------------------------------------------------\u001b[0m",
      "\u001b[1;31mNameError\u001b[0m                                 Traceback (most recent call last)",
      "\u001b[1;32m<ipython-input-40-5c900a99513a>\u001b[0m in \u001b[0;36m<module>\u001b[1;34m\u001b[0m\n\u001b[1;32m----> 1\u001b[1;33m \u001b[0mdf\u001b[0m\u001b[1;33m.\u001b[0m\u001b[0mloc\u001b[0m\u001b[1;33m[\u001b[0m\u001b[1;33m[\u001b[0m\u001b[1;34m'b'\u001b[0m\u001b[1;33m,\u001b[0m \u001b[1;34m'e'\u001b[0m\u001b[1;33m]\u001b[0m\u001b[1;33m,\u001b[0m \u001b[1;33m[\u001b[0m\u001b[1;34m'date'\u001b[0m\u001b[1;33m,\u001b[0m \u001b[1;34m'numbers'\u001b[0m\u001b[1;33m,\u001b[0m \u001b[1;34m'boolean'\u001b[0m\u001b[1;33m]\u001b[0m\u001b[1;33m]\u001b[0m\u001b[1;33m\u001b[0m\u001b[0m\n\u001b[0m",
      "\u001b[1;31mNameError\u001b[0m: name 'df' is not defined"
     ]
    }
   ],
   "source": [
    "df.loc[['b', 'e'], ['date', 'numbers', 'boolean']]"
   ]
  },
  {
   "cell_type": "markdown",
   "metadata": {
    "colab_type": "text",
    "id": "tWxU0j7c3MaI"
   },
   "source": [
    "# Chaining Locators\n",
    "\n",
    "Locators can be chained together in a single expression."
   ]
  },
  {
   "cell_type": "code",
   "execution_count": 41,
   "metadata": {
    "colab": {
     "base_uri": "https://localhost:8080/",
     "height": 204
    },
    "colab_type": "code",
    "executionInfo": {
     "elapsed": 383,
     "status": "ok",
     "timestamp": 1588263371049,
     "user": {
      "displayName": "Richard Alexander",
      "photoUrl": "https://lh3.googleusercontent.com/a-/AOh14Ghn6F8r3pF0SntsFbxkmhRaWso_lCd_s8ePdlKY_g=s64",
      "userId": "13543676537814105778"
     },
     "user_tz": 300
    },
    "id": "k8G-RTxu37Mh",
    "outputId": "8283adba-c166-4291-8afb-e8cac589984f"
   },
   "outputs": [
    {
     "output_type": "execute_result",
     "data": {
      "text/plain": "   PassengerId  Survived  Pclass  \\\n0            1         0       3   \n1            2         1       1   \n2            3         1       3   \n3            4         1       1   \n4            5         0       3   \n\n                                                Name     Sex   Age  SibSp  \\\n0                            Braund, Mr. Owen Harris    male  22.0      1   \n1  Cumings, Mrs. John Bradley (Florence Briggs Th...  female  38.0      1   \n2                             Heikkinen, Miss. Laina  female  26.0      0   \n3       Futrelle, Mrs. Jacques Heath (Lily May Peel)  female  35.0      1   \n4                           Allen, Mr. William Henry    male  35.0      0   \n\n   Parch            Ticket     Fare Cabin Embarked  \n0      0         A/5 21171   7.2500   NaN        S  \n1      0          PC 17599  71.2833   C85        C  \n2      0  STON/O2. 3101282   7.9250   NaN        S  \n3      0            113803  53.1000  C123        S  \n4      0            373450   8.0500   NaN        S  ",
      "text/html": "<div>\n<style scoped>\n    .dataframe tbody tr th:only-of-type {\n        vertical-align: middle;\n    }\n\n    .dataframe tbody tr th {\n        vertical-align: top;\n    }\n\n    .dataframe thead th {\n        text-align: right;\n    }\n</style>\n<table border=\"1\" class=\"dataframe\">\n  <thead>\n    <tr style=\"text-align: right;\">\n      <th></th>\n      <th>PassengerId</th>\n      <th>Survived</th>\n      <th>Pclass</th>\n      <th>Name</th>\n      <th>Sex</th>\n      <th>Age</th>\n      <th>SibSp</th>\n      <th>Parch</th>\n      <th>Ticket</th>\n      <th>Fare</th>\n      <th>Cabin</th>\n      <th>Embarked</th>\n    </tr>\n  </thead>\n  <tbody>\n    <tr>\n      <th>0</th>\n      <td>1</td>\n      <td>0</td>\n      <td>3</td>\n      <td>Braund, Mr. Owen Harris</td>\n      <td>male</td>\n      <td>22.0</td>\n      <td>1</td>\n      <td>0</td>\n      <td>A/5 21171</td>\n      <td>7.2500</td>\n      <td>NaN</td>\n      <td>S</td>\n    </tr>\n    <tr>\n      <th>1</th>\n      <td>2</td>\n      <td>1</td>\n      <td>1</td>\n      <td>Cumings, Mrs. John Bradley (Florence Briggs Th...</td>\n      <td>female</td>\n      <td>38.0</td>\n      <td>1</td>\n      <td>0</td>\n      <td>PC 17599</td>\n      <td>71.2833</td>\n      <td>C85</td>\n      <td>C</td>\n    </tr>\n    <tr>\n      <th>2</th>\n      <td>3</td>\n      <td>1</td>\n      <td>3</td>\n      <td>Heikkinen, Miss. Laina</td>\n      <td>female</td>\n      <td>26.0</td>\n      <td>0</td>\n      <td>0</td>\n      <td>STON/O2. 3101282</td>\n      <td>7.9250</td>\n      <td>NaN</td>\n      <td>S</td>\n    </tr>\n    <tr>\n      <th>3</th>\n      <td>4</td>\n      <td>1</td>\n      <td>1</td>\n      <td>Futrelle, Mrs. Jacques Heath (Lily May Peel)</td>\n      <td>female</td>\n      <td>35.0</td>\n      <td>1</td>\n      <td>0</td>\n      <td>113803</td>\n      <td>53.1000</td>\n      <td>C123</td>\n      <td>S</td>\n    </tr>\n    <tr>\n      <th>4</th>\n      <td>5</td>\n      <td>0</td>\n      <td>3</td>\n      <td>Allen, Mr. William Henry</td>\n      <td>male</td>\n      <td>35.0</td>\n      <td>0</td>\n      <td>0</td>\n      <td>373450</td>\n      <td>8.0500</td>\n      <td>NaN</td>\n      <td>S</td>\n    </tr>\n  </tbody>\n</table>\n</div>"
     },
     "metadata": {},
     "execution_count": 41
    }
   ],
   "source": [
    "# Remember what our titanic dataframe looks like\n",
    "titanic.head()"
   ]
  },
  {
   "cell_type": "markdown",
   "metadata": {
    "colab_type": "text",
    "id": "UmjFCkHH39Pf"
   },
   "source": [
    "Find a list of row indexes with `iloc`, then select all rows for the given range of column labels with `loc`."
   ]
  },
  {
   "cell_type": "code",
   "execution_count": 42,
   "metadata": {
    "colab": {
     "base_uri": "https://localhost:8080/",
     "height": 142
    },
    "colab_type": "code",
    "executionInfo": {
     "elapsed": 417,
     "status": "ok",
     "timestamp": 1588263283200,
     "user": {
      "displayName": "Richard Alexander",
      "photoUrl": "https://lh3.googleusercontent.com/a-/AOh14Ghn6F8r3pF0SntsFbxkmhRaWso_lCd_s8ePdlKY_g=s64",
      "userId": "13543676537814105778"
     },
     "user_tz": 300
    },
    "id": "xgKgiZL813K_",
    "outputId": "77d9149b-a52a-4030-d9d5-398109775aea"
   },
   "outputs": [
    {
     "output_type": "execute_result",
     "data": {
      "text/plain": "                                                Name     Sex   Age\n1  Cumings, Mrs. John Bradley (Florence Briggs Th...  female  38.0\n3       Futrelle, Mrs. Jacques Heath (Lily May Peel)  female  35.0\n5                                   Moran, Mr. James    male   NaN",
      "text/html": "<div>\n<style scoped>\n    .dataframe tbody tr th:only-of-type {\n        vertical-align: middle;\n    }\n\n    .dataframe tbody tr th {\n        vertical-align: top;\n    }\n\n    .dataframe thead th {\n        text-align: right;\n    }\n</style>\n<table border=\"1\" class=\"dataframe\">\n  <thead>\n    <tr style=\"text-align: right;\">\n      <th></th>\n      <th>Name</th>\n      <th>Sex</th>\n      <th>Age</th>\n    </tr>\n  </thead>\n  <tbody>\n    <tr>\n      <th>1</th>\n      <td>Cumings, Mrs. John Bradley (Florence Briggs Th...</td>\n      <td>female</td>\n      <td>38.0</td>\n    </tr>\n    <tr>\n      <th>3</th>\n      <td>Futrelle, Mrs. Jacques Heath (Lily May Peel)</td>\n      <td>female</td>\n      <td>35.0</td>\n    </tr>\n    <tr>\n      <th>5</th>\n      <td>Moran, Mr. James</td>\n      <td>male</td>\n      <td>NaN</td>\n    </tr>\n  </tbody>\n</table>\n</div>"
     },
     "metadata": {},
     "execution_count": 42
    }
   ],
   "source": [
    "titanic.iloc[[1,3,5]].loc[:, 'Name':'Age']"
   ]
  },
  {
   "cell_type": "markdown",
   "metadata": {
    "colab_type": "text",
    "id": "9dnyHG4L3N2L"
   },
   "source": [
    "# Conditional Locators\n",
    "\n",
    "We can use conditional statements with both `iloc` and `loc` just as we did previously with dataframe selectors.\n",
    "\n",
    "We'll use `loc` as an example because it is a bit more common to conditionally select rows, then choose columns based on labels."
   ]
  },
  {
   "cell_type": "code",
   "execution_count": 43,
   "metadata": {
    "colab": {
     "base_uri": "https://localhost:8080/",
     "height": 204
    },
    "colab_type": "code",
    "executionInfo": {
     "elapsed": 439,
     "status": "ok",
     "timestamp": 1588263979625,
     "user": {
      "displayName": "Richard Alexander",
      "photoUrl": "https://lh3.googleusercontent.com/a-/AOh14Ghn6F8r3pF0SntsFbxkmhRaWso_lCd_s8ePdlKY_g=s64",
      "userId": "13543676537814105778"
     },
     "user_tz": 300
    },
    "id": "s7s030hn6HWM",
    "outputId": "10da25e0-e2c1-4401-8639-86c50d4ced29"
   },
   "outputs": [
    {
     "output_type": "execute_result",
     "data": {
      "text/plain": "   PassengerId  Survived  Pclass  \\\n0            1         0       3   \n1            2         1       1   \n2            3         1       3   \n3            4         1       1   \n4            5         0       3   \n\n                                                Name     Sex   Age  SibSp  \\\n0                            Braund, Mr. Owen Harris    male  22.0      1   \n1  Cumings, Mrs. John Bradley (Florence Briggs Th...  female  38.0      1   \n2                             Heikkinen, Miss. Laina  female  26.0      0   \n3       Futrelle, Mrs. Jacques Heath (Lily May Peel)  female  35.0      1   \n4                           Allen, Mr. William Henry    male  35.0      0   \n\n   Parch            Ticket     Fare Cabin Embarked  \n0      0         A/5 21171   7.2500   NaN        S  \n1      0          PC 17599  71.2833   C85        C  \n2      0  STON/O2. 3101282   7.9250   NaN        S  \n3      0            113803  53.1000  C123        S  \n4      0            373450   8.0500   NaN        S  ",
      "text/html": "<div>\n<style scoped>\n    .dataframe tbody tr th:only-of-type {\n        vertical-align: middle;\n    }\n\n    .dataframe tbody tr th {\n        vertical-align: top;\n    }\n\n    .dataframe thead th {\n        text-align: right;\n    }\n</style>\n<table border=\"1\" class=\"dataframe\">\n  <thead>\n    <tr style=\"text-align: right;\">\n      <th></th>\n      <th>PassengerId</th>\n      <th>Survived</th>\n      <th>Pclass</th>\n      <th>Name</th>\n      <th>Sex</th>\n      <th>Age</th>\n      <th>SibSp</th>\n      <th>Parch</th>\n      <th>Ticket</th>\n      <th>Fare</th>\n      <th>Cabin</th>\n      <th>Embarked</th>\n    </tr>\n  </thead>\n  <tbody>\n    <tr>\n      <th>0</th>\n      <td>1</td>\n      <td>0</td>\n      <td>3</td>\n      <td>Braund, Mr. Owen Harris</td>\n      <td>male</td>\n      <td>22.0</td>\n      <td>1</td>\n      <td>0</td>\n      <td>A/5 21171</td>\n      <td>7.2500</td>\n      <td>NaN</td>\n      <td>S</td>\n    </tr>\n    <tr>\n      <th>1</th>\n      <td>2</td>\n      <td>1</td>\n      <td>1</td>\n      <td>Cumings, Mrs. John Bradley (Florence Briggs Th...</td>\n      <td>female</td>\n      <td>38.0</td>\n      <td>1</td>\n      <td>0</td>\n      <td>PC 17599</td>\n      <td>71.2833</td>\n      <td>C85</td>\n      <td>C</td>\n    </tr>\n    <tr>\n      <th>2</th>\n      <td>3</td>\n      <td>1</td>\n      <td>3</td>\n      <td>Heikkinen, Miss. Laina</td>\n      <td>female</td>\n      <td>26.0</td>\n      <td>0</td>\n      <td>0</td>\n      <td>STON/O2. 3101282</td>\n      <td>7.9250</td>\n      <td>NaN</td>\n      <td>S</td>\n    </tr>\n    <tr>\n      <th>3</th>\n      <td>4</td>\n      <td>1</td>\n      <td>1</td>\n      <td>Futrelle, Mrs. Jacques Heath (Lily May Peel)</td>\n      <td>female</td>\n      <td>35.0</td>\n      <td>1</td>\n      <td>0</td>\n      <td>113803</td>\n      <td>53.1000</td>\n      <td>C123</td>\n      <td>S</td>\n    </tr>\n    <tr>\n      <th>4</th>\n      <td>5</td>\n      <td>0</td>\n      <td>3</td>\n      <td>Allen, Mr. William Henry</td>\n      <td>male</td>\n      <td>35.0</td>\n      <td>0</td>\n      <td>0</td>\n      <td>373450</td>\n      <td>8.0500</td>\n      <td>NaN</td>\n      <td>S</td>\n    </tr>\n  </tbody>\n</table>\n</div>"
     },
     "metadata": {},
     "execution_count": 43
    }
   ],
   "source": [
    "# Remember what our titanic dataframe looks like\n",
    "titanic.head()"
   ]
  },
  {
   "cell_type": "markdown",
   "metadata": {
    "colab_type": "text",
    "id": "tl93Q4-t6crk"
   },
   "source": [
    "What if we want to analyze the **age** and **fare** of passengers in **Pclass 1**?"
   ]
  },
  {
   "cell_type": "code",
   "execution_count": 44,
   "metadata": {
    "colab": {
     "base_uri": "https://localhost:8080/",
     "height": 419
    },
    "colab_type": "code",
    "executionInfo": {
     "elapsed": 401,
     "status": "ok",
     "timestamp": 1588264145216,
     "user": {
      "displayName": "Richard Alexander",
      "photoUrl": "https://lh3.googleusercontent.com/a-/AOh14Ghn6F8r3pF0SntsFbxkmhRaWso_lCd_s8ePdlKY_g=s64",
      "userId": "13543676537814105778"
     },
     "user_tz": 300
    },
    "id": "OgYexd4u6Qhc",
    "outputId": "6aad2133-1a69-459a-c1b6-7720e85b573b"
   },
   "outputs": [
    {
     "output_type": "execute_result",
     "data": {
      "text/plain": "      Age     Fare\n1    38.0  71.2833\n3    35.0  53.1000\n6    54.0  51.8625\n11   58.0  26.5500\n23   28.0  35.5000\n..    ...      ...\n871  47.0  52.5542\n872  33.0   5.0000\n879  56.0  83.1583\n887  19.0  30.0000\n889  26.0  30.0000\n\n[216 rows x 2 columns]",
      "text/html": "<div>\n<style scoped>\n    .dataframe tbody tr th:only-of-type {\n        vertical-align: middle;\n    }\n\n    .dataframe tbody tr th {\n        vertical-align: top;\n    }\n\n    .dataframe thead th {\n        text-align: right;\n    }\n</style>\n<table border=\"1\" class=\"dataframe\">\n  <thead>\n    <tr style=\"text-align: right;\">\n      <th></th>\n      <th>Age</th>\n      <th>Fare</th>\n    </tr>\n  </thead>\n  <tbody>\n    <tr>\n      <th>1</th>\n      <td>38.0</td>\n      <td>71.2833</td>\n    </tr>\n    <tr>\n      <th>3</th>\n      <td>35.0</td>\n      <td>53.1000</td>\n    </tr>\n    <tr>\n      <th>6</th>\n      <td>54.0</td>\n      <td>51.8625</td>\n    </tr>\n    <tr>\n      <th>11</th>\n      <td>58.0</td>\n      <td>26.5500</td>\n    </tr>\n    <tr>\n      <th>23</th>\n      <td>28.0</td>\n      <td>35.5000</td>\n    </tr>\n    <tr>\n      <th>27</th>\n      <td>19.0</td>\n      <td>263.0000</td>\n    </tr>\n    <tr>\n      <th>30</th>\n      <td>40.0</td>\n      <td>27.7208</td>\n    </tr>\n    <tr>\n      <th>31</th>\n      <td>NaN</td>\n      <td>146.5208</td>\n    </tr>\n    <tr>\n      <th>34</th>\n      <td>28.0</td>\n      <td>82.1708</td>\n    </tr>\n    <tr>\n      <th>35</th>\n      <td>42.0</td>\n      <td>52.0000</td>\n    </tr>\n    <tr>\n      <th>52</th>\n      <td>49.0</td>\n      <td>76.7292</td>\n    </tr>\n    <tr>\n      <th>54</th>\n      <td>65.0</td>\n      <td>61.9792</td>\n    </tr>\n    <tr>\n      <th>55</th>\n      <td>NaN</td>\n      <td>35.5000</td>\n    </tr>\n    <tr>\n      <th>61</th>\n      <td>38.0</td>\n      <td>80.0000</td>\n    </tr>\n    <tr>\n      <th>62</th>\n      <td>45.0</td>\n      <td>83.4750</td>\n    </tr>\n    <tr>\n      <th>64</th>\n      <td>NaN</td>\n      <td>27.7208</td>\n    </tr>\n    <tr>\n      <th>83</th>\n      <td>28.0</td>\n      <td>47.1000</td>\n    </tr>\n    <tr>\n      <th>88</th>\n      <td>23.0</td>\n      <td>263.0000</td>\n    </tr>\n    <tr>\n      <th>92</th>\n      <td>46.0</td>\n      <td>61.1750</td>\n    </tr>\n    <tr>\n      <th>96</th>\n      <td>71.0</td>\n      <td>34.6542</td>\n    </tr>\n    <tr>\n      <th>97</th>\n      <td>23.0</td>\n      <td>63.3583</td>\n    </tr>\n    <tr>\n      <th>102</th>\n      <td>21.0</td>\n      <td>77.2875</td>\n    </tr>\n    <tr>\n      <th>110</th>\n      <td>47.0</td>\n      <td>52.0000</td>\n    </tr>\n    <tr>\n      <th>118</th>\n      <td>24.0</td>\n      <td>247.5208</td>\n    </tr>\n    <tr>\n      <th>124</th>\n      <td>54.0</td>\n      <td>77.2875</td>\n    </tr>\n    <tr>\n      <th>136</th>\n      <td>19.0</td>\n      <td>26.2833</td>\n    </tr>\n    <tr>\n      <th>137</th>\n      <td>37.0</td>\n      <td>53.1000</td>\n    </tr>\n    <tr>\n      <th>139</th>\n      <td>24.0</td>\n      <td>79.2000</td>\n    </tr>\n    <tr>\n      <th>151</th>\n      <td>22.0</td>\n      <td>66.6000</td>\n    </tr>\n    <tr>\n      <th>155</th>\n      <td>51.0</td>\n      <td>61.3792</td>\n    </tr>\n    <tr>\n      <th>...</th>\n      <td>...</td>\n      <td>...</td>\n    </tr>\n    <tr>\n      <th>763</th>\n      <td>36.0</td>\n      <td>120.0000</td>\n    </tr>\n    <tr>\n      <th>765</th>\n      <td>51.0</td>\n      <td>77.9583</td>\n    </tr>\n    <tr>\n      <th>766</th>\n      <td>NaN</td>\n      <td>39.6000</td>\n    </tr>\n    <tr>\n      <th>779</th>\n      <td>43.0</td>\n      <td>211.3375</td>\n    </tr>\n    <tr>\n      <th>781</th>\n      <td>17.0</td>\n      <td>57.0000</td>\n    </tr>\n    <tr>\n      <th>782</th>\n      <td>29.0</td>\n      <td>30.0000</td>\n    </tr>\n    <tr>\n      <th>789</th>\n      <td>46.0</td>\n      <td>79.2000</td>\n    </tr>\n    <tr>\n      <th>793</th>\n      <td>NaN</td>\n      <td>30.6958</td>\n    </tr>\n    <tr>\n      <th>796</th>\n      <td>49.0</td>\n      <td>25.9292</td>\n    </tr>\n    <tr>\n      <th>802</th>\n      <td>11.0</td>\n      <td>120.0000</td>\n    </tr>\n    <tr>\n      <th>806</th>\n      <td>39.0</td>\n      <td>0.0000</td>\n    </tr>\n    <tr>\n      <th>809</th>\n      <td>33.0</td>\n      <td>53.1000</td>\n    </tr>\n    <tr>\n      <th>815</th>\n      <td>NaN</td>\n      <td>0.0000</td>\n    </tr>\n    <tr>\n      <th>820</th>\n      <td>52.0</td>\n      <td>93.5000</td>\n    </tr>\n    <tr>\n      <th>822</th>\n      <td>38.0</td>\n      <td>0.0000</td>\n    </tr>\n    <tr>\n      <th>829</th>\n      <td>62.0</td>\n      <td>80.0000</td>\n    </tr>\n    <tr>\n      <th>835</th>\n      <td>39.0</td>\n      <td>83.1583</td>\n    </tr>\n    <tr>\n      <th>839</th>\n      <td>NaN</td>\n      <td>29.7000</td>\n    </tr>\n    <tr>\n      <th>842</th>\n      <td>30.0</td>\n      <td>31.0000</td>\n    </tr>\n    <tr>\n      <th>849</th>\n      <td>NaN</td>\n      <td>89.1042</td>\n    </tr>\n    <tr>\n      <th>853</th>\n      <td>16.0</td>\n      <td>39.4000</td>\n    </tr>\n    <tr>\n      <th>856</th>\n      <td>45.0</td>\n      <td>164.8667</td>\n    </tr>\n    <tr>\n      <th>857</th>\n      <td>51.0</td>\n      <td>26.5500</td>\n    </tr>\n    <tr>\n      <th>862</th>\n      <td>48.0</td>\n      <td>25.9292</td>\n    </tr>\n    <tr>\n      <th>867</th>\n      <td>31.0</td>\n      <td>50.4958</td>\n    </tr>\n    <tr>\n      <th>871</th>\n      <td>47.0</td>\n      <td>52.5542</td>\n    </tr>\n    <tr>\n      <th>872</th>\n      <td>33.0</td>\n      <td>5.0000</td>\n    </tr>\n    <tr>\n      <th>879</th>\n      <td>56.0</td>\n      <td>83.1583</td>\n    </tr>\n    <tr>\n      <th>887</th>\n      <td>19.0</td>\n      <td>30.0000</td>\n    </tr>\n    <tr>\n      <th>889</th>\n      <td>26.0</td>\n      <td>30.0000</td>\n    </tr>\n  </tbody>\n</table>\n<p>216 rows × 2 columns</p>\n</div>"
     },
     "metadata": {},
     "execution_count": 44
    }
   ],
   "source": [
    "titanic.loc[titanic['Pclass']==1, ['Age', 'Fare']]"
   ]
  },
  {
   "cell_type": "markdown",
   "metadata": {
    "colab_type": "text",
    "id": "yxp1KzcdBzc0"
   },
   "source": [
    "Now select the cabin of male passengers who survived."
   ]
  },
  {
   "cell_type": "code",
   "execution_count": 45,
   "metadata": {
    "colab": {
     "base_uri": "https://localhost:8080/",
     "height": 952
    },
    "colab_type": "code",
    "executionInfo": {
     "elapsed": 495,
     "status": "ok",
     "timestamp": 1588266053658,
     "user": {
      "displayName": "Richard Alexander",
      "photoUrl": "https://lh3.googleusercontent.com/a-/AOh14Ghn6F8r3pF0SntsFbxkmhRaWso_lCd_s8ePdlKY_g=s64",
      "userId": "13543676537814105778"
     },
     "user_tz": 300
    },
    "id": "tjoguYv6649i",
    "outputId": "933d80cd-4af7-46b5-94d4-0e62c34b0abe"
   },
   "outputs": [
    {
     "output_type": "execute_result",
     "data": {
      "text/plain": "17      NaN\n21      D56\n23       A6\n36      NaN\n55      C52\n       ... \n838     NaN\n839     C47\n857     E17\n869     NaN\n889    C148\nName: Cabin, Length: 109, dtype: object"
     },
     "metadata": {},
     "execution_count": 45
    }
   ],
   "source": [
    "titanic.loc[((titanic['Survived']==1) & (titanic['Sex'] == 'male')), 'Cabin']"
   ]
  },
  {
   "cell_type": "markdown",
   "metadata": {
    "colab_type": "text",
    "id": "gj5kMS0SCi47"
   },
   "source": [
    "There are a lot of people who don't have cabins. We can filter them out by including the `notna` funciton in our conditional statements."
   ]
  },
  {
   "cell_type": "code",
   "execution_count": 46,
   "metadata": {
    "colab": {
     "base_uri": "https://localhost:8080/",
     "height": 391
    },
    "colab_type": "code",
    "executionInfo": {
     "elapsed": 381,
     "status": "ok",
     "timestamp": 1588266354004,
     "user": {
      "displayName": "Richard Alexander",
      "photoUrl": "https://lh3.googleusercontent.com/a-/AOh14Ghn6F8r3pF0SntsFbxkmhRaWso_lCd_s8ePdlKY_g=s64",
      "userId": "13543676537814105778"
     },
     "user_tz": 300
    },
    "id": "N9MVn4QPCK2L",
    "outputId": "4e2c6a76-47fd-494a-a370-43eaa30cc7f9"
   },
   "outputs": [
    {
     "output_type": "execute_result",
     "data": {
      "text/plain": "21             D56\n23              A6\n55             C52\n97         D10 D12\n183             F4\n193             F2\n209            A31\n224            C93\n248            D35\n298           C106\n305        C22 C26\n340             F2\n370            E50\n390        B96 B98\n429            E10\n430            C52\n445            A34\n449           C104\n453            C92\n460            E12\n484            B49\n512            E25\n550            C70\n572            E25\n587            B41\n599            A20\n621            D19\n630            A23\n632            B50\n645            D33\n647            A26\n679    B51 B53 B55\n681            D49\n690            B20\n701            E24\n707            E24\n712           C126\n724             E8\n737           B101\n740            D45\n751           E121\n802        B96 B98\n839            C47\n857            E17\n889           C148\nName: Cabin, dtype: object"
     },
     "metadata": {},
     "execution_count": 46
    }
   ],
   "source": [
    "titanic.loc[((titanic['Survived']==1) & (titanic['Sex'] == 'male') & titanic['Cabin'].notna()), 'Cabin']"
   ]
  },
  {
   "cell_type": "markdown",
   "metadata": {},
   "source": [
    "# Replacing Data\n",
    "\n",
    "Locators are also great for replacing data. Let's make a new column called *age_replace* and try it."
   ]
  },
  {
   "cell_type": "code",
   "execution_count": 48,
   "metadata": {},
   "outputs": [
    {
     "output_type": "execute_result",
     "data": {
      "text/plain": "   PassengerId  Survived  Pclass  \\\n0            1         0       3   \n1            2         1       1   \n2            3         1       3   \n3            4         1       1   \n4            5         0       3   \n\n                                                Name     Sex   Age  SibSp  \\\n0                            Braund, Mr. Owen Harris    male  22.0      1   \n1  Cumings, Mrs. John Bradley (Florence Briggs Th...  female  38.0      1   \n2                             Heikkinen, Miss. Laina  female  26.0      0   \n3       Futrelle, Mrs. Jacques Heath (Lily May Peel)  female  35.0      1   \n4                           Allen, Mr. William Henry    male  35.0      0   \n\n   Parch            Ticket     Fare Cabin Embarked  replacement  age_replace  \n0      0         A/5 21171   7.2500   NaN        S  replacement  age_replace  \n1      0          PC 17599  71.2833   C85        C  replacement  age_replace  \n2      0  STON/O2. 3101282   7.9250   NaN        S  replacement  age_replace  \n3      0            113803  53.1000  C123        S  replacement  age_replace  \n4      0            373450   8.0500   NaN        S  replacement  age_replace  ",
      "text/html": "<div>\n<style scoped>\n    .dataframe tbody tr th:only-of-type {\n        vertical-align: middle;\n    }\n\n    .dataframe tbody tr th {\n        vertical-align: top;\n    }\n\n    .dataframe thead th {\n        text-align: right;\n    }\n</style>\n<table border=\"1\" class=\"dataframe\">\n  <thead>\n    <tr style=\"text-align: right;\">\n      <th></th>\n      <th>PassengerId</th>\n      <th>Survived</th>\n      <th>Pclass</th>\n      <th>Name</th>\n      <th>Sex</th>\n      <th>Age</th>\n      <th>SibSp</th>\n      <th>Parch</th>\n      <th>Ticket</th>\n      <th>Fare</th>\n      <th>Cabin</th>\n      <th>Embarked</th>\n      <th>replacement</th>\n      <th>age_replace</th>\n    </tr>\n  </thead>\n  <tbody>\n    <tr>\n      <th>0</th>\n      <td>1</td>\n      <td>0</td>\n      <td>3</td>\n      <td>Braund, Mr. Owen Harris</td>\n      <td>male</td>\n      <td>22.0</td>\n      <td>1</td>\n      <td>0</td>\n      <td>A/5 21171</td>\n      <td>7.2500</td>\n      <td>NaN</td>\n      <td>S</td>\n      <td>replacement</td>\n      <td>age_replace</td>\n    </tr>\n    <tr>\n      <th>1</th>\n      <td>2</td>\n      <td>1</td>\n      <td>1</td>\n      <td>Cumings, Mrs. John Bradley (Florence Briggs Th...</td>\n      <td>female</td>\n      <td>38.0</td>\n      <td>1</td>\n      <td>0</td>\n      <td>PC 17599</td>\n      <td>71.2833</td>\n      <td>C85</td>\n      <td>C</td>\n      <td>replacement</td>\n      <td>age_replace</td>\n    </tr>\n    <tr>\n      <th>2</th>\n      <td>3</td>\n      <td>1</td>\n      <td>3</td>\n      <td>Heikkinen, Miss. Laina</td>\n      <td>female</td>\n      <td>26.0</td>\n      <td>0</td>\n      <td>0</td>\n      <td>STON/O2. 3101282</td>\n      <td>7.9250</td>\n      <td>NaN</td>\n      <td>S</td>\n      <td>replacement</td>\n      <td>age_replace</td>\n    </tr>\n    <tr>\n      <th>3</th>\n      <td>4</td>\n      <td>1</td>\n      <td>1</td>\n      <td>Futrelle, Mrs. Jacques Heath (Lily May Peel)</td>\n      <td>female</td>\n      <td>35.0</td>\n      <td>1</td>\n      <td>0</td>\n      <td>113803</td>\n      <td>53.1000</td>\n      <td>C123</td>\n      <td>S</td>\n      <td>replacement</td>\n      <td>age_replace</td>\n    </tr>\n    <tr>\n      <th>4</th>\n      <td>5</td>\n      <td>0</td>\n      <td>3</td>\n      <td>Allen, Mr. William Henry</td>\n      <td>male</td>\n      <td>35.0</td>\n      <td>0</td>\n      <td>0</td>\n      <td>373450</td>\n      <td>8.0500</td>\n      <td>NaN</td>\n      <td>S</td>\n      <td>replacement</td>\n      <td>age_replace</td>\n    </tr>\n  </tbody>\n</table>\n</div>"
     },
     "metadata": {},
     "execution_count": 48
    }
   ],
   "source": [
    "titanic['age_replace'] = 'age_replace'\n",
    "titanic.head()"
   ]
  },
  {
   "cell_type": "markdown",
   "metadata": {},
   "source": [
    "We will label all passengers with `age < 30` as young."
   ]
  },
  {
   "cell_type": "code",
   "execution_count": 57,
   "metadata": {},
   "outputs": [
    {
     "output_type": "execute_result",
     "data": {
      "text/plain": "   PassengerId  Survived  Pclass  \\\n0            1         0       3   \n1            2         1       1   \n2            3         1       3   \n3            4         1       1   \n4            5         0       3   \n\n                                                Name     Sex   Age  SibSp  \\\n0                            Braund, Mr. Owen Harris    male  22.0      1   \n1  Cumings, Mrs. John Bradley (Florence Briggs Th...  female  38.0      1   \n2                             Heikkinen, Miss. Laina  female  26.0      0   \n3       Futrelle, Mrs. Jacques Heath (Lily May Peel)  female  35.0      1   \n4                           Allen, Mr. William Henry    male  35.0      0   \n\n   Parch            Ticket     Fare Cabin Embarked  replacement  age_replace  \n0      0         A/5 21171   7.2500   NaN        S  replacement        young  \n1      0          PC 17599  71.2833   C85        C  replacement  age_replace  \n2      0  STON/O2. 3101282   7.9250   NaN        S  replacement        young  \n3      0            113803  53.1000  C123        S  replacement  age_replace  \n4      0            373450   8.0500   NaN        S  replacement  age_replace  ",
      "text/html": "<div>\n<style scoped>\n    .dataframe tbody tr th:only-of-type {\n        vertical-align: middle;\n    }\n\n    .dataframe tbody tr th {\n        vertical-align: top;\n    }\n\n    .dataframe thead th {\n        text-align: right;\n    }\n</style>\n<table border=\"1\" class=\"dataframe\">\n  <thead>\n    <tr style=\"text-align: right;\">\n      <th></th>\n      <th>PassengerId</th>\n      <th>Survived</th>\n      <th>Pclass</th>\n      <th>Name</th>\n      <th>Sex</th>\n      <th>Age</th>\n      <th>SibSp</th>\n      <th>Parch</th>\n      <th>Ticket</th>\n      <th>Fare</th>\n      <th>Cabin</th>\n      <th>Embarked</th>\n      <th>replacement</th>\n      <th>age_replace</th>\n    </tr>\n  </thead>\n  <tbody>\n    <tr>\n      <th>0</th>\n      <td>1</td>\n      <td>0</td>\n      <td>3</td>\n      <td>Braund, Mr. Owen Harris</td>\n      <td>male</td>\n      <td>22.0</td>\n      <td>1</td>\n      <td>0</td>\n      <td>A/5 21171</td>\n      <td>7.2500</td>\n      <td>NaN</td>\n      <td>S</td>\n      <td>replacement</td>\n      <td>young</td>\n    </tr>\n    <tr>\n      <th>1</th>\n      <td>2</td>\n      <td>1</td>\n      <td>1</td>\n      <td>Cumings, Mrs. John Bradley (Florence Briggs Th...</td>\n      <td>female</td>\n      <td>38.0</td>\n      <td>1</td>\n      <td>0</td>\n      <td>PC 17599</td>\n      <td>71.2833</td>\n      <td>C85</td>\n      <td>C</td>\n      <td>replacement</td>\n      <td>age_replace</td>\n    </tr>\n    <tr>\n      <th>2</th>\n      <td>3</td>\n      <td>1</td>\n      <td>3</td>\n      <td>Heikkinen, Miss. Laina</td>\n      <td>female</td>\n      <td>26.0</td>\n      <td>0</td>\n      <td>0</td>\n      <td>STON/O2. 3101282</td>\n      <td>7.9250</td>\n      <td>NaN</td>\n      <td>S</td>\n      <td>replacement</td>\n      <td>young</td>\n    </tr>\n    <tr>\n      <th>3</th>\n      <td>4</td>\n      <td>1</td>\n      <td>1</td>\n      <td>Futrelle, Mrs. Jacques Heath (Lily May Peel)</td>\n      <td>female</td>\n      <td>35.0</td>\n      <td>1</td>\n      <td>0</td>\n      <td>113803</td>\n      <td>53.1000</td>\n      <td>C123</td>\n      <td>S</td>\n      <td>replacement</td>\n      <td>age_replace</td>\n    </tr>\n    <tr>\n      <th>4</th>\n      <td>5</td>\n      <td>0</td>\n      <td>3</td>\n      <td>Allen, Mr. William Henry</td>\n      <td>male</td>\n      <td>35.0</td>\n      <td>0</td>\n      <td>0</td>\n      <td>373450</td>\n      <td>8.0500</td>\n      <td>NaN</td>\n      <td>S</td>\n      <td>replacement</td>\n      <td>age_replace</td>\n    </tr>\n  </tbody>\n</table>\n</div>"
     },
     "metadata": {},
     "execution_count": 57
    }
   ],
   "source": [
    "titanic.loc[titanic['Age']<30, 'age_replace'] = 'young'\n",
    "titanic.head()"
   ]
  },
  {
   "cell_type": "markdown",
   "metadata": {},
   "source": [
    "And that means passengers with `age >= 30` are old."
   ]
  },
  {
   "cell_type": "code",
   "execution_count": 58,
   "metadata": {},
   "outputs": [
    {
     "output_type": "execute_result",
     "data": {
      "text/plain": "   PassengerId  Survived  Pclass  \\\n0            1         0       3   \n1            2         1       1   \n2            3         1       3   \n3            4         1       1   \n4            5         0       3   \n\n                                                Name     Sex   Age  SibSp  \\\n0                            Braund, Mr. Owen Harris    male  22.0      1   \n1  Cumings, Mrs. John Bradley (Florence Briggs Th...  female  38.0      1   \n2                             Heikkinen, Miss. Laina  female  26.0      0   \n3       Futrelle, Mrs. Jacques Heath (Lily May Peel)  female  35.0      1   \n4                           Allen, Mr. William Henry    male  35.0      0   \n\n   Parch            Ticket     Fare Cabin Embarked  replacement age_replace  \n0      0         A/5 21171   7.2500   NaN        S  replacement       young  \n1      0          PC 17599  71.2833   C85        C  replacement         old  \n2      0  STON/O2. 3101282   7.9250   NaN        S  replacement       young  \n3      0            113803  53.1000  C123        S  replacement         old  \n4      0            373450   8.0500   NaN        S  replacement         old  ",
      "text/html": "<div>\n<style scoped>\n    .dataframe tbody tr th:only-of-type {\n        vertical-align: middle;\n    }\n\n    .dataframe tbody tr th {\n        vertical-align: top;\n    }\n\n    .dataframe thead th {\n        text-align: right;\n    }\n</style>\n<table border=\"1\" class=\"dataframe\">\n  <thead>\n    <tr style=\"text-align: right;\">\n      <th></th>\n      <th>PassengerId</th>\n      <th>Survived</th>\n      <th>Pclass</th>\n      <th>Name</th>\n      <th>Sex</th>\n      <th>Age</th>\n      <th>SibSp</th>\n      <th>Parch</th>\n      <th>Ticket</th>\n      <th>Fare</th>\n      <th>Cabin</th>\n      <th>Embarked</th>\n      <th>replacement</th>\n      <th>age_replace</th>\n    </tr>\n  </thead>\n  <tbody>\n    <tr>\n      <th>0</th>\n      <td>1</td>\n      <td>0</td>\n      <td>3</td>\n      <td>Braund, Mr. Owen Harris</td>\n      <td>male</td>\n      <td>22.0</td>\n      <td>1</td>\n      <td>0</td>\n      <td>A/5 21171</td>\n      <td>7.2500</td>\n      <td>NaN</td>\n      <td>S</td>\n      <td>replacement</td>\n      <td>young</td>\n    </tr>\n    <tr>\n      <th>1</th>\n      <td>2</td>\n      <td>1</td>\n      <td>1</td>\n      <td>Cumings, Mrs. John Bradley (Florence Briggs Th...</td>\n      <td>female</td>\n      <td>38.0</td>\n      <td>1</td>\n      <td>0</td>\n      <td>PC 17599</td>\n      <td>71.2833</td>\n      <td>C85</td>\n      <td>C</td>\n      <td>replacement</td>\n      <td>old</td>\n    </tr>\n    <tr>\n      <th>2</th>\n      <td>3</td>\n      <td>1</td>\n      <td>3</td>\n      <td>Heikkinen, Miss. Laina</td>\n      <td>female</td>\n      <td>26.0</td>\n      <td>0</td>\n      <td>0</td>\n      <td>STON/O2. 3101282</td>\n      <td>7.9250</td>\n      <td>NaN</td>\n      <td>S</td>\n      <td>replacement</td>\n      <td>young</td>\n    </tr>\n    <tr>\n      <th>3</th>\n      <td>4</td>\n      <td>1</td>\n      <td>1</td>\n      <td>Futrelle, Mrs. Jacques Heath (Lily May Peel)</td>\n      <td>female</td>\n      <td>35.0</td>\n      <td>1</td>\n      <td>0</td>\n      <td>113803</td>\n      <td>53.1000</td>\n      <td>C123</td>\n      <td>S</td>\n      <td>replacement</td>\n      <td>old</td>\n    </tr>\n    <tr>\n      <th>4</th>\n      <td>5</td>\n      <td>0</td>\n      <td>3</td>\n      <td>Allen, Mr. William Henry</td>\n      <td>male</td>\n      <td>35.0</td>\n      <td>0</td>\n      <td>0</td>\n      <td>373450</td>\n      <td>8.0500</td>\n      <td>NaN</td>\n      <td>S</td>\n      <td>replacement</td>\n      <td>old</td>\n    </tr>\n  </tbody>\n</table>\n</div>"
     },
     "metadata": {},
     "execution_count": 58
    }
   ],
   "source": [
    "titanic.loc[titanic['Age']>=30, 'age_replace'] = 'old'\n",
    "titanic.head()"
   ]
  },
  {
   "cell_type": "markdown",
   "metadata": {
    "colab_type": "text",
    "id": "YaYi9cPlDkig"
   },
   "source": [
    "# Summary\n",
    "\n",
    "- When selecting subsets of data, square brackets `[]` are used.\n",
    "- Inside these brackets, you can use a single column/row label, a list of column/row labels, a slice of labels, a conditional expression or a colon.\n",
    "- Select specific rows and/or columns using `iloc` when using the positions in the table\n",
    "- Select specific rows and/or columns using `loc` when using the row and column names\n",
    "- Use locators to replace data\n",
    "\n"
   ]
  },
  {
   "cell_type": "code",
   "execution_count": null,
   "metadata": {},
   "outputs": [],
   "source": []
  }
 ],
 "metadata": {
  "colab": {
   "authorship_tag": "ABX9TyPDBvDxnZcqQSLhsWpvvEtd",
   "collapsed_sections": [],
   "mount_file_id": "19DnWogaVkzR1wcayj_XUCJACyyoVKXgH",
   "name": "Pandas_3_Data_Selection.ipynb",
   "provenance": [
    {
     "file_id": "19DnWogaVkzR1wcayj_XUCJACyyoVKXgH",
     "timestamp": 1588252066254
    }
   ],
   "toc_visible": true
  },
  "kernelspec": {
   "display_name": "Python 3",
   "language": "python",
   "name": "python3"
  },
  "language_info": {
   "codemirror_mode": {
    "name": "ipython",
    "version": 3
   },
   "file_extension": ".py",
   "mimetype": "text/x-python",
   "name": "python",
   "nbconvert_exporter": "python",
   "pygments_lexer": "ipython3",
   "version": "3.6.10"
  }
 },
 "nbformat": 4,
 "nbformat_minor": 1
}