{
 "cells": [
  {
   "cell_type": "code",
   "execution_count": 0,
   "metadata": {
    "colab": {},
    "colab_type": "code",
    "id": "eY9A4CAsXOXh"
   },
   "outputs": [],
   "source": [
    "import numpy as np\n",
    "import pandas as pd"
   ]
  },
  {
   "cell_type": "markdown",
   "metadata": {
    "colab_type": "text",
    "id": "KLZ07zLkYYSq"
   },
   "source": [
    "# Reshaping Data\n",
    "\n",
    "It is often desirable to reshape a dataset into a more concise format. An example of this would be Excel pivot tables.\n",
    "\n",
    "Pandas provides useful functions to reshape data. To explore these functions, we will load both the Titanic dataset and the Air Quality dataset."
   ]
  },
  {
   "cell_type": "code",
   "execution_count": 0,
   "metadata": {
    "colab": {
     "base_uri": "https://localhost:8080/",
     "height": 204
    },
    "colab_type": "code",
    "executionInfo": {
     "elapsed": 802,
     "status": "ok",
     "timestamp": 1588785384785,
     "user": {
      "displayName": "Richard Alexander",
      "photoUrl": "https://lh3.googleusercontent.com/a-/AOh14Ghn6F8r3pF0SntsFbxkmhRaWso_lCd_s8ePdlKY_g=s64",
      "userId": "13543676537814105778"
     },
     "user_tz": 300
    },
    "id": "tGdZDHIAXeLb",
    "outputId": "a109eab2-7658-4202-b316-be06bec2ca1e"
   },
   "outputs": [
    {
     "data": {
      "text/html": [
       "<div>\n",
       "<style scoped>\n",
       "    .dataframe tbody tr th:only-of-type {\n",
       "        vertical-align: middle;\n",
       "    }\n",
       "\n",
       "    .dataframe tbody tr th {\n",
       "        vertical-align: top;\n",
       "    }\n",
       "\n",
       "    .dataframe thead th {\n",
       "        text-align: right;\n",
       "    }\n",
       "</style>\n",
       "<table border=\"1\" class=\"dataframe\">\n",
       "  <thead>\n",
       "    <tr style=\"text-align: right;\">\n",
       "      <th></th>\n",
       "      <th>PassengerId</th>\n",
       "      <th>Survived</th>\n",
       "      <th>Pclass</th>\n",
       "      <th>Name</th>\n",
       "      <th>Sex</th>\n",
       "      <th>Age</th>\n",
       "      <th>SibSp</th>\n",
       "      <th>Parch</th>\n",
       "      <th>Ticket</th>\n",
       "      <th>Fare</th>\n",
       "      <th>Cabin</th>\n",
       "      <th>Embarked</th>\n",
       "    </tr>\n",
       "  </thead>\n",
       "  <tbody>\n",
       "    <tr>\n",
       "      <th>0</th>\n",
       "      <td>1</td>\n",
       "      <td>0</td>\n",
       "      <td>3</td>\n",
       "      <td>Braund, Mr. Owen Harris</td>\n",
       "      <td>male</td>\n",
       "      <td>22.0</td>\n",
       "      <td>1</td>\n",
       "      <td>0</td>\n",
       "      <td>A/5 21171</td>\n",
       "      <td>7.2500</td>\n",
       "      <td>NaN</td>\n",
       "      <td>S</td>\n",
       "    </tr>\n",
       "    <tr>\n",
       "      <th>1</th>\n",
       "      <td>2</td>\n",
       "      <td>1</td>\n",
       "      <td>1</td>\n",
       "      <td>Cumings, Mrs. John Bradley (Florence Briggs Th...</td>\n",
       "      <td>female</td>\n",
       "      <td>38.0</td>\n",
       "      <td>1</td>\n",
       "      <td>0</td>\n",
       "      <td>PC 17599</td>\n",
       "      <td>71.2833</td>\n",
       "      <td>C85</td>\n",
       "      <td>C</td>\n",
       "    </tr>\n",
       "    <tr>\n",
       "      <th>2</th>\n",
       "      <td>3</td>\n",
       "      <td>1</td>\n",
       "      <td>3</td>\n",
       "      <td>Heikkinen, Miss. Laina</td>\n",
       "      <td>female</td>\n",
       "      <td>26.0</td>\n",
       "      <td>0</td>\n",
       "      <td>0</td>\n",
       "      <td>STON/O2. 3101282</td>\n",
       "      <td>7.9250</td>\n",
       "      <td>NaN</td>\n",
       "      <td>S</td>\n",
       "    </tr>\n",
       "    <tr>\n",
       "      <th>3</th>\n",
       "      <td>4</td>\n",
       "      <td>1</td>\n",
       "      <td>1</td>\n",
       "      <td>Futrelle, Mrs. Jacques Heath (Lily May Peel)</td>\n",
       "      <td>female</td>\n",
       "      <td>35.0</td>\n",
       "      <td>1</td>\n",
       "      <td>0</td>\n",
       "      <td>113803</td>\n",
       "      <td>53.1000</td>\n",
       "      <td>C123</td>\n",
       "      <td>S</td>\n",
       "    </tr>\n",
       "    <tr>\n",
       "      <th>4</th>\n",
       "      <td>5</td>\n",
       "      <td>0</td>\n",
       "      <td>3</td>\n",
       "      <td>Allen, Mr. William Henry</td>\n",
       "      <td>male</td>\n",
       "      <td>35.0</td>\n",
       "      <td>0</td>\n",
       "      <td>0</td>\n",
       "      <td>373450</td>\n",
       "      <td>8.0500</td>\n",
       "      <td>NaN</td>\n",
       "      <td>S</td>\n",
       "    </tr>\n",
       "  </tbody>\n",
       "</table>\n",
       "</div>"
      ],
      "text/plain": [
       "   PassengerId  Survived  Pclass  ...     Fare Cabin  Embarked\n",
       "0            1         0       3  ...   7.2500   NaN         S\n",
       "1            2         1       1  ...  71.2833   C85         C\n",
       "2            3         1       3  ...   7.9250   NaN         S\n",
       "3            4         1       1  ...  53.1000  C123         S\n",
       "4            5         0       3  ...   8.0500   NaN         S\n",
       "\n",
       "[5 rows x 12 columns]"
      ]
     },
     "execution_count": 41,
     "metadata": {
      "tags": []
     },
     "output_type": "execute_result"
    }
   ],
   "source": [
    "# Open the titanic CSV\n",
    "titanic = pd.read_csv(\"https://raw.githubusercontent.com/pandas-dev/pandas/master/doc/data/titanic.csv\")\n",
    "\n",
    "titanic.head()"
   ]
  },
  {
   "cell_type": "code",
   "execution_count": 0,
   "metadata": {
    "colab": {
     "base_uri": "https://localhost:8080/",
     "height": 235
    },
    "colab_type": "code",
    "executionInfo": {
     "elapsed": 789,
     "status": "ok",
     "timestamp": 1588785384786,
     "user": {
      "displayName": "Richard Alexander",
      "photoUrl": "https://lh3.googleusercontent.com/a-/AOh14Ghn6F8r3pF0SntsFbxkmhRaWso_lCd_s8ePdlKY_g=s64",
      "userId": "13543676537814105778"
     },
     "user_tz": 300
    },
    "id": "dY_08cTNay9g",
    "outputId": "d8b07885-fdfc-454b-cb05-aaa8886a9b8a"
   },
   "outputs": [
    {
     "data": {
      "text/html": [
       "<div>\n",
       "<style scoped>\n",
       "    .dataframe tbody tr th:only-of-type {\n",
       "        vertical-align: middle;\n",
       "    }\n",
       "\n",
       "    .dataframe tbody tr th {\n",
       "        vertical-align: top;\n",
       "    }\n",
       "\n",
       "    .dataframe thead th {\n",
       "        text-align: right;\n",
       "    }\n",
       "</style>\n",
       "<table border=\"1\" class=\"dataframe\">\n",
       "  <thead>\n",
       "    <tr style=\"text-align: right;\">\n",
       "      <th></th>\n",
       "      <th>city</th>\n",
       "      <th>country</th>\n",
       "      <th>location</th>\n",
       "      <th>parameter</th>\n",
       "      <th>value</th>\n",
       "      <th>unit</th>\n",
       "    </tr>\n",
       "    <tr>\n",
       "      <th>date.utc</th>\n",
       "      <th></th>\n",
       "      <th></th>\n",
       "      <th></th>\n",
       "      <th></th>\n",
       "      <th></th>\n",
       "      <th></th>\n",
       "    </tr>\n",
       "  </thead>\n",
       "  <tbody>\n",
       "    <tr>\n",
       "      <th>2019-06-18 06:00:00+00:00</th>\n",
       "      <td>Antwerpen</td>\n",
       "      <td>BE</td>\n",
       "      <td>BETR801</td>\n",
       "      <td>pm25</td>\n",
       "      <td>18.0</td>\n",
       "      <td>µg/m³</td>\n",
       "    </tr>\n",
       "    <tr>\n",
       "      <th>2019-06-17 08:00:00+00:00</th>\n",
       "      <td>Antwerpen</td>\n",
       "      <td>BE</td>\n",
       "      <td>BETR801</td>\n",
       "      <td>pm25</td>\n",
       "      <td>6.5</td>\n",
       "      <td>µg/m³</td>\n",
       "    </tr>\n",
       "    <tr>\n",
       "      <th>2019-06-17 07:00:00+00:00</th>\n",
       "      <td>Antwerpen</td>\n",
       "      <td>BE</td>\n",
       "      <td>BETR801</td>\n",
       "      <td>pm25</td>\n",
       "      <td>18.5</td>\n",
       "      <td>µg/m³</td>\n",
       "    </tr>\n",
       "    <tr>\n",
       "      <th>2019-06-17 06:00:00+00:00</th>\n",
       "      <td>Antwerpen</td>\n",
       "      <td>BE</td>\n",
       "      <td>BETR801</td>\n",
       "      <td>pm25</td>\n",
       "      <td>16.0</td>\n",
       "      <td>µg/m³</td>\n",
       "    </tr>\n",
       "    <tr>\n",
       "      <th>2019-06-17 05:00:00+00:00</th>\n",
       "      <td>Antwerpen</td>\n",
       "      <td>BE</td>\n",
       "      <td>BETR801</td>\n",
       "      <td>pm25</td>\n",
       "      <td>7.5</td>\n",
       "      <td>µg/m³</td>\n",
       "    </tr>\n",
       "  </tbody>\n",
       "</table>\n",
       "</div>"
      ],
      "text/plain": [
       "                                city country location parameter  value   unit\n",
       "date.utc                                                                     \n",
       "2019-06-18 06:00:00+00:00  Antwerpen      BE  BETR801      pm25   18.0  µg/m³\n",
       "2019-06-17 08:00:00+00:00  Antwerpen      BE  BETR801      pm25    6.5  µg/m³\n",
       "2019-06-17 07:00:00+00:00  Antwerpen      BE  BETR801      pm25   18.5  µg/m³\n",
       "2019-06-17 06:00:00+00:00  Antwerpen      BE  BETR801      pm25   16.0  µg/m³\n",
       "2019-06-17 05:00:00+00:00  Antwerpen      BE  BETR801      pm25    7.5  µg/m³"
      ]
     },
     "execution_count": 42,
     "metadata": {
      "tags": []
     },
     "output_type": "execute_result"
    }
   ],
   "source": [
    "# Open the air quality CSV\n",
    "air_quality  = pd.read_csv(\"https://raw.githubusercontent.com/pandas-dev/pandas/master/doc/data/air_quality_long.csv\", index_col=\"date.utc\", parse_dates=True)\n",
    "\n",
    "air_quality .head()"
   ]
  },
  {
   "cell_type": "markdown",
   "metadata": {
    "colab_type": "text",
    "id": "2wuH0wIebh22"
   },
   "source": [
    "Notice that the air quality data is in a long format, with each observation on a seperate row and each variable in a seperate column."
   ]
  },
  {
   "cell_type": "markdown",
   "metadata": {
    "colab_type": "text",
    "id": "e3kbvgnzb_aJ"
   },
   "source": [
    "# Sorting Rows\n",
    "\n",
    "Row sorting is done with the `sort_values()` function.\n",
    "\n",
    "First let's sort the titanic data acording to the **Age** of the passengers."
   ]
  },
  {
   "cell_type": "code",
   "execution_count": 0,
   "metadata": {
    "colab": {
     "base_uri": "https://localhost:8080/",
     "height": 204
    },
    "colab_type": "code",
    "executionInfo": {
     "elapsed": 776,
     "status": "ok",
     "timestamp": 1588785384787,
     "user": {
      "displayName": "Richard Alexander",
      "photoUrl": "https://lh3.googleusercontent.com/a-/AOh14Ghn6F8r3pF0SntsFbxkmhRaWso_lCd_s8ePdlKY_g=s64",
      "userId": "13543676537814105778"
     },
     "user_tz": 300
    },
    "id": "jhwG_49QbhHX",
    "outputId": "2646e660-0ec6-4113-c52d-de75f0875bc2"
   },
   "outputs": [
    {
     "data": {
      "text/html": [
       "<div>\n",
       "<style scoped>\n",
       "    .dataframe tbody tr th:only-of-type {\n",
       "        vertical-align: middle;\n",
       "    }\n",
       "\n",
       "    .dataframe tbody tr th {\n",
       "        vertical-align: top;\n",
       "    }\n",
       "\n",
       "    .dataframe thead th {\n",
       "        text-align: right;\n",
       "    }\n",
       "</style>\n",
       "<table border=\"1\" class=\"dataframe\">\n",
       "  <thead>\n",
       "    <tr style=\"text-align: right;\">\n",
       "      <th></th>\n",
       "      <th>PassengerId</th>\n",
       "      <th>Survived</th>\n",
       "      <th>Pclass</th>\n",
       "      <th>Name</th>\n",
       "      <th>Sex</th>\n",
       "      <th>Age</th>\n",
       "      <th>SibSp</th>\n",
       "      <th>Parch</th>\n",
       "      <th>Ticket</th>\n",
       "      <th>Fare</th>\n",
       "      <th>Cabin</th>\n",
       "      <th>Embarked</th>\n",
       "    </tr>\n",
       "  </thead>\n",
       "  <tbody>\n",
       "    <tr>\n",
       "      <th>803</th>\n",
       "      <td>804</td>\n",
       "      <td>1</td>\n",
       "      <td>3</td>\n",
       "      <td>Thomas, Master. Assad Alexander</td>\n",
       "      <td>male</td>\n",
       "      <td>0.42</td>\n",
       "      <td>0</td>\n",
       "      <td>1</td>\n",
       "      <td>2625</td>\n",
       "      <td>8.5167</td>\n",
       "      <td>NaN</td>\n",
       "      <td>C</td>\n",
       "    </tr>\n",
       "    <tr>\n",
       "      <th>755</th>\n",
       "      <td>756</td>\n",
       "      <td>1</td>\n",
       "      <td>2</td>\n",
       "      <td>Hamalainen, Master. Viljo</td>\n",
       "      <td>male</td>\n",
       "      <td>0.67</td>\n",
       "      <td>1</td>\n",
       "      <td>1</td>\n",
       "      <td>250649</td>\n",
       "      <td>14.5000</td>\n",
       "      <td>NaN</td>\n",
       "      <td>S</td>\n",
       "    </tr>\n",
       "    <tr>\n",
       "      <th>644</th>\n",
       "      <td>645</td>\n",
       "      <td>1</td>\n",
       "      <td>3</td>\n",
       "      <td>Baclini, Miss. Eugenie</td>\n",
       "      <td>female</td>\n",
       "      <td>0.75</td>\n",
       "      <td>2</td>\n",
       "      <td>1</td>\n",
       "      <td>2666</td>\n",
       "      <td>19.2583</td>\n",
       "      <td>NaN</td>\n",
       "      <td>C</td>\n",
       "    </tr>\n",
       "    <tr>\n",
       "      <th>469</th>\n",
       "      <td>470</td>\n",
       "      <td>1</td>\n",
       "      <td>3</td>\n",
       "      <td>Baclini, Miss. Helene Barbara</td>\n",
       "      <td>female</td>\n",
       "      <td>0.75</td>\n",
       "      <td>2</td>\n",
       "      <td>1</td>\n",
       "      <td>2666</td>\n",
       "      <td>19.2583</td>\n",
       "      <td>NaN</td>\n",
       "      <td>C</td>\n",
       "    </tr>\n",
       "    <tr>\n",
       "      <th>78</th>\n",
       "      <td>79</td>\n",
       "      <td>1</td>\n",
       "      <td>2</td>\n",
       "      <td>Caldwell, Master. Alden Gates</td>\n",
       "      <td>male</td>\n",
       "      <td>0.83</td>\n",
       "      <td>0</td>\n",
       "      <td>2</td>\n",
       "      <td>248738</td>\n",
       "      <td>29.0000</td>\n",
       "      <td>NaN</td>\n",
       "      <td>S</td>\n",
       "    </tr>\n",
       "  </tbody>\n",
       "</table>\n",
       "</div>"
      ],
      "text/plain": [
       "     PassengerId  Survived  Pclass  ...     Fare Cabin  Embarked\n",
       "803          804         1       3  ...   8.5167   NaN         C\n",
       "755          756         1       2  ...  14.5000   NaN         S\n",
       "644          645         1       3  ...  19.2583   NaN         C\n",
       "469          470         1       3  ...  19.2583   NaN         C\n",
       "78            79         1       2  ...  29.0000   NaN         S\n",
       "\n",
       "[5 rows x 12 columns]"
      ]
     },
     "execution_count": 43,
     "metadata": {
      "tags": []
     },
     "output_type": "execute_result"
    }
   ],
   "source": [
    "# Sort titanic data by age\n",
    "titanic.sort_values(by=\"Age\").head()"
   ]
  },
  {
   "cell_type": "markdown",
   "metadata": {
    "colab_type": "text",
    "id": "KCLmFUNOcwpK"
   },
   "source": [
    "We can sort multiple columns at once by passing a list of column names.\n",
    "\n",
    "This time we will sort by **Pclass** and **Age**."
   ]
  },
  {
   "cell_type": "code",
   "execution_count": 0,
   "metadata": {
    "colab": {
     "base_uri": "https://localhost:8080/",
     "height": 204
    },
    "colab_type": "code",
    "executionInfo": {
     "elapsed": 764,
     "status": "ok",
     "timestamp": 1588785384788,
     "user": {
      "displayName": "Richard Alexander",
      "photoUrl": "https://lh3.googleusercontent.com/a-/AOh14Ghn6F8r3pF0SntsFbxkmhRaWso_lCd_s8ePdlKY_g=s64",
      "userId": "13543676537814105778"
     },
     "user_tz": 300
    },
    "id": "ruGdvzphbESy",
    "outputId": "7ce40cac-822f-4b60-e14a-b7c466b4a23d"
   },
   "outputs": [
    {
     "data": {
      "text/html": [
       "<div>\n",
       "<style scoped>\n",
       "    .dataframe tbody tr th:only-of-type {\n",
       "        vertical-align: middle;\n",
       "    }\n",
       "\n",
       "    .dataframe tbody tr th {\n",
       "        vertical-align: top;\n",
       "    }\n",
       "\n",
       "    .dataframe thead th {\n",
       "        text-align: right;\n",
       "    }\n",
       "</style>\n",
       "<table border=\"1\" class=\"dataframe\">\n",
       "  <thead>\n",
       "    <tr style=\"text-align: right;\">\n",
       "      <th></th>\n",
       "      <th>PassengerId</th>\n",
       "      <th>Survived</th>\n",
       "      <th>Pclass</th>\n",
       "      <th>Name</th>\n",
       "      <th>Sex</th>\n",
       "      <th>Age</th>\n",
       "      <th>SibSp</th>\n",
       "      <th>Parch</th>\n",
       "      <th>Ticket</th>\n",
       "      <th>Fare</th>\n",
       "      <th>Cabin</th>\n",
       "      <th>Embarked</th>\n",
       "    </tr>\n",
       "  </thead>\n",
       "  <tbody>\n",
       "    <tr>\n",
       "      <th>305</th>\n",
       "      <td>306</td>\n",
       "      <td>1</td>\n",
       "      <td>1</td>\n",
       "      <td>Allison, Master. Hudson Trevor</td>\n",
       "      <td>male</td>\n",
       "      <td>0.92</td>\n",
       "      <td>1</td>\n",
       "      <td>2</td>\n",
       "      <td>113781</td>\n",
       "      <td>151.5500</td>\n",
       "      <td>C22 C26</td>\n",
       "      <td>S</td>\n",
       "    </tr>\n",
       "    <tr>\n",
       "      <th>297</th>\n",
       "      <td>298</td>\n",
       "      <td>0</td>\n",
       "      <td>1</td>\n",
       "      <td>Allison, Miss. Helen Loraine</td>\n",
       "      <td>female</td>\n",
       "      <td>2.00</td>\n",
       "      <td>1</td>\n",
       "      <td>2</td>\n",
       "      <td>113781</td>\n",
       "      <td>151.5500</td>\n",
       "      <td>C22 C26</td>\n",
       "      <td>S</td>\n",
       "    </tr>\n",
       "    <tr>\n",
       "      <th>445</th>\n",
       "      <td>446</td>\n",
       "      <td>1</td>\n",
       "      <td>1</td>\n",
       "      <td>Dodge, Master. Washington</td>\n",
       "      <td>male</td>\n",
       "      <td>4.00</td>\n",
       "      <td>0</td>\n",
       "      <td>2</td>\n",
       "      <td>33638</td>\n",
       "      <td>81.8583</td>\n",
       "      <td>A34</td>\n",
       "      <td>S</td>\n",
       "    </tr>\n",
       "    <tr>\n",
       "      <th>802</th>\n",
       "      <td>803</td>\n",
       "      <td>1</td>\n",
       "      <td>1</td>\n",
       "      <td>Carter, Master. William Thornton II</td>\n",
       "      <td>male</td>\n",
       "      <td>11.00</td>\n",
       "      <td>1</td>\n",
       "      <td>2</td>\n",
       "      <td>113760</td>\n",
       "      <td>120.0000</td>\n",
       "      <td>B96 B98</td>\n",
       "      <td>S</td>\n",
       "    </tr>\n",
       "    <tr>\n",
       "      <th>435</th>\n",
       "      <td>436</td>\n",
       "      <td>1</td>\n",
       "      <td>1</td>\n",
       "      <td>Carter, Miss. Lucile Polk</td>\n",
       "      <td>female</td>\n",
       "      <td>14.00</td>\n",
       "      <td>1</td>\n",
       "      <td>2</td>\n",
       "      <td>113760</td>\n",
       "      <td>120.0000</td>\n",
       "      <td>B96 B98</td>\n",
       "      <td>S</td>\n",
       "    </tr>\n",
       "  </tbody>\n",
       "</table>\n",
       "</div>"
      ],
      "text/plain": [
       "     PassengerId  Survived  Pclass  ...      Fare    Cabin  Embarked\n",
       "305          306         1       1  ...  151.5500  C22 C26         S\n",
       "297          298         0       1  ...  151.5500  C22 C26         S\n",
       "445          446         1       1  ...   81.8583      A34         S\n",
       "802          803         1       1  ...  120.0000  B96 B98         S\n",
       "435          436         1       1  ...  120.0000  B96 B98         S\n",
       "\n",
       "[5 rows x 12 columns]"
      ]
     },
     "execution_count": 44,
     "metadata": {
      "tags": []
     },
     "output_type": "execute_result"
    }
   ],
   "source": [
    "titanic.sort_values(by=['Pclass', 'Age']).head()"
   ]
  },
  {
   "cell_type": "markdown",
   "metadata": {
    "colab_type": "text",
    "id": "3eT6HtivdXv9"
   },
   "source": [
    "Let's do the same sort, but this time in descending order by setting `ascending=False`."
   ]
  },
  {
   "cell_type": "code",
   "execution_count": 0,
   "metadata": {
    "colab": {
     "base_uri": "https://localhost:8080/",
     "height": 204
    },
    "colab_type": "code",
    "executionInfo": {
     "elapsed": 751,
     "status": "ok",
     "timestamp": 1588785384788,
     "user": {
      "displayName": "Richard Alexander",
      "photoUrl": "https://lh3.googleusercontent.com/a-/AOh14Ghn6F8r3pF0SntsFbxkmhRaWso_lCd_s8ePdlKY_g=s64",
      "userId": "13543676537814105778"
     },
     "user_tz": 300
    },
    "id": "vMFTuHuRdVj6",
    "outputId": "e8b775ea-1961-4706-e11b-f120243f200f"
   },
   "outputs": [
    {
     "data": {
      "text/html": [
       "<div>\n",
       "<style scoped>\n",
       "    .dataframe tbody tr th:only-of-type {\n",
       "        vertical-align: middle;\n",
       "    }\n",
       "\n",
       "    .dataframe tbody tr th {\n",
       "        vertical-align: top;\n",
       "    }\n",
       "\n",
       "    .dataframe thead th {\n",
       "        text-align: right;\n",
       "    }\n",
       "</style>\n",
       "<table border=\"1\" class=\"dataframe\">\n",
       "  <thead>\n",
       "    <tr style=\"text-align: right;\">\n",
       "      <th></th>\n",
       "      <th>PassengerId</th>\n",
       "      <th>Survived</th>\n",
       "      <th>Pclass</th>\n",
       "      <th>Name</th>\n",
       "      <th>Sex</th>\n",
       "      <th>Age</th>\n",
       "      <th>SibSp</th>\n",
       "      <th>Parch</th>\n",
       "      <th>Ticket</th>\n",
       "      <th>Fare</th>\n",
       "      <th>Cabin</th>\n",
       "      <th>Embarked</th>\n",
       "    </tr>\n",
       "  </thead>\n",
       "  <tbody>\n",
       "    <tr>\n",
       "      <th>851</th>\n",
       "      <td>852</td>\n",
       "      <td>0</td>\n",
       "      <td>3</td>\n",
       "      <td>Svensson, Mr. Johan</td>\n",
       "      <td>male</td>\n",
       "      <td>74.0</td>\n",
       "      <td>0</td>\n",
       "      <td>0</td>\n",
       "      <td>347060</td>\n",
       "      <td>7.7750</td>\n",
       "      <td>NaN</td>\n",
       "      <td>S</td>\n",
       "    </tr>\n",
       "    <tr>\n",
       "      <th>116</th>\n",
       "      <td>117</td>\n",
       "      <td>0</td>\n",
       "      <td>3</td>\n",
       "      <td>Connors, Mr. Patrick</td>\n",
       "      <td>male</td>\n",
       "      <td>70.5</td>\n",
       "      <td>0</td>\n",
       "      <td>0</td>\n",
       "      <td>370369</td>\n",
       "      <td>7.7500</td>\n",
       "      <td>NaN</td>\n",
       "      <td>Q</td>\n",
       "    </tr>\n",
       "    <tr>\n",
       "      <th>280</th>\n",
       "      <td>281</td>\n",
       "      <td>0</td>\n",
       "      <td>3</td>\n",
       "      <td>Duane, Mr. Frank</td>\n",
       "      <td>male</td>\n",
       "      <td>65.0</td>\n",
       "      <td>0</td>\n",
       "      <td>0</td>\n",
       "      <td>336439</td>\n",
       "      <td>7.7500</td>\n",
       "      <td>NaN</td>\n",
       "      <td>Q</td>\n",
       "    </tr>\n",
       "    <tr>\n",
       "      <th>483</th>\n",
       "      <td>484</td>\n",
       "      <td>1</td>\n",
       "      <td>3</td>\n",
       "      <td>Turkula, Mrs. (Hedwig)</td>\n",
       "      <td>female</td>\n",
       "      <td>63.0</td>\n",
       "      <td>0</td>\n",
       "      <td>0</td>\n",
       "      <td>4134</td>\n",
       "      <td>9.5875</td>\n",
       "      <td>NaN</td>\n",
       "      <td>S</td>\n",
       "    </tr>\n",
       "    <tr>\n",
       "      <th>326</th>\n",
       "      <td>327</td>\n",
       "      <td>0</td>\n",
       "      <td>3</td>\n",
       "      <td>Nysveen, Mr. Johan Hansen</td>\n",
       "      <td>male</td>\n",
       "      <td>61.0</td>\n",
       "      <td>0</td>\n",
       "      <td>0</td>\n",
       "      <td>345364</td>\n",
       "      <td>6.2375</td>\n",
       "      <td>NaN</td>\n",
       "      <td>S</td>\n",
       "    </tr>\n",
       "  </tbody>\n",
       "</table>\n",
       "</div>"
      ],
      "text/plain": [
       "     PassengerId  Survived  Pclass  ...    Fare Cabin  Embarked\n",
       "851          852         0       3  ...  7.7750   NaN         S\n",
       "116          117         0       3  ...  7.7500   NaN         Q\n",
       "280          281         0       3  ...  7.7500   NaN         Q\n",
       "483          484         1       3  ...  9.5875   NaN         S\n",
       "326          327         0       3  ...  6.2375   NaN         S\n",
       "\n",
       "[5 rows x 12 columns]"
      ]
     },
     "execution_count": 45,
     "metadata": {
      "tags": []
     },
     "output_type": "execute_result"
    }
   ],
   "source": [
    "titanic.sort_values(by=['Pclass', 'Age'], ascending=False).head()"
   ]
  },
  {
   "cell_type": "markdown",
   "metadata": {
    "colab_type": "text",
    "id": "B4GsQ2N6fpUr"
   },
   "source": [
    "# Prepare a Demo Subset\n",
    "\n",
    "We need a small subset of the data to illustrate reshaping.\n",
    "\n",
    "In the air quality data, what parameter values do we have?"
   ]
  },
  {
   "cell_type": "code",
   "execution_count": 0,
   "metadata": {
    "colab": {
     "base_uri": "https://localhost:8080/",
     "height": 34
    },
    "colab_type": "code",
    "executionInfo": {
     "elapsed": 731,
     "status": "ok",
     "timestamp": 1588785384789,
     "user": {
      "displayName": "Richard Alexander",
      "photoUrl": "https://lh3.googleusercontent.com/a-/AOh14Ghn6F8r3pF0SntsFbxkmhRaWso_lCd_s8ePdlKY_g=s64",
      "userId": "13543676537814105778"
     },
     "user_tz": 300
    },
    "id": "8ZzUIg93eSxN",
    "outputId": "4520cea9-0321-4c18-bbad-265cea760bc7"
   },
   "outputs": [
    {
     "data": {
      "text/plain": [
       "array(['pm25', 'no2'], dtype=object)"
      ]
     },
     "execution_count": 46,
     "metadata": {
      "tags": []
     },
     "output_type": "execute_result"
    }
   ],
   "source": [
    "air_quality[\"parameter\"].unique()"
   ]
  },
  {
   "cell_type": "markdown",
   "metadata": {
    "colab_type": "text",
    "id": "7h4qptQSgC2X"
   },
   "source": [
    "We have both PM<sub>25</sub> and NO<sub>2</sub> data.\n",
    "\n",
    "Let's select only the NO<sub>2</sub> data"
   ]
  },
  {
   "cell_type": "code",
   "execution_count": 0,
   "metadata": {
    "colab": {
     "base_uri": "https://localhost:8080/",
     "height": 235
    },
    "colab_type": "code",
    "executionInfo": {
     "elapsed": 717,
     "status": "ok",
     "timestamp": 1588785384790,
     "user": {
      "displayName": "Richard Alexander",
      "photoUrl": "https://lh3.googleusercontent.com/a-/AOh14Ghn6F8r3pF0SntsFbxkmhRaWso_lCd_s8ePdlKY_g=s64",
      "userId": "13543676537814105778"
     },
     "user_tz": 300
    },
    "id": "_5ZhbZ7Lf0LC",
    "outputId": "5100e451-242b-42c0-ccc7-e6978eccaf76"
   },
   "outputs": [
    {
     "data": {
      "text/html": [
       "<div>\n",
       "<style scoped>\n",
       "    .dataframe tbody tr th:only-of-type {\n",
       "        vertical-align: middle;\n",
       "    }\n",
       "\n",
       "    .dataframe tbody tr th {\n",
       "        vertical-align: top;\n",
       "    }\n",
       "\n",
       "    .dataframe thead th {\n",
       "        text-align: right;\n",
       "    }\n",
       "</style>\n",
       "<table border=\"1\" class=\"dataframe\">\n",
       "  <thead>\n",
       "    <tr style=\"text-align: right;\">\n",
       "      <th></th>\n",
       "      <th>city</th>\n",
       "      <th>country</th>\n",
       "      <th>location</th>\n",
       "      <th>parameter</th>\n",
       "      <th>value</th>\n",
       "      <th>unit</th>\n",
       "    </tr>\n",
       "    <tr>\n",
       "      <th>date.utc</th>\n",
       "      <th></th>\n",
       "      <th></th>\n",
       "      <th></th>\n",
       "      <th></th>\n",
       "      <th></th>\n",
       "      <th></th>\n",
       "    </tr>\n",
       "  </thead>\n",
       "  <tbody>\n",
       "    <tr>\n",
       "      <th>2019-06-21 00:00:00+00:00</th>\n",
       "      <td>Paris</td>\n",
       "      <td>FR</td>\n",
       "      <td>FR04014</td>\n",
       "      <td>no2</td>\n",
       "      <td>20.0</td>\n",
       "      <td>µg/m³</td>\n",
       "    </tr>\n",
       "    <tr>\n",
       "      <th>2019-06-20 23:00:00+00:00</th>\n",
       "      <td>Paris</td>\n",
       "      <td>FR</td>\n",
       "      <td>FR04014</td>\n",
       "      <td>no2</td>\n",
       "      <td>21.8</td>\n",
       "      <td>µg/m³</td>\n",
       "    </tr>\n",
       "    <tr>\n",
       "      <th>2019-06-20 22:00:00+00:00</th>\n",
       "      <td>Paris</td>\n",
       "      <td>FR</td>\n",
       "      <td>FR04014</td>\n",
       "      <td>no2</td>\n",
       "      <td>26.5</td>\n",
       "      <td>µg/m³</td>\n",
       "    </tr>\n",
       "    <tr>\n",
       "      <th>2019-06-20 21:00:00+00:00</th>\n",
       "      <td>Paris</td>\n",
       "      <td>FR</td>\n",
       "      <td>FR04014</td>\n",
       "      <td>no2</td>\n",
       "      <td>24.9</td>\n",
       "      <td>µg/m³</td>\n",
       "    </tr>\n",
       "    <tr>\n",
       "      <th>2019-06-20 20:00:00+00:00</th>\n",
       "      <td>Paris</td>\n",
       "      <td>FR</td>\n",
       "      <td>FR04014</td>\n",
       "      <td>no2</td>\n",
       "      <td>21.4</td>\n",
       "      <td>µg/m³</td>\n",
       "    </tr>\n",
       "  </tbody>\n",
       "</table>\n",
       "</div>"
      ],
      "text/plain": [
       "                            city country location parameter  value   unit\n",
       "date.utc                                                                 \n",
       "2019-06-21 00:00:00+00:00  Paris      FR  FR04014       no2   20.0  µg/m³\n",
       "2019-06-20 23:00:00+00:00  Paris      FR  FR04014       no2   21.8  µg/m³\n",
       "2019-06-20 22:00:00+00:00  Paris      FR  FR04014       no2   26.5  µg/m³\n",
       "2019-06-20 21:00:00+00:00  Paris      FR  FR04014       no2   24.9  µg/m³\n",
       "2019-06-20 20:00:00+00:00  Paris      FR  FR04014       no2   21.4  µg/m³"
      ]
     },
     "execution_count": 47,
     "metadata": {
      "tags": []
     },
     "output_type": "execute_result"
    }
   ],
   "source": [
    "# Select no2 data\n",
    "no2 = air_quality[air_quality[\"parameter\"] == \"no2\"]\n",
    "\n",
    "no2.head()"
   ]
  },
  {
   "cell_type": "markdown",
   "metadata": {
    "colab_type": "text",
    "id": "jyFNzYl2jPqX"
   },
   "source": [
    "Now we'll get an even smaller subset of data by\n",
    "\n",
    "- Sorting by the date (`sort_index`)\n",
    "- Grouping by location (`groupby`)\n",
    "- Selecting two measurements for each location (`head`)"
   ]
  },
  {
   "cell_type": "code",
   "execution_count": 0,
   "metadata": {
    "colab": {
     "base_uri": "https://localhost:8080/",
     "height": 266
    },
    "colab_type": "code",
    "executionInfo": {
     "elapsed": 387,
     "status": "ok",
     "timestamp": 1588785422422,
     "user": {
      "displayName": "Richard Alexander",
      "photoUrl": "https://lh3.googleusercontent.com/a-/AOh14Ghn6F8r3pF0SntsFbxkmhRaWso_lCd_s8ePdlKY_g=s64",
      "userId": "13543676537814105778"
     },
     "user_tz": 300
    },
    "id": "clBk4ufQhfx3",
    "outputId": "e8674698-d2e2-4be7-d580-d4aad138c3a1"
   },
   "outputs": [
    {
     "data": {
      "text/html": [
       "<div>\n",
       "<style scoped>\n",
       "    .dataframe tbody tr th:only-of-type {\n",
       "        vertical-align: middle;\n",
       "    }\n",
       "\n",
       "    .dataframe tbody tr th {\n",
       "        vertical-align: top;\n",
       "    }\n",
       "\n",
       "    .dataframe thead th {\n",
       "        text-align: right;\n",
       "    }\n",
       "</style>\n",
       "<table border=\"1\" class=\"dataframe\">\n",
       "  <thead>\n",
       "    <tr style=\"text-align: right;\">\n",
       "      <th></th>\n",
       "      <th>city</th>\n",
       "      <th>country</th>\n",
       "      <th>location</th>\n",
       "      <th>parameter</th>\n",
       "      <th>value</th>\n",
       "      <th>unit</th>\n",
       "    </tr>\n",
       "    <tr>\n",
       "      <th>date.utc</th>\n",
       "      <th></th>\n",
       "      <th></th>\n",
       "      <th></th>\n",
       "      <th></th>\n",
       "      <th></th>\n",
       "      <th></th>\n",
       "    </tr>\n",
       "  </thead>\n",
       "  <tbody>\n",
       "    <tr>\n",
       "      <th>2019-04-09 01:00:00+00:00</th>\n",
       "      <td>Antwerpen</td>\n",
       "      <td>BE</td>\n",
       "      <td>BETR801</td>\n",
       "      <td>no2</td>\n",
       "      <td>22.5</td>\n",
       "      <td>µg/m³</td>\n",
       "    </tr>\n",
       "    <tr>\n",
       "      <th>2019-04-09 01:00:00+00:00</th>\n",
       "      <td>Paris</td>\n",
       "      <td>FR</td>\n",
       "      <td>FR04014</td>\n",
       "      <td>no2</td>\n",
       "      <td>24.4</td>\n",
       "      <td>µg/m³</td>\n",
       "    </tr>\n",
       "    <tr>\n",
       "      <th>2019-04-09 02:00:00+00:00</th>\n",
       "      <td>London</td>\n",
       "      <td>GB</td>\n",
       "      <td>London Westminster</td>\n",
       "      <td>no2</td>\n",
       "      <td>67.0</td>\n",
       "      <td>µg/m³</td>\n",
       "    </tr>\n",
       "    <tr>\n",
       "      <th>2019-04-09 02:00:00+00:00</th>\n",
       "      <td>Antwerpen</td>\n",
       "      <td>BE</td>\n",
       "      <td>BETR801</td>\n",
       "      <td>no2</td>\n",
       "      <td>53.5</td>\n",
       "      <td>µg/m³</td>\n",
       "    </tr>\n",
       "    <tr>\n",
       "      <th>2019-04-09 02:00:00+00:00</th>\n",
       "      <td>Paris</td>\n",
       "      <td>FR</td>\n",
       "      <td>FR04014</td>\n",
       "      <td>no2</td>\n",
       "      <td>27.4</td>\n",
       "      <td>µg/m³</td>\n",
       "    </tr>\n",
       "    <tr>\n",
       "      <th>2019-04-09 03:00:00+00:00</th>\n",
       "      <td>London</td>\n",
       "      <td>GB</td>\n",
       "      <td>London Westminster</td>\n",
       "      <td>no2</td>\n",
       "      <td>67.0</td>\n",
       "      <td>µg/m³</td>\n",
       "    </tr>\n",
       "  </tbody>\n",
       "</table>\n",
       "</div>"
      ],
      "text/plain": [
       "                                city country  ... value   unit\n",
       "date.utc                                      ...             \n",
       "2019-04-09 01:00:00+00:00  Antwerpen      BE  ...  22.5  µg/m³\n",
       "2019-04-09 01:00:00+00:00      Paris      FR  ...  24.4  µg/m³\n",
       "2019-04-09 02:00:00+00:00     London      GB  ...  67.0  µg/m³\n",
       "2019-04-09 02:00:00+00:00  Antwerpen      BE  ...  53.5  µg/m³\n",
       "2019-04-09 02:00:00+00:00      Paris      FR  ...  27.4  µg/m³\n",
       "2019-04-09 03:00:00+00:00     London      GB  ...  67.0  µg/m³\n",
       "\n",
       "[6 rows x 6 columns]"
      ]
     },
     "execution_count": 49,
     "metadata": {
      "tags": []
     },
     "output_type": "execute_result"
    }
   ],
   "source": [
    "no2_subset = no2.sort_index().groupby([\"location\"]).head(2)\n",
    "no2_subset"
   ]
  },
  {
   "cell_type": "markdown",
   "metadata": {
    "colab_type": "text",
    "id": "CtxNxfNUkdM6"
   },
   "source": [
    "# Pivot: Reshape long to wide\n",
    "\n",
    "![Pivot](https://drive.google.com/uc?id=1RATtZcEE5emTa-tuWyt-XvO-7Po7CXjd)\n",
    "\n",
    "The `pivot()` function reshapes data from long to wide format.\n",
    "\n",
    "Let's display our **no2_subset** data with the NO<sub>2</sub> values for all three stations next to each other."
   ]
  },
  {
   "cell_type": "code",
   "execution_count": 0,
   "metadata": {
    "colab": {
     "base_uri": "https://localhost:8080/",
     "height": 173
    },
    "colab_type": "code",
    "executionInfo": {
     "elapsed": 384,
     "status": "ok",
     "timestamp": 1588785728705,
     "user": {
      "displayName": "Richard Alexander",
      "photoUrl": "https://lh3.googleusercontent.com/a-/AOh14Ghn6F8r3pF0SntsFbxkmhRaWso_lCd_s8ePdlKY_g=s64",
      "userId": "13543676537814105778"
     },
     "user_tz": 300
    },
    "id": "c0PqzynYkcgB",
    "outputId": "a37a5292-64f3-4367-bf94-e258a2f204f3"
   },
   "outputs": [
    {
     "data": {
      "text/html": [
       "<div>\n",
       "<style scoped>\n",
       "    .dataframe tbody tr th:only-of-type {\n",
       "        vertical-align: middle;\n",
       "    }\n",
       "\n",
       "    .dataframe tbody tr th {\n",
       "        vertical-align: top;\n",
       "    }\n",
       "\n",
       "    .dataframe thead th {\n",
       "        text-align: right;\n",
       "    }\n",
       "</style>\n",
       "<table border=\"1\" class=\"dataframe\">\n",
       "  <thead>\n",
       "    <tr style=\"text-align: right;\">\n",
       "      <th>location</th>\n",
       "      <th>BETR801</th>\n",
       "      <th>FR04014</th>\n",
       "      <th>London Westminster</th>\n",
       "    </tr>\n",
       "    <tr>\n",
       "      <th>date.utc</th>\n",
       "      <th></th>\n",
       "      <th></th>\n",
       "      <th></th>\n",
       "    </tr>\n",
       "  </thead>\n",
       "  <tbody>\n",
       "    <tr>\n",
       "      <th>2019-04-09 01:00:00+00:00</th>\n",
       "      <td>22.5</td>\n",
       "      <td>24.4</td>\n",
       "      <td>NaN</td>\n",
       "    </tr>\n",
       "    <tr>\n",
       "      <th>2019-04-09 02:00:00+00:00</th>\n",
       "      <td>53.5</td>\n",
       "      <td>27.4</td>\n",
       "      <td>67.0</td>\n",
       "    </tr>\n",
       "    <tr>\n",
       "      <th>2019-04-09 03:00:00+00:00</th>\n",
       "      <td>NaN</td>\n",
       "      <td>NaN</td>\n",
       "      <td>67.0</td>\n",
       "    </tr>\n",
       "  </tbody>\n",
       "</table>\n",
       "</div>"
      ],
      "text/plain": [
       "location                   BETR801  FR04014  London Westminster\n",
       "date.utc                                                       \n",
       "2019-04-09 01:00:00+00:00     22.5     24.4                 NaN\n",
       "2019-04-09 02:00:00+00:00     53.5     27.4                67.0\n",
       "2019-04-09 03:00:00+00:00      NaN      NaN                67.0"
      ]
     },
     "execution_count": 50,
     "metadata": {
      "tags": []
     },
     "output_type": "execute_result"
    }
   ],
   "source": [
    "no2_subset.pivot(columns=\"location\", values=\"value\")"
   ]
  },
  {
   "cell_type": "markdown",
   "metadata": {
    "colab_type": "text",
    "id": "uhUA5xZHB4-Z"
   },
   "source": [
    "Comparing this `pivot` output to the original **no2_subset** Dataframe, we see that it contains the exact same data. The `pivot` has merely reshaped our data."
   ]
  },
  {
   "cell_type": "markdown",
   "metadata": {
    "colab_type": "text",
    "id": "k0kGJIQ1Ew1z"
   },
   "source": [
    "# Pivot Table: Reshape and Aggregate\n",
    "\n",
    "The `pivot_table()` function both reshapes data and aggregates values.\n",
    "\n",
    "We have many measurements over time in our dataset. What if we want to find the mean concentration of both PM<sub>25</sub> and NO<sub>2</sub> in table form?"
   ]
  },
  {
   "cell_type": "code",
   "execution_count": 0,
   "metadata": {
    "colab": {
     "base_uri": "https://localhost:8080/",
     "height": 173
    },
    "colab_type": "code",
    "executionInfo": {
     "elapsed": 401,
     "status": "ok",
     "timestamp": 1588787286539,
     "user": {
      "displayName": "Richard Alexander",
      "photoUrl": "https://lh3.googleusercontent.com/a-/AOh14Ghn6F8r3pF0SntsFbxkmhRaWso_lCd_s8ePdlKY_g=s64",
      "userId": "13543676537814105778"
     },
     "user_tz": 300
    },
    "id": "Qxa7ngCADknP",
    "outputId": "0aca928e-7097-429b-ec6b-b3e2b0514b0a"
   },
   "outputs": [
    {
     "data": {
      "text/html": [
       "<div>\n",
       "<style scoped>\n",
       "    .dataframe tbody tr th:only-of-type {\n",
       "        vertical-align: middle;\n",
       "    }\n",
       "\n",
       "    .dataframe tbody tr th {\n",
       "        vertical-align: top;\n",
       "    }\n",
       "\n",
       "    .dataframe thead th {\n",
       "        text-align: right;\n",
       "    }\n",
       "</style>\n",
       "<table border=\"1\" class=\"dataframe\">\n",
       "  <thead>\n",
       "    <tr style=\"text-align: right;\">\n",
       "      <th>parameter</th>\n",
       "      <th>no2</th>\n",
       "      <th>pm25</th>\n",
       "    </tr>\n",
       "    <tr>\n",
       "      <th>location</th>\n",
       "      <th></th>\n",
       "      <th></th>\n",
       "    </tr>\n",
       "  </thead>\n",
       "  <tbody>\n",
       "    <tr>\n",
       "      <th>BETR801</th>\n",
       "      <td>26.950920</td>\n",
       "      <td>23.169492</td>\n",
       "    </tr>\n",
       "    <tr>\n",
       "      <th>FR04014</th>\n",
       "      <td>29.374284</td>\n",
       "      <td>NaN</td>\n",
       "    </tr>\n",
       "    <tr>\n",
       "      <th>London Westminster</th>\n",
       "      <td>29.740050</td>\n",
       "      <td>13.443568</td>\n",
       "    </tr>\n",
       "  </tbody>\n",
       "</table>\n",
       "</div>"
      ],
      "text/plain": [
       "parameter                 no2       pm25\n",
       "location                                \n",
       "BETR801             26.950920  23.169492\n",
       "FR04014             29.374284        NaN\n",
       "London Westminster  29.740050  13.443568"
      ]
     },
     "execution_count": 56,
     "metadata": {
      "tags": []
     },
     "output_type": "execute_result"
    }
   ],
   "source": [
    "air_quality.pivot_table(values=\"value\", index=\"location\",\n",
    "                        columns=\"parameter\", aggfunc=\"mean\")"
   ]
  },
  {
   "cell_type": "markdown",
   "metadata": {
    "colab_type": "text",
    "id": "W1Bg1edAGm1p"
   },
   "source": [
    "If we also want summary columns, we can set `margins=True`"
   ]
  },
  {
   "cell_type": "code",
   "execution_count": 0,
   "metadata": {
    "colab": {
     "base_uri": "https://localhost:8080/",
     "height": 204
    },
    "colab_type": "code",
    "executionInfo": {
     "elapsed": 533,
     "status": "ok",
     "timestamp": 1588787381527,
     "user": {
      "displayName": "Richard Alexander",
      "photoUrl": "https://lh3.googleusercontent.com/a-/AOh14Ghn6F8r3pF0SntsFbxkmhRaWso_lCd_s8ePdlKY_g=s64",
      "userId": "13543676537814105778"
     },
     "user_tz": 300
    },
    "id": "fYiAyP8zGhAt",
    "outputId": "6b6b083f-9e5f-4dd6-b1cf-528f9fc212e0"
   },
   "outputs": [
    {
     "data": {
      "text/html": [
       "<div>\n",
       "<style scoped>\n",
       "    .dataframe tbody tr th:only-of-type {\n",
       "        vertical-align: middle;\n",
       "    }\n",
       "\n",
       "    .dataframe tbody tr th {\n",
       "        vertical-align: top;\n",
       "    }\n",
       "\n",
       "    .dataframe thead th {\n",
       "        text-align: right;\n",
       "    }\n",
       "</style>\n",
       "<table border=\"1\" class=\"dataframe\">\n",
       "  <thead>\n",
       "    <tr style=\"text-align: right;\">\n",
       "      <th>parameter</th>\n",
       "      <th>no2</th>\n",
       "      <th>pm25</th>\n",
       "      <th>All</th>\n",
       "    </tr>\n",
       "    <tr>\n",
       "      <th>location</th>\n",
       "      <th></th>\n",
       "      <th></th>\n",
       "      <th></th>\n",
       "    </tr>\n",
       "  </thead>\n",
       "  <tbody>\n",
       "    <tr>\n",
       "      <th>BETR801</th>\n",
       "      <td>26.950920</td>\n",
       "      <td>23.169492</td>\n",
       "      <td>24.982353</td>\n",
       "    </tr>\n",
       "    <tr>\n",
       "      <th>FR04014</th>\n",
       "      <td>29.374284</td>\n",
       "      <td>NaN</td>\n",
       "      <td>29.374284</td>\n",
       "    </tr>\n",
       "    <tr>\n",
       "      <th>London Westminster</th>\n",
       "      <td>29.740050</td>\n",
       "      <td>13.443568</td>\n",
       "      <td>21.491708</td>\n",
       "    </tr>\n",
       "    <tr>\n",
       "      <th>All</th>\n",
       "      <td>29.430316</td>\n",
       "      <td>14.386849</td>\n",
       "      <td>24.222743</td>\n",
       "    </tr>\n",
       "  </tbody>\n",
       "</table>\n",
       "</div>"
      ],
      "text/plain": [
       "parameter                 no2       pm25        All\n",
       "location                                           \n",
       "BETR801             26.950920  23.169492  24.982353\n",
       "FR04014             29.374284        NaN  29.374284\n",
       "London Westminster  29.740050  13.443568  21.491708\n",
       "All                 29.430316  14.386849  24.222743"
      ]
     },
     "execution_count": 57,
     "metadata": {
      "tags": []
     },
     "output_type": "execute_result"
    }
   ],
   "source": [
    "air_quality.pivot_table(values=\"value\", index=\"location\",\n",
    "                        columns=\"parameter\", aggfunc=\"mean\",\n",
    "                        margins=True)"
   ]
  },
  {
   "cell_type": "markdown",
   "metadata": {
    "colab_type": "text",
    "id": "uqQ-ItYkHhP8"
   },
   "source": [
    "# Melt: Reshape wide to long\n",
    "\n",
    "![Melt](https://drive.google.com/uc?id=1sdGEMI90GrhrqfOqjxcOqBT3RJg24WrN)\n",
    "\n",
    "Let's start with our pivoted results in wide format."
   ]
  },
  {
   "cell_type": "code",
   "execution_count": 0,
   "metadata": {
    "colab": {
     "base_uri": "https://localhost:8080/",
     "height": 235
    },
    "colab_type": "code",
    "executionInfo": {
     "elapsed": 420,
     "status": "ok",
     "timestamp": 1588787641489,
     "user": {
      "displayName": "Richard Alexander",
      "photoUrl": "https://lh3.googleusercontent.com/a-/AOh14Ghn6F8r3pF0SntsFbxkmhRaWso_lCd_s8ePdlKY_g=s64",
      "userId": "13543676537814105778"
     },
     "user_tz": 300
    },
    "id": "qdLIBsDfHhAd",
    "outputId": "edf1c0b0-c005-4148-87ff-180f5f5a8c92"
   },
   "outputs": [
    {
     "data": {
      "text/html": [
       "<div>\n",
       "<style scoped>\n",
       "    .dataframe tbody tr th:only-of-type {\n",
       "        vertical-align: middle;\n",
       "    }\n",
       "\n",
       "    .dataframe tbody tr th {\n",
       "        vertical-align: top;\n",
       "    }\n",
       "\n",
       "    .dataframe thead th {\n",
       "        text-align: right;\n",
       "    }\n",
       "</style>\n",
       "<table border=\"1\" class=\"dataframe\">\n",
       "  <thead>\n",
       "    <tr style=\"text-align: right;\">\n",
       "      <th>location</th>\n",
       "      <th>BETR801</th>\n",
       "      <th>FR04014</th>\n",
       "      <th>London Westminster</th>\n",
       "    </tr>\n",
       "    <tr>\n",
       "      <th>date.utc</th>\n",
       "      <th></th>\n",
       "      <th></th>\n",
       "      <th></th>\n",
       "    </tr>\n",
       "  </thead>\n",
       "  <tbody>\n",
       "    <tr>\n",
       "      <th>2019-04-09 01:00:00+00:00</th>\n",
       "      <td>22.5</td>\n",
       "      <td>24.4</td>\n",
       "      <td>NaN</td>\n",
       "    </tr>\n",
       "    <tr>\n",
       "      <th>2019-04-09 02:00:00+00:00</th>\n",
       "      <td>53.5</td>\n",
       "      <td>27.4</td>\n",
       "      <td>67.0</td>\n",
       "    </tr>\n",
       "    <tr>\n",
       "      <th>2019-04-09 03:00:00+00:00</th>\n",
       "      <td>54.5</td>\n",
       "      <td>34.2</td>\n",
       "      <td>67.0</td>\n",
       "    </tr>\n",
       "    <tr>\n",
       "      <th>2019-04-09 04:00:00+00:00</th>\n",
       "      <td>34.5</td>\n",
       "      <td>48.5</td>\n",
       "      <td>41.0</td>\n",
       "    </tr>\n",
       "    <tr>\n",
       "      <th>2019-04-09 05:00:00+00:00</th>\n",
       "      <td>46.5</td>\n",
       "      <td>59.5</td>\n",
       "      <td>41.0</td>\n",
       "    </tr>\n",
       "  </tbody>\n",
       "</table>\n",
       "</div>"
      ],
      "text/plain": [
       "location                   BETR801  FR04014  London Westminster\n",
       "date.utc                                                       \n",
       "2019-04-09 01:00:00+00:00     22.5     24.4                 NaN\n",
       "2019-04-09 02:00:00+00:00     53.5     27.4                67.0\n",
       "2019-04-09 03:00:00+00:00     54.5     34.2                67.0\n",
       "2019-04-09 04:00:00+00:00     34.5     48.5                41.0\n",
       "2019-04-09 05:00:00+00:00     46.5     59.5                41.0"
      ]
     },
     "execution_count": 59,
     "metadata": {
      "tags": []
     },
     "output_type": "execute_result"
    }
   ],
   "source": [
    "no2_pivoted = no2.pivot(columns=\"location\", values=\"value\")\n",
    "\n",
    "no2_pivoted.head()"
   ]
  },
  {
   "cell_type": "markdown",
   "metadata": {
    "colab_type": "text",
    "id": "WEjp4C08IBsE"
   },
   "source": [
    "We want the data to be treated as a column, so we will reset the index."
   ]
  },
  {
   "cell_type": "code",
   "execution_count": 0,
   "metadata": {
    "colab": {
     "base_uri": "https://localhost:8080/",
     "height": 204
    },
    "colab_type": "code",
    "executionInfo": {
     "elapsed": 467,
     "status": "ok",
     "timestamp": 1588787714303,
     "user": {
      "displayName": "Richard Alexander",
      "photoUrl": "https://lh3.googleusercontent.com/a-/AOh14Ghn6F8r3pF0SntsFbxkmhRaWso_lCd_s8ePdlKY_g=s64",
      "userId": "13543676537814105778"
     },
     "user_tz": 300
    },
    "id": "YDSEPEMhH8gB",
    "outputId": "8868481e-7b8b-4056-ee5a-903e3571e4bd"
   },
   "outputs": [
    {
     "data": {
      "text/html": [
       "<div>\n",
       "<style scoped>\n",
       "    .dataframe tbody tr th:only-of-type {\n",
       "        vertical-align: middle;\n",
       "    }\n",
       "\n",
       "    .dataframe tbody tr th {\n",
       "        vertical-align: top;\n",
       "    }\n",
       "\n",
       "    .dataframe thead th {\n",
       "        text-align: right;\n",
       "    }\n",
       "</style>\n",
       "<table border=\"1\" class=\"dataframe\">\n",
       "  <thead>\n",
       "    <tr style=\"text-align: right;\">\n",
       "      <th>location</th>\n",
       "      <th>date.utc</th>\n",
       "      <th>BETR801</th>\n",
       "      <th>FR04014</th>\n",
       "      <th>London Westminster</th>\n",
       "    </tr>\n",
       "  </thead>\n",
       "  <tbody>\n",
       "    <tr>\n",
       "      <th>0</th>\n",
       "      <td>2019-04-09 01:00:00+00:00</td>\n",
       "      <td>22.5</td>\n",
       "      <td>24.4</td>\n",
       "      <td>NaN</td>\n",
       "    </tr>\n",
       "    <tr>\n",
       "      <th>1</th>\n",
       "      <td>2019-04-09 02:00:00+00:00</td>\n",
       "      <td>53.5</td>\n",
       "      <td>27.4</td>\n",
       "      <td>67.0</td>\n",
       "    </tr>\n",
       "    <tr>\n",
       "      <th>2</th>\n",
       "      <td>2019-04-09 03:00:00+00:00</td>\n",
       "      <td>54.5</td>\n",
       "      <td>34.2</td>\n",
       "      <td>67.0</td>\n",
       "    </tr>\n",
       "    <tr>\n",
       "      <th>3</th>\n",
       "      <td>2019-04-09 04:00:00+00:00</td>\n",
       "      <td>34.5</td>\n",
       "      <td>48.5</td>\n",
       "      <td>41.0</td>\n",
       "    </tr>\n",
       "    <tr>\n",
       "      <th>4</th>\n",
       "      <td>2019-04-09 05:00:00+00:00</td>\n",
       "      <td>46.5</td>\n",
       "      <td>59.5</td>\n",
       "      <td>41.0</td>\n",
       "    </tr>\n",
       "  </tbody>\n",
       "</table>\n",
       "</div>"
      ],
      "text/plain": [
       "location                  date.utc  BETR801  FR04014  London Westminster\n",
       "0        2019-04-09 01:00:00+00:00     22.5     24.4                 NaN\n",
       "1        2019-04-09 02:00:00+00:00     53.5     27.4                67.0\n",
       "2        2019-04-09 03:00:00+00:00     54.5     34.2                67.0\n",
       "3        2019-04-09 04:00:00+00:00     34.5     48.5                41.0\n",
       "4        2019-04-09 05:00:00+00:00     46.5     59.5                41.0"
      ]
     },
     "execution_count": 60,
     "metadata": {
      "tags": []
     },
     "output_type": "execute_result"
    }
   ],
   "source": [
    "no2_pivoted = no2_pivoted.reset_index()\n",
    "\n",
    "no2_pivoted.head()"
   ]
  },
  {
   "cell_type": "markdown",
   "metadata": {
    "colab_type": "text",
    "id": "RH2jI0GTIW_v"
   },
   "source": [
    "We can use `melt()` to reshape this wide format data to long format where each observation has its own row."
   ]
  },
  {
   "cell_type": "code",
   "execution_count": 0,
   "metadata": {
    "colab": {
     "base_uri": "https://localhost:8080/",
     "height": 204
    },
    "colab_type": "code",
    "executionInfo": {
     "elapsed": 669,
     "status": "ok",
     "timestamp": 1588787955485,
     "user": {
      "displayName": "Richard Alexander",
      "photoUrl": "https://lh3.googleusercontent.com/a-/AOh14Ghn6F8r3pF0SntsFbxkmhRaWso_lCd_s8ePdlKY_g=s64",
      "userId": "13543676537814105778"
     },
     "user_tz": 300
    },
    "id": "pVaZAxKCIWHv",
    "outputId": "e7970e14-d59e-40a6-c6ed-5886e6491d8e"
   },
   "outputs": [
    {
     "data": {
      "text/html": [
       "<div>\n",
       "<style scoped>\n",
       "    .dataframe tbody tr th:only-of-type {\n",
       "        vertical-align: middle;\n",
       "    }\n",
       "\n",
       "    .dataframe tbody tr th {\n",
       "        vertical-align: top;\n",
       "    }\n",
       "\n",
       "    .dataframe thead th {\n",
       "        text-align: right;\n",
       "    }\n",
       "</style>\n",
       "<table border=\"1\" class=\"dataframe\">\n",
       "  <thead>\n",
       "    <tr style=\"text-align: right;\">\n",
       "      <th></th>\n",
       "      <th>date.utc</th>\n",
       "      <th>location</th>\n",
       "      <th>value</th>\n",
       "    </tr>\n",
       "  </thead>\n",
       "  <tbody>\n",
       "    <tr>\n",
       "      <th>0</th>\n",
       "      <td>2019-04-09 01:00:00+00:00</td>\n",
       "      <td>BETR801</td>\n",
       "      <td>22.5</td>\n",
       "    </tr>\n",
       "    <tr>\n",
       "      <th>1</th>\n",
       "      <td>2019-04-09 02:00:00+00:00</td>\n",
       "      <td>BETR801</td>\n",
       "      <td>53.5</td>\n",
       "    </tr>\n",
       "    <tr>\n",
       "      <th>2</th>\n",
       "      <td>2019-04-09 03:00:00+00:00</td>\n",
       "      <td>BETR801</td>\n",
       "      <td>54.5</td>\n",
       "    </tr>\n",
       "    <tr>\n",
       "      <th>3</th>\n",
       "      <td>2019-04-09 04:00:00+00:00</td>\n",
       "      <td>BETR801</td>\n",
       "      <td>34.5</td>\n",
       "    </tr>\n",
       "    <tr>\n",
       "      <th>4</th>\n",
       "      <td>2019-04-09 05:00:00+00:00</td>\n",
       "      <td>BETR801</td>\n",
       "      <td>46.5</td>\n",
       "    </tr>\n",
       "  </tbody>\n",
       "</table>\n",
       "</div>"
      ],
      "text/plain": [
       "                   date.utc location  value\n",
       "0 2019-04-09 01:00:00+00:00  BETR801   22.5\n",
       "1 2019-04-09 02:00:00+00:00  BETR801   53.5\n",
       "2 2019-04-09 03:00:00+00:00  BETR801   54.5\n",
       "3 2019-04-09 04:00:00+00:00  BETR801   34.5\n",
       "4 2019-04-09 05:00:00+00:00  BETR801   46.5"
      ]
     },
     "execution_count": 61,
     "metadata": {
      "tags": []
     },
     "output_type": "execute_result"
    }
   ],
   "source": [
    "no_2 = no2_pivoted.melt(id_vars=\"date.utc\")\n",
    "\n",
    "no_2.head()"
   ]
  },
  {
   "cell_type": "markdown",
   "metadata": {
    "colab_type": "text",
    "id": "vfxD2LvKJ7Yq"
   },
   "source": [
    "Notice that our column headers have all been \"melted\" into a single **location** column.\n",
    "\n",
    "By default, `melt()` combines all columns that are NOT mentioned in `id_vars`. The result is always two columns: A column with the header names, and a column with the table values named **value**."
   ]
  },
  {
   "cell_type": "markdown",
   "metadata": {
    "colab_type": "text",
    "id": "C6RXQqLnK43R"
   },
   "source": [
    "# Summary\n",
    "\n",
    "- Sorting by one or more columns can be done with `sort_values`\n",
    "- `pivot` reshapes data\n",
    "- `pivot_table` both reshapes and aggregates data\n",
    "- The reverse of `pivot` (long to wide format) is `melt` (wide to long format)"
   ]
  },
  {
   "cell_type": "code",
   "execution_count": 0,
   "metadata": {
    "colab": {},
    "colab_type": "code",
    "id": "am-ENX-xLjHE"
   },
   "outputs": [],
   "source": []
  }
 ],
 "metadata": {
  "colab": {
   "authorship_tag": "ABX9TyPsgl8PCVeCY8KqEVvvLTfC",
   "collapsed_sections": [],
   "name": "Pandas_5_Reshaping_Data.ipynb",
   "provenance": []
  },
  "kernelspec": {
   "display_name": "Python 3",
   "language": "python",
   "name": "python3"
  },
  "language_info": {
   "codemirror_mode": {
    "name": "ipython",
    "version": 3
   },
   "file_extension": ".py",
   "mimetype": "text/x-python",
   "name": "python",
   "nbconvert_exporter": "python",
   "pygments_lexer": "ipython3",
   "version": "3.6.10"
  }
 },
 "nbformat": 4,
 "nbformat_minor": 1
}
