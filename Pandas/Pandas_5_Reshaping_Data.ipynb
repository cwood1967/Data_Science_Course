{
 "cells": [
  {
   "cell_type": "code",
   "execution_count": null,
   "metadata": {
    "colab": {},
    "colab_type": "code",
    "id": "eY9A4CAsXOXh"
   },
   "outputs": [],
   "source": [
    "import numpy as np\n",
    "import pandas as pd"
   ]
  },
  {
   "cell_type": "markdown",
   "metadata": {
    "colab_type": "text",
    "id": "KLZ07zLkYYSq"
   },
   "source": [
    "# Reshaping Data\n",
    "\n",
    "It is often desirable to reshape a dataset into a more concise format. An example of this would be Excel pivot tables.\n",
    "\n",
    "Pandas provides useful functions to reshape data. To explore these functions, we will load both the Titanic dataset and the Air Quality dataset."
   ]
  },
  {
   "cell_type": "code",
   "execution_count": null,
   "metadata": {
    "colab": {
     "base_uri": "https://localhost:8080/",
     "height": 204
    },
    "colab_type": "code",
    "executionInfo": {
     "elapsed": 802,
     "status": "ok",
     "timestamp": 1588785384785,
     "user": {
      "displayName": "Richard Alexander",
      "photoUrl": "https://lh3.googleusercontent.com/a-/AOh14Ghn6F8r3pF0SntsFbxkmhRaWso_lCd_s8ePdlKY_g=s64",
      "userId": "13543676537814105778"
     },
     "user_tz": 300
    },
    "id": "tGdZDHIAXeLb",
    "outputId": "a109eab2-7658-4202-b316-be06bec2ca1e"
   },
   "outputs": [],
   "source": [
    "# Open the titanic CSV\n",
    "titanic = pd.read_csv(\"https://raw.githubusercontent.com/pandas-dev/pandas/master/doc/data/titanic.csv\")\n",
    "\n",
    "titanic.head()"
   ]
  },
  {
   "cell_type": "code",
   "execution_count": null,
   "metadata": {
    "colab": {
     "base_uri": "https://localhost:8080/",
     "height": 235
    },
    "colab_type": "code",
    "executionInfo": {
     "elapsed": 789,
     "status": "ok",
     "timestamp": 1588785384786,
     "user": {
      "displayName": "Richard Alexander",
      "photoUrl": "https://lh3.googleusercontent.com/a-/AOh14Ghn6F8r3pF0SntsFbxkmhRaWso_lCd_s8ePdlKY_g=s64",
      "userId": "13543676537814105778"
     },
     "user_tz": 300
    },
    "id": "dY_08cTNay9g",
    "outputId": "d8b07885-fdfc-454b-cb05-aaa8886a9b8a"
   },
   "outputs": [],
   "source": [
    "# Open the air quality CSV\n",
    "air_quality  = pd.read_csv(\"https://raw.githubusercontent.com/pandas-dev/pandas/master/doc/data/air_quality_long.csv\", index_col=\"date.utc\", parse_dates=True)\n",
    "\n",
    "air_quality .head()"
   ]
  },
  {
   "cell_type": "markdown",
   "metadata": {
    "colab_type": "text",
    "id": "2wuH0wIebh22"
   },
   "source": [
    "Notice that the air quality data is in a long format, with each observation on a seperate row and each variable in a seperate column."
   ]
  },
  {
   "cell_type": "markdown",
   "metadata": {
    "colab_type": "text",
    "id": "e3kbvgnzb_aJ"
   },
   "source": [
    "# Sorting Rows\n",
    "\n",
    "Row sorting is done with the `sort_values()` function.\n",
    "\n",
    "First let's sort the titanic data acording to the **Age** of the passengers."
   ]
  },
  {
   "cell_type": "code",
   "execution_count": null,
   "metadata": {
    "colab": {
     "base_uri": "https://localhost:8080/",
     "height": 204
    },
    "colab_type": "code",
    "executionInfo": {
     "elapsed": 776,
     "status": "ok",
     "timestamp": 1588785384787,
     "user": {
      "displayName": "Richard Alexander",
      "photoUrl": "https://lh3.googleusercontent.com/a-/AOh14Ghn6F8r3pF0SntsFbxkmhRaWso_lCd_s8ePdlKY_g=s64",
      "userId": "13543676537814105778"
     },
     "user_tz": 300
    },
    "id": "jhwG_49QbhHX",
    "outputId": "2646e660-0ec6-4113-c52d-de75f0875bc2"
   },
   "outputs": [],
   "source": [
    "# Sort titanic data by age\n",
    "titanic.sort_values(by=\"Age\").head()"
   ]
  },
  {
   "cell_type": "markdown",
   "metadata": {
    "colab_type": "text",
    "id": "KCLmFUNOcwpK"
   },
   "source": [
    "We can sort multiple columns at once by passing a list of column names.\n",
    "\n",
    "This time we will sort by **Pclass** and **Age**."
   ]
  },
  {
   "cell_type": "code",
   "execution_count": null,
   "metadata": {
    "colab": {
     "base_uri": "https://localhost:8080/",
     "height": 204
    },
    "colab_type": "code",
    "executionInfo": {
     "elapsed": 764,
     "status": "ok",
     "timestamp": 1588785384788,
     "user": {
      "displayName": "Richard Alexander",
      "photoUrl": "https://lh3.googleusercontent.com/a-/AOh14Ghn6F8r3pF0SntsFbxkmhRaWso_lCd_s8ePdlKY_g=s64",
      "userId": "13543676537814105778"
     },
     "user_tz": 300
    },
    "id": "ruGdvzphbESy",
    "outputId": "7ce40cac-822f-4b60-e14a-b7c466b4a23d"
   },
   "outputs": [],
   "source": [
    "titanic.sort_values(by=['Pclass', 'Age']).head()"
   ]
  },
  {
   "cell_type": "markdown",
   "metadata": {
    "colab_type": "text",
    "id": "3eT6HtivdXv9"
   },
   "source": [
    "Let's do the same sort, but this time in descending order by setting `ascending=False`."
   ]
  },
  {
   "cell_type": "code",
   "execution_count": null,
   "metadata": {
    "colab": {
     "base_uri": "https://localhost:8080/",
     "height": 204
    },
    "colab_type": "code",
    "executionInfo": {
     "elapsed": 751,
     "status": "ok",
     "timestamp": 1588785384788,
     "user": {
      "displayName": "Richard Alexander",
      "photoUrl": "https://lh3.googleusercontent.com/a-/AOh14Ghn6F8r3pF0SntsFbxkmhRaWso_lCd_s8ePdlKY_g=s64",
      "userId": "13543676537814105778"
     },
     "user_tz": 300
    },
    "id": "vMFTuHuRdVj6",
    "outputId": "e8b775ea-1961-4706-e11b-f120243f200f"
   },
   "outputs": [],
   "source": [
    "titanic.sort_values(by=['Pclass', 'Age'], ascending=False).head()"
   ]
  },
  {
   "cell_type": "markdown",
   "metadata": {
    "colab_type": "text",
    "id": "B4GsQ2N6fpUr"
   },
   "source": [
    "# Prepare a Demo Subset\n",
    "\n",
    "We need a small subset of the data to illustrate reshaping.\n",
    "\n",
    "In the air quality data, what parameter values do we have?"
   ]
  },
  {
   "cell_type": "code",
   "execution_count": null,
   "metadata": {
    "colab": {
     "base_uri": "https://localhost:8080/",
     "height": 34
    },
    "colab_type": "code",
    "executionInfo": {
     "elapsed": 731,
     "status": "ok",
     "timestamp": 1588785384789,
     "user": {
      "displayName": "Richard Alexander",
      "photoUrl": "https://lh3.googleusercontent.com/a-/AOh14Ghn6F8r3pF0SntsFbxkmhRaWso_lCd_s8ePdlKY_g=s64",
      "userId": "13543676537814105778"
     },
     "user_tz": 300
    },
    "id": "8ZzUIg93eSxN",
    "outputId": "4520cea9-0321-4c18-bbad-265cea760bc7"
   },
   "outputs": [],
   "source": [
    "air_quality[\"parameter\"].unique()"
   ]
  },
  {
   "cell_type": "markdown",
   "metadata": {
    "colab_type": "text",
    "id": "7h4qptQSgC2X"
   },
   "source": [
    "We have both PM<sub>25</sub> and NO<sub>2</sub> data.\n",
    "\n",
    "Let's select only the NO<sub>2</sub> data"
   ]
  },
  {
   "cell_type": "code",
   "execution_count": null,
   "metadata": {
    "colab": {
     "base_uri": "https://localhost:8080/",
     "height": 235
    },
    "colab_type": "code",
    "executionInfo": {
     "elapsed": 717,
     "status": "ok",
     "timestamp": 1588785384790,
     "user": {
      "displayName": "Richard Alexander",
      "photoUrl": "https://lh3.googleusercontent.com/a-/AOh14Ghn6F8r3pF0SntsFbxkmhRaWso_lCd_s8ePdlKY_g=s64",
      "userId": "13543676537814105778"
     },
     "user_tz": 300
    },
    "id": "_5ZhbZ7Lf0LC",
    "outputId": "5100e451-242b-42c0-ccc7-e6978eccaf76"
   },
   "outputs": [],
   "source": [
    "# Select no2 data\n",
    "no2 = air_quality[air_quality[\"parameter\"] == \"no2\"]\n",
    "\n",
    "no2.head()"
   ]
  },
  {
   "cell_type": "markdown",
   "metadata": {
    "colab_type": "text",
    "id": "jyFNzYl2jPqX"
   },
   "source": [
    "Now we'll get an even smaller subset of data by\n",
    "\n",
    "- Sorting by the date (`sort_index`)\n",
    "- Grouping by location (`groupby`)\n",
    "- Selecting two measurements for each location (`head`)"
   ]
  },
  {
   "cell_type": "code",
   "execution_count": null,
   "metadata": {
    "colab": {
     "base_uri": "https://localhost:8080/",
     "height": 266
    },
    "colab_type": "code",
    "executionInfo": {
     "elapsed": 387,
     "status": "ok",
     "timestamp": 1588785422422,
     "user": {
      "displayName": "Richard Alexander",
      "photoUrl": "https://lh3.googleusercontent.com/a-/AOh14Ghn6F8r3pF0SntsFbxkmhRaWso_lCd_s8ePdlKY_g=s64",
      "userId": "13543676537814105778"
     },
     "user_tz": 300
    },
    "id": "clBk4ufQhfx3",
    "outputId": "e8674698-d2e2-4be7-d580-d4aad138c3a1"
   },
   "outputs": [],
   "source": [
    "no2_subset = no2.sort_index().groupby([\"location\"]).head(2)\n",
    "no2_subset"
   ]
  },
  {
   "cell_type": "markdown",
   "metadata": {
    "colab_type": "text",
    "id": "CtxNxfNUkdM6"
   },
   "source": [
    "# Pivot: Reshape long to wide\n",
    "\n",
    "![Pivot](https://drive.google.com/uc?id=1RATtZcEE5emTa-tuWyt-XvO-7Po7CXjd)\n",
    "\n",
    "The `pivot()` function reshapes data from long to wide format.\n",
    "\n",
    "Let's display our **no2_subset** data with the NO<sub>2</sub> values for all three stations next to each other."
   ]
  },
  {
   "cell_type": "code",
   "execution_count": null,
   "metadata": {
    "colab": {
     "base_uri": "https://localhost:8080/",
     "height": 173
    },
    "colab_type": "code",
    "executionInfo": {
     "elapsed": 384,
     "status": "ok",
     "timestamp": 1588785728705,
     "user": {
      "displayName": "Richard Alexander",
      "photoUrl": "https://lh3.googleusercontent.com/a-/AOh14Ghn6F8r3pF0SntsFbxkmhRaWso_lCd_s8ePdlKY_g=s64",
      "userId": "13543676537814105778"
     },
     "user_tz": 300
    },
    "id": "c0PqzynYkcgB",
    "outputId": "a37a5292-64f3-4367-bf94-e258a2f204f3"
   },
   "outputs": [],
   "source": [
    "no2_subset.pivot(columns=\"location\", values=\"value\")"
   ]
  },
  {
   "cell_type": "markdown",
   "metadata": {
    "colab_type": "text",
    "id": "uhUA5xZHB4-Z"
   },
   "source": [
    "Comparing this `pivot` output to the original **no2_subset** Dataframe, we see that it contains the exact same data. The `pivot` has merely reshaped our data."
   ]
  },
  {
   "cell_type": "markdown",
   "metadata": {
    "colab_type": "text",
    "id": "k0kGJIQ1Ew1z"
   },
   "source": [
    "# Pivot Table: Reshape and Aggregate\n",
    "\n",
    "The `pivot_table()` function both reshapes data and aggregates values.\n",
    "\n",
    "We have many measurements over time in our dataset. What if we want to find the mean concentration of both PM<sub>25</sub> and NO<sub>2</sub> in table form?"
   ]
  },
  {
   "cell_type": "code",
   "execution_count": null,
   "metadata": {
    "colab": {
     "base_uri": "https://localhost:8080/",
     "height": 173
    },
    "colab_type": "code",
    "executionInfo": {
     "elapsed": 401,
     "status": "ok",
     "timestamp": 1588787286539,
     "user": {
      "displayName": "Richard Alexander",
      "photoUrl": "https://lh3.googleusercontent.com/a-/AOh14Ghn6F8r3pF0SntsFbxkmhRaWso_lCd_s8ePdlKY_g=s64",
      "userId": "13543676537814105778"
     },
     "user_tz": 300
    },
    "id": "Qxa7ngCADknP",
    "outputId": "0aca928e-7097-429b-ec6b-b3e2b0514b0a"
   },
   "outputs": [],
   "source": [
    "air_quality.pivot_table(values=\"value\", index=\"location\",\n",
    "                        columns=\"parameter\", aggfunc=\"mean\")"
   ]
  },
  {
   "cell_type": "markdown",
   "metadata": {
    "colab_type": "text",
    "id": "W1Bg1edAGm1p"
   },
   "source": [
    "If we also want summary columns, we can set `margins=True`"
   ]
  },
  {
   "cell_type": "code",
   "execution_count": null,
   "metadata": {
    "colab": {
     "base_uri": "https://localhost:8080/",
     "height": 204
    },
    "colab_type": "code",
    "executionInfo": {
     "elapsed": 533,
     "status": "ok",
     "timestamp": 1588787381527,
     "user": {
      "displayName": "Richard Alexander",
      "photoUrl": "https://lh3.googleusercontent.com/a-/AOh14Ghn6F8r3pF0SntsFbxkmhRaWso_lCd_s8ePdlKY_g=s64",
      "userId": "13543676537814105778"
     },
     "user_tz": 300
    },
    "id": "fYiAyP8zGhAt",
    "outputId": "6b6b083f-9e5f-4dd6-b1cf-528f9fc212e0"
   },
   "outputs": [],
   "source": [
    "air_quality.pivot_table(values=\"value\", index=\"location\",\n",
    "                        columns=\"parameter\", aggfunc=\"mean\",\n",
    "                        margins=True)"
   ]
  },
  {
   "cell_type": "markdown",
   "metadata": {
    "colab_type": "text",
    "id": "uqQ-ItYkHhP8"
   },
   "source": [
    "# Melt: Reshape wide to long\n",
    "\n",
    "![Melt](https://drive.google.com/uc?id=1sdGEMI90GrhrqfOqjxcOqBT3RJg24WrN)\n",
    "\n",
    "Let's start with our pivoted results in wide format."
   ]
  },
  {
   "cell_type": "code",
   "execution_count": null,
   "metadata": {
    "colab": {
     "base_uri": "https://localhost:8080/",
     "height": 235
    },
    "colab_type": "code",
    "executionInfo": {
     "elapsed": 420,
     "status": "ok",
     "timestamp": 1588787641489,
     "user": {
      "displayName": "Richard Alexander",
      "photoUrl": "https://lh3.googleusercontent.com/a-/AOh14Ghn6F8r3pF0SntsFbxkmhRaWso_lCd_s8ePdlKY_g=s64",
      "userId": "13543676537814105778"
     },
     "user_tz": 300
    },
    "id": "qdLIBsDfHhAd",
    "outputId": "edf1c0b0-c005-4148-87ff-180f5f5a8c92"
   },
   "outputs": [],
   "source": [
    "no2_pivoted = no2.pivot(columns=\"location\", values=\"value\")\n",
    "\n",
    "no2_pivoted.head()"
   ]
  },
  {
   "cell_type": "markdown",
   "metadata": {
    "colab_type": "text",
    "id": "WEjp4C08IBsE"
   },
   "source": [
    "We want the data to be treated as a column, so we will reset the index."
   ]
  },
  {
   "cell_type": "code",
   "execution_count": null,
   "metadata": {
    "colab": {
     "base_uri": "https://localhost:8080/",
     "height": 204
    },
    "colab_type": "code",
    "executionInfo": {
     "elapsed": 467,
     "status": "ok",
     "timestamp": 1588787714303,
     "user": {
      "displayName": "Richard Alexander",
      "photoUrl": "https://lh3.googleusercontent.com/a-/AOh14Ghn6F8r3pF0SntsFbxkmhRaWso_lCd_s8ePdlKY_g=s64",
      "userId": "13543676537814105778"
     },
     "user_tz": 300
    },
    "id": "YDSEPEMhH8gB",
    "outputId": "8868481e-7b8b-4056-ee5a-903e3571e4bd"
   },
   "outputs": [],
   "source": [
    "no2_pivoted = no2_pivoted.reset_index()\n",
    "\n",
    "no2_pivoted.head()"
   ]
  },
  {
   "cell_type": "markdown",
   "metadata": {
    "colab_type": "text",
    "id": "RH2jI0GTIW_v"
   },
   "source": [
    "We can use `melt()` to reshape this wide format data to long format where each observation has its own row."
   ]
  },
  {
   "cell_type": "code",
   "execution_count": null,
   "metadata": {
    "colab": {
     "base_uri": "https://localhost:8080/",
     "height": 204
    },
    "colab_type": "code",
    "executionInfo": {
     "elapsed": 669,
     "status": "ok",
     "timestamp": 1588787955485,
     "user": {
      "displayName": "Richard Alexander",
      "photoUrl": "https://lh3.googleusercontent.com/a-/AOh14Ghn6F8r3pF0SntsFbxkmhRaWso_lCd_s8ePdlKY_g=s64",
      "userId": "13543676537814105778"
     },
     "user_tz": 300
    },
    "id": "pVaZAxKCIWHv",
    "outputId": "e7970e14-d59e-40a6-c6ed-5886e6491d8e"
   },
   "outputs": [],
   "source": [
    "no_2 = no2_pivoted.melt(id_vars=\"date.utc\")\n",
    "\n",
    "no_2.head()"
   ]
  },
  {
   "cell_type": "markdown",
   "metadata": {
    "colab_type": "text",
    "id": "vfxD2LvKJ7Yq"
   },
   "source": [
    "Notice that our column headers have all been \"melted\" into a single **location** column.\n",
    "\n",
    "By default, `melt()` combines all columns that are NOT mentioned in `id_vars`. The result is always two columns: A column with the header names, and a column with the table values named **value**."
   ]
  },
  {
   "cell_type": "markdown",
   "metadata": {
    "colab_type": "text",
    "id": "C6RXQqLnK43R"
   },
   "source": [
    "# Summary\n",
    "\n",
    "- Sorting by one or more columns can be done with `sort_values`\n",
    "- `pivot` reshapes data\n",
    "- `pivot_table` both reshapes and aggregates data\n",
    "- The reverse of `pivot` (long to wide format) is `melt` (wide to long format)"
   ]
  }
 ],
 "metadata": {
  "colab": {
   "authorship_tag": "ABX9TyPsgl8PCVeCY8KqEVvvLTfC",
   "collapsed_sections": [],
   "name": "Pandas_5_Reshaping_Data.ipynb",
   "provenance": []
  },
  "kernelspec": {
   "display_name": "Python 3",
   "language": "python",
   "name": "python3"
  },
  "language_info": {
   "codemirror_mode": {
    "name": "ipython",
    "version": 3
   },
   "file_extension": ".py",
   "mimetype": "text/x-python",
   "name": "python",
   "nbconvert_exporter": "python",
   "pygments_lexer": "ipython3",
   "version": "3.6.2-final"
  }
 },
 "nbformat": 4,
 "nbformat_minor": 1
}