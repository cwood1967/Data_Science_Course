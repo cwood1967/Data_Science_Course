{
 "cells": [
  {
   "cell_type": "code",
   "execution_count": 0,
   "metadata": {
    "colab": {},
    "colab_type": "code",
    "id": "LGw9HGNZ-bPx"
   },
   "outputs": [],
   "source": [
    "import numpy as np\n",
    "import pandas as pd"
   ]
  },
  {
   "cell_type": "markdown",
   "metadata": {
    "colab_type": "text",
    "id": "7-XS-zwN3-_Y"
   },
   "source": [
    "# Creating Derived Columns\n",
    "\n",
    "To analyze a dataset, we will almost always need to perform calculations in order to transform the data into usable information. In traditional programming we would write loops and in excel we would copy/paste a formula into every cell in a column. One fantastic feature of Pandas is that it expects calculations to be performed over an entire column which makes the code for calculations very succinct."
   ]
  },
  {
   "cell_type": "markdown",
   "metadata": {
    "colab_type": "text",
    "id": "2NORI7iNCrvi"
   },
   "source": [
    "# Mount Drive"
   ]
  },
  {
   "cell_type": "markdown",
   "metadata": {
    "colab_type": "text",
    "id": "v9FVkwGtCvoD"
   },
   "source": [
    "# Load CSV Data"
   ]
  },
  {
   "cell_type": "code",
   "execution_count": 0,
   "metadata": {
    "colab": {
     "base_uri": "https://localhost:8080/",
     "height": 235
    },
    "colab_type": "code",
    "executionInfo": {
     "elapsed": 374,
     "status": "ok",
     "timestamp": 1588769070907,
     "user": {
      "displayName": "Richard Alexander",
      "photoUrl": "https://lh3.googleusercontent.com/a-/AOh14Ghn6F8r3pF0SntsFbxkmhRaWso_lCd_s8ePdlKY_g=s64",
      "userId": "13543676537814105778"
     },
     "user_tz": 300
    },
    "id": "26Ix25IN2S5g",
    "outputId": "981f7784-325a-4687-d5a9-96d786210675"
   },
   "outputs": [
    {
     "data": {
      "text/html": [
       "<div>\n",
       "<style scoped>\n",
       "    .dataframe tbody tr th:only-of-type {\n",
       "        vertical-align: middle;\n",
       "    }\n",
       "\n",
       "    .dataframe tbody tr th {\n",
       "        vertical-align: top;\n",
       "    }\n",
       "\n",
       "    .dataframe thead th {\n",
       "        text-align: right;\n",
       "    }\n",
       "</style>\n",
       "<table border=\"1\" class=\"dataframe\">\n",
       "  <thead>\n",
       "    <tr style=\"text-align: right;\">\n",
       "      <th></th>\n",
       "      <th>station_antwerp</th>\n",
       "      <th>station_paris</th>\n",
       "      <th>station_london</th>\n",
       "    </tr>\n",
       "    <tr>\n",
       "      <th>datetime</th>\n",
       "      <th></th>\n",
       "      <th></th>\n",
       "      <th></th>\n",
       "    </tr>\n",
       "  </thead>\n",
       "  <tbody>\n",
       "    <tr>\n",
       "      <th>2019-05-07 02:00:00</th>\n",
       "      <td>NaN</td>\n",
       "      <td>NaN</td>\n",
       "      <td>23.0</td>\n",
       "    </tr>\n",
       "    <tr>\n",
       "      <th>2019-05-07 03:00:00</th>\n",
       "      <td>50.5</td>\n",
       "      <td>25.0</td>\n",
       "      <td>19.0</td>\n",
       "    </tr>\n",
       "    <tr>\n",
       "      <th>2019-05-07 04:00:00</th>\n",
       "      <td>45.0</td>\n",
       "      <td>27.7</td>\n",
       "      <td>19.0</td>\n",
       "    </tr>\n",
       "    <tr>\n",
       "      <th>2019-05-07 05:00:00</th>\n",
       "      <td>NaN</td>\n",
       "      <td>50.4</td>\n",
       "      <td>16.0</td>\n",
       "    </tr>\n",
       "    <tr>\n",
       "      <th>2019-05-07 06:00:00</th>\n",
       "      <td>NaN</td>\n",
       "      <td>61.9</td>\n",
       "      <td>NaN</td>\n",
       "    </tr>\n",
       "  </tbody>\n",
       "</table>\n",
       "</div>"
      ],
      "text/plain": [
       "                     station_antwerp  station_paris  station_london\n",
       "datetime                                                           \n",
       "2019-05-07 02:00:00              NaN            NaN            23.0\n",
       "2019-05-07 03:00:00             50.5           25.0            19.0\n",
       "2019-05-07 04:00:00             45.0           27.7            19.0\n",
       "2019-05-07 05:00:00              NaN           50.4            16.0\n",
       "2019-05-07 06:00:00              NaN           61.9             NaN"
      ]
     },
     "execution_count": 18,
     "metadata": {
      "tags": []
     },
     "output_type": "execute_result"
    }
   ],
   "source": [
    "# Load the CSV data \n",
    "# Additional parameters indicate that the first column should be considered the \n",
    "# index, and dates should be parsed into python's datetime format\n",
    "air_quality = pd.read_csv(\"https://raw.githubusercontent.com/pandas-dev/pandas/master/doc/data/air_quality_no2.csv\", \n",
    "                          index_col=0, parse_dates=True)\n",
    "air_quality.head()"
   ]
  },
  {
   "cell_type": "markdown",
   "metadata": {
    "colab_type": "text",
    "id": "eaTF01P4DW0_"
   },
   "source": [
    "This air quality dataset contans NO<sub>2</sub> concentrations at three different subway locations: Antwerp, Paris, and London.\n",
    "\n"
   ]
  },
  {
   "cell_type": "markdown",
   "metadata": {
    "colab_type": "text",
    "id": "kphNjsZjFvng"
   },
   "source": [
    "# Create a new column from an existing column\n",
    "\n",
    "![Derived Column](https://drive.google.com/uc?id=13GSyNbzWjnvK7uysYaECsi1r2OkpeKF_)\n",
    "\n",
    "If we want to express **NO<sub>2</sub>** concentration in units of **mg/m<sup>3</sup>**, the conversion factor is 1.882 (at a given temperature and pressure).\n",
    "\n",
    "Let's create a new column to display the London station values in **mg/m<sup>3</sup>**."
   ]
  },
  {
   "cell_type": "code",
   "execution_count": 0,
   "metadata": {
    "colab": {
     "base_uri": "https://localhost:8080/",
     "height": 235
    },
    "colab_type": "code",
    "executionInfo": {
     "elapsed": 283,
     "status": "ok",
     "timestamp": 1588770752372,
     "user": {
      "displayName": "Richard Alexander",
      "photoUrl": "https://lh3.googleusercontent.com/a-/AOh14Ghn6F8r3pF0SntsFbxkmhRaWso_lCd_s8ePdlKY_g=s64",
      "userId": "13543676537814105778"
     },
     "user_tz": 300
    },
    "id": "Ed-6MKPH3vkp",
    "outputId": "feb5b328-8ff2-4e2c-ac93-d2f8c5052f0b"
   },
   "outputs": [
    {
     "data": {
      "text/html": [
       "<div>\n",
       "<style scoped>\n",
       "    .dataframe tbody tr th:only-of-type {\n",
       "        vertical-align: middle;\n",
       "    }\n",
       "\n",
       "    .dataframe tbody tr th {\n",
       "        vertical-align: top;\n",
       "    }\n",
       "\n",
       "    .dataframe thead th {\n",
       "        text-align: right;\n",
       "    }\n",
       "</style>\n",
       "<table border=\"1\" class=\"dataframe\">\n",
       "  <thead>\n",
       "    <tr style=\"text-align: right;\">\n",
       "      <th></th>\n",
       "      <th>station_antwerp</th>\n",
       "      <th>station_paris</th>\n",
       "      <th>station_london</th>\n",
       "      <th>london_mg_per_cubic</th>\n",
       "      <th>london_mg_per_cubic_meter</th>\n",
       "    </tr>\n",
       "    <tr>\n",
       "      <th>datetime</th>\n",
       "      <th></th>\n",
       "      <th></th>\n",
       "      <th></th>\n",
       "      <th></th>\n",
       "      <th></th>\n",
       "    </tr>\n",
       "  </thead>\n",
       "  <tbody>\n",
       "    <tr>\n",
       "      <th>2019-05-07 02:00:00</th>\n",
       "      <td>NaN</td>\n",
       "      <td>NaN</td>\n",
       "      <td>23.0</td>\n",
       "      <td>43.286</td>\n",
       "      <td>43.286</td>\n",
       "    </tr>\n",
       "    <tr>\n",
       "      <th>2019-05-07 03:00:00</th>\n",
       "      <td>50.5</td>\n",
       "      <td>25.0</td>\n",
       "      <td>19.0</td>\n",
       "      <td>35.758</td>\n",
       "      <td>35.758</td>\n",
       "    </tr>\n",
       "    <tr>\n",
       "      <th>2019-05-07 04:00:00</th>\n",
       "      <td>45.0</td>\n",
       "      <td>27.7</td>\n",
       "      <td>19.0</td>\n",
       "      <td>35.758</td>\n",
       "      <td>35.758</td>\n",
       "    </tr>\n",
       "    <tr>\n",
       "      <th>2019-05-07 05:00:00</th>\n",
       "      <td>NaN</td>\n",
       "      <td>50.4</td>\n",
       "      <td>16.0</td>\n",
       "      <td>30.112</td>\n",
       "      <td>30.112</td>\n",
       "    </tr>\n",
       "    <tr>\n",
       "      <th>2019-05-07 06:00:00</th>\n",
       "      <td>NaN</td>\n",
       "      <td>61.9</td>\n",
       "      <td>NaN</td>\n",
       "      <td>NaN</td>\n",
       "      <td>NaN</td>\n",
       "    </tr>\n",
       "  </tbody>\n",
       "</table>\n",
       "</div>"
      ],
      "text/plain": [
       "                     station_antwerp  ...  london_mg_per_cubic_meter\n",
       "datetime                              ...                           \n",
       "2019-05-07 02:00:00              NaN  ...                     43.286\n",
       "2019-05-07 03:00:00             50.5  ...                     35.758\n",
       "2019-05-07 04:00:00             45.0  ...                     35.758\n",
       "2019-05-07 05:00:00              NaN  ...                     30.112\n",
       "2019-05-07 06:00:00              NaN  ...                        NaN\n",
       "\n",
       "[5 rows x 5 columns]"
      ]
     },
     "execution_count": 20,
     "metadata": {
      "tags": []
     },
     "output_type": "execute_result"
    }
   ],
   "source": [
    "# Create a new column named \"london_mg_per_cubic_meter\"\n",
    "air_quality[\"london_mg_per_cubic_meter\"] = air_quality[\"station_london\"] * 1.882\n",
    "\n",
    "air_quality.head()"
   ]
  },
  {
   "cell_type": "markdown",
   "metadata": {
    "colab_type": "text",
    "id": "8-l5xPNGHoYs"
   },
   "source": [
    "On the left side of the statement, we create a new column named **london_mg_per_cubic_meter**.\n",
    "\n",
    "On the right, we give it a value by multiplying the **station_london** column by **1.882**.\n",
    "\n",
    "Pandas performs the calculations element wise, meaning all values/cells in the column are multiplied by **1.882** at once. We don't need a loop to iterate over the rows. The above one-line expression performs every calculation for us!"
   ]
  },
  {
   "cell_type": "markdown",
   "metadata": {
    "colab_type": "text",
    "id": "JHJychD9JMIZ"
   },
   "source": [
    "# Create a new column from multiple columns\n",
    "\n",
    "![Derived Column](https://drive.google.com/uc?id=1o-4uXXMGIVOFhl7sC37QKRcn5rZoaIIm)\n",
    "\n",
    "Now we would like to compare the air quality in paris and antwerp."
   ]
  },
  {
   "cell_type": "code",
   "execution_count": 0,
   "metadata": {
    "colab": {
     "base_uri": "https://localhost:8080/",
     "height": 235
    },
    "colab_type": "code",
    "executionInfo": {
     "elapsed": 325,
     "status": "ok",
     "timestamp": 1588771506098,
     "user": {
      "displayName": "Richard Alexander",
      "photoUrl": "https://lh3.googleusercontent.com/a-/AOh14Ghn6F8r3pF0SntsFbxkmhRaWso_lCd_s8ePdlKY_g=s64",
      "userId": "13543676537814105778"
     },
     "user_tz": 300
    },
    "id": "jSIojXPSHVol",
    "outputId": "48e67c4a-0032-45c5-f978-714763b6eebe"
   },
   "outputs": [
    {
     "data": {
      "text/html": [
       "<div>\n",
       "<style scoped>\n",
       "    .dataframe tbody tr th:only-of-type {\n",
       "        vertical-align: middle;\n",
       "    }\n",
       "\n",
       "    .dataframe tbody tr th {\n",
       "        vertical-align: top;\n",
       "    }\n",
       "\n",
       "    .dataframe thead th {\n",
       "        text-align: right;\n",
       "    }\n",
       "</style>\n",
       "<table border=\"1\" class=\"dataframe\">\n",
       "  <thead>\n",
       "    <tr style=\"text-align: right;\">\n",
       "      <th></th>\n",
       "      <th>station_antwerp</th>\n",
       "      <th>station_paris</th>\n",
       "      <th>station_london</th>\n",
       "      <th>london_mg_per_cubic</th>\n",
       "      <th>london_mg_per_cubic_meter</th>\n",
       "      <th>ratio_paris_antwerp</th>\n",
       "    </tr>\n",
       "    <tr>\n",
       "      <th>datetime</th>\n",
       "      <th></th>\n",
       "      <th></th>\n",
       "      <th></th>\n",
       "      <th></th>\n",
       "      <th></th>\n",
       "      <th></th>\n",
       "    </tr>\n",
       "  </thead>\n",
       "  <tbody>\n",
       "    <tr>\n",
       "      <th>2019-05-07 02:00:00</th>\n",
       "      <td>NaN</td>\n",
       "      <td>NaN</td>\n",
       "      <td>23.0</td>\n",
       "      <td>43.286</td>\n",
       "      <td>43.286</td>\n",
       "      <td>NaN</td>\n",
       "    </tr>\n",
       "    <tr>\n",
       "      <th>2019-05-07 03:00:00</th>\n",
       "      <td>50.5</td>\n",
       "      <td>25.0</td>\n",
       "      <td>19.0</td>\n",
       "      <td>35.758</td>\n",
       "      <td>35.758</td>\n",
       "      <td>0.495050</td>\n",
       "    </tr>\n",
       "    <tr>\n",
       "      <th>2019-05-07 04:00:00</th>\n",
       "      <td>45.0</td>\n",
       "      <td>27.7</td>\n",
       "      <td>19.0</td>\n",
       "      <td>35.758</td>\n",
       "      <td>35.758</td>\n",
       "      <td>0.615556</td>\n",
       "    </tr>\n",
       "    <tr>\n",
       "      <th>2019-05-07 05:00:00</th>\n",
       "      <td>NaN</td>\n",
       "      <td>50.4</td>\n",
       "      <td>16.0</td>\n",
       "      <td>30.112</td>\n",
       "      <td>30.112</td>\n",
       "      <td>NaN</td>\n",
       "    </tr>\n",
       "    <tr>\n",
       "      <th>2019-05-07 06:00:00</th>\n",
       "      <td>NaN</td>\n",
       "      <td>61.9</td>\n",
       "      <td>NaN</td>\n",
       "      <td>NaN</td>\n",
       "      <td>NaN</td>\n",
       "      <td>NaN</td>\n",
       "    </tr>\n",
       "  </tbody>\n",
       "</table>\n",
       "</div>"
      ],
      "text/plain": [
       "                     station_antwerp  ...  ratio_paris_antwerp\n",
       "datetime                              ...                     \n",
       "2019-05-07 02:00:00              NaN  ...                  NaN\n",
       "2019-05-07 03:00:00             50.5  ...             0.495050\n",
       "2019-05-07 04:00:00             45.0  ...             0.615556\n",
       "2019-05-07 05:00:00              NaN  ...                  NaN\n",
       "2019-05-07 06:00:00              NaN  ...                  NaN\n",
       "\n",
       "[5 rows x 6 columns]"
      ]
     },
     "execution_count": 21,
     "metadata": {
      "tags": []
     },
     "output_type": "execute_result"
    }
   ],
   "source": [
    "# Create a new column named \"ratio_paris_antwerp\"\n",
    "air_quality[\"ratio_paris_antwerp\"] = air_quality[\"station_paris\"] / air_quality[\"station_antwerp\"]\n",
    "\n",
    "air_quality.head()"
   ]
  },
  {
   "cell_type": "markdown",
   "metadata": {
    "colab_type": "text",
    "id": "JQt4xpGeKWFI"
   },
   "source": [
    "On the left side of the statement, we create a new column named **ratio_paris_antwerp**.\n",
    "\n",
    "On the right, we give it a value by dividing the **station_paris** column by the **station_antwerp** column.\n",
    "\n",
    "Again, the calculation is done element wise for each row.\n",
    "\n",
    "-----------------------\n",
    "NOTE:\n",
    "\n",
    "Other mathematical operators (+, -, \\*, /) and logical operators (<, >, =, …) work element wise. We use the logical operators to select specific rows in the **Data Selection** notebook.\n",
    "\n",
    "-----------------------"
   ]
  },
  {
   "cell_type": "markdown",
   "metadata": {
    "colab_type": "text",
    "id": "O_QUaipxO_5C"
   },
   "source": [
    "# Column Creation and Deletion\n",
    "\n",
    "Inserting a scalar or a text value will fill the entire column with that value.\n"
   ]
  },
  {
   "cell_type": "code",
   "execution_count": 0,
   "metadata": {
    "colab": {
     "base_uri": "https://localhost:8080/",
     "height": 235
    },
    "colab_type": "code",
    "executionInfo": {
     "elapsed": 721,
     "status": "ok",
     "timestamp": 1588773090352,
     "user": {
      "displayName": "Richard Alexander",
      "photoUrl": "https://lh3.googleusercontent.com/a-/AOh14Ghn6F8r3pF0SntsFbxkmhRaWso_lCd_s8ePdlKY_g=s64",
      "userId": "13543676537814105778"
     },
     "user_tz": 300
    },
    "id": "U-XBZk8wQObN",
    "outputId": "8235fa9d-4b17-4b64-d9cc-0edb3d1a0279"
   },
   "outputs": [
    {
     "data": {
      "text/html": [
       "<div>\n",
       "<style scoped>\n",
       "    .dataframe tbody tr th:only-of-type {\n",
       "        vertical-align: middle;\n",
       "    }\n",
       "\n",
       "    .dataframe tbody tr th {\n",
       "        vertical-align: top;\n",
       "    }\n",
       "\n",
       "    .dataframe thead th {\n",
       "        text-align: right;\n",
       "    }\n",
       "</style>\n",
       "<table border=\"1\" class=\"dataframe\">\n",
       "  <thead>\n",
       "    <tr style=\"text-align: right;\">\n",
       "      <th></th>\n",
       "      <th>Antwerp</th>\n",
       "      <th>Paris</th>\n",
       "      <th>London</th>\n",
       "      <th>london_mg_per_cubic</th>\n",
       "      <th>london_mg_per_cubic_meter</th>\n",
       "      <th>ratio_paris_antwerp</th>\n",
       "      <th>scalar</th>\n",
       "    </tr>\n",
       "    <tr>\n",
       "      <th>datetime</th>\n",
       "      <th></th>\n",
       "      <th></th>\n",
       "      <th></th>\n",
       "      <th></th>\n",
       "      <th></th>\n",
       "      <th></th>\n",
       "      <th></th>\n",
       "    </tr>\n",
       "  </thead>\n",
       "  <tbody>\n",
       "    <tr>\n",
       "      <th>2019-05-07 02:00:00</th>\n",
       "      <td>NaN</td>\n",
       "      <td>NaN</td>\n",
       "      <td>23.0</td>\n",
       "      <td>43.286</td>\n",
       "      <td>43.286</td>\n",
       "      <td>NaN</td>\n",
       "      <td>333</td>\n",
       "    </tr>\n",
       "    <tr>\n",
       "      <th>2019-05-07 03:00:00</th>\n",
       "      <td>50.5</td>\n",
       "      <td>25.0</td>\n",
       "      <td>19.0</td>\n",
       "      <td>35.758</td>\n",
       "      <td>35.758</td>\n",
       "      <td>0.495050</td>\n",
       "      <td>333</td>\n",
       "    </tr>\n",
       "    <tr>\n",
       "      <th>2019-05-07 04:00:00</th>\n",
       "      <td>45.0</td>\n",
       "      <td>27.7</td>\n",
       "      <td>19.0</td>\n",
       "      <td>35.758</td>\n",
       "      <td>35.758</td>\n",
       "      <td>0.615556</td>\n",
       "      <td>333</td>\n",
       "    </tr>\n",
       "    <tr>\n",
       "      <th>2019-05-07 05:00:00</th>\n",
       "      <td>NaN</td>\n",
       "      <td>50.4</td>\n",
       "      <td>16.0</td>\n",
       "      <td>30.112</td>\n",
       "      <td>30.112</td>\n",
       "      <td>NaN</td>\n",
       "      <td>333</td>\n",
       "    </tr>\n",
       "    <tr>\n",
       "      <th>2019-05-07 06:00:00</th>\n",
       "      <td>NaN</td>\n",
       "      <td>61.9</td>\n",
       "      <td>NaN</td>\n",
       "      <td>NaN</td>\n",
       "      <td>NaN</td>\n",
       "      <td>NaN</td>\n",
       "      <td>333</td>\n",
       "    </tr>\n",
       "  </tbody>\n",
       "</table>\n",
       "</div>"
      ],
      "text/plain": [
       "                     Antwerp  Paris  ...  ratio_paris_antwerp  scalar\n",
       "datetime                             ...                             \n",
       "2019-05-07 02:00:00      NaN    NaN  ...                  NaN     333\n",
       "2019-05-07 03:00:00     50.5   25.0  ...             0.495050     333\n",
       "2019-05-07 04:00:00     45.0   27.7  ...             0.615556     333\n",
       "2019-05-07 05:00:00      NaN   50.4  ...                  NaN     333\n",
       "2019-05-07 06:00:00      NaN   61.9  ...                  NaN     333\n",
       "\n",
       "[5 rows x 7 columns]"
      ]
     },
     "execution_count": 24,
     "metadata": {
      "tags": []
     },
     "output_type": "execute_result"
    }
   ],
   "source": [
    "# Insert a scalar value\n",
    "air_quality['scalar'] = 333\n",
    "\n",
    "air_quality.head()"
   ]
  },
  {
   "cell_type": "code",
   "execution_count": 0,
   "metadata": {
    "colab": {
     "base_uri": "https://localhost:8080/",
     "height": 235
    },
    "colab_type": "code",
    "executionInfo": {
     "elapsed": 347,
     "status": "ok",
     "timestamp": 1588773177773,
     "user": {
      "displayName": "Richard Alexander",
      "photoUrl": "https://lh3.googleusercontent.com/a-/AOh14Ghn6F8r3pF0SntsFbxkmhRaWso_lCd_s8ePdlKY_g=s64",
      "userId": "13543676537814105778"
     },
     "user_tz": 300
    },
    "id": "LaMD698hQjQn",
    "outputId": "a0945b93-e154-4d80-9fd9-8cc47a2ad1e8"
   },
   "outputs": [
    {
     "data": {
      "text/html": [
       "<div>\n",
       "<style scoped>\n",
       "    .dataframe tbody tr th:only-of-type {\n",
       "        vertical-align: middle;\n",
       "    }\n",
       "\n",
       "    .dataframe tbody tr th {\n",
       "        vertical-align: top;\n",
       "    }\n",
       "\n",
       "    .dataframe thead th {\n",
       "        text-align: right;\n",
       "    }\n",
       "</style>\n",
       "<table border=\"1\" class=\"dataframe\">\n",
       "  <thead>\n",
       "    <tr style=\"text-align: right;\">\n",
       "      <th></th>\n",
       "      <th>Antwerp</th>\n",
       "      <th>Paris</th>\n",
       "      <th>London</th>\n",
       "      <th>london_mg_per_cubic</th>\n",
       "      <th>london_mg_per_cubic_meter</th>\n",
       "      <th>ratio_paris_antwerp</th>\n",
       "      <th>scalar</th>\n",
       "      <th>text</th>\n",
       "    </tr>\n",
       "    <tr>\n",
       "      <th>datetime</th>\n",
       "      <th></th>\n",
       "      <th></th>\n",
       "      <th></th>\n",
       "      <th></th>\n",
       "      <th></th>\n",
       "      <th></th>\n",
       "      <th></th>\n",
       "      <th></th>\n",
       "    </tr>\n",
       "  </thead>\n",
       "  <tbody>\n",
       "    <tr>\n",
       "      <th>2019-05-07 02:00:00</th>\n",
       "      <td>NaN</td>\n",
       "      <td>NaN</td>\n",
       "      <td>23.0</td>\n",
       "      <td>43.286</td>\n",
       "      <td>43.286</td>\n",
       "      <td>NaN</td>\n",
       "      <td>333</td>\n",
       "      <td>Pandas is awesome</td>\n",
       "    </tr>\n",
       "    <tr>\n",
       "      <th>2019-05-07 03:00:00</th>\n",
       "      <td>50.5</td>\n",
       "      <td>25.0</td>\n",
       "      <td>19.0</td>\n",
       "      <td>35.758</td>\n",
       "      <td>35.758</td>\n",
       "      <td>0.495050</td>\n",
       "      <td>333</td>\n",
       "      <td>Pandas is awesome</td>\n",
       "    </tr>\n",
       "    <tr>\n",
       "      <th>2019-05-07 04:00:00</th>\n",
       "      <td>45.0</td>\n",
       "      <td>27.7</td>\n",
       "      <td>19.0</td>\n",
       "      <td>35.758</td>\n",
       "      <td>35.758</td>\n",
       "      <td>0.615556</td>\n",
       "      <td>333</td>\n",
       "      <td>Pandas is awesome</td>\n",
       "    </tr>\n",
       "    <tr>\n",
       "      <th>2019-05-07 05:00:00</th>\n",
       "      <td>NaN</td>\n",
       "      <td>50.4</td>\n",
       "      <td>16.0</td>\n",
       "      <td>30.112</td>\n",
       "      <td>30.112</td>\n",
       "      <td>NaN</td>\n",
       "      <td>333</td>\n",
       "      <td>Pandas is awesome</td>\n",
       "    </tr>\n",
       "    <tr>\n",
       "      <th>2019-05-07 06:00:00</th>\n",
       "      <td>NaN</td>\n",
       "      <td>61.9</td>\n",
       "      <td>NaN</td>\n",
       "      <td>NaN</td>\n",
       "      <td>NaN</td>\n",
       "      <td>NaN</td>\n",
       "      <td>333</td>\n",
       "      <td>Pandas is awesome</td>\n",
       "    </tr>\n",
       "  </tbody>\n",
       "</table>\n",
       "</div>"
      ],
      "text/plain": [
       "                     Antwerp  Paris  ...  scalar               text\n",
       "datetime                             ...                           \n",
       "2019-05-07 02:00:00      NaN    NaN  ...     333  Pandas is awesome\n",
       "2019-05-07 03:00:00     50.5   25.0  ...     333  Pandas is awesome\n",
       "2019-05-07 04:00:00     45.0   27.7  ...     333  Pandas is awesome\n",
       "2019-05-07 05:00:00      NaN   50.4  ...     333  Pandas is awesome\n",
       "2019-05-07 06:00:00      NaN   61.9  ...     333  Pandas is awesome\n",
       "\n",
       "[5 rows x 8 columns]"
      ]
     },
     "execution_count": 26,
     "metadata": {
      "tags": []
     },
     "output_type": "execute_result"
    }
   ],
   "source": [
    "# Insert a text value\n",
    "air_quality['text'] = \"Pandas is awesome\"\n",
    "\n",
    "air_quality.head()"
   ]
  },
  {
   "cell_type": "code",
   "execution_count": 0,
   "metadata": {
    "colab": {
     "base_uri": "https://localhost:8080/",
     "height": 235
    },
    "colab_type": "code",
    "executionInfo": {
     "elapsed": 313,
     "status": "ok",
     "timestamp": 1588773298624,
     "user": {
      "displayName": "Richard Alexander",
      "photoUrl": "https://lh3.googleusercontent.com/a-/AOh14Ghn6F8r3pF0SntsFbxkmhRaWso_lCd_s8ePdlKY_g=s64",
      "userId": "13543676537814105778"
     },
     "user_tz": 300
    },
    "id": "LBqvhwF0Q_5Y",
    "outputId": "0944f343-ff74-474b-eca6-a2d9e1951f0a"
   },
   "outputs": [
    {
     "data": {
      "text/html": [
       "<div>\n",
       "<style scoped>\n",
       "    .dataframe tbody tr th:only-of-type {\n",
       "        vertical-align: middle;\n",
       "    }\n",
       "\n",
       "    .dataframe tbody tr th {\n",
       "        vertical-align: top;\n",
       "    }\n",
       "\n",
       "    .dataframe thead th {\n",
       "        text-align: right;\n",
       "    }\n",
       "</style>\n",
       "<table border=\"1\" class=\"dataframe\">\n",
       "  <thead>\n",
       "    <tr style=\"text-align: right;\">\n",
       "      <th></th>\n",
       "      <th>Antwerp</th>\n",
       "      <th>Paris</th>\n",
       "      <th>London</th>\n",
       "      <th>london_mg_per_cubic</th>\n",
       "      <th>london_mg_per_cubic_meter</th>\n",
       "      <th>ratio_paris_antwerp</th>\n",
       "      <th>scalar</th>\n",
       "    </tr>\n",
       "    <tr>\n",
       "      <th>datetime</th>\n",
       "      <th></th>\n",
       "      <th></th>\n",
       "      <th></th>\n",
       "      <th></th>\n",
       "      <th></th>\n",
       "      <th></th>\n",
       "      <th></th>\n",
       "    </tr>\n",
       "  </thead>\n",
       "  <tbody>\n",
       "    <tr>\n",
       "      <th>2019-05-07 02:00:00</th>\n",
       "      <td>NaN</td>\n",
       "      <td>NaN</td>\n",
       "      <td>23.0</td>\n",
       "      <td>43.286</td>\n",
       "      <td>43.286</td>\n",
       "      <td>NaN</td>\n",
       "      <td>333</td>\n",
       "    </tr>\n",
       "    <tr>\n",
       "      <th>2019-05-07 03:00:00</th>\n",
       "      <td>50.5</td>\n",
       "      <td>25.0</td>\n",
       "      <td>19.0</td>\n",
       "      <td>35.758</td>\n",
       "      <td>35.758</td>\n",
       "      <td>0.495050</td>\n",
       "      <td>333</td>\n",
       "    </tr>\n",
       "    <tr>\n",
       "      <th>2019-05-07 04:00:00</th>\n",
       "      <td>45.0</td>\n",
       "      <td>27.7</td>\n",
       "      <td>19.0</td>\n",
       "      <td>35.758</td>\n",
       "      <td>35.758</td>\n",
       "      <td>0.615556</td>\n",
       "      <td>333</td>\n",
       "    </tr>\n",
       "    <tr>\n",
       "      <th>2019-05-07 05:00:00</th>\n",
       "      <td>NaN</td>\n",
       "      <td>50.4</td>\n",
       "      <td>16.0</td>\n",
       "      <td>30.112</td>\n",
       "      <td>30.112</td>\n",
       "      <td>NaN</td>\n",
       "      <td>333</td>\n",
       "    </tr>\n",
       "    <tr>\n",
       "      <th>2019-05-07 06:00:00</th>\n",
       "      <td>NaN</td>\n",
       "      <td>61.9</td>\n",
       "      <td>NaN</td>\n",
       "      <td>NaN</td>\n",
       "      <td>NaN</td>\n",
       "      <td>NaN</td>\n",
       "      <td>333</td>\n",
       "    </tr>\n",
       "  </tbody>\n",
       "</table>\n",
       "</div>"
      ],
      "text/plain": [
       "                     Antwerp  Paris  ...  ratio_paris_antwerp  scalar\n",
       "datetime                             ...                             \n",
       "2019-05-07 02:00:00      NaN    NaN  ...                  NaN     333\n",
       "2019-05-07 03:00:00     50.5   25.0  ...             0.495050     333\n",
       "2019-05-07 04:00:00     45.0   27.7  ...             0.615556     333\n",
       "2019-05-07 05:00:00      NaN   50.4  ...                  NaN     333\n",
       "2019-05-07 06:00:00      NaN   61.9  ...                  NaN     333\n",
       "\n",
       "[5 rows x 7 columns]"
      ]
     },
     "execution_count": 27,
     "metadata": {
      "tags": []
     },
     "output_type": "execute_result"
    }
   ],
   "source": [
    "# Delete the new \"text\" column\n",
    "del air_quality['text']\n",
    "\n",
    "air_quality.head()"
   ]
  },
  {
   "cell_type": "markdown",
   "metadata": {
    "colab_type": "text",
    "id": "zAeTtyDvMLH8"
   },
   "source": [
    "# Rename columns\n",
    "\n",
    "Columns can be renamed by providing a dictionary where keys are the current names, and values are the new names."
   ]
  },
  {
   "cell_type": "code",
   "execution_count": 0,
   "metadata": {
    "colab": {
     "base_uri": "https://localhost:8080/",
     "height": 235
    },
    "colab_type": "code",
    "executionInfo": {
     "elapsed": 312,
     "status": "ok",
     "timestamp": 1588772487091,
     "user": {
      "displayName": "Richard Alexander",
      "photoUrl": "https://lh3.googleusercontent.com/a-/AOh14Ghn6F8r3pF0SntsFbxkmhRaWso_lCd_s8ePdlKY_g=s64",
      "userId": "13543676537814105778"
     },
     "user_tz": 300
    },
    "id": "lPiv6VhgKUYV",
    "outputId": "6cf598ed-8259-4a47-8788-12cb682dc28c"
   },
   "outputs": [
    {
     "data": {
      "text/html": [
       "<div>\n",
       "<style scoped>\n",
       "    .dataframe tbody tr th:only-of-type {\n",
       "        vertical-align: middle;\n",
       "    }\n",
       "\n",
       "    .dataframe tbody tr th {\n",
       "        vertical-align: top;\n",
       "    }\n",
       "\n",
       "    .dataframe thead th {\n",
       "        text-align: right;\n",
       "    }\n",
       "</style>\n",
       "<table border=\"1\" class=\"dataframe\">\n",
       "  <thead>\n",
       "    <tr style=\"text-align: right;\">\n",
       "      <th></th>\n",
       "      <th>Antwerp</th>\n",
       "      <th>Paris</th>\n",
       "      <th>London</th>\n",
       "      <th>london_mg_per_cubic</th>\n",
       "      <th>london_mg_per_cubic_meter</th>\n",
       "      <th>ratio_paris_antwerp</th>\n",
       "    </tr>\n",
       "    <tr>\n",
       "      <th>datetime</th>\n",
       "      <th></th>\n",
       "      <th></th>\n",
       "      <th></th>\n",
       "      <th></th>\n",
       "      <th></th>\n",
       "      <th></th>\n",
       "    </tr>\n",
       "  </thead>\n",
       "  <tbody>\n",
       "    <tr>\n",
       "      <th>2019-05-07 02:00:00</th>\n",
       "      <td>NaN</td>\n",
       "      <td>NaN</td>\n",
       "      <td>23.0</td>\n",
       "      <td>43.286</td>\n",
       "      <td>43.286</td>\n",
       "      <td>NaN</td>\n",
       "    </tr>\n",
       "    <tr>\n",
       "      <th>2019-05-07 03:00:00</th>\n",
       "      <td>50.5</td>\n",
       "      <td>25.0</td>\n",
       "      <td>19.0</td>\n",
       "      <td>35.758</td>\n",
       "      <td>35.758</td>\n",
       "      <td>0.495050</td>\n",
       "    </tr>\n",
       "    <tr>\n",
       "      <th>2019-05-07 04:00:00</th>\n",
       "      <td>45.0</td>\n",
       "      <td>27.7</td>\n",
       "      <td>19.0</td>\n",
       "      <td>35.758</td>\n",
       "      <td>35.758</td>\n",
       "      <td>0.615556</td>\n",
       "    </tr>\n",
       "    <tr>\n",
       "      <th>2019-05-07 05:00:00</th>\n",
       "      <td>NaN</td>\n",
       "      <td>50.4</td>\n",
       "      <td>16.0</td>\n",
       "      <td>30.112</td>\n",
       "      <td>30.112</td>\n",
       "      <td>NaN</td>\n",
       "    </tr>\n",
       "    <tr>\n",
       "      <th>2019-05-07 06:00:00</th>\n",
       "      <td>NaN</td>\n",
       "      <td>61.9</td>\n",
       "      <td>NaN</td>\n",
       "      <td>NaN</td>\n",
       "      <td>NaN</td>\n",
       "      <td>NaN</td>\n",
       "    </tr>\n",
       "  </tbody>\n",
       "</table>\n",
       "</div>"
      ],
      "text/plain": [
       "                     Antwerp  ...  ratio_paris_antwerp\n",
       "datetime                      ...                     \n",
       "2019-05-07 02:00:00      NaN  ...                  NaN\n",
       "2019-05-07 03:00:00     50.5  ...             0.495050\n",
       "2019-05-07 04:00:00     45.0  ...             0.615556\n",
       "2019-05-07 05:00:00      NaN  ...                  NaN\n",
       "2019-05-07 06:00:00      NaN  ...                  NaN\n",
       "\n",
       "[5 rows x 6 columns]"
      ]
     },
     "execution_count": 22,
     "metadata": {
      "tags": []
     },
     "output_type": "execute_result"
    }
   ],
   "source": [
    "air_quality = air_quality.rename(columns={\"station_antwerp\": \"Antwerp\",\n",
    "                                        \"station_paris\": \"Paris\",\n",
    "                                        \"station_london\": \"London\"})\n",
    "air_quality.head()"
   ]
  },
  {
   "cell_type": "markdown",
   "metadata": {
    "colab_type": "text",
    "id": "lZOFJX99NVha"
   },
   "source": [
    "Row labels can be renamed the same way, by passing a dictionary to the **rows** parameter:\n",
    "\n",
    "`air_quality = air_quality.rename(rows={'old_name': 'new_name', ...})`"
   ]
  },
  {
   "cell_type": "markdown",
   "metadata": {
    "colab_type": "text",
    "id": "obIAOSDUNJs3"
   },
   "source": [
    "# Summary\n",
    "\n",
    "- Create a new column by assigning the output to the DataFrame with a new column name in between the [].\n",
    "- Operations are element-wise, no need to loop over rows.\n",
    "- Use rename with a dictionary to rename row labels or column names."
   ]
  }
 ],
 "metadata": {
  "colab": {
   "authorship_tag": "ABX9TyO8yp4m4r8O7fWSftW4Sm5k",
   "collapsed_sections": [],
   "name": "Pandas_4_Derived_Columns.ipynb",
   "provenance": []
  },
  "kernelspec": {
   "display_name": "Python 3",
   "language": "python",
   "name": "python3"
  },
  "language_info": {
   "codemirror_mode": {
    "name": "ipython",
    "version": 3
   },
   "file_extension": ".py",
   "mimetype": "text/x-python",
   "name": "python",
   "nbconvert_exporter": "python",
   "pygments_lexer": "ipython3",
   "version": "3.6.10"
  }
 },
 "nbformat": 4,
 "nbformat_minor": 1
}
