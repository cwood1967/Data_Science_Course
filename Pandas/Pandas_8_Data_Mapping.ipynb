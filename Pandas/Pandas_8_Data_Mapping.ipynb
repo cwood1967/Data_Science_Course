{
 "cells": [
  {
   "cell_type": "code",
   "execution_count": 0,
   "metadata": {
    "colab": {},
    "colab_type": "code",
    "id": "9n2NTeJBXqbL"
   },
   "outputs": [],
   "source": [
    "import numpy as np\n",
    "import pandas as pd"
   ]
  },
  {
   "cell_type": "markdown",
   "metadata": {
    "colab_type": "text",
    "id": "M1Xx5s-jYXRj"
   },
   "source": [
    "# Data Mapping\n",
    "\n",
    "Many times we will have data in a format that needs to be mapped to other values in order to be useful for analysis or figure creation. A good example is data output from the slide scanner.\n",
    "\n",
    "Let's take a look at it:"
   ]
  },
  {
   "cell_type": "code",
   "execution_count": 111,
   "metadata": {
    "colab": {
     "base_uri": "https://localhost:8080/",
     "height": 204
    },
    "colab_type": "code",
    "executionInfo": {
     "elapsed": 656,
     "status": "ok",
     "timestamp": 1590080249634,
     "user": {
      "displayName": "Richard Alexander",
      "photoUrl": "https://lh3.googleusercontent.com/a-/AOh14Ghn6F8r3pF0SntsFbxkmhRaWso_lCd_s8ePdlKY_g=s64",
      "userId": "13543676537814105778"
     },
     "user_tz": 300
    },
    "id": "7ud73bdKZR26",
    "outputId": "52c37221-9839-4747-c4f8-7b6fd6a76a69"
   },
   "outputs": [
    {
     "data": {
      "text/html": [
       "<div>\n",
       "<style scoped>\n",
       "    .dataframe tbody tr th:only-of-type {\n",
       "        vertical-align: middle;\n",
       "    }\n",
       "\n",
       "    .dataframe tbody tr th {\n",
       "        vertical-align: top;\n",
       "    }\n",
       "\n",
       "    .dataframe thead th {\n",
       "        text-align: right;\n",
       "    }\n",
       "</style>\n",
       "<table border=\"1\" class=\"dataframe\">\n",
       "  <thead>\n",
       "    <tr style=\"text-align: right;\">\n",
       "      <th></th>\n",
       "      <th>File</th>\n",
       "      <th>Spots1</th>\n",
       "      <th>Spots2</th>\n",
       "      <th>Spots3</th>\n",
       "      <th>Area</th>\n",
       "      <th>DMax</th>\n",
       "      <th>Dmin</th>\n",
       "      <th>Smax</th>\n",
       "      <th>Smin</th>\n",
       "    </tr>\n",
       "  </thead>\n",
       "  <tbody>\n",
       "    <tr>\n",
       "      <th>0</th>\n",
       "      <td>Plate001_Well001_Object1.tif_projection.tif</td>\n",
       "      <td>0</td>\n",
       "      <td>0</td>\n",
       "      <td>0</td>\n",
       "      <td>11639576</td>\n",
       "      <td>661.4024</td>\n",
       "      <td>110.0419</td>\n",
       "      <td>1819</td>\n",
       "      <td>126</td>\n",
       "    </tr>\n",
       "    <tr>\n",
       "      <th>1</th>\n",
       "      <td>Plate001_Well002_Object1.tif_projection.tif</td>\n",
       "      <td>0</td>\n",
       "      <td>0</td>\n",
       "      <td>1</td>\n",
       "      <td>5042555</td>\n",
       "      <td>2362.7571</td>\n",
       "      <td>125.9414</td>\n",
       "      <td>1969</td>\n",
       "      <td>151</td>\n",
       "    </tr>\n",
       "    <tr>\n",
       "      <th>2</th>\n",
       "      <td>Plate001_Well003_Object1.tif_projection.tif</td>\n",
       "      <td>370</td>\n",
       "      <td>272</td>\n",
       "      <td>489</td>\n",
       "      <td>1515167</td>\n",
       "      <td>12584.0840</td>\n",
       "      <td>141.2762</td>\n",
       "      <td>2509</td>\n",
       "      <td>254</td>\n",
       "    </tr>\n",
       "    <tr>\n",
       "      <th>3</th>\n",
       "      <td>Plate002_Well001_Object1.tif_projection.tif</td>\n",
       "      <td>0</td>\n",
       "      <td>0</td>\n",
       "      <td>7</td>\n",
       "      <td>10463116</td>\n",
       "      <td>1549.1947</td>\n",
       "      <td>127.4712</td>\n",
       "      <td>1848</td>\n",
       "      <td>157</td>\n",
       "    </tr>\n",
       "    <tr>\n",
       "      <th>4</th>\n",
       "      <td>Plate002_Well002_Object1.tif_projection.tif</td>\n",
       "      <td>0</td>\n",
       "      <td>0</td>\n",
       "      <td>31</td>\n",
       "      <td>7595761</td>\n",
       "      <td>2527.1138</td>\n",
       "      <td>111.0442</td>\n",
       "      <td>1887</td>\n",
       "      <td>133</td>\n",
       "    </tr>\n",
       "  </tbody>\n",
       "</table>\n",
       "</div>"
      ],
      "text/plain": [
       "                                          File  Spots1  ...  Smax  Smin\n",
       "0  Plate001_Well001_Object1.tif_projection.tif       0  ...  1819   126\n",
       "1  Plate001_Well002_Object1.tif_projection.tif       0  ...  1969   151\n",
       "2  Plate001_Well003_Object1.tif_projection.tif     370  ...  2509   254\n",
       "3  Plate002_Well001_Object1.tif_projection.tif       0  ...  1848   157\n",
       "4  Plate002_Well002_Object1.tif_projection.tif       0  ...  1887   133\n",
       "\n",
       "[5 rows x 9 columns]"
      ]
     },
     "execution_count": 111,
     "metadata": {
      "tags": []
     },
     "output_type": "execute_result"
    }
   ],
   "source": [
    "df = pd.read_csv('slide_data.csv')\n",
    "\n",
    "df.head()"
   ]
  },
  {
   "cell_type": "markdown",
   "metadata": {
    "colab_type": "text",
    "id": "Up6nn-rZZeJb"
   },
   "source": [
    "Our dataframe contains experimental data, but no information about the conditions for the experiment. We only have the plate and well number for each sample. \n",
    "\n",
    "We know what the plate and well number maps to, so we create a mapping file. Let's open it:"
   ]
  },
  {
   "cell_type": "code",
   "execution_count": 88,
   "metadata": {
    "colab": {
     "base_uri": "https://localhost:8080/",
     "height": 359
    },
    "colab_type": "code",
    "executionInfo": {
     "elapsed": 586,
     "status": "ok",
     "timestamp": 1590079685792,
     "user": {
      "displayName": "Richard Alexander",
      "photoUrl": "https://lh3.googleusercontent.com/a-/AOh14Ghn6F8r3pF0SntsFbxkmhRaWso_lCd_s8ePdlKY_g=s64",
      "userId": "13543676537814105778"
     },
     "user_tz": 300
    },
    "id": "jdQuGz6fZafe",
    "outputId": "6cf4f3fa-76e7-4624-f71a-a6936bd44fb0"
   },
   "outputs": [
    {
     "data": {
      "text/html": [
       "<div>\n",
       "<style scoped>\n",
       "    .dataframe tbody tr th:only-of-type {\n",
       "        vertical-align: middle;\n",
       "    }\n",
       "\n",
       "    .dataframe tbody tr th {\n",
       "        vertical-align: top;\n",
       "    }\n",
       "\n",
       "    .dataframe thead th {\n",
       "        text-align: right;\n",
       "    }\n",
       "</style>\n",
       "<table border=\"1\" class=\"dataframe\">\n",
       "  <thead>\n",
       "    <tr style=\"text-align: right;\">\n",
       "      <th></th>\n",
       "      <th>slide</th>\n",
       "      <th>temperature</th>\n",
       "      <th>maturity_days</th>\n",
       "      <th>plate</th>\n",
       "      <th>well</th>\n",
       "    </tr>\n",
       "  </thead>\n",
       "  <tbody>\n",
       "    <tr>\n",
       "      <th>0</th>\n",
       "      <td>1</td>\n",
       "      <td>room</td>\n",
       "      <td>0</td>\n",
       "      <td>1</td>\n",
       "      <td>1</td>\n",
       "    </tr>\n",
       "    <tr>\n",
       "      <th>1</th>\n",
       "      <td>2</td>\n",
       "      <td>room</td>\n",
       "      <td>2</td>\n",
       "      <td>1</td>\n",
       "      <td>2</td>\n",
       "    </tr>\n",
       "    <tr>\n",
       "      <th>2</th>\n",
       "      <td>3</td>\n",
       "      <td>room</td>\n",
       "      <td>4</td>\n",
       "      <td>1</td>\n",
       "      <td>3</td>\n",
       "    </tr>\n",
       "    <tr>\n",
       "      <th>3</th>\n",
       "      <td>4</td>\n",
       "      <td>room</td>\n",
       "      <td>6</td>\n",
       "      <td>2</td>\n",
       "      <td>1</td>\n",
       "    </tr>\n",
       "    <tr>\n",
       "      <th>4</th>\n",
       "      <td>5</td>\n",
       "      <td>room</td>\n",
       "      <td>8</td>\n",
       "      <td>2</td>\n",
       "      <td>2</td>\n",
       "    </tr>\n",
       "    <tr>\n",
       "      <th>5</th>\n",
       "      <td>6</td>\n",
       "      <td>incubate</td>\n",
       "      <td>0</td>\n",
       "      <td>2</td>\n",
       "      <td>3</td>\n",
       "    </tr>\n",
       "    <tr>\n",
       "      <th>6</th>\n",
       "      <td>7</td>\n",
       "      <td>incubate</td>\n",
       "      <td>2</td>\n",
       "      <td>3</td>\n",
       "      <td>1</td>\n",
       "    </tr>\n",
       "    <tr>\n",
       "      <th>7</th>\n",
       "      <td>8</td>\n",
       "      <td>incubate</td>\n",
       "      <td>4</td>\n",
       "      <td>3</td>\n",
       "      <td>2</td>\n",
       "    </tr>\n",
       "    <tr>\n",
       "      <th>8</th>\n",
       "      <td>9</td>\n",
       "      <td>incubate</td>\n",
       "      <td>6</td>\n",
       "      <td>3</td>\n",
       "      <td>3</td>\n",
       "    </tr>\n",
       "    <tr>\n",
       "      <th>9</th>\n",
       "      <td>10</td>\n",
       "      <td>incubate</td>\n",
       "      <td>8</td>\n",
       "      <td>3</td>\n",
       "      <td>4</td>\n",
       "    </tr>\n",
       "  </tbody>\n",
       "</table>\n",
       "</div>"
      ],
      "text/plain": [
       "   slide temperature  maturity_days  plate  well\n",
       "0      1        room              0      1     1\n",
       "1      2        room              2      1     2\n",
       "2      3        room              4      1     3\n",
       "3      4        room              6      2     1\n",
       "4      5        room              8      2     2\n",
       "5      6    incubate              0      2     3\n",
       "6      7    incubate              2      3     1\n",
       "7      8    incubate              4      3     2\n",
       "8      9    incubate              6      3     3\n",
       "9     10    incubate              8      3     4"
      ]
     },
     "execution_count": 88,
     "metadata": {
      "tags": []
     },
     "output_type": "execute_result"
    }
   ],
   "source": [
    "condition_map = pd.read_csv('condition_map.csv')\n",
    "\n",
    "condition_map.head(10)"
   ]
  },
  {
   "cell_type": "markdown",
   "metadata": {
    "colab_type": "text",
    "id": "GyopaGTPaf-S"
   },
   "source": [
    "We have a new dataframe that contains the mapping from **plate** and **well** to the experimental conditions **temperature** and **maturity_days**.\n",
    "\n",
    "## Goal\n",
    "\n",
    "Our goal is to \"map\" the conditions into the `my_data` file so that it contains both the experimental values, and the experimental conditions. In order to do this, we will need to understand a couple of useful functions:\n",
    "\n",
    "- Python `zip` function\n",
    "- Pandas `map` function\n",
    "\n",
    "## Zip\n",
    "\n",
    "`Zip` is a python function that takes multiple lists and combines each element to create a single list.\n",
    "\n",
    "Let's create two simple lists and try it out."
   ]
  },
  {
   "cell_type": "code",
   "execution_count": 89,
   "metadata": {
    "colab": {
     "base_uri": "https://localhost:8080/",
     "height": 34
    },
    "colab_type": "code",
    "executionInfo": {
     "elapsed": 573,
     "status": "ok",
     "timestamp": 1590079685793,
     "user": {
      "displayName": "Richard Alexander",
      "photoUrl": "https://lh3.googleusercontent.com/a-/AOh14Ghn6F8r3pF0SntsFbxkmhRaWso_lCd_s8ePdlKY_g=s64",
      "userId": "13543676537814105778"
     },
     "user_tz": 300
    },
    "id": "T70QxR8JaZt6",
    "outputId": "8ad4377b-b80d-4548-e84d-65aeb6bfe736"
   },
   "outputs": [
    {
     "data": {
      "text/plain": [
       "[('a', 1), ('b', 2), ('d', 3), ('r', 2)]"
      ]
     },
     "execution_count": 89,
     "metadata": {
      "tags": []
     },
     "output_type": "execute_result"
    }
   ],
   "source": [
    "# Run this code cell and inspect the output\n",
    "\n",
    "# Create two lists\n",
    "list1 = ['a', 'b', 'd', 'r']\n",
    "list2 = [1, 2, 3, 2]\n",
    "\n",
    "# Zip the lists\n",
    "zipped2 = zip(list1, list2)\n",
    "\n",
    "# Inspect the output\n",
    "list(zipped2)"
   ]
  },
  {
   "cell_type": "markdown",
   "metadata": {
    "colab_type": "text",
    "id": "wXYRm6oLcjgI"
   },
   "source": [
    "We see from the above output that `zip` took the two lists created a single list of tuples. The first element of the new **zipped** list contains the first element of **list1** AND the first element of list2... and so on for each consecutive element.\n",
    "\n",
    "The `zip` function will work with any number of lists. Let's create one more list to see it in action."
   ]
  },
  {
   "cell_type": "code",
   "execution_count": 90,
   "metadata": {
    "colab": {
     "base_uri": "https://localhost:8080/",
     "height": 34
    },
    "colab_type": "code",
    "executionInfo": {
     "elapsed": 976,
     "status": "ok",
     "timestamp": 1590079686209,
     "user": {
      "displayName": "Richard Alexander",
      "photoUrl": "https://lh3.googleusercontent.com/a-/AOh14Ghn6F8r3pF0SntsFbxkmhRaWso_lCd_s8ePdlKY_g=s64",
      "userId": "13543676537814105778"
     },
     "user_tz": 300
    },
    "id": "gMh_ahKxcfxB",
    "outputId": "aebf287c-200c-41da-a2a8-390210fb35de"
   },
   "outputs": [
    {
     "data": {
      "text/plain": [
       "[('a', 1, 'steak sauce'), ('b', 2, 'bomber'), ('d', 3, 'js'), ('r', 2, 'd2')]"
      ]
     },
     "execution_count": 90,
     "metadata": {
      "tags": []
     },
     "output_type": "execute_result"
    }
   ],
   "source": [
    "# Run this code cell and inspect the output\n",
    "\n",
    "# Create a third list\n",
    "list3 = ['steak sauce', 'bomber', 'js', 'd2']\n",
    "\n",
    "# Zip all 3 lists\n",
    "zipped3 = zip(list1, list2, list3)\n",
    "\n",
    "# Inspect the output\n",
    "list(zipped3)"
   ]
  },
  {
   "cell_type": "markdown",
   "metadata": {
    "colab_type": "text",
    "id": "b8sPaN9zebHL"
   },
   "source": [
    "Again, the first element of each list is combined to create the first element of the zipped list. The second element of each list is combined to create the second element of the zipped list... etc."
   ]
  },
  {
   "cell_type": "markdown",
   "metadata": {
    "colab_type": "text",
    "id": "bA9cVEs1fO0R"
   },
   "source": [
    "## Map\n",
    "\n",
    "The Pandas `map` function substitutes each value in a series with another value.\n",
    "\n",
    "Let's create a simple series to see how it works."
   ]
  },
  {
   "cell_type": "code",
   "execution_count": 91,
   "metadata": {
    "colab": {
     "base_uri": "https://localhost:8080/",
     "height": 102
    },
    "colab_type": "code",
    "executionInfo": {
     "elapsed": 964,
     "status": "ok",
     "timestamp": 1590079686210,
     "user": {
      "displayName": "Richard Alexander",
      "photoUrl": "https://lh3.googleusercontent.com/a-/AOh14Ghn6F8r3pF0SntsFbxkmhRaWso_lCd_s8ePdlKY_g=s64",
      "userId": "13543676537814105778"
     },
     "user_tz": 300
    },
    "id": "QgkaDihreSuQ",
    "outputId": "dbb38a47-0fa0-4c08-ec4b-a9a188f2da12"
   },
   "outputs": [
    {
     "data": {
      "text/plain": [
       "0       dog\n",
       "1       cat\n",
       "2    spider\n",
       "3      worm\n",
       "dtype: object"
      ]
     },
     "execution_count": 91,
     "metadata": {
      "tags": []
     },
     "output_type": "execute_result"
    }
   ],
   "source": [
    "#Create a Pandas series\n",
    "series = pd.Series(['dog', 'cat', 'spider', 'worm'])\n",
    "\n",
    "series"
   ]
  },
  {
   "cell_type": "markdown",
   "metadata": {
    "colab_type": "text",
    "id": "kqO0vDaNjD5-"
   },
   "source": [
    "We also need to create a dictionary of substitutions. We will substitute *dog* with **puppy** and *cat* with **kitten**."
   ]
  },
  {
   "cell_type": "code",
   "execution_count": 92,
   "metadata": {
    "colab": {
     "base_uri": "https://localhost:8080/",
     "height": 34
    },
    "colab_type": "code",
    "executionInfo": {
     "elapsed": 954,
     "status": "ok",
     "timestamp": 1590079686211,
     "user": {
      "displayName": "Richard Alexander",
      "photoUrl": "https://lh3.googleusercontent.com/a-/AOh14Ghn6F8r3pF0SntsFbxkmhRaWso_lCd_s8ePdlKY_g=s64",
      "userId": "13543676537814105778"
     },
     "user_tz": 300
    },
    "id": "kf7e_kR_i3HK",
    "outputId": "40b8ba0c-da8c-439f-89ac-2b9aeec755c9"
   },
   "outputs": [
    {
     "data": {
      "text/plain": [
       "{'cat': 'kitten', 'dog': 'puppy'}"
      ]
     },
     "execution_count": 92,
     "metadata": {
      "tags": []
     },
     "output_type": "execute_result"
    }
   ],
   "source": [
    "# Create substitution dictionary\n",
    "subs_dict = {'dog': 'puppy', 'cat': 'kitten'}\n",
    "\n",
    "subs_dict"
   ]
  },
  {
   "cell_type": "markdown",
   "metadata": {
    "colab_type": "text",
    "id": "kwXz98QWjvy8"
   },
   "source": [
    "Now that we have a series and a substitution dictionary, let's try the `map` function:"
   ]
  },
  {
   "cell_type": "code",
   "execution_count": 93,
   "metadata": {
    "colab": {
     "base_uri": "https://localhost:8080/",
     "height": 102
    },
    "colab_type": "code",
    "executionInfo": {
     "elapsed": 942,
     "status": "ok",
     "timestamp": 1590079686212,
     "user": {
      "displayName": "Richard Alexander",
      "photoUrl": "https://lh3.googleusercontent.com/a-/AOh14Ghn6F8r3pF0SntsFbxkmhRaWso_lCd_s8ePdlKY_g=s64",
      "userId": "13543676537814105778"
     },
     "user_tz": 300
    },
    "id": "O_naEyHQjdfA",
    "outputId": "fcbc772d-05a0-419f-d974-7e2556de04cd"
   },
   "outputs": [
    {
     "data": {
      "text/plain": [
       "0     puppy\n",
       "1    kitten\n",
       "2       NaN\n",
       "3       NaN\n",
       "dtype: object"
      ]
     },
     "execution_count": 93,
     "metadata": {
      "tags": []
     },
     "output_type": "execute_result"
    }
   ],
   "source": [
    "# Use map to do substitutions\n",
    "\n",
    "sub_series = series.map(subs_dict)\n",
    "\n",
    "sub_series"
   ]
  },
  {
   "cell_type": "markdown",
   "metadata": {
    "colab_type": "text",
    "id": "a3OkXHX8kLL9"
   },
   "source": [
    "After `map`, we have a new `sub_series` with substitute values. We also notice that other values that were not listed in our dictionary (spider and worm) are `NaN` in the new `sub_series`."
   ]
  },
  {
   "cell_type": "markdown",
   "metadata": {
    "colab_type": "text",
    "id": "6udPUAqqk03R"
   },
   "source": [
    "# Mapping Real Data\n",
    "\n",
    "Using what we've learned above, we are ready to use our dataframe `df` and our `condition_map` to create a new dataframe containing both experimental values and conditions.\n",
    "\n",
    "Remember what the data looks like:"
   ]
  },
  {
   "cell_type": "code",
   "execution_count": 94,
   "metadata": {
    "colab": {
     "base_uri": "https://localhost:8080/",
     "height": 204
    },
    "colab_type": "code",
    "executionInfo": {
     "elapsed": 927,
     "status": "ok",
     "timestamp": 1590079686212,
     "user": {
      "displayName": "Richard Alexander",
      "photoUrl": "https://lh3.googleusercontent.com/a-/AOh14Ghn6F8r3pF0SntsFbxkmhRaWso_lCd_s8ePdlKY_g=s64",
      "userId": "13543676537814105778"
     },
     "user_tz": 300
    },
    "id": "LTysAYsGkFM1",
    "outputId": "802de129-7700-459a-f114-3a6551e35a92"
   },
   "outputs": [
    {
     "data": {
      "text/html": [
       "<div>\n",
       "<style scoped>\n",
       "    .dataframe tbody tr th:only-of-type {\n",
       "        vertical-align: middle;\n",
       "    }\n",
       "\n",
       "    .dataframe tbody tr th {\n",
       "        vertical-align: top;\n",
       "    }\n",
       "\n",
       "    .dataframe thead th {\n",
       "        text-align: right;\n",
       "    }\n",
       "</style>\n",
       "<table border=\"1\" class=\"dataframe\">\n",
       "  <thead>\n",
       "    <tr style=\"text-align: right;\">\n",
       "      <th></th>\n",
       "      <th>File</th>\n",
       "      <th>Spots1</th>\n",
       "      <th>Spots2</th>\n",
       "      <th>Spots3</th>\n",
       "      <th>Area</th>\n",
       "      <th>DMax</th>\n",
       "      <th>Dmin</th>\n",
       "      <th>Smax</th>\n",
       "      <th>Smin</th>\n",
       "    </tr>\n",
       "  </thead>\n",
       "  <tbody>\n",
       "    <tr>\n",
       "      <th>0</th>\n",
       "      <td>Plate001_Well001_Object1.tif_projection.tif</td>\n",
       "      <td>0</td>\n",
       "      <td>0</td>\n",
       "      <td>0</td>\n",
       "      <td>11639576</td>\n",
       "      <td>661.4024</td>\n",
       "      <td>110.0419</td>\n",
       "      <td>1819</td>\n",
       "      <td>126</td>\n",
       "    </tr>\n",
       "    <tr>\n",
       "      <th>1</th>\n",
       "      <td>Plate001_Well002_Object1.tif_projection.tif</td>\n",
       "      <td>0</td>\n",
       "      <td>0</td>\n",
       "      <td>1</td>\n",
       "      <td>5042555</td>\n",
       "      <td>2362.7571</td>\n",
       "      <td>125.9414</td>\n",
       "      <td>1969</td>\n",
       "      <td>151</td>\n",
       "    </tr>\n",
       "    <tr>\n",
       "      <th>2</th>\n",
       "      <td>Plate001_Well003_Object1.tif_projection.tif</td>\n",
       "      <td>370</td>\n",
       "      <td>272</td>\n",
       "      <td>489</td>\n",
       "      <td>1515167</td>\n",
       "      <td>12584.0840</td>\n",
       "      <td>141.2762</td>\n",
       "      <td>2509</td>\n",
       "      <td>254</td>\n",
       "    </tr>\n",
       "    <tr>\n",
       "      <th>3</th>\n",
       "      <td>Plate002_Well001_Object1.tif_projection.tif</td>\n",
       "      <td>0</td>\n",
       "      <td>0</td>\n",
       "      <td>7</td>\n",
       "      <td>10463116</td>\n",
       "      <td>1549.1947</td>\n",
       "      <td>127.4712</td>\n",
       "      <td>1848</td>\n",
       "      <td>157</td>\n",
       "    </tr>\n",
       "    <tr>\n",
       "      <th>4</th>\n",
       "      <td>Plate002_Well002_Object1.tif_projection.tif</td>\n",
       "      <td>0</td>\n",
       "      <td>0</td>\n",
       "      <td>31</td>\n",
       "      <td>7595761</td>\n",
       "      <td>2527.1138</td>\n",
       "      <td>111.0442</td>\n",
       "      <td>1887</td>\n",
       "      <td>133</td>\n",
       "    </tr>\n",
       "  </tbody>\n",
       "</table>\n",
       "</div>"
      ],
      "text/plain": [
       "                                          File  Spots1  ...  Smax  Smin\n",
       "0  Plate001_Well001_Object1.tif_projection.tif       0  ...  1819   126\n",
       "1  Plate001_Well002_Object1.tif_projection.tif       0  ...  1969   151\n",
       "2  Plate001_Well003_Object1.tif_projection.tif     370  ...  2509   254\n",
       "3  Plate002_Well001_Object1.tif_projection.tif       0  ...  1848   157\n",
       "4  Plate002_Well002_Object1.tif_projection.tif       0  ...  1887   133\n",
       "\n",
       "[5 rows x 9 columns]"
      ]
     },
     "execution_count": 94,
     "metadata": {
      "tags": []
     },
     "output_type": "execute_result"
    }
   ],
   "source": [
    "df.head()"
   ]
  },
  {
   "cell_type": "code",
   "execution_count": 95,
   "metadata": {
    "colab": {
     "base_uri": "https://localhost:8080/",
     "height": 359
    },
    "colab_type": "code",
    "executionInfo": {
     "elapsed": 914,
     "status": "ok",
     "timestamp": 1590079686213,
     "user": {
      "displayName": "Richard Alexander",
      "photoUrl": "https://lh3.googleusercontent.com/a-/AOh14Ghn6F8r3pF0SntsFbxkmhRaWso_lCd_s8ePdlKY_g=s64",
      "userId": "13543676537814105778"
     },
     "user_tz": 300
    },
    "id": "djkjLWAvmBg2",
    "outputId": "e44f6152-64b1-4194-bf09-160b8aeee260"
   },
   "outputs": [
    {
     "data": {
      "text/html": [
       "<div>\n",
       "<style scoped>\n",
       "    .dataframe tbody tr th:only-of-type {\n",
       "        vertical-align: middle;\n",
       "    }\n",
       "\n",
       "    .dataframe tbody tr th {\n",
       "        vertical-align: top;\n",
       "    }\n",
       "\n",
       "    .dataframe thead th {\n",
       "        text-align: right;\n",
       "    }\n",
       "</style>\n",
       "<table border=\"1\" class=\"dataframe\">\n",
       "  <thead>\n",
       "    <tr style=\"text-align: right;\">\n",
       "      <th></th>\n",
       "      <th>slide</th>\n",
       "      <th>temperature</th>\n",
       "      <th>maturity_days</th>\n",
       "      <th>plate</th>\n",
       "      <th>well</th>\n",
       "    </tr>\n",
       "  </thead>\n",
       "  <tbody>\n",
       "    <tr>\n",
       "      <th>0</th>\n",
       "      <td>1</td>\n",
       "      <td>room</td>\n",
       "      <td>0</td>\n",
       "      <td>1</td>\n",
       "      <td>1</td>\n",
       "    </tr>\n",
       "    <tr>\n",
       "      <th>1</th>\n",
       "      <td>2</td>\n",
       "      <td>room</td>\n",
       "      <td>2</td>\n",
       "      <td>1</td>\n",
       "      <td>2</td>\n",
       "    </tr>\n",
       "    <tr>\n",
       "      <th>2</th>\n",
       "      <td>3</td>\n",
       "      <td>room</td>\n",
       "      <td>4</td>\n",
       "      <td>1</td>\n",
       "      <td>3</td>\n",
       "    </tr>\n",
       "    <tr>\n",
       "      <th>3</th>\n",
       "      <td>4</td>\n",
       "      <td>room</td>\n",
       "      <td>6</td>\n",
       "      <td>2</td>\n",
       "      <td>1</td>\n",
       "    </tr>\n",
       "    <tr>\n",
       "      <th>4</th>\n",
       "      <td>5</td>\n",
       "      <td>room</td>\n",
       "      <td>8</td>\n",
       "      <td>2</td>\n",
       "      <td>2</td>\n",
       "    </tr>\n",
       "    <tr>\n",
       "      <th>5</th>\n",
       "      <td>6</td>\n",
       "      <td>incubate</td>\n",
       "      <td>0</td>\n",
       "      <td>2</td>\n",
       "      <td>3</td>\n",
       "    </tr>\n",
       "    <tr>\n",
       "      <th>6</th>\n",
       "      <td>7</td>\n",
       "      <td>incubate</td>\n",
       "      <td>2</td>\n",
       "      <td>3</td>\n",
       "      <td>1</td>\n",
       "    </tr>\n",
       "    <tr>\n",
       "      <th>7</th>\n",
       "      <td>8</td>\n",
       "      <td>incubate</td>\n",
       "      <td>4</td>\n",
       "      <td>3</td>\n",
       "      <td>2</td>\n",
       "    </tr>\n",
       "    <tr>\n",
       "      <th>8</th>\n",
       "      <td>9</td>\n",
       "      <td>incubate</td>\n",
       "      <td>6</td>\n",
       "      <td>3</td>\n",
       "      <td>3</td>\n",
       "    </tr>\n",
       "    <tr>\n",
       "      <th>9</th>\n",
       "      <td>10</td>\n",
       "      <td>incubate</td>\n",
       "      <td>8</td>\n",
       "      <td>3</td>\n",
       "      <td>4</td>\n",
       "    </tr>\n",
       "  </tbody>\n",
       "</table>\n",
       "</div>"
      ],
      "text/plain": [
       "   slide temperature  maturity_days  plate  well\n",
       "0      1        room              0      1     1\n",
       "1      2        room              2      1     2\n",
       "2      3        room              4      1     3\n",
       "3      4        room              6      2     1\n",
       "4      5        room              8      2     2\n",
       "5      6    incubate              0      2     3\n",
       "6      7    incubate              2      3     1\n",
       "7      8    incubate              4      3     2\n",
       "8      9    incubate              6      3     3\n",
       "9     10    incubate              8      3     4"
      ]
     },
     "execution_count": 95,
     "metadata": {
      "tags": []
     },
     "output_type": "execute_result"
    }
   ],
   "source": [
    "condition_map.head(10)"
   ]
  },
  {
   "cell_type": "markdown",
   "metadata": {
    "colab_type": "text",
    "id": "RVx9PVMYmGvh"
   },
   "source": [
    "- In dataframe `df` the *File* column contains a string with both plate and well number.\n",
    "- The `condition_map` dataframe contains a plate and well column.\n",
    "\n",
    "We will use these as keys to map the conditions and data into a single dataframe.\n",
    "\n",
    "### Create `df` mapping key\n",
    "\n",
    "To create a mapping key, we need the plate and well number in a string formatted like **1_3**, where the first number represents the plate and the second number represents the well.\n",
    "\n",
    "The *File* column contains the plate and well numbers, so we will use string functions to extract the info we need.\n",
    "\n",
    "Plate and well are separated by an underscore \"_\" in the filename, so let's use pandas `df.str.split` to get them into their own columns in a temporary dataframe."
   ]
  },
  {
   "cell_type": "code",
   "execution_count": 96,
   "metadata": {
    "colab": {
     "base_uri": "https://localhost:8080/",
     "height": 204
    },
    "colab_type": "code",
    "executionInfo": {
     "elapsed": 903,
     "status": "ok",
     "timestamp": 1590079686214,
     "user": {
      "displayName": "Richard Alexander",
      "photoUrl": "https://lh3.googleusercontent.com/a-/AOh14Ghn6F8r3pF0SntsFbxkmhRaWso_lCd_s8ePdlKY_g=s64",
      "userId": "13543676537814105778"
     },
     "user_tz": 300
    },
    "id": "2soWwzPpmDNG",
    "outputId": "ccd3a5e0-5576-4072-833e-2e430733c824"
   },
   "outputs": [
    {
     "data": {
      "text/html": [
       "<div>\n",
       "<style scoped>\n",
       "    .dataframe tbody tr th:only-of-type {\n",
       "        vertical-align: middle;\n",
       "    }\n",
       "\n",
       "    .dataframe tbody tr th {\n",
       "        vertical-align: top;\n",
       "    }\n",
       "\n",
       "    .dataframe thead th {\n",
       "        text-align: right;\n",
       "    }\n",
       "</style>\n",
       "<table border=\"1\" class=\"dataframe\">\n",
       "  <thead>\n",
       "    <tr style=\"text-align: right;\">\n",
       "      <th></th>\n",
       "      <th>0</th>\n",
       "      <th>1</th>\n",
       "      <th>2</th>\n",
       "      <th>3</th>\n",
       "    </tr>\n",
       "  </thead>\n",
       "  <tbody>\n",
       "    <tr>\n",
       "      <th>0</th>\n",
       "      <td>Plate001</td>\n",
       "      <td>Well001</td>\n",
       "      <td>Object1.tif</td>\n",
       "      <td>projection.tif</td>\n",
       "    </tr>\n",
       "    <tr>\n",
       "      <th>1</th>\n",
       "      <td>Plate001</td>\n",
       "      <td>Well002</td>\n",
       "      <td>Object1.tif</td>\n",
       "      <td>projection.tif</td>\n",
       "    </tr>\n",
       "    <tr>\n",
       "      <th>2</th>\n",
       "      <td>Plate001</td>\n",
       "      <td>Well003</td>\n",
       "      <td>Object1.tif</td>\n",
       "      <td>projection.tif</td>\n",
       "    </tr>\n",
       "    <tr>\n",
       "      <th>3</th>\n",
       "      <td>Plate002</td>\n",
       "      <td>Well001</td>\n",
       "      <td>Object1.tif</td>\n",
       "      <td>projection.tif</td>\n",
       "    </tr>\n",
       "    <tr>\n",
       "      <th>4</th>\n",
       "      <td>Plate002</td>\n",
       "      <td>Well002</td>\n",
       "      <td>Object1.tif</td>\n",
       "      <td>projection.tif</td>\n",
       "    </tr>\n",
       "  </tbody>\n",
       "</table>\n",
       "</div>"
      ],
      "text/plain": [
       "          0        1            2               3\n",
       "0  Plate001  Well001  Object1.tif  projection.tif\n",
       "1  Plate001  Well002  Object1.tif  projection.tif\n",
       "2  Plate001  Well003  Object1.tif  projection.tif\n",
       "3  Plate002  Well001  Object1.tif  projection.tif\n",
       "4  Plate002  Well002  Object1.tif  projection.tif"
      ]
     },
     "execution_count": 96,
     "metadata": {
      "tags": []
     },
     "output_type": "execute_result"
    }
   ],
   "source": [
    "# Split plate and well into columns in a new dataframe\n",
    "split = df['File'].str.split('_', expand=True)\n",
    "\n",
    "split.head()"
   ]
  },
  {
   "cell_type": "markdown",
   "metadata": {
    "colab_type": "text",
    "id": "vffTFMyW-v_0"
   },
   "source": [
    "Let's work on extracting the plate and well numbers from the first two columns in the `split` dataframe. We notice that we can get the numbers by splitting on the string \"00\"."
   ]
  },
  {
   "cell_type": "code",
   "execution_count": 97,
   "metadata": {
    "colab": {
     "base_uri": "https://localhost:8080/",
     "height": 204
    },
    "colab_type": "code",
    "executionInfo": {
     "elapsed": 890,
     "status": "ok",
     "timestamp": 1590079686214,
     "user": {
      "displayName": "Richard Alexander",
      "photoUrl": "https://lh3.googleusercontent.com/a-/AOh14Ghn6F8r3pF0SntsFbxkmhRaWso_lCd_s8ePdlKY_g=s64",
      "userId": "13543676537814105778"
     },
     "user_tz": 300
    },
    "id": "bEtS-AjnoGVt",
    "outputId": "5035d61f-be32-4ffc-b879-d8e350a6934d"
   },
   "outputs": [
    {
     "data": {
      "text/html": [
       "<div>\n",
       "<style scoped>\n",
       "    .dataframe tbody tr th:only-of-type {\n",
       "        vertical-align: middle;\n",
       "    }\n",
       "\n",
       "    .dataframe tbody tr th {\n",
       "        vertical-align: top;\n",
       "    }\n",
       "\n",
       "    .dataframe thead th {\n",
       "        text-align: right;\n",
       "    }\n",
       "</style>\n",
       "<table border=\"1\" class=\"dataframe\">\n",
       "  <thead>\n",
       "    <tr style=\"text-align: right;\">\n",
       "      <th></th>\n",
       "      <th>0</th>\n",
       "      <th>1</th>\n",
       "    </tr>\n",
       "  </thead>\n",
       "  <tbody>\n",
       "    <tr>\n",
       "      <th>0</th>\n",
       "      <td>Plate</td>\n",
       "      <td>1</td>\n",
       "    </tr>\n",
       "    <tr>\n",
       "      <th>1</th>\n",
       "      <td>Plate</td>\n",
       "      <td>1</td>\n",
       "    </tr>\n",
       "    <tr>\n",
       "      <th>2</th>\n",
       "      <td>Plate</td>\n",
       "      <td>1</td>\n",
       "    </tr>\n",
       "    <tr>\n",
       "      <th>3</th>\n",
       "      <td>Plate</td>\n",
       "      <td>2</td>\n",
       "    </tr>\n",
       "    <tr>\n",
       "      <th>4</th>\n",
       "      <td>Plate</td>\n",
       "      <td>2</td>\n",
       "    </tr>\n",
       "  </tbody>\n",
       "</table>\n",
       "</div>"
      ],
      "text/plain": [
       "       0  1\n",
       "0  Plate  1\n",
       "1  Plate  1\n",
       "2  Plate  1\n",
       "3  Plate  2\n",
       "4  Plate  2"
      ]
     },
     "execution_count": 97,
     "metadata": {
      "tags": []
     },
     "output_type": "execute_result"
    }
   ],
   "source": [
    "# Split the plate column on \"00\"\n",
    "plate = split[:][0].str.split('00', expand=True)\n",
    "\n",
    "plate.head()"
   ]
  },
  {
   "cell_type": "code",
   "execution_count": 98,
   "metadata": {
    "colab": {
     "base_uri": "https://localhost:8080/",
     "height": 204
    },
    "colab_type": "code",
    "executionInfo": {
     "elapsed": 881,
     "status": "ok",
     "timestamp": 1590079686215,
     "user": {
      "displayName": "Richard Alexander",
      "photoUrl": "https://lh3.googleusercontent.com/a-/AOh14Ghn6F8r3pF0SntsFbxkmhRaWso_lCd_s8ePdlKY_g=s64",
      "userId": "13543676537814105778"
     },
     "user_tz": 300
    },
    "id": "0DU7Sf9BoT6G",
    "outputId": "8615cf1a-0d3e-41e1-825b-2dd0251da8bf"
   },
   "outputs": [
    {
     "data": {
      "text/html": [
       "<div>\n",
       "<style scoped>\n",
       "    .dataframe tbody tr th:only-of-type {\n",
       "        vertical-align: middle;\n",
       "    }\n",
       "\n",
       "    .dataframe tbody tr th {\n",
       "        vertical-align: top;\n",
       "    }\n",
       "\n",
       "    .dataframe thead th {\n",
       "        text-align: right;\n",
       "    }\n",
       "</style>\n",
       "<table border=\"1\" class=\"dataframe\">\n",
       "  <thead>\n",
       "    <tr style=\"text-align: right;\">\n",
       "      <th></th>\n",
       "      <th>0</th>\n",
       "      <th>1</th>\n",
       "    </tr>\n",
       "  </thead>\n",
       "  <tbody>\n",
       "    <tr>\n",
       "      <th>0</th>\n",
       "      <td>Well</td>\n",
       "      <td>1</td>\n",
       "    </tr>\n",
       "    <tr>\n",
       "      <th>1</th>\n",
       "      <td>Well</td>\n",
       "      <td>2</td>\n",
       "    </tr>\n",
       "    <tr>\n",
       "      <th>2</th>\n",
       "      <td>Well</td>\n",
       "      <td>3</td>\n",
       "    </tr>\n",
       "    <tr>\n",
       "      <th>3</th>\n",
       "      <td>Well</td>\n",
       "      <td>1</td>\n",
       "    </tr>\n",
       "    <tr>\n",
       "      <th>4</th>\n",
       "      <td>Well</td>\n",
       "      <td>2</td>\n",
       "    </tr>\n",
       "  </tbody>\n",
       "</table>\n",
       "</div>"
      ],
      "text/plain": [
       "      0  1\n",
       "0  Well  1\n",
       "1  Well  2\n",
       "2  Well  3\n",
       "3  Well  1\n",
       "4  Well  2"
      ]
     },
     "execution_count": 98,
     "metadata": {
      "tags": []
     },
     "output_type": "execute_result"
    }
   ],
   "source": [
    "# Split the well column on \"00\"\n",
    "well = split[:][1].str.split('00', expand=True)\n",
    "\n",
    "well.head()"
   ]
  },
  {
   "cell_type": "markdown",
   "metadata": {
    "colab_type": "text",
    "id": "Xr13yVTu_Kbt"
   },
   "source": [
    "Now we have two new dataframes called `plate` and `well` that contain the plate/well number in the second column (index 1). Both columns are already strings, so we can concatenate them into a new series."
   ]
  },
  {
   "cell_type": "code",
   "execution_count": 99,
   "metadata": {
    "colab": {
     "base_uri": "https://localhost:8080/",
     "height": 119
    },
    "colab_type": "code",
    "executionInfo": {
     "elapsed": 870,
     "status": "ok",
     "timestamp": 1590079686216,
     "user": {
      "displayName": "Richard Alexander",
      "photoUrl": "https://lh3.googleusercontent.com/a-/AOh14Ghn6F8r3pF0SntsFbxkmhRaWso_lCd_s8ePdlKY_g=s64",
      "userId": "13543676537814105778"
     },
     "user_tz": 300
    },
    "id": "w3U0Xz0Wpl7K",
    "outputId": "1fcf39ed-610a-4630-da51-13e3b921d528"
   },
   "outputs": [
    {
     "data": {
      "text/plain": [
       "0    1_1\n",
       "1    1_2\n",
       "2    1_3\n",
       "3    2_1\n",
       "4    2_2\n",
       "Name: 1, dtype: object"
      ]
     },
     "execution_count": 99,
     "metadata": {
      "tags": []
     },
     "output_type": "execute_result"
    }
   ],
   "source": [
    "# Concatenate plate and well\n",
    "plate_well = plate[:][1] + '_' + well[:][1]\n",
    "\n",
    "plate_well.head()"
   ]
  },
  {
   "cell_type": "markdown",
   "metadata": {
    "colab_type": "text",
    "id": "c1SEGOSY_nt_"
   },
   "source": [
    "This is the plate/well key that we need! Let's put it back in the dataframe `df`:"
   ]
  },
  {
   "cell_type": "code",
   "execution_count": 100,
   "metadata": {
    "colab": {
     "base_uri": "https://localhost:8080/",
     "height": 204
    },
    "colab_type": "code",
    "executionInfo": {
     "elapsed": 858,
     "status": "ok",
     "timestamp": 1590079686217,
     "user": {
      "displayName": "Richard Alexander",
      "photoUrl": "https://lh3.googleusercontent.com/a-/AOh14Ghn6F8r3pF0SntsFbxkmhRaWso_lCd_s8ePdlKY_g=s64",
      "userId": "13543676537814105778"
     },
     "user_tz": 300
    },
    "id": "jvrbJhiSqKSr",
    "outputId": "745d9704-ed25-4677-cff4-2aa0588c4fdb"
   },
   "outputs": [
    {
     "data": {
      "text/html": [
       "<div>\n",
       "<style scoped>\n",
       "    .dataframe tbody tr th:only-of-type {\n",
       "        vertical-align: middle;\n",
       "    }\n",
       "\n",
       "    .dataframe tbody tr th {\n",
       "        vertical-align: top;\n",
       "    }\n",
       "\n",
       "    .dataframe thead th {\n",
       "        text-align: right;\n",
       "    }\n",
       "</style>\n",
       "<table border=\"1\" class=\"dataframe\">\n",
       "  <thead>\n",
       "    <tr style=\"text-align: right;\">\n",
       "      <th></th>\n",
       "      <th>File</th>\n",
       "      <th>Spots1</th>\n",
       "      <th>Spots2</th>\n",
       "      <th>Spots3</th>\n",
       "      <th>Area</th>\n",
       "      <th>DMax</th>\n",
       "      <th>Dmin</th>\n",
       "      <th>Smax</th>\n",
       "      <th>Smin</th>\n",
       "      <th>plate_well</th>\n",
       "    </tr>\n",
       "  </thead>\n",
       "  <tbody>\n",
       "    <tr>\n",
       "      <th>0</th>\n",
       "      <td>Plate001_Well001_Object1.tif_projection.tif</td>\n",
       "      <td>0</td>\n",
       "      <td>0</td>\n",
       "      <td>0</td>\n",
       "      <td>11639576</td>\n",
       "      <td>661.4024</td>\n",
       "      <td>110.0419</td>\n",
       "      <td>1819</td>\n",
       "      <td>126</td>\n",
       "      <td>1_1</td>\n",
       "    </tr>\n",
       "    <tr>\n",
       "      <th>1</th>\n",
       "      <td>Plate001_Well002_Object1.tif_projection.tif</td>\n",
       "      <td>0</td>\n",
       "      <td>0</td>\n",
       "      <td>1</td>\n",
       "      <td>5042555</td>\n",
       "      <td>2362.7571</td>\n",
       "      <td>125.9414</td>\n",
       "      <td>1969</td>\n",
       "      <td>151</td>\n",
       "      <td>1_2</td>\n",
       "    </tr>\n",
       "    <tr>\n",
       "      <th>2</th>\n",
       "      <td>Plate001_Well003_Object1.tif_projection.tif</td>\n",
       "      <td>370</td>\n",
       "      <td>272</td>\n",
       "      <td>489</td>\n",
       "      <td>1515167</td>\n",
       "      <td>12584.0840</td>\n",
       "      <td>141.2762</td>\n",
       "      <td>2509</td>\n",
       "      <td>254</td>\n",
       "      <td>1_3</td>\n",
       "    </tr>\n",
       "    <tr>\n",
       "      <th>3</th>\n",
       "      <td>Plate002_Well001_Object1.tif_projection.tif</td>\n",
       "      <td>0</td>\n",
       "      <td>0</td>\n",
       "      <td>7</td>\n",
       "      <td>10463116</td>\n",
       "      <td>1549.1947</td>\n",
       "      <td>127.4712</td>\n",
       "      <td>1848</td>\n",
       "      <td>157</td>\n",
       "      <td>2_1</td>\n",
       "    </tr>\n",
       "    <tr>\n",
       "      <th>4</th>\n",
       "      <td>Plate002_Well002_Object1.tif_projection.tif</td>\n",
       "      <td>0</td>\n",
       "      <td>0</td>\n",
       "      <td>31</td>\n",
       "      <td>7595761</td>\n",
       "      <td>2527.1138</td>\n",
       "      <td>111.0442</td>\n",
       "      <td>1887</td>\n",
       "      <td>133</td>\n",
       "      <td>2_2</td>\n",
       "    </tr>\n",
       "  </tbody>\n",
       "</table>\n",
       "</div>"
      ],
      "text/plain": [
       "                                          File  Spots1  ...  Smin  plate_well\n",
       "0  Plate001_Well001_Object1.tif_projection.tif       0  ...   126         1_1\n",
       "1  Plate001_Well002_Object1.tif_projection.tif       0  ...   151         1_2\n",
       "2  Plate001_Well003_Object1.tif_projection.tif     370  ...   254         1_3\n",
       "3  Plate002_Well001_Object1.tif_projection.tif       0  ...   157         2_1\n",
       "4  Plate002_Well002_Object1.tif_projection.tif       0  ...   133         2_2\n",
       "\n",
       "[5 rows x 10 columns]"
      ]
     },
     "execution_count": 100,
     "metadata": {
      "tags": []
     },
     "output_type": "execute_result"
    }
   ],
   "source": [
    "# Create new plate_well column in df\n",
    "df['plate_well'] = plate_well\n",
    "\n",
    "df.head()"
   ]
  },
  {
   "cell_type": "markdown",
   "metadata": {
    "colab_type": "text",
    "id": "AmApz9NBAM_k"
   },
   "source": [
    "We need the same key in the `condition_map` dataframe. Because we have the plate and well number in seperate columns, we can convert each to a string, and skip straight to the concatenation step.\n",
    "\n",
    "Let's create a new `condition_map` column called **plate_well**"
   ]
  },
  {
   "cell_type": "code",
   "execution_count": 101,
   "metadata": {
    "colab": {
     "base_uri": "https://localhost:8080/",
     "height": 204
    },
    "colab_type": "code",
    "executionInfo": {
     "elapsed": 846,
     "status": "ok",
     "timestamp": 1590079686217,
     "user": {
      "displayName": "Richard Alexander",
      "photoUrl": "https://lh3.googleusercontent.com/a-/AOh14Ghn6F8r3pF0SntsFbxkmhRaWso_lCd_s8ePdlKY_g=s64",
      "userId": "13543676537814105778"
     },
     "user_tz": 300
    },
    "id": "suOh3MfssG6U",
    "outputId": "b0c5ee61-258d-4e11-b4dd-8068e0f0f2f8"
   },
   "outputs": [
    {
     "data": {
      "text/html": [
       "<div>\n",
       "<style scoped>\n",
       "    .dataframe tbody tr th:only-of-type {\n",
       "        vertical-align: middle;\n",
       "    }\n",
       "\n",
       "    .dataframe tbody tr th {\n",
       "        vertical-align: top;\n",
       "    }\n",
       "\n",
       "    .dataframe thead th {\n",
       "        text-align: right;\n",
       "    }\n",
       "</style>\n",
       "<table border=\"1\" class=\"dataframe\">\n",
       "  <thead>\n",
       "    <tr style=\"text-align: right;\">\n",
       "      <th></th>\n",
       "      <th>slide</th>\n",
       "      <th>temperature</th>\n",
       "      <th>maturity_days</th>\n",
       "      <th>plate</th>\n",
       "      <th>well</th>\n",
       "      <th>plate_well</th>\n",
       "    </tr>\n",
       "  </thead>\n",
       "  <tbody>\n",
       "    <tr>\n",
       "      <th>0</th>\n",
       "      <td>1</td>\n",
       "      <td>room</td>\n",
       "      <td>0</td>\n",
       "      <td>1</td>\n",
       "      <td>1</td>\n",
       "      <td>1_1</td>\n",
       "    </tr>\n",
       "    <tr>\n",
       "      <th>1</th>\n",
       "      <td>2</td>\n",
       "      <td>room</td>\n",
       "      <td>2</td>\n",
       "      <td>1</td>\n",
       "      <td>2</td>\n",
       "      <td>1_2</td>\n",
       "    </tr>\n",
       "    <tr>\n",
       "      <th>2</th>\n",
       "      <td>3</td>\n",
       "      <td>room</td>\n",
       "      <td>4</td>\n",
       "      <td>1</td>\n",
       "      <td>3</td>\n",
       "      <td>1_3</td>\n",
       "    </tr>\n",
       "    <tr>\n",
       "      <th>3</th>\n",
       "      <td>4</td>\n",
       "      <td>room</td>\n",
       "      <td>6</td>\n",
       "      <td>2</td>\n",
       "      <td>1</td>\n",
       "      <td>2_1</td>\n",
       "    </tr>\n",
       "    <tr>\n",
       "      <th>4</th>\n",
       "      <td>5</td>\n",
       "      <td>room</td>\n",
       "      <td>8</td>\n",
       "      <td>2</td>\n",
       "      <td>2</td>\n",
       "      <td>2_2</td>\n",
       "    </tr>\n",
       "  </tbody>\n",
       "</table>\n",
       "</div>"
      ],
      "text/plain": [
       "   slide temperature  maturity_days  plate  well plate_well\n",
       "0      1        room              0      1     1        1_1\n",
       "1      2        room              2      1     2        1_2\n",
       "2      3        room              4      1     3        1_3\n",
       "3      4        room              6      2     1        2_1\n",
       "4      5        room              8      2     2        2_2"
      ]
     },
     "execution_count": 101,
     "metadata": {
      "tags": []
     },
     "output_type": "execute_result"
    }
   ],
   "source": [
    "# Create new plate_well column in condition_map\n",
    "condition_map['plate_well'] = condition_map['plate'].astype(str) + '_' + condition_map['well'].astype(str)\n",
    "\n",
    "condition_map.head()"
   ]
  },
  {
   "cell_type": "markdown",
   "metadata": {
    "colab_type": "text",
    "id": "L0Dc9gWbAsdI"
   },
   "source": [
    "Both dataframes have a new column named **plate_well** that can be used as a key for mapping data from `condition_map` into `df`."
   ]
  },
  {
   "cell_type": "markdown",
   "metadata": {
    "colab_type": "text",
    "id": "fHgUtT3oA__I"
   },
   "source": [
    "### Use `zip` and `map`\n",
    "\n",
    "We will use the `condition_map` dataframe to create our mapping.\n",
    "\n",
    "First we zip our **plate_well** key with the two conditions we want to add; namely, **temperature** and **maturity_days**."
   ]
  },
  {
   "cell_type": "code",
   "execution_count": 102,
   "metadata": {
    "colab": {
     "base_uri": "https://localhost:8080/",
     "height": 187
    },
    "colab_type": "code",
    "executionInfo": {
     "elapsed": 835,
     "status": "ok",
     "timestamp": 1590079686218,
     "user": {
      "displayName": "Richard Alexander",
      "photoUrl": "https://lh3.googleusercontent.com/a-/AOh14Ghn6F8r3pF0SntsFbxkmhRaWso_lCd_s8ePdlKY_g=s64",
      "userId": "13543676537814105778"
     },
     "user_tz": 300
    },
    "id": "TqJ5Qcr3BTLg",
    "outputId": "708b927b-14aa-4579-98e7-0070e41a8555"
   },
   "outputs": [
    {
     "data": {
      "text/plain": [
       "[('1_1', 'room', 0),\n",
       " ('1_2', 'room', 2),\n",
       " ('1_3', 'room', 4),\n",
       " ('2_1', 'room', 6),\n",
       " ('2_2', 'room', 8),\n",
       " ('2_3', 'incubate', 0),\n",
       " ('3_1', 'incubate', 2),\n",
       " ('3_2', 'incubate', 4),\n",
       " ('3_3', 'incubate', 6),\n",
       " ('3_4', 'incubate', 8)]"
      ]
     },
     "execution_count": 102,
     "metadata": {
      "tags": []
     },
     "output_type": "execute_result"
    }
   ],
   "source": [
    "zip_map = list(zip(condition_map['plate_well'], condition_map['temperature'], condition_map['maturity_days']))\n",
    "\n",
    "zip_map"
   ]
  },
  {
   "cell_type": "markdown",
   "metadata": {
    "colab_type": "text",
    "id": "oZOMSPPzHg5S"
   },
   "source": [
    "Create a mapping dictionary using zipped values."
   ]
  },
  {
   "cell_type": "code",
   "execution_count": 103,
   "metadata": {
    "colab": {
     "base_uri": "https://localhost:8080/",
     "height": 187
    },
    "colab_type": "code",
    "executionInfo": {
     "elapsed": 826,
     "status": "ok",
     "timestamp": 1590079686219,
     "user": {
      "displayName": "Richard Alexander",
      "photoUrl": "https://lh3.googleusercontent.com/a-/AOh14Ghn6F8r3pF0SntsFbxkmhRaWso_lCd_s8ePdlKY_g=s64",
      "userId": "13543676537814105778"
     },
     "user_tz": 300
    },
    "id": "Jl--KSknupVS",
    "outputId": "26d70253-b293-4b84-a21d-6d64b6467f63"
   },
   "outputs": [
    {
     "data": {
      "text/plain": [
       "{'1_1': ('room', 0),\n",
       " '1_2': ('room', 2),\n",
       " '1_3': ('room', 4),\n",
       " '2_1': ('room', 6),\n",
       " '2_2': ('room', 8),\n",
       " '2_3': ('incubate', 0),\n",
       " '3_1': ('incubate', 2),\n",
       " '3_2': ('incubate', 4),\n",
       " '3_3': ('incubate', 6),\n",
       " '3_4': ('incubate', 8)}"
      ]
     },
     "execution_count": 103,
     "metadata": {
      "tags": []
     },
     "output_type": "execute_result"
    }
   ],
   "source": [
    "mapping_dict = {p_w: (temp, days) for p_w, temp, days in zip_map}\n",
    "\n",
    "dict(mapping_dict)"
   ]
  },
  {
   "cell_type": "markdown",
   "metadata": {
    "colab_type": "text",
    "id": "q-fJmtbkIs5P"
   },
   "source": [
    "Use `map` to map the conditions to the key."
   ]
  },
  {
   "cell_type": "code",
   "execution_count": 108,
   "metadata": {
    "colab": {
     "base_uri": "https://localhost:8080/",
     "height": 979
    },
    "colab_type": "code",
    "executionInfo": {
     "elapsed": 236,
     "status": "ok",
     "timestamp": 1590079885164,
     "user": {
      "displayName": "Richard Alexander",
      "photoUrl": "https://lh3.googleusercontent.com/a-/AOh14Ghn6F8r3pF0SntsFbxkmhRaWso_lCd_s8ePdlKY_g=s64",
      "userId": "13543676537814105778"
     },
     "user_tz": 300
    },
    "id": "eVb8wE7fJGdo",
    "outputId": "fee726f6-8950-42c3-c232-a59767f6b5bb"
   },
   "outputs": [
    {
     "data": {
      "text/html": [
       "<div>\n",
       "<style scoped>\n",
       "    .dataframe tbody tr th:only-of-type {\n",
       "        vertical-align: middle;\n",
       "    }\n",
       "\n",
       "    .dataframe tbody tr th {\n",
       "        vertical-align: top;\n",
       "    }\n",
       "\n",
       "    .dataframe thead th {\n",
       "        text-align: right;\n",
       "    }\n",
       "</style>\n",
       "<table border=\"1\" class=\"dataframe\">\n",
       "  <thead>\n",
       "    <tr style=\"text-align: right;\">\n",
       "      <th></th>\n",
       "      <th>0</th>\n",
       "      <th>1</th>\n",
       "    </tr>\n",
       "  </thead>\n",
       "  <tbody>\n",
       "    <tr>\n",
       "      <th>0</th>\n",
       "      <td>room</td>\n",
       "      <td>0</td>\n",
       "    </tr>\n",
       "    <tr>\n",
       "      <th>1</th>\n",
       "      <td>room</td>\n",
       "      <td>2</td>\n",
       "    </tr>\n",
       "    <tr>\n",
       "      <th>2</th>\n",
       "      <td>room</td>\n",
       "      <td>4</td>\n",
       "    </tr>\n",
       "    <tr>\n",
       "      <th>3</th>\n",
       "      <td>room</td>\n",
       "      <td>6</td>\n",
       "    </tr>\n",
       "    <tr>\n",
       "      <th>4</th>\n",
       "      <td>room</td>\n",
       "      <td>8</td>\n",
       "    </tr>\n",
       "    <tr>\n",
       "      <th>5</th>\n",
       "      <td>incubate</td>\n",
       "      <td>0</td>\n",
       "    </tr>\n",
       "    <tr>\n",
       "      <th>6</th>\n",
       "      <td>incubate</td>\n",
       "      <td>2</td>\n",
       "    </tr>\n",
       "    <tr>\n",
       "      <th>7</th>\n",
       "      <td>incubate</td>\n",
       "      <td>4</td>\n",
       "    </tr>\n",
       "    <tr>\n",
       "      <th>8</th>\n",
       "      <td>incubate</td>\n",
       "      <td>6</td>\n",
       "    </tr>\n",
       "    <tr>\n",
       "      <th>9</th>\n",
       "      <td>incubate</td>\n",
       "      <td>8</td>\n",
       "    </tr>\n",
       "    <tr>\n",
       "      <th>10</th>\n",
       "      <td>room</td>\n",
       "      <td>0</td>\n",
       "    </tr>\n",
       "    <tr>\n",
       "      <th>11</th>\n",
       "      <td>room</td>\n",
       "      <td>2</td>\n",
       "    </tr>\n",
       "    <tr>\n",
       "      <th>12</th>\n",
       "      <td>room</td>\n",
       "      <td>4</td>\n",
       "    </tr>\n",
       "    <tr>\n",
       "      <th>13</th>\n",
       "      <td>room</td>\n",
       "      <td>6</td>\n",
       "    </tr>\n",
       "    <tr>\n",
       "      <th>14</th>\n",
       "      <td>room</td>\n",
       "      <td>8</td>\n",
       "    </tr>\n",
       "    <tr>\n",
       "      <th>15</th>\n",
       "      <td>incubate</td>\n",
       "      <td>0</td>\n",
       "    </tr>\n",
       "    <tr>\n",
       "      <th>16</th>\n",
       "      <td>incubate</td>\n",
       "      <td>2</td>\n",
       "    </tr>\n",
       "    <tr>\n",
       "      <th>17</th>\n",
       "      <td>incubate</td>\n",
       "      <td>4</td>\n",
       "    </tr>\n",
       "    <tr>\n",
       "      <th>18</th>\n",
       "      <td>incubate</td>\n",
       "      <td>6</td>\n",
       "    </tr>\n",
       "    <tr>\n",
       "      <th>19</th>\n",
       "      <td>incubate</td>\n",
       "      <td>8</td>\n",
       "    </tr>\n",
       "    <tr>\n",
       "      <th>20</th>\n",
       "      <td>room</td>\n",
       "      <td>0</td>\n",
       "    </tr>\n",
       "    <tr>\n",
       "      <th>21</th>\n",
       "      <td>room</td>\n",
       "      <td>2</td>\n",
       "    </tr>\n",
       "    <tr>\n",
       "      <th>22</th>\n",
       "      <td>room</td>\n",
       "      <td>4</td>\n",
       "    </tr>\n",
       "    <tr>\n",
       "      <th>23</th>\n",
       "      <td>room</td>\n",
       "      <td>6</td>\n",
       "    </tr>\n",
       "    <tr>\n",
       "      <th>24</th>\n",
       "      <td>room</td>\n",
       "      <td>8</td>\n",
       "    </tr>\n",
       "    <tr>\n",
       "      <th>25</th>\n",
       "      <td>incubate</td>\n",
       "      <td>0</td>\n",
       "    </tr>\n",
       "    <tr>\n",
       "      <th>26</th>\n",
       "      <td>incubate</td>\n",
       "      <td>2</td>\n",
       "    </tr>\n",
       "    <tr>\n",
       "      <th>27</th>\n",
       "      <td>incubate</td>\n",
       "      <td>4</td>\n",
       "    </tr>\n",
       "    <tr>\n",
       "      <th>28</th>\n",
       "      <td>incubate</td>\n",
       "      <td>6</td>\n",
       "    </tr>\n",
       "    <tr>\n",
       "      <th>29</th>\n",
       "      <td>incubate</td>\n",
       "      <td>8</td>\n",
       "    </tr>\n",
       "  </tbody>\n",
       "</table>\n",
       "</div>"
      ],
      "text/plain": [
       "           0  1\n",
       "0       room  0\n",
       "1       room  2\n",
       "2       room  4\n",
       "3       room  6\n",
       "4       room  8\n",
       "5   incubate  0\n",
       "6   incubate  2\n",
       "7   incubate  4\n",
       "8   incubate  6\n",
       "9   incubate  8\n",
       "10      room  0\n",
       "11      room  2\n",
       "12      room  4\n",
       "13      room  6\n",
       "14      room  8\n",
       "15  incubate  0\n",
       "16  incubate  2\n",
       "17  incubate  4\n",
       "18  incubate  6\n",
       "19  incubate  8\n",
       "20      room  0\n",
       "21      room  2\n",
       "22      room  4\n",
       "23      room  6\n",
       "24      room  8\n",
       "25  incubate  0\n",
       "26  incubate  2\n",
       "27  incubate  4\n",
       "28  incubate  6\n",
       "29  incubate  8"
      ]
     },
     "execution_count": 108,
     "metadata": {
      "tags": []
     },
     "output_type": "execute_result"
    }
   ],
   "source": [
    "mapped_df = pd.DataFrame(df.plate_well.map(mapping_dict).tolist())\n",
    "\n",
    "mapped_df"
   ]
  },
  {
   "cell_type": "markdown",
   "metadata": {
    "colab_type": "text",
    "id": "rmasKFysKN-d"
   },
   "source": [
    "Now insert the values into the original dataframe!"
   ]
  },
  {
   "cell_type": "code",
   "execution_count": 110,
   "metadata": {
    "colab": {
     "base_uri": "https://localhost:8080/",
     "height": 979
    },
    "colab_type": "code",
    "executionInfo": {
     "elapsed": 365,
     "status": "ok",
     "timestamp": 1590080143172,
     "user": {
      "displayName": "Richard Alexander",
      "photoUrl": "https://lh3.googleusercontent.com/a-/AOh14Ghn6F8r3pF0SntsFbxkmhRaWso_lCd_s8ePdlKY_g=s64",
      "userId": "13543676537814105778"
     },
     "user_tz": 300
    },
    "id": "n48GC9tmwBT3",
    "outputId": "a2eaf046-f2b3-454c-aaf4-9ee7cfe83d1b"
   },
   "outputs": [
    {
     "data": {
      "text/html": [
       "<div>\n",
       "<style scoped>\n",
       "    .dataframe tbody tr th:only-of-type {\n",
       "        vertical-align: middle;\n",
       "    }\n",
       "\n",
       "    .dataframe tbody tr th {\n",
       "        vertical-align: top;\n",
       "    }\n",
       "\n",
       "    .dataframe thead th {\n",
       "        text-align: right;\n",
       "    }\n",
       "</style>\n",
       "<table border=\"1\" class=\"dataframe\">\n",
       "  <thead>\n",
       "    <tr style=\"text-align: right;\">\n",
       "      <th></th>\n",
       "      <th>File</th>\n",
       "      <th>Spots1</th>\n",
       "      <th>Spots2</th>\n",
       "      <th>Spots3</th>\n",
       "      <th>Area</th>\n",
       "      <th>DMax</th>\n",
       "      <th>Dmin</th>\n",
       "      <th>Smax</th>\n",
       "      <th>Smin</th>\n",
       "      <th>plate_well</th>\n",
       "      <th>temperature</th>\n",
       "      <th>maturity_days</th>\n",
       "    </tr>\n",
       "  </thead>\n",
       "  <tbody>\n",
       "    <tr>\n",
       "      <th>0</th>\n",
       "      <td>Plate001_Well001_Object1.tif_projection.tif</td>\n",
       "      <td>0</td>\n",
       "      <td>0</td>\n",
       "      <td>0</td>\n",
       "      <td>11639576</td>\n",
       "      <td>661.4024</td>\n",
       "      <td>110.0419</td>\n",
       "      <td>1819</td>\n",
       "      <td>126</td>\n",
       "      <td>1_1</td>\n",
       "      <td>room</td>\n",
       "      <td>0</td>\n",
       "    </tr>\n",
       "    <tr>\n",
       "      <th>1</th>\n",
       "      <td>Plate001_Well002_Object1.tif_projection.tif</td>\n",
       "      <td>0</td>\n",
       "      <td>0</td>\n",
       "      <td>1</td>\n",
       "      <td>5042555</td>\n",
       "      <td>2362.7571</td>\n",
       "      <td>125.9414</td>\n",
       "      <td>1969</td>\n",
       "      <td>151</td>\n",
       "      <td>1_2</td>\n",
       "      <td>room</td>\n",
       "      <td>2</td>\n",
       "    </tr>\n",
       "    <tr>\n",
       "      <th>2</th>\n",
       "      <td>Plate001_Well003_Object1.tif_projection.tif</td>\n",
       "      <td>370</td>\n",
       "      <td>272</td>\n",
       "      <td>489</td>\n",
       "      <td>1515167</td>\n",
       "      <td>12584.0840</td>\n",
       "      <td>141.2762</td>\n",
       "      <td>2509</td>\n",
       "      <td>254</td>\n",
       "      <td>1_3</td>\n",
       "      <td>room</td>\n",
       "      <td>4</td>\n",
       "    </tr>\n",
       "    <tr>\n",
       "      <th>3</th>\n",
       "      <td>Plate002_Well001_Object1.tif_projection.tif</td>\n",
       "      <td>0</td>\n",
       "      <td>0</td>\n",
       "      <td>7</td>\n",
       "      <td>10463116</td>\n",
       "      <td>1549.1947</td>\n",
       "      <td>127.4712</td>\n",
       "      <td>1848</td>\n",
       "      <td>157</td>\n",
       "      <td>2_1</td>\n",
       "      <td>room</td>\n",
       "      <td>6</td>\n",
       "    </tr>\n",
       "    <tr>\n",
       "      <th>4</th>\n",
       "      <td>Plate002_Well002_Object1.tif_projection.tif</td>\n",
       "      <td>0</td>\n",
       "      <td>0</td>\n",
       "      <td>31</td>\n",
       "      <td>7595761</td>\n",
       "      <td>2527.1138</td>\n",
       "      <td>111.0442</td>\n",
       "      <td>1887</td>\n",
       "      <td>133</td>\n",
       "      <td>2_2</td>\n",
       "      <td>room</td>\n",
       "      <td>8</td>\n",
       "    </tr>\n",
       "    <tr>\n",
       "      <th>5</th>\n",
       "      <td>Plate002_Well003_Object1.tif_projection.tif</td>\n",
       "      <td>0</td>\n",
       "      <td>0</td>\n",
       "      <td>0</td>\n",
       "      <td>11451702</td>\n",
       "      <td>584.1170</td>\n",
       "      <td>114.7559</td>\n",
       "      <td>2052</td>\n",
       "      <td>130</td>\n",
       "      <td>2_3</td>\n",
       "      <td>incubate</td>\n",
       "      <td>0</td>\n",
       "    </tr>\n",
       "    <tr>\n",
       "      <th>6</th>\n",
       "      <td>Plate003_Well001_Object1.tif_projection.tif</td>\n",
       "      <td>0</td>\n",
       "      <td>0</td>\n",
       "      <td>0</td>\n",
       "      <td>13455481</td>\n",
       "      <td>721.2783</td>\n",
       "      <td>108.9951</td>\n",
       "      <td>1989</td>\n",
       "      <td>113</td>\n",
       "      <td>3_1</td>\n",
       "      <td>incubate</td>\n",
       "      <td>2</td>\n",
       "    </tr>\n",
       "    <tr>\n",
       "      <th>7</th>\n",
       "      <td>Plate003_Well002_Object1.tif_projection.tif</td>\n",
       "      <td>3</td>\n",
       "      <td>3</td>\n",
       "      <td>0</td>\n",
       "      <td>6983515</td>\n",
       "      <td>397.6721</td>\n",
       "      <td>111.6656</td>\n",
       "      <td>2033</td>\n",
       "      <td>136</td>\n",
       "      <td>3_2</td>\n",
       "      <td>incubate</td>\n",
       "      <td>4</td>\n",
       "    </tr>\n",
       "    <tr>\n",
       "      <th>8</th>\n",
       "      <td>Plate003_Well003_Object1.tif_projection.tif</td>\n",
       "      <td>0</td>\n",
       "      <td>0</td>\n",
       "      <td>0</td>\n",
       "      <td>7059987</td>\n",
       "      <td>762.9282</td>\n",
       "      <td>110.5655</td>\n",
       "      <td>1631</td>\n",
       "      <td>121</td>\n",
       "      <td>3_3</td>\n",
       "      <td>incubate</td>\n",
       "      <td>6</td>\n",
       "    </tr>\n",
       "    <tr>\n",
       "      <th>9</th>\n",
       "      <td>Plate003_Well004_Object1.tif_projection.tif</td>\n",
       "      <td>0</td>\n",
       "      <td>0</td>\n",
       "      <td>0</td>\n",
       "      <td>493406</td>\n",
       "      <td>213.9450</td>\n",
       "      <td>139.2979</td>\n",
       "      <td>1247</td>\n",
       "      <td>169</td>\n",
       "      <td>3_4</td>\n",
       "      <td>incubate</td>\n",
       "      <td>8</td>\n",
       "    </tr>\n",
       "    <tr>\n",
       "      <th>10</th>\n",
       "      <td>Plate001_Well001_Object2.tif_projection.tif</td>\n",
       "      <td>0</td>\n",
       "      <td>0</td>\n",
       "      <td>7</td>\n",
       "      <td>14647822</td>\n",
       "      <td>3295.1917</td>\n",
       "      <td>114.0535</td>\n",
       "      <td>2136</td>\n",
       "      <td>111</td>\n",
       "      <td>1_1</td>\n",
       "      <td>room</td>\n",
       "      <td>0</td>\n",
       "    </tr>\n",
       "    <tr>\n",
       "      <th>11</th>\n",
       "      <td>Plate001_Well002_Object2.tif_projection.tif</td>\n",
       "      <td>0</td>\n",
       "      <td>0</td>\n",
       "      <td>436</td>\n",
       "      <td>8269413</td>\n",
       "      <td>3201.4807</td>\n",
       "      <td>130.7548</td>\n",
       "      <td>2072</td>\n",
       "      <td>151</td>\n",
       "      <td>1_2</td>\n",
       "      <td>room</td>\n",
       "      <td>2</td>\n",
       "    </tr>\n",
       "    <tr>\n",
       "      <th>12</th>\n",
       "      <td>Plate001_Well003_Object2.tif_projection.tif</td>\n",
       "      <td>129</td>\n",
       "      <td>84</td>\n",
       "      <td>367</td>\n",
       "      <td>1713788</td>\n",
       "      <td>8892.4629</td>\n",
       "      <td>122.0342</td>\n",
       "      <td>2808</td>\n",
       "      <td>193</td>\n",
       "      <td>1_3</td>\n",
       "      <td>room</td>\n",
       "      <td>4</td>\n",
       "    </tr>\n",
       "    <tr>\n",
       "      <th>13</th>\n",
       "      <td>Plate002_Well001_Object2.tif_projection.tif</td>\n",
       "      <td>0</td>\n",
       "      <td>0</td>\n",
       "      <td>1</td>\n",
       "      <td>8657406</td>\n",
       "      <td>718.5891</td>\n",
       "      <td>122.0441</td>\n",
       "      <td>2027</td>\n",
       "      <td>147</td>\n",
       "      <td>2_1</td>\n",
       "      <td>room</td>\n",
       "      <td>6</td>\n",
       "    </tr>\n",
       "    <tr>\n",
       "      <th>14</th>\n",
       "      <td>Plate002_Well002_Object2.tif_projection.tif</td>\n",
       "      <td>0</td>\n",
       "      <td>0</td>\n",
       "      <td>0</td>\n",
       "      <td>7867727</td>\n",
       "      <td>470.5134</td>\n",
       "      <td>114.3968</td>\n",
       "      <td>1725</td>\n",
       "      <td>148</td>\n",
       "      <td>2_2</td>\n",
       "      <td>room</td>\n",
       "      <td>8</td>\n",
       "    </tr>\n",
       "    <tr>\n",
       "      <th>15</th>\n",
       "      <td>Plate002_Well003_Object2.tif_projection.tif</td>\n",
       "      <td>0</td>\n",
       "      <td>0</td>\n",
       "      <td>9</td>\n",
       "      <td>13056000</td>\n",
       "      <td>2248.7361</td>\n",
       "      <td>113.9251</td>\n",
       "      <td>1702</td>\n",
       "      <td>119</td>\n",
       "      <td>2_3</td>\n",
       "      <td>incubate</td>\n",
       "      <td>0</td>\n",
       "    </tr>\n",
       "    <tr>\n",
       "      <th>16</th>\n",
       "      <td>Plate003_Well001_Object2.tif_projection.tif</td>\n",
       "      <td>280</td>\n",
       "      <td>143</td>\n",
       "      <td>409</td>\n",
       "      <td>1269267</td>\n",
       "      <td>8411.4912</td>\n",
       "      <td>119.2046</td>\n",
       "      <td>2872</td>\n",
       "      <td>184</td>\n",
       "      <td>3_1</td>\n",
       "      <td>incubate</td>\n",
       "      <td>2</td>\n",
       "    </tr>\n",
       "    <tr>\n",
       "      <th>17</th>\n",
       "      <td>Plate003_Well002_Object2.tif_projection.tif</td>\n",
       "      <td>671</td>\n",
       "      <td>397</td>\n",
       "      <td>741</td>\n",
       "      <td>2498580</td>\n",
       "      <td>15240.6377</td>\n",
       "      <td>111.1307</td>\n",
       "      <td>2497</td>\n",
       "      <td>162</td>\n",
       "      <td>3_2</td>\n",
       "      <td>incubate</td>\n",
       "      <td>4</td>\n",
       "    </tr>\n",
       "    <tr>\n",
       "      <th>18</th>\n",
       "      <td>Plate003_Well003_Object2.tif_projection.tif</td>\n",
       "      <td>0</td>\n",
       "      <td>0</td>\n",
       "      <td>1</td>\n",
       "      <td>7638450</td>\n",
       "      <td>764.8619</td>\n",
       "      <td>124.3229</td>\n",
       "      <td>2316</td>\n",
       "      <td>143</td>\n",
       "      <td>3_3</td>\n",
       "      <td>incubate</td>\n",
       "      <td>6</td>\n",
       "    </tr>\n",
       "    <tr>\n",
       "      <th>19</th>\n",
       "      <td>Plate003_Well004_Object2.tif_projection.tif</td>\n",
       "      <td>0</td>\n",
       "      <td>0</td>\n",
       "      <td>15</td>\n",
       "      <td>6945755</td>\n",
       "      <td>2605.3840</td>\n",
       "      <td>125.7658</td>\n",
       "      <td>2148</td>\n",
       "      <td>130</td>\n",
       "      <td>3_4</td>\n",
       "      <td>incubate</td>\n",
       "      <td>8</td>\n",
       "    </tr>\n",
       "    <tr>\n",
       "      <th>20</th>\n",
       "      <td>Plate001_Well001_Object3.tif_projection.tif</td>\n",
       "      <td>228</td>\n",
       "      <td>166</td>\n",
       "      <td>161</td>\n",
       "      <td>2462947</td>\n",
       "      <td>10225.6064</td>\n",
       "      <td>115.1654</td>\n",
       "      <td>2856</td>\n",
       "      <td>129</td>\n",
       "      <td>1_1</td>\n",
       "      <td>room</td>\n",
       "      <td>0</td>\n",
       "    </tr>\n",
       "    <tr>\n",
       "      <th>21</th>\n",
       "      <td>Plate001_Well002_Object3.tif_projection.tif</td>\n",
       "      <td>2</td>\n",
       "      <td>1</td>\n",
       "      <td>17</td>\n",
       "      <td>5870112</td>\n",
       "      <td>2082.8198</td>\n",
       "      <td>120.6290</td>\n",
       "      <td>2260</td>\n",
       "      <td>163</td>\n",
       "      <td>1_2</td>\n",
       "      <td>room</td>\n",
       "      <td>2</td>\n",
       "    </tr>\n",
       "    <tr>\n",
       "      <th>22</th>\n",
       "      <td>Plate001_Well003_Object3.tif_projection.tif</td>\n",
       "      <td>0</td>\n",
       "      <td>0</td>\n",
       "      <td>28</td>\n",
       "      <td>5696329</td>\n",
       "      <td>3879.4822</td>\n",
       "      <td>120.6970</td>\n",
       "      <td>1770</td>\n",
       "      <td>147</td>\n",
       "      <td>1_3</td>\n",
       "      <td>room</td>\n",
       "      <td>4</td>\n",
       "    </tr>\n",
       "    <tr>\n",
       "      <th>23</th>\n",
       "      <td>Plate002_Well001_Object3.tif_projection.tif</td>\n",
       "      <td>0</td>\n",
       "      <td>0</td>\n",
       "      <td>84</td>\n",
       "      <td>8000201</td>\n",
       "      <td>2554.5366</td>\n",
       "      <td>113.2388</td>\n",
       "      <td>1837</td>\n",
       "      <td>133</td>\n",
       "      <td>2_1</td>\n",
       "      <td>room</td>\n",
       "      <td>6</td>\n",
       "    </tr>\n",
       "    <tr>\n",
       "      <th>24</th>\n",
       "      <td>Plate002_Well002_Object3.tif_projection.tif</td>\n",
       "      <td>0</td>\n",
       "      <td>0</td>\n",
       "      <td>0</td>\n",
       "      <td>8010621</td>\n",
       "      <td>709.5496</td>\n",
       "      <td>123.5722</td>\n",
       "      <td>1636</td>\n",
       "      <td>143</td>\n",
       "      <td>2_2</td>\n",
       "      <td>room</td>\n",
       "      <td>8</td>\n",
       "    </tr>\n",
       "    <tr>\n",
       "      <th>25</th>\n",
       "      <td>Plate002_Well003_Object3.tif_projection.tif</td>\n",
       "      <td>0</td>\n",
       "      <td>0</td>\n",
       "      <td>7</td>\n",
       "      <td>7327651</td>\n",
       "      <td>1594.4707</td>\n",
       "      <td>116.9249</td>\n",
       "      <td>2105</td>\n",
       "      <td>155</td>\n",
       "      <td>2_3</td>\n",
       "      <td>incubate</td>\n",
       "      <td>0</td>\n",
       "    </tr>\n",
       "    <tr>\n",
       "      <th>26</th>\n",
       "      <td>Plate003_Well001_Object3.tif_projection.tif</td>\n",
       "      <td>0</td>\n",
       "      <td>0</td>\n",
       "      <td>0</td>\n",
       "      <td>8318452</td>\n",
       "      <td>636.4151</td>\n",
       "      <td>122.4336</td>\n",
       "      <td>3134</td>\n",
       "      <td>151</td>\n",
       "      <td>3_1</td>\n",
       "      <td>incubate</td>\n",
       "      <td>2</td>\n",
       "    </tr>\n",
       "    <tr>\n",
       "      <th>27</th>\n",
       "      <td>Plate003_Well002_Object3.tif_projection.tif</td>\n",
       "      <td>1</td>\n",
       "      <td>1</td>\n",
       "      <td>1</td>\n",
       "      <td>6323530</td>\n",
       "      <td>1158.4082</td>\n",
       "      <td>126.2721</td>\n",
       "      <td>8365</td>\n",
       "      <td>145</td>\n",
       "      <td>3_2</td>\n",
       "      <td>incubate</td>\n",
       "      <td>4</td>\n",
       "    </tr>\n",
       "    <tr>\n",
       "      <th>28</th>\n",
       "      <td>Plate003_Well003_Object3.tif_projection.tif</td>\n",
       "      <td>0</td>\n",
       "      <td>0</td>\n",
       "      <td>0</td>\n",
       "      <td>1080320</td>\n",
       "      <td>350.7505</td>\n",
       "      <td>122.8318</td>\n",
       "      <td>2486</td>\n",
       "      <td>166</td>\n",
       "      <td>3_3</td>\n",
       "      <td>incubate</td>\n",
       "      <td>6</td>\n",
       "    </tr>\n",
       "    <tr>\n",
       "      <th>29</th>\n",
       "      <td>Plate003_Well004_Object3.tif_projection.tif</td>\n",
       "      <td>0</td>\n",
       "      <td>0</td>\n",
       "      <td>9</td>\n",
       "      <td>10580078</td>\n",
       "      <td>2927.9790</td>\n",
       "      <td>110.7142</td>\n",
       "      <td>1488</td>\n",
       "      <td>128</td>\n",
       "      <td>3_4</td>\n",
       "      <td>incubate</td>\n",
       "      <td>8</td>\n",
       "    </tr>\n",
       "  </tbody>\n",
       "</table>\n",
       "</div>"
      ],
      "text/plain": [
       "                                           File  ...  maturity_days\n",
       "0   Plate001_Well001_Object1.tif_projection.tif  ...              0\n",
       "1   Plate001_Well002_Object1.tif_projection.tif  ...              2\n",
       "2   Plate001_Well003_Object1.tif_projection.tif  ...              4\n",
       "3   Plate002_Well001_Object1.tif_projection.tif  ...              6\n",
       "4   Plate002_Well002_Object1.tif_projection.tif  ...              8\n",
       "5   Plate002_Well003_Object1.tif_projection.tif  ...              0\n",
       "6   Plate003_Well001_Object1.tif_projection.tif  ...              2\n",
       "7   Plate003_Well002_Object1.tif_projection.tif  ...              4\n",
       "8   Plate003_Well003_Object1.tif_projection.tif  ...              6\n",
       "9   Plate003_Well004_Object1.tif_projection.tif  ...              8\n",
       "10  Plate001_Well001_Object2.tif_projection.tif  ...              0\n",
       "11  Plate001_Well002_Object2.tif_projection.tif  ...              2\n",
       "12  Plate001_Well003_Object2.tif_projection.tif  ...              4\n",
       "13  Plate002_Well001_Object2.tif_projection.tif  ...              6\n",
       "14  Plate002_Well002_Object2.tif_projection.tif  ...              8\n",
       "15  Plate002_Well003_Object2.tif_projection.tif  ...              0\n",
       "16  Plate003_Well001_Object2.tif_projection.tif  ...              2\n",
       "17  Plate003_Well002_Object2.tif_projection.tif  ...              4\n",
       "18  Plate003_Well003_Object2.tif_projection.tif  ...              6\n",
       "19  Plate003_Well004_Object2.tif_projection.tif  ...              8\n",
       "20  Plate001_Well001_Object3.tif_projection.tif  ...              0\n",
       "21  Plate001_Well002_Object3.tif_projection.tif  ...              2\n",
       "22  Plate001_Well003_Object3.tif_projection.tif  ...              4\n",
       "23  Plate002_Well001_Object3.tif_projection.tif  ...              6\n",
       "24  Plate002_Well002_Object3.tif_projection.tif  ...              8\n",
       "25  Plate002_Well003_Object3.tif_projection.tif  ...              0\n",
       "26  Plate003_Well001_Object3.tif_projection.tif  ...              2\n",
       "27  Plate003_Well002_Object3.tif_projection.tif  ...              4\n",
       "28  Plate003_Well003_Object3.tif_projection.tif  ...              6\n",
       "29  Plate003_Well004_Object3.tif_projection.tif  ...              8\n",
       "\n",
       "[30 rows x 12 columns]"
      ]
     },
     "execution_count": 110,
     "metadata": {
      "tags": []
     },
     "output_type": "execute_result"
    }
   ],
   "source": [
    "df[['temperature','maturity_days']] = mapped_df\n",
    "\n",
    "df"
   ]
  },
  {
   "cell_type": "code",
   "execution_count": 0,
   "metadata": {
    "colab": {},
    "colab_type": "code",
    "id": "bvOlmdBAwL7D"
   },
   "outputs": [],
   "source": []
  }
 ],
 "metadata": {
  "colab": {
   "authorship_tag": "ABX9TyMcxlL6TllkLIj1KjrcuTob",
   "collapsed_sections": [],
   "mount_file_id": "1i_NsTCyb5WdcGYr_5HeRgpwDZg-n6Bvv",
   "name": "Pandas_8_Data_Mapping.ipynb",
   "provenance": [],
   "toc_visible": true
  },
  "kernelspec": {
   "display_name": "Python 3",
   "language": "python",
   "name": "python3"
  },
  "language_info": {
   "codemirror_mode": {
    "name": "ipython",
    "version": 3
   },
   "file_extension": ".py",
   "mimetype": "text/x-python",
   "name": "python",
   "nbconvert_exporter": "python",
   "pygments_lexer": "ipython3",
   "version": "3.6.10"
  }
 },
 "nbformat": 4,
 "nbformat_minor": 1
}
