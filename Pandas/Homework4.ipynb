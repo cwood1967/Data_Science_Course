{
 "cells": [
  {
   "cell_type": "markdown",
   "metadata": {},
   "source": [
    "# Homework 4:  Concatenation, Merging, String Processing (6,7)"
   ]
  },
  {
   "cell_type": "code",
   "execution_count": 2,
   "metadata": {},
   "outputs": [],
   "source": [
    "import pandas as pd\n",
    "import numpy as np"
   ]
  },
  {
   "cell_type": "raw",
   "metadata": {},
   "source": [
    "pd.Series()\n",
    "df=pd.DataFrame({'A': 1.,\n",
    "                    'B': pd.Timestamp('20130102'),\n",
    "                    'C': pd.Series(1, index=list(range(4)), dtype='float32'),\n",
    "                    'D': np.array([3] * 4, dtype='int32'),\n",
    "                    'E': pd.Categorical([\"test\", \"train\", \"test\", \"train\"]),\n",
    "                    'F': 'foo'})\n",
    "df.T\n",
    "df.index\n",
    "df.columns\n",
    "df.sort_values(by='C')\n",
    "df['A']\n",
    "\n",
    "df.describe(include=['number', 'category', 'all'], percentiles=[.05, .25, .75, .95])\n",
    "df.max(skipna=False)\n",
    "df.min()\n",
    "df.sum()\n",
    "df.mean()\n",
    "df.unique()\n",
    "\n",
    "df.idxmax()\n",
    "df.iloc\n",
    "df.value_counts()\n",
    "\n",
    "df[['A', 'B']]\n",
    "(df['A']>1) & (df['B']>1)\n",
    "df[df['A']>1, 'B']\n",
    "\n",
    "df.loc[df['A']==3.14, 'A']=0\n",
    "df.sort_values(by='A')\n",
    "df.pivot_table(values='Name', aggfunc=np.sum, index='Row', columns='Column')\n",
    "df.melt(id_vars=None, value_vars=None, var_name=None, value_name='value')\n",
    "\n",
    "dfC = pd.concat([dfA,dfB])\n",
    "df = df.merge(dfB, on=[...], left_on=[...], right_on=[...])"
   ]
  },
  {
   "cell_type": "markdown",
   "metadata": {},
   "source": [
    "Some functions we have learned:\n",
    "\n",
    "- pd.Series() \n",
    "- df=pd.DataFrame({'A': 1., 'B': pd.Timestamp('20130102'), 'C': pd.Series(1, index=list(range(4)), dtype='float32'), 'D': np.array([3] * 4, dtype='int32'), 'E': pd.Categorical([\"test\", \"train\", \"test\", \"train\"]), 'F': 'foo'}) \n",
    "- df.T \n",
    "- df.index \n",
    "- df.columns \n",
    "- df.sort_values(by='C') \n",
    "- df['A'] df.describe(include=['number', 'category', 'all'], percentiles=[.05, .25, .75, .95]) \n",
    "- df.max(skipna=False) \n",
    "- df.min() \n",
    "- df.sum() \n",
    "- df.mean() \n",
    "- df.unique() \n",
    "- df.idxmax() \n",
    "- df.iloc \n",
    "- df.value_counts() df[['A', 'B']] \n",
    "- (df['A']>1) & (df['B']>1) \n",
    "- df[df['A']>1, 'B'] \n",
    "- df.loc[df['A']==3.14, 'A']=0 df.sort_values(by='A') \n",
    "- df.pivot_table(values='Name', aggfunc=np.sum, index='Row', columns='Column') \n",
    "- df.melt(id_vars=None, value_vars=None, var_name=None, value_name='value') \n",
    "- dfC = pd.concat([dfA,dfB]) \n",
    "- df = df.merge(dfB, on=[...], left_on=[...], right_on=[...])"
   ]
  },
  {
   "cell_type": "code",
   "execution_count": 3,
   "metadata": {},
   "outputs": [],
   "source": [
    "FileA=pd.read_csv('https://raw.githubusercontent.com/richard-alexander/Data_Science_Course/master/Pandas/Slide_AnalysisA.csv')\n",
    "FileB=pd.read_csv('https://raw.githubusercontent.com/richard-alexander/Data_Science_Course/master/Pandas/Slide_AnalysisB.csv')\n",
    "Mapper=pd.read_csv('https://raw.githubusercontent.com/richard-alexander/Data_Science_Course/master/Pandas/Slide_Mapper.csv')"
   ]
  },
  {
   "cell_type": "code",
   "execution_count": 4,
   "metadata": {},
   "outputs": [
    {
     "data": {
      "text/html": [
       "<div>\n",
       "<style scoped>\n",
       "    .dataframe tbody tr th:only-of-type {\n",
       "        vertical-align: middle;\n",
       "    }\n",
       "\n",
       "    .dataframe tbody tr th {\n",
       "        vertical-align: top;\n",
       "    }\n",
       "\n",
       "    .dataframe thead th {\n",
       "        text-align: right;\n",
       "    }\n",
       "</style>\n",
       "<table border=\"1\" class=\"dataframe\">\n",
       "  <thead>\n",
       "    <tr style=\"text-align: right;\">\n",
       "      <th></th>\n",
       "      <th>Folder</th>\n",
       "      <th>File</th>\n",
       "      <th>Spots</th>\n",
       "      <th>Area</th>\n",
       "      <th>DMax</th>\n",
       "      <th>Dmin</th>\n",
       "      <th>Smax</th>\n",
       "      <th>Smin</th>\n",
       "      <th>Garbage</th>\n",
       "    </tr>\n",
       "  </thead>\n",
       "  <tbody>\n",
       "    <tr>\n",
       "      <th>0</th>\n",
       "      <td>S:\\micro\\asa\\cgh\\smc\\20200303_3PO_ScreenA\\2020...</td>\n",
       "      <td>Plate003_Well2_Object2.tif_projection.tif</td>\n",
       "      <td>0</td>\n",
       "      <td>11639576</td>\n",
       "      <td>661.4024</td>\n",
       "      <td>110.0419</td>\n",
       "      <td>1819</td>\n",
       "      <td>126</td>\n",
       "      <td>NaN</td>\n",
       "    </tr>\n",
       "    <tr>\n",
       "      <th>1</th>\n",
       "      <td>S:\\micro\\asa\\cgh\\smc\\20200303_3PO_ScreenA\\2020...</td>\n",
       "      <td>Plate003_Well1_Object4.tif_projection.tif</td>\n",
       "      <td>1</td>\n",
       "      <td>5042555</td>\n",
       "      <td>2362.7571</td>\n",
       "      <td>125.9414</td>\n",
       "      <td>1969</td>\n",
       "      <td>151</td>\n",
       "      <td>NaN</td>\n",
       "    </tr>\n",
       "    <tr>\n",
       "      <th>2</th>\n",
       "      <td>S:\\micro\\asa\\cgh\\smc\\20200303_3PO_ScreenA\\2020...</td>\n",
       "      <td>Plate007_Well1_Object2.tif_projection.tif</td>\n",
       "      <td>489</td>\n",
       "      <td>1515167</td>\n",
       "      <td>12584.0840</td>\n",
       "      <td>141.2762</td>\n",
       "      <td>2509</td>\n",
       "      <td>254</td>\n",
       "      <td>NaN</td>\n",
       "    </tr>\n",
       "    <tr>\n",
       "      <th>3</th>\n",
       "      <td>S:\\micro\\asa\\cgh\\smc\\20200303_3PO_ScreenA\\2020...</td>\n",
       "      <td>Plate003_Well2_Object6.tif_projection.tif</td>\n",
       "      <td>7</td>\n",
       "      <td>10463116</td>\n",
       "      <td>1549.1947</td>\n",
       "      <td>127.4712</td>\n",
       "      <td>1848</td>\n",
       "      <td>157</td>\n",
       "      <td>NaN</td>\n",
       "    </tr>\n",
       "    <tr>\n",
       "      <th>4</th>\n",
       "      <td>S:\\micro\\asa\\cgh\\smc\\20200303_3PO_ScreenA\\2020...</td>\n",
       "      <td>Plate002_Well4_Object1.tif_projection.tif</td>\n",
       "      <td>31</td>\n",
       "      <td>7595761</td>\n",
       "      <td>2527.1138</td>\n",
       "      <td>111.0442</td>\n",
       "      <td>1887</td>\n",
       "      <td>133</td>\n",
       "      <td>NaN</td>\n",
       "    </tr>\n",
       "  </tbody>\n",
       "</table>\n",
       "</div>"
      ],
      "text/plain": [
       "                                              Folder  \\\n",
       "0  S:\\micro\\asa\\cgh\\smc\\20200303_3PO_ScreenA\\2020...   \n",
       "1  S:\\micro\\asa\\cgh\\smc\\20200303_3PO_ScreenA\\2020...   \n",
       "2  S:\\micro\\asa\\cgh\\smc\\20200303_3PO_ScreenA\\2020...   \n",
       "3  S:\\micro\\asa\\cgh\\smc\\20200303_3PO_ScreenA\\2020...   \n",
       "4  S:\\micro\\asa\\cgh\\smc\\20200303_3PO_ScreenA\\2020...   \n",
       "\n",
       "                                        File  Spots      Area        DMax  \\\n",
       "0  Plate003_Well2_Object2.tif_projection.tif      0  11639576    661.4024   \n",
       "1  Plate003_Well1_Object4.tif_projection.tif      1   5042555   2362.7571   \n",
       "2  Plate007_Well1_Object2.tif_projection.tif    489   1515167  12584.0840   \n",
       "3  Plate003_Well2_Object6.tif_projection.tif      7  10463116   1549.1947   \n",
       "4  Plate002_Well4_Object1.tif_projection.tif     31   7595761   2527.1138   \n",
       "\n",
       "       Dmin  Smax  Smin  Garbage  \n",
       "0  110.0419  1819   126      NaN  \n",
       "1  125.9414  1969   151      NaN  \n",
       "2  141.2762  2509   254      NaN  \n",
       "3  127.4712  1848   157      NaN  \n",
       "4  111.0442  1887   133      NaN  "
      ]
     },
     "execution_count": 4,
     "metadata": {},
     "output_type": "execute_result"
    }
   ],
   "source": [
    "FileA.head()"
   ]
  },
  {
   "cell_type": "markdown",
   "metadata": {},
   "source": [
    "**Exercise 1:** FileA and FileB are results from the same experiment, concatenate them into a single dataframe Results.  FileA has an extra column \"Garbage\" that we need to get rid of and don't want in our Results dataframe."
   ]
  },
  {
   "cell_type": "code",
   "execution_count": 5,
   "metadata": {},
   "outputs": [],
   "source": [
    "# YOUR CODE HERE\n"
   ]
  },
  {
   "cell_type": "markdown",
   "metadata": {},
   "source": [
    "**Exercise 2:**  Results['File'] contains the Plate and Well that the data was taken from.  We need to use `split()` and indexing to get those numbers out and put into new columns:  Results['Plate'] and Results['Well']"
   ]
  },
  {
   "cell_type": "code",
   "execution_count": 6,
   "metadata": {},
   "outputs": [],
   "source": [
    "# YOUR CODE HERE\n"
   ]
  },
  {
   "cell_type": "markdown",
   "metadata": {},
   "source": [
    "Later on it will be important that Results['Plate'] and Results['Well'] are integers and not strings, this code will make sure that is the case.  \n",
    "DO NOT DELETE THIS CODE"
   ]
  },
  {
   "cell_type": "code",
   "execution_count": 1,
   "metadata": {},
   "outputs": [],
   "source": [
    "# RUN THIS CELL\n",
    "# DO NOT DELETE\n",
    "Results['Plate']=Results['Plate'].astype(int)\n",
    "Results['Well']=Results['Well'].astype(int)"
   ]
  },
  {
   "cell_type": "code",
   "execution_count": 2,
   "metadata": {},
   "outputs": [],
   "source": [
    "Results.tail()"
   ]
  },
  {
   "cell_type": "markdown",
   "metadata": {},
   "source": [
    "Now let's have a look at Mapper."
   ]
  },
  {
   "cell_type": "code",
   "execution_count": 9,
   "metadata": {},
   "outputs": [
    {
     "data": {
      "text/html": [
       "<div>\n",
       "<style scoped>\n",
       "    .dataframe tbody tr th:only-of-type {\n",
       "        vertical-align: middle;\n",
       "    }\n",
       "\n",
       "    .dataframe tbody tr th {\n",
       "        vertical-align: top;\n",
       "    }\n",
       "\n",
       "    .dataframe thead th {\n",
       "        text-align: right;\n",
       "    }\n",
       "</style>\n",
       "<table border=\"1\" class=\"dataframe\">\n",
       "  <thead>\n",
       "    <tr style=\"text-align: right;\">\n",
       "      <th></th>\n",
       "      <th>Slide no.</th>\n",
       "      <th>Drug</th>\n",
       "      <th>Time point</th>\n",
       "      <th>Plate no.</th>\n",
       "      <th>Well no.</th>\n",
       "    </tr>\n",
       "  </thead>\n",
       "  <tbody>\n",
       "    <tr>\n",
       "      <th>0</th>\n",
       "      <td>Slide1</td>\n",
       "      <td>NAC</td>\n",
       "      <td>0dpa</td>\n",
       "      <td>5</td>\n",
       "      <td>1</td>\n",
       "    </tr>\n",
       "    <tr>\n",
       "      <th>1</th>\n",
       "      <td>Slide2</td>\n",
       "      <td>NAC</td>\n",
       "      <td>0.3dpa</td>\n",
       "      <td>5</td>\n",
       "      <td>2</td>\n",
       "    </tr>\n",
       "    <tr>\n",
       "      <th>2</th>\n",
       "      <td>Slide3</td>\n",
       "      <td>NAC</td>\n",
       "      <td>1dpa</td>\n",
       "      <td>5</td>\n",
       "      <td>3</td>\n",
       "    </tr>\n",
       "    <tr>\n",
       "      <th>3</th>\n",
       "      <td>Slide4</td>\n",
       "      <td>NAC</td>\n",
       "      <td>2dpa</td>\n",
       "      <td>5</td>\n",
       "      <td>4</td>\n",
       "    </tr>\n",
       "    <tr>\n",
       "      <th>4</th>\n",
       "      <td>Slide5</td>\n",
       "      <td>NAC</td>\n",
       "      <td>4dpa</td>\n",
       "      <td>6</td>\n",
       "      <td>1</td>\n",
       "    </tr>\n",
       "  </tbody>\n",
       "</table>\n",
       "</div>"
      ],
      "text/plain": [
       "  Slide no. Drug Time point  Plate no.  Well no.\n",
       "0    Slide1  NAC       0dpa          5         1\n",
       "1    Slide2  NAC     0.3dpa          5         2\n",
       "2    Slide3  NAC       1dpa          5         3\n",
       "3    Slide4  NAC       2dpa          5         4\n",
       "4    Slide5  NAC       4dpa          6         1"
      ]
     },
     "execution_count": 9,
     "metadata": {},
     "output_type": "execute_result"
    }
   ],
   "source": [
    "Mapper.head()"
   ]
  },
  {
   "cell_type": "markdown",
   "metadata": {},
   "source": [
    "Mapper contains a mapping of well/plate to the actual biological info:  the drug and the time point."
   ]
  },
  {
   "cell_type": "markdown",
   "metadata": {},
   "source": [
    "**Exercise 3:**  Merge Results and Mapper into a new dataframe called LabeledResults.  Note that we need to merge on two columns (Plate and Well) and that their naming is slightly different in Results and Mapper."
   ]
  },
  {
   "cell_type": "code",
   "execution_count": 10,
   "metadata": {},
   "outputs": [],
   "source": [
    "# YOUR CODE HERE\n"
   ]
  },
  {
   "cell_type": "markdown",
   "metadata": {},
   "source": [
    "**Exercise 4:**  For this experiment, we are interested in the spots per unit area.  Make a new column in LabeledResults called 'Density' that calculates that value, multiplied by 10000 for convenience."
   ]
  },
  {
   "cell_type": "code",
   "execution_count": 11,
   "metadata": {},
   "outputs": [],
   "source": [
    "# YOUR CODE HERE\n"
   ]
  },
  {
   "cell_type": "markdown",
   "metadata": {},
   "source": [
    "**Exercise 5:**  There are multiple Density measurements for each Drug/Time combination, aggregate their mean into a new table (Means) using pivot_table.  Make the time points the rows and the drug the columns."
   ]
  },
  {
   "cell_type": "code",
   "execution_count": 12,
   "metadata": {},
   "outputs": [],
   "source": [
    "# YOUR CODE HERE"
   ]
  },
  {
   "cell_type": "markdown",
   "metadata": {},
   "source": [
    "**Exercise 6:**  Unfortunately this does not order things properly in the Time points. look up `.reindex` or find another solution for fixing that so that the time points go 0, 0.3, 1, 2, 4, 8."
   ]
  },
  {
   "cell_type": "code",
   "execution_count": 13,
   "metadata": {},
   "outputs": [],
   "source": [
    "# YOUR CODE HERE\n"
   ]
  },
  {
   "cell_type": "code",
   "execution_count": null,
   "metadata": {},
   "outputs": [],
   "source": []
  }
 ],
 "metadata": {
  "kernelspec": {
   "display_name": "Python 3",
   "language": "python",
   "name": "python3"
  },
  "language_info": {
   "codemirror_mode": {
    "name": "ipython",
    "version": 3
   },
   "file_extension": ".py",
   "mimetype": "text/x-python",
   "name": "python",
   "nbconvert_exporter": "python",
   "pygments_lexer": "ipython3",
   "version": "3.7.4"
  }
 },
 "nbformat": 4,
 "nbformat_minor": 4
}
