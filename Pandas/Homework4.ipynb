{
 "cells": [
  {
   "cell_type": "markdown",
   "metadata": {},
   "source": [
    "# Homework 4:  Concatenation, Merging, String Processing (6,7)"
   ]
  },
  {
   "cell_type": "code",
   "execution_count": null,
   "metadata": {},
   "outputs": [],
   "source": [
    "import pandas as pd\n",
    "import numpy as np"
   ]
  },
  {
   "cell_type": "raw",
   "metadata": {},
   "source": [
    "pd.Series()\n",
    "df=pd.DataFrame({'A': 1.,\n",
    "                    'B': pd.Timestamp('20130102'),\n",
    "                    'C': pd.Series(1, index=list(range(4)), dtype='float32'),\n",
    "                    'D': np.array([3] * 4, dtype='int32'),\n",
    "                    'E': pd.Categorical([\"test\", \"train\", \"test\", \"train\"]),\n",
    "                    'F': 'foo'})\n",
    "df.T\n",
    "df.index\n",
    "df.columns\n",
    "df.sort_values(by='C')\n",
    "df['A']\n",
    "\n",
    "df.describe(include=['number', 'category', 'all'], percentiles=[.05, .25, .75, .95])\n",
    "df.max(skipna=False)\n",
    "df.min()\n",
    "df.sum()\n",
    "df.mean()\n",
    "df.unique()\n",
    "\n",
    "df.idxmax()\n",
    "df.iloc\n",
    "df.value_counts()\n",
    "\n",
    "df[['A', 'B']]\n",
    "(df['A']>1) & (df['B']>1)\n",
    "df[df['A']>1, 'B']\n",
    "\n",
    "df.loc[df['A']==3.14, 'A']=0\n",
    "df.sort_values(by='A')\n",
    "df.pivot_table(values='Name', aggfunc=np.sum, index='Row', columns='Column')\n",
    "df.melt(id_vars=None, value_vars=None, var_name=None, value_name='value')\n",
    "\n",
    "dfC = pd.concat([dfA,dfB])\n",
    "df = df.merge(dfB, on=[...], left_on=[...], right_on=[...])"
   ]
  },
  {
   "cell_type": "markdown",
   "metadata": {},
   "source": [
    "Some functions we have learned:\n",
    "\n",
    "- pd.Series() \n",
    "- df=pd.DataFrame({'A': 1., 'B': pd.Timestamp('20130102'), 'C': pd.Series(1, index=list(range(4)), dtype='float32'), 'D': np.array([3] * 4, dtype='int32'), 'E': pd.Categorical([\"test\", \"train\", \"test\", \"train\"]), 'F': 'foo'}) \n",
    "- df.T \n",
    "- df.index \n",
    "- df.columns \n",
    "- df.sort_values(by='C') \n",
    "- df['A'] df.describe(include=['number', 'category', 'all'], percentiles=[.05, .25, .75, .95]) \n",
    "- df.max(skipna=False) \n",
    "- df.min() \n",
    "- df.sum() \n",
    "- df.mean() \n",
    "- df.unique() \n",
    "- df.idxmax() \n",
    "- df.iloc \n",
    "- df.value_counts() df[['A', 'B']] \n",
    "- (df['A']>1) & (df['B']>1) \n",
    "- df[df['A']>1, 'B'] \n",
    "- df.loc[df['A']==3.14, 'A']=0 df.sort_values(by='A') \n",
    "- df.pivot_table(values='Name', aggfunc=np.sum, index='Row', columns='Column') \n",
    "- df.melt(id_vars=None, value_vars=None, var_name=None, value_name='value') \n",
    "- dfC = pd.concat([dfA,dfB]) \n",
    "- df = df.merge(dfB, on=[...], left_on=[...], right_on=[...])"
   ]
  },
  {
   "cell_type": "code",
   "execution_count": null,
   "metadata": {},
   "outputs": [],
   "source": [
    "FileA=pd.read_csv('https://raw.githubusercontent.com/richard-alexander/Data_Science_Course/master/Pandas/Slide_AnalysisA.csv')\n",
    "FileB=pd.read_csv('https://raw.githubusercontent.com/richard-alexander/Data_Science_Course/master/Pandas/Slide_AnalysisB.csv')\n",
    "Mapper=pd.read_csv('https://raw.githubusercontent.com/richard-alexander/Data_Science_Course/master/Pandas/Slide_Mapper.csv')"
   ]
  },
  {
   "cell_type": "code",
   "execution_count": null,
   "metadata": {},
   "outputs": [],
   "source": [
    "FileA.head()"
   ]
  },
  {
   "cell_type": "markdown",
   "metadata": {},
   "source": [
    "**Exercise 1:** FileA and FileB are results from the same experiment, concatenate them into a single dataframe Results.  FileA has an extra column \"Garbage\" that we need to get rid of and don't want in our Results dataframe."
   ]
  },
  {
   "cell_type": "code",
   "execution_count": null,
   "metadata": {},
   "outputs": [],
   "source": [
    "# YOUR CODE HERE\n"
   ]
  },
  {
   "cell_type": "markdown",
   "metadata": {},
   "source": [
    "**Exercise 2:**  Results['File'] contains the Plate and Well that the data was taken from.  We need to use `split()` and indexing to get those numbers out and put into new columns:  Results['Plate'] and Results['Well']"
   ]
  },
  {
   "cell_type": "code",
   "execution_count": null,
   "metadata": {},
   "outputs": [],
   "source": [
    "# YOUR CODE HERE\n"
   ]
  },
  {
   "cell_type": "markdown",
   "metadata": {},
   "source": [
    "Later on it will be important that Results['Plate'] and Results['Well'] are integers and not strings, this code will make sure that is the case.  \n",
    "DO NOT DELETE THIS CODE"
   ]
  },
  {
   "cell_type": "code",
   "execution_count": null,
   "metadata": {},
   "outputs": [],
   "source": [
    "# RUN THIS CELL\n",
    "# DO NOT DELETE\n",
    "Results['Plate']=Results['Plate'].astype(int)\n",
    "Results['Well']=Results['Well'].astype(int)"
   ]
  },
  {
   "cell_type": "markdown",
   "metadata": {},
   "source": [
    "Now let's have a look at Mapper."
   ]
  },
  {
   "cell_type": "code",
   "execution_count": null,
   "metadata": {},
   "outputs": [],
   "source": [
    "Mapper.head()"
   ]
  },
  {
   "cell_type": "markdown",
   "metadata": {},
   "source": [
    "Mapper contains a mapping of well/plate to the actual biological info:  the drug and the time point."
   ]
  },
  {
   "cell_type": "markdown",
   "metadata": {},
   "source": [
    "**Exercise 3:**  Merge Results and Mapper into a new dataframe called LabeledResults.  Note that we need to merge on two columns (Plate and Well) and that their naming is slightly different in Results and Mapper."
   ]
  },
  {
   "cell_type": "code",
   "execution_count": null,
   "metadata": {},
   "outputs": [],
   "source": [
    "# YOUR CODE HERE\n"
   ]
  },
  {
   "cell_type": "markdown",
   "metadata": {},
   "source": [
    "**Exercise 4:**  For this experiment, we are interested in the spots per unit area.  Make a new column in LabeledResults called 'Density' that calculates that value, multiplied by 10000 for convenience."
   ]
  },
  {
   "cell_type": "code",
   "execution_count": null,
   "metadata": {},
   "outputs": [],
   "source": [
    "# YOUR CODE HERE\n"
   ]
  },
  {
   "cell_type": "markdown",
   "metadata": {},
   "source": [
    "**Exercise 5:**  There are multiple Density measurements for each Drug/Time combination, aggregate their mean into a new table (Means) using pivot_table.  Make the time points the rows and the drug the columns."
   ]
  },
  {
   "cell_type": "code",
   "execution_count": null,
   "metadata": {},
   "outputs": [],
   "source": [
    "# YOUR CODE HERE\n"
   ]
  },
  {
   "cell_type": "markdown",
   "metadata": {},
   "source": [
    "**Exercise 6:**  Unfortunately this does not order things properly in the Time points. look up `.reindex` or find another solution for fixing that so that the time points go 0, 0.3, 1, 2, 4, 8."
   ]
  },
  {
   "cell_type": "code",
   "execution_count": null,
   "metadata": {},
   "outputs": [],
   "source": [
    "# YOUR CODE HERE\n"
   ]
  }
 ],
 "metadata": {
  "kernelspec": {
   "display_name": "Python 3",
   "language": "python",
   "name": "python3"
  },
  "language_info": {
   "codemirror_mode": {
    "name": "ipython",
    "version": 3
   },
   "file_extension": ".py",
   "mimetype": "text/x-python",
   "name": "python",
   "nbconvert_exporter": "python",
   "pygments_lexer": "ipython3",
   "version": "3.6.10"
  }
 },
 "nbformat": 4,
 "nbformat_minor": 4
}