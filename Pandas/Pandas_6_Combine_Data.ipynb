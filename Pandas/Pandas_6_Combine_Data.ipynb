{
 "cells": [
  {
   "cell_type": "code",
   "execution_count": null,
   "metadata": {
    "colab": {},
    "colab_type": "code",
    "id": "tyrgHR7wXnwS"
   },
   "outputs": [],
   "source": [
    "import numpy as np\n",
    "import pandas as pd"
   ]
  },
  {
   "cell_type": "markdown",
   "metadata": {
    "colab_type": "text",
    "id": "ZCezhaQ4Ntgi"
   },
   "source": [
    "# Combine Data\n",
    "\n",
    "When we have two datasets that need to be combined for analysis, we use Pandas' `concatenate` and `merge` functions.\n",
    "\n",
    "Let's explore these functions using several long form air quality datasets"
   ]
  },
  {
   "cell_type": "code",
   "execution_count": null,
   "metadata": {
    "colab": {
     "base_uri": "https://localhost:8080/",
     "height": 204
    },
    "colab_type": "code",
    "executionInfo": {
     "elapsed": 817,
     "status": "ok",
     "timestamp": 1588793632771,
     "user": {
      "displayName": "Richard Alexander",
      "photoUrl": "https://lh3.googleusercontent.com/a-/AOh14Ghn6F8r3pF0SntsFbxkmhRaWso_lCd_s8ePdlKY_g=s64",
      "userId": "13543676537814105778"
     },
     "user_tz": 300
    },
    "id": "pLqnSFk6Peab",
    "outputId": "373a9e1c-b9f4-42a2-bd6d-5a07c2d17150"
   },
   "outputs": [],
   "source": [
    "# Load dataset\n",
    "air_quality_no2 = pd.read_csv(\"https://raw.githubusercontent.com/pandas-dev/pandas/master/doc/data/air_quality_no2_long.csv\",\n",
    "                              parse_dates=True)\n",
    "# Select columns\n",
    "air_quality_no2 = air_quality_no2[[\"date.utc\", \"location\",\n",
    "                                   \"parameter\", \"value\"]]\n",
    "\n",
    "air_quality_no2.head()                            "
   ]
  },
  {
   "cell_type": "code",
   "execution_count": null,
   "metadata": {
    "colab": {
     "base_uri": "https://localhost:8080/",
     "height": 204
    },
    "colab_type": "code",
    "executionInfo": {
     "elapsed": 806,
     "status": "ok",
     "timestamp": 1588793632772,
     "user": {
      "displayName": "Richard Alexander",
      "photoUrl": "https://lh3.googleusercontent.com/a-/AOh14Ghn6F8r3pF0SntsFbxkmhRaWso_lCd_s8ePdlKY_g=s64",
      "userId": "13543676537814105778"
     },
     "user_tz": 300
    },
    "id": "MpuwLJ7MPehH",
    "outputId": "9cc5f087-11ab-47e2-d9fd-2ca44f46849a"
   },
   "outputs": [],
   "source": [
    "# Load dataset\n",
    "air_quality_pm25 = pd.read_csv(\"https://raw.githubusercontent.com/pandas-dev/pandas/master/doc/data/air_quality_pm25_long.csv\",\n",
    "                              parse_dates=True)\n",
    "# Select columns\n",
    "air_quality_pm25 = air_quality_pm25[[\"date.utc\", \"location\",\n",
    "                                   \"parameter\", \"value\"]]\n",
    "\n",
    "air_quality_pm25.head()   "
   ]
  },
  {
   "cell_type": "code",
   "execution_count": null,
   "metadata": {
    "colab": {
     "base_uri": "https://localhost:8080/",
     "height": 204
    },
    "colab_type": "code",
    "executionInfo": {
     "elapsed": 796,
     "status": "ok",
     "timestamp": 1588793632773,
     "user": {
      "displayName": "Richard Alexander",
      "photoUrl": "https://lh3.googleusercontent.com/a-/AOh14Ghn6F8r3pF0SntsFbxkmhRaWso_lCd_s8ePdlKY_g=s64",
      "userId": "13543676537814105778"
     },
     "user_tz": 300
    },
    "id": "SRt8Y8PDYqNu",
    "outputId": "af3b0bc6-92f7-4401-8ff7-ef5641be36d2"
   },
   "outputs": [],
   "source": [
    "# Load station coordinate dataset\n",
    "stations_coord = pd.read_csv(\"https://raw.githubusercontent.com/pandas-dev/pandas/master/doc/data/air_quality_stations.csv\")\n",
    "\n",
    "stations_coord.head()"
   ]
  },
  {
   "cell_type": "code",
   "execution_count": null,
   "metadata": {
    "colab": {
     "base_uri": "https://localhost:8080/",
     "height": 266
    },
    "colab_type": "code",
    "executionInfo": {
     "elapsed": 943,
     "status": "ok",
     "timestamp": 1588793632930,
     "user": {
      "displayName": "Richard Alexander",
      "photoUrl": "https://lh3.googleusercontent.com/a-/AOh14Ghn6F8r3pF0SntsFbxkmhRaWso_lCd_s8ePdlKY_g=s64",
      "userId": "13543676537814105778"
     },
     "user_tz": 300
    },
    "id": "KnLEak6_cTtm",
    "outputId": "3306ace4-dbb9-4966-e1cb-5ab34c7f1ec1"
   },
   "outputs": [],
   "source": [
    "# Load parameter dataset\n",
    "air_quality_parameters  = pd.read_csv(\"https://raw.githubusercontent.com/pandas-dev/pandas/master/doc/data/air_quality_parameters.csv\")\n",
    "\n",
    "air_quality_parameters"
   ]
  },
  {
   "cell_type": "markdown",
   "metadata": {
    "colab_type": "text",
    "id": "APhqTETiNyPS"
   },
   "source": [
    "# Concatenate Dataframes\n",
    "\n",
    "![Concatenate](https://drive.google.com/uc?id=1Led65VvuJgnGDMKlHoAh7QRADz0Nw96X)\n",
    "\n",
    "We can use `concat()` to combine our two air quality datasets into a single Dataframe."
   ]
  },
  {
   "cell_type": "code",
   "execution_count": null,
   "metadata": {
    "colab": {
     "base_uri": "https://localhost:8080/",
     "height": 204
    },
    "colab_type": "code",
    "executionInfo": {
     "elapsed": 935,
     "status": "ok",
     "timestamp": 1588793632931,
     "user": {
      "displayName": "Richard Alexander",
      "photoUrl": "https://lh3.googleusercontent.com/a-/AOh14Ghn6F8r3pF0SntsFbxkmhRaWso_lCd_s8ePdlKY_g=s64",
      "userId": "13543676537814105778"
     },
     "user_tz": 300
    },
    "id": "tIKKp4MkUSbL",
    "outputId": "12316181-7188-407a-d971-e160e8caaf54"
   },
   "outputs": [],
   "source": [
    "air_quality = pd.concat([air_quality_pm25, air_quality_no2], axis=0).sort_index()\n",
    "\n",
    "air_quality.head()"
   ]
  },
  {
   "cell_type": "markdown",
   "metadata": {
    "colab_type": "text",
    "id": "y5UOS6HVNxiG"
   },
   "source": [
    "We chose to concatenate over `axis=0`, so the rows wer combined. We also notice that the original indexes are retained.\n",
    "\n",
    "We can verify that all rows were combined by looking at the shape of the original dataframes versus the new dataframe:"
   ]
  },
  {
   "cell_type": "code",
   "execution_count": null,
   "metadata": {
    "colab": {
     "base_uri": "https://localhost:8080/",
     "height": 34
    },
    "colab_type": "code",
    "executionInfo": {
     "elapsed": 928,
     "status": "ok",
     "timestamp": 1588793632932,
     "user": {
      "displayName": "Richard Alexander",
      "photoUrl": "https://lh3.googleusercontent.com/a-/AOh14Ghn6F8r3pF0SntsFbxkmhRaWso_lCd_s8ePdlKY_g=s64",
      "userId": "13543676537814105778"
     },
     "user_tz": 300
    },
    "id": "xNDRTAPXVfYC",
    "outputId": "39e2f3cb-d0b9-435c-c2e4-5dbabac20d6b"
   },
   "outputs": [],
   "source": [
    "air_quality_pm25.shape"
   ]
  },
  {
   "cell_type": "code",
   "execution_count": null,
   "metadata": {
    "colab": {
     "base_uri": "https://localhost:8080/",
     "height": 34
    },
    "colab_type": "code",
    "executionInfo": {
     "elapsed": 916,
     "status": "ok",
     "timestamp": 1588793632933,
     "user": {
      "displayName": "Richard Alexander",
      "photoUrl": "https://lh3.googleusercontent.com/a-/AOh14Ghn6F8r3pF0SntsFbxkmhRaWso_lCd_s8ePdlKY_g=s64",
      "userId": "13543676537814105778"
     },
     "user_tz": 300
    },
    "id": "FZxirU61VhZV",
    "outputId": "44cb97d6-9c5f-4a0e-fd3e-b39170f08f15"
   },
   "outputs": [],
   "source": [
    "air_quality_no2.shape"
   ]
  },
  {
   "cell_type": "code",
   "execution_count": null,
   "metadata": {
    "colab": {
     "base_uri": "https://localhost:8080/",
     "height": 34
    },
    "colab_type": "code",
    "executionInfo": {
     "elapsed": 907,
     "status": "ok",
     "timestamp": 1588793632934,
     "user": {
      "displayName": "Richard Alexander",
      "photoUrl": "https://lh3.googleusercontent.com/a-/AOh14Ghn6F8r3pF0SntsFbxkmhRaWso_lCd_s8ePdlKY_g=s64",
      "userId": "13543676537814105778"
     },
     "user_tz": 300
    },
    "id": "iu2x4I8DVjHO",
    "outputId": "0eda02bb-ae40-4af5-9cf6-5fb507d0e9fd"
   },
   "outputs": [],
   "source": [
    "air_quality.shape"
   ]
  },
  {
   "cell_type": "markdown",
   "metadata": {
    "colab_type": "text",
    "id": "y9TXC5zxV8xE"
   },
   "source": [
    "If we wish to reset the index so that they are not duplicated, we can do so with `reset_index()`."
   ]
  },
  {
   "cell_type": "code",
   "execution_count": null,
   "metadata": {
    "colab": {
     "base_uri": "https://localhost:8080/",
     "height": 419
    },
    "colab_type": "code",
    "executionInfo": {
     "elapsed": 898,
     "status": "ok",
     "timestamp": 1588793632935,
     "user": {
      "displayName": "Richard Alexander",
      "photoUrl": "https://lh3.googleusercontent.com/a-/AOh14Ghn6F8r3pF0SntsFbxkmhRaWso_lCd_s8ePdlKY_g=s64",
      "userId": "13543676537814105778"
     },
     "user_tz": 300
    },
    "id": "6GZa-KgcVlBN",
    "outputId": "0097cbcb-bfb2-4bda-b041-1359d76ba8e8"
   },
   "outputs": [],
   "source": [
    "# Reset the index, retaining the old index\n",
    "air_quality.reset_index()"
   ]
  },
  {
   "cell_type": "markdown",
   "metadata": {
    "colab_type": "text",
    "id": "mYrR6BaUWPwq"
   },
   "source": [
    "Note that the original indicies are still contained in the dataframe. If we don't need to keep them, we can drop them by setting `drop=True`."
   ]
  },
  {
   "cell_type": "code",
   "execution_count": null,
   "metadata": {
    "colab": {
     "base_uri": "https://localhost:8080/",
     "height": 204
    },
    "colab_type": "code",
    "executionInfo": {
     "elapsed": 1007,
     "status": "ok",
     "timestamp": 1588793633053,
     "user": {
      "displayName": "Richard Alexander",
      "photoUrl": "https://lh3.googleusercontent.com/a-/AOh14Ghn6F8r3pF0SntsFbxkmhRaWso_lCd_s8ePdlKY_g=s64",
      "userId": "13543676537814105778"
     },
     "user_tz": 300
    },
    "id": "jQoFbSg0WIsu",
    "outputId": "eb164a95-d00f-4eef-97b0-bd2e6d9b0d37"
   },
   "outputs": [],
   "source": [
    "# Reset the index, dropping the old index\n",
    "air_quality = air_quality.reset_index(drop=True)\n",
    "\n",
    "air_quality.head()"
   ]
  },
  {
   "cell_type": "markdown",
   "metadata": {
    "colab_type": "text",
    "id": "7ARiSi-BZRsG"
   },
   "source": [
    "# Merge\n",
    "\n",
    "![Merge Left](https://drive.google.com/uc?id=1-u_RoscsfLWuRWDe8YYxrdvvv3TLgUQ7)\n",
    "\n",
    "`merge()` enables us to combine two dataframes with a common identifier.\n",
    "\n",
    "We already combined our two datasets into the new **air_quality** dataframe, but we have a more dataframes to combine.\n",
    "\n",
    "Let's start with the station coordinate dataframe and remind ourselves what the data looks like:"
   ]
  },
  {
   "cell_type": "code",
   "execution_count": null,
   "metadata": {
    "colab": {
     "base_uri": "https://localhost:8080/",
     "height": 204
    },
    "colab_type": "code",
    "executionInfo": {
     "elapsed": 1000,
     "status": "ok",
     "timestamp": 1588793633054,
     "user": {
      "displayName": "Richard Alexander",
      "photoUrl": "https://lh3.googleusercontent.com/a-/AOh14Ghn6F8r3pF0SntsFbxkmhRaWso_lCd_s8ePdlKY_g=s64",
      "userId": "13543676537814105778"
     },
     "user_tz": 300
    },
    "id": "f9LBWsTZWZ86",
    "outputId": "5d9706ae-dd5b-42bd-89a1-4e53e3af61c4"
   },
   "outputs": [],
   "source": [
    "air_quality.head()"
   ]
  },
  {
   "cell_type": "code",
   "execution_count": null,
   "metadata": {
    "colab": {
     "base_uri": "https://localhost:8080/",
     "height": 204
    },
    "colab_type": "code",
    "executionInfo": {
     "elapsed": 991,
     "status": "ok",
     "timestamp": 1588793633055,
     "user": {
      "displayName": "Richard Alexander",
      "photoUrl": "https://lh3.googleusercontent.com/a-/AOh14Ghn6F8r3pF0SntsFbxkmhRaWso_lCd_s8ePdlKY_g=s64",
      "userId": "13543676537814105778"
     },
     "user_tz": 300
    },
    "id": "fan19TZHaVv9",
    "outputId": "bef7cb2d-5795-4828-c602-bdaee71653ad"
   },
   "outputs": [],
   "source": [
    "stations_coord.head()"
   ]
  },
  {
   "cell_type": "markdown",
   "metadata": {
    "colab_type": "text",
    "id": "noObnraLahBf"
   },
   "source": [
    "We would like to have both the measurements and station coordinates in the same table. Because both tables contain a **location** column, we combine our data on that key. "
   ]
  },
  {
   "cell_type": "code",
   "execution_count": null,
   "metadata": {
    "colab": {
     "base_uri": "https://localhost:8080/",
     "height": 204
    },
    "colab_type": "code",
    "executionInfo": {
     "elapsed": 983,
     "status": "ok",
     "timestamp": 1588793633055,
     "user": {
      "displayName": "Richard Alexander",
      "photoUrl": "https://lh3.googleusercontent.com/a-/AOh14Ghn6F8r3pF0SntsFbxkmhRaWso_lCd_s8ePdlKY_g=s64",
      "userId": "13543676537814105778"
     },
     "user_tz": 300
    },
    "id": "6nSJQfb2aYby",
    "outputId": "8df1856f-1f35-4193-cbfb-8cdada46010f"
   },
   "outputs": [],
   "source": [
    "air_quality = pd.merge(air_quality, stations_coord,\n",
    "                        how='left', on='location')\n",
    "\n",
    "air_quality.head()"
   ]
  },
  {
   "cell_type": "markdown",
   "metadata": {
    "colab_type": "text",
    "id": "fYwoI0jYdMUJ"
   },
   "source": [
    "Notice that we have our same **air quality** dataframe with two additional columns. \n",
    "\n",
    "Now let's combine the last dataset:"
   ]
  },
  {
   "cell_type": "code",
   "execution_count": null,
   "metadata": {
    "colab": {
     "base_uri": "https://localhost:8080/",
     "height": 266
    },
    "colab_type": "code",
    "executionInfo": {
     "elapsed": 37202,
     "status": "ok",
     "timestamp": 1588793866789,
     "user": {
      "displayName": "Richard Alexander",
      "photoUrl": "https://lh3.googleusercontent.com/a-/AOh14Ghn6F8r3pF0SntsFbxkmhRaWso_lCd_s8ePdlKY_g=s64",
      "userId": "13543676537814105778"
     },
     "user_tz": 300
    },
    "id": "LEdxWgfRe8In",
    "outputId": "a4b3978b-c6e3-4e09-cf0e-77273d8b9854"
   },
   "outputs": [],
   "source": [
    "air_quality_parameters"
   ]
  },
  {
   "cell_type": "markdown",
   "metadata": {
    "colab_type": "text",
    "id": "o1rv-J19fn_f"
   },
   "source": [
    "The **air_quality_parameters** dataframe contains a description and name for each parameter id. But notice that it doesn't have any column names in common with our **air_quality** dataframe.\n",
    "\n",
    "Notice that the **parameter** column in the **air_quality** dataframe matches the **id** column in the **air_quality_parameters** dataframe.\n",
    "\n",
    "Using this informatino, we can still merge the two dataframes by setting additional parameters `left_on` and `right_on`."
   ]
  },
  {
   "cell_type": "code",
   "execution_count": null,
   "metadata": {
    "colab": {
     "base_uri": "https://localhost:8080/",
     "height": 289
    },
    "colab_type": "code",
    "executionInfo": {
     "elapsed": 387,
     "status": "ok",
     "timestamp": 1588794254975,
     "user": {
      "displayName": "Richard Alexander",
      "photoUrl": "https://lh3.googleusercontent.com/a-/AOh14Ghn6F8r3pF0SntsFbxkmhRaWso_lCd_s8ePdlKY_g=s64",
      "userId": "13543676537814105778"
     },
     "user_tz": 300
    },
    "id": "Zl76dv7YfaZq",
    "outputId": "2deb2407-35fa-49cb-d749-5dd22c9d4a60"
   },
   "outputs": [],
   "source": [
    "air_quality = pd.merge(air_quality, air_quality_parameters,\n",
    "                       how='left', left_on='parameter', right_on='id')\n",
    "\n",
    "air_quality.head()"
   ]
  },
  {
   "cell_type": "markdown",
   "metadata": {
    "colab_type": "text",
    "id": "AQcwn-yphI8-"
   },
   "source": [
    "We have now combined all four of our original datasets into a single Pandas Dataframe!"
   ]
  },
  {
   "cell_type": "markdown",
   "metadata": {
    "colab_type": "text",
    "id": "Iksr7zL7g5Bc"
   },
   "source": [
    "# Summary\n",
    "\n",
    "- Multiple tables can be concatenated both column as row wise using the `concat` function.\n",
    "- For database-like merging/joining of tables, use the `merge` function."
   ]
  }
 ],
 "metadata": {
  "colab": {
   "authorship_tag": "ABX9TyOoDFYKdNhdwEAsrinN8Qf5",
   "collapsed_sections": [],
   "mount_file_id": "10lARKdwyBEIChQql9yx8xlm4xsy3OYdX",
   "name": "Pandas_6_Combine_Data.ipynb",
   "provenance": []
  },
  "kernelspec": {
   "display_name": "Python 3",
   "language": "python",
   "name": "python3"
  },
  "language_info": {
   "codemirror_mode": {
    "name": "ipython",
    "version": 3
   },
   "file_extension": ".py",
   "mimetype": "text/x-python",
   "name": "python",
   "nbconvert_exporter": "python",
   "pygments_lexer": "ipython3",
   "version": "3.6.2-final"
  }
 },
 "nbformat": 4,
 "nbformat_minor": 1
}