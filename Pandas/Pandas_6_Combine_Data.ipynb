{
 "cells": [
  {
   "cell_type": "code",
   "execution_count": 0,
   "metadata": {
    "colab": {},
    "colab_type": "code",
    "id": "tyrgHR7wXnwS"
   },
   "outputs": [],
   "source": [
    "import numpy as np\n",
    "import pandas as pd"
   ]
  },
  {
   "cell_type": "markdown",
   "metadata": {
    "colab_type": "text",
    "id": "ZCezhaQ4Ntgi"
   },
   "source": [
    "# Combine Data\n",
    "\n",
    "When we have two datasets that need to be combined for analysis, we use Pandas' `concatenate` and `merge` functions.\n",
    "\n",
    "Let's explore these functions using several long form air quality datasets"
   ]
  },
  {
   "cell_type": "code",
   "execution_count": 0,
   "metadata": {
    "colab": {
     "base_uri": "https://localhost:8080/",
     "height": 204
    },
    "colab_type": "code",
    "executionInfo": {
     "elapsed": 817,
     "status": "ok",
     "timestamp": 1588793632771,
     "user": {
      "displayName": "Richard Alexander",
      "photoUrl": "https://lh3.googleusercontent.com/a-/AOh14Ghn6F8r3pF0SntsFbxkmhRaWso_lCd_s8ePdlKY_g=s64",
      "userId": "13543676537814105778"
     },
     "user_tz": 300
    },
    "id": "pLqnSFk6Peab",
    "outputId": "373a9e1c-b9f4-42a2-bd6d-5a07c2d17150"
   },
   "outputs": [
    {
     "data": {
      "text/html": [
       "<div>\n",
       "<style scoped>\n",
       "    .dataframe tbody tr th:only-of-type {\n",
       "        vertical-align: middle;\n",
       "    }\n",
       "\n",
       "    .dataframe tbody tr th {\n",
       "        vertical-align: top;\n",
       "    }\n",
       "\n",
       "    .dataframe thead th {\n",
       "        text-align: right;\n",
       "    }\n",
       "</style>\n",
       "<table border=\"1\" class=\"dataframe\">\n",
       "  <thead>\n",
       "    <tr style=\"text-align: right;\">\n",
       "      <th></th>\n",
       "      <th>date.utc</th>\n",
       "      <th>location</th>\n",
       "      <th>parameter</th>\n",
       "      <th>value</th>\n",
       "    </tr>\n",
       "  </thead>\n",
       "  <tbody>\n",
       "    <tr>\n",
       "      <th>0</th>\n",
       "      <td>2019-06-21 00:00:00+00:00</td>\n",
       "      <td>FR04014</td>\n",
       "      <td>no2</td>\n",
       "      <td>20.0</td>\n",
       "    </tr>\n",
       "    <tr>\n",
       "      <th>1</th>\n",
       "      <td>2019-06-20 23:00:00+00:00</td>\n",
       "      <td>FR04014</td>\n",
       "      <td>no2</td>\n",
       "      <td>21.8</td>\n",
       "    </tr>\n",
       "    <tr>\n",
       "      <th>2</th>\n",
       "      <td>2019-06-20 22:00:00+00:00</td>\n",
       "      <td>FR04014</td>\n",
       "      <td>no2</td>\n",
       "      <td>26.5</td>\n",
       "    </tr>\n",
       "    <tr>\n",
       "      <th>3</th>\n",
       "      <td>2019-06-20 21:00:00+00:00</td>\n",
       "      <td>FR04014</td>\n",
       "      <td>no2</td>\n",
       "      <td>24.9</td>\n",
       "    </tr>\n",
       "    <tr>\n",
       "      <th>4</th>\n",
       "      <td>2019-06-20 20:00:00+00:00</td>\n",
       "      <td>FR04014</td>\n",
       "      <td>no2</td>\n",
       "      <td>21.4</td>\n",
       "    </tr>\n",
       "  </tbody>\n",
       "</table>\n",
       "</div>"
      ],
      "text/plain": [
       "                    date.utc location parameter  value\n",
       "0  2019-06-21 00:00:00+00:00  FR04014       no2   20.0\n",
       "1  2019-06-20 23:00:00+00:00  FR04014       no2   21.8\n",
       "2  2019-06-20 22:00:00+00:00  FR04014       no2   26.5\n",
       "3  2019-06-20 21:00:00+00:00  FR04014       no2   24.9\n",
       "4  2019-06-20 20:00:00+00:00  FR04014       no2   21.4"
      ]
     },
     "execution_count": 4,
     "metadata": {
      "tags": []
     },
     "output_type": "execute_result"
    }
   ],
   "source": [
    "# Load dataset\n",
    "air_quality_no2 = pd.read_csv(\"https://raw.githubusercontent.com/pandas-dev/pandas/master/doc/data/air_quality_no2_long.csv\",\n",
    "                              parse_dates=True)\n",
    "# Select columns\n",
    "air_quality_no2 = air_quality_no2[[\"date.utc\", \"location\",\n",
    "                                   \"parameter\", \"value\"]]\n",
    "\n",
    "air_quality_no2.head()                            "
   ]
  },
  {
   "cell_type": "code",
   "execution_count": 0,
   "metadata": {
    "colab": {
     "base_uri": "https://localhost:8080/",
     "height": 204
    },
    "colab_type": "code",
    "executionInfo": {
     "elapsed": 806,
     "status": "ok",
     "timestamp": 1588793632772,
     "user": {
      "displayName": "Richard Alexander",
      "photoUrl": "https://lh3.googleusercontent.com/a-/AOh14Ghn6F8r3pF0SntsFbxkmhRaWso_lCd_s8ePdlKY_g=s64",
      "userId": "13543676537814105778"
     },
     "user_tz": 300
    },
    "id": "MpuwLJ7MPehH",
    "outputId": "9cc5f087-11ab-47e2-d9fd-2ca44f46849a"
   },
   "outputs": [
    {
     "data": {
      "text/html": [
       "<div>\n",
       "<style scoped>\n",
       "    .dataframe tbody tr th:only-of-type {\n",
       "        vertical-align: middle;\n",
       "    }\n",
       "\n",
       "    .dataframe tbody tr th {\n",
       "        vertical-align: top;\n",
       "    }\n",
       "\n",
       "    .dataframe thead th {\n",
       "        text-align: right;\n",
       "    }\n",
       "</style>\n",
       "<table border=\"1\" class=\"dataframe\">\n",
       "  <thead>\n",
       "    <tr style=\"text-align: right;\">\n",
       "      <th></th>\n",
       "      <th>date.utc</th>\n",
       "      <th>location</th>\n",
       "      <th>parameter</th>\n",
       "      <th>value</th>\n",
       "    </tr>\n",
       "  </thead>\n",
       "  <tbody>\n",
       "    <tr>\n",
       "      <th>0</th>\n",
       "      <td>2019-06-18 06:00:00+00:00</td>\n",
       "      <td>BETR801</td>\n",
       "      <td>pm25</td>\n",
       "      <td>18.0</td>\n",
       "    </tr>\n",
       "    <tr>\n",
       "      <th>1</th>\n",
       "      <td>2019-06-17 08:00:00+00:00</td>\n",
       "      <td>BETR801</td>\n",
       "      <td>pm25</td>\n",
       "      <td>6.5</td>\n",
       "    </tr>\n",
       "    <tr>\n",
       "      <th>2</th>\n",
       "      <td>2019-06-17 07:00:00+00:00</td>\n",
       "      <td>BETR801</td>\n",
       "      <td>pm25</td>\n",
       "      <td>18.5</td>\n",
       "    </tr>\n",
       "    <tr>\n",
       "      <th>3</th>\n",
       "      <td>2019-06-17 06:00:00+00:00</td>\n",
       "      <td>BETR801</td>\n",
       "      <td>pm25</td>\n",
       "      <td>16.0</td>\n",
       "    </tr>\n",
       "    <tr>\n",
       "      <th>4</th>\n",
       "      <td>2019-06-17 05:00:00+00:00</td>\n",
       "      <td>BETR801</td>\n",
       "      <td>pm25</td>\n",
       "      <td>7.5</td>\n",
       "    </tr>\n",
       "  </tbody>\n",
       "</table>\n",
       "</div>"
      ],
      "text/plain": [
       "                    date.utc location parameter  value\n",
       "0  2019-06-18 06:00:00+00:00  BETR801      pm25   18.0\n",
       "1  2019-06-17 08:00:00+00:00  BETR801      pm25    6.5\n",
       "2  2019-06-17 07:00:00+00:00  BETR801      pm25   18.5\n",
       "3  2019-06-17 06:00:00+00:00  BETR801      pm25   16.0\n",
       "4  2019-06-17 05:00:00+00:00  BETR801      pm25    7.5"
      ]
     },
     "execution_count": 5,
     "metadata": {
      "tags": []
     },
     "output_type": "execute_result"
    }
   ],
   "source": [
    "# Load dataset\n",
    "air_quality_pm25 = pd.read_csv(\"https://raw.githubusercontent.com/pandas-dev/pandas/master/doc/data/air_quality_pm25_long.csv\",\n",
    "                              parse_dates=True)\n",
    "# Select columns\n",
    "air_quality_pm25 = air_quality_pm25[[\"date.utc\", \"location\",\n",
    "                                   \"parameter\", \"value\"]]\n",
    "\n",
    "air_quality_pm25.head()   "
   ]
  },
  {
   "cell_type": "code",
   "execution_count": 0,
   "metadata": {
    "colab": {
     "base_uri": "https://localhost:8080/",
     "height": 204
    },
    "colab_type": "code",
    "executionInfo": {
     "elapsed": 796,
     "status": "ok",
     "timestamp": 1588793632773,
     "user": {
      "displayName": "Richard Alexander",
      "photoUrl": "https://lh3.googleusercontent.com/a-/AOh14Ghn6F8r3pF0SntsFbxkmhRaWso_lCd_s8ePdlKY_g=s64",
      "userId": "13543676537814105778"
     },
     "user_tz": 300
    },
    "id": "SRt8Y8PDYqNu",
    "outputId": "af3b0bc6-92f7-4401-8ff7-ef5641be36d2"
   },
   "outputs": [
    {
     "data": {
      "text/html": [
       "<div>\n",
       "<style scoped>\n",
       "    .dataframe tbody tr th:only-of-type {\n",
       "        vertical-align: middle;\n",
       "    }\n",
       "\n",
       "    .dataframe tbody tr th {\n",
       "        vertical-align: top;\n",
       "    }\n",
       "\n",
       "    .dataframe thead th {\n",
       "        text-align: right;\n",
       "    }\n",
       "</style>\n",
       "<table border=\"1\" class=\"dataframe\">\n",
       "  <thead>\n",
       "    <tr style=\"text-align: right;\">\n",
       "      <th></th>\n",
       "      <th>location</th>\n",
       "      <th>coordinates.latitude</th>\n",
       "      <th>coordinates.longitude</th>\n",
       "    </tr>\n",
       "  </thead>\n",
       "  <tbody>\n",
       "    <tr>\n",
       "      <th>0</th>\n",
       "      <td>BELAL01</td>\n",
       "      <td>51.23619</td>\n",
       "      <td>4.38522</td>\n",
       "    </tr>\n",
       "    <tr>\n",
       "      <th>1</th>\n",
       "      <td>BELHB23</td>\n",
       "      <td>51.17030</td>\n",
       "      <td>4.34100</td>\n",
       "    </tr>\n",
       "    <tr>\n",
       "      <th>2</th>\n",
       "      <td>BELLD01</td>\n",
       "      <td>51.10998</td>\n",
       "      <td>5.00486</td>\n",
       "    </tr>\n",
       "    <tr>\n",
       "      <th>3</th>\n",
       "      <td>BELLD02</td>\n",
       "      <td>51.12038</td>\n",
       "      <td>5.02155</td>\n",
       "    </tr>\n",
       "    <tr>\n",
       "      <th>4</th>\n",
       "      <td>BELR833</td>\n",
       "      <td>51.32766</td>\n",
       "      <td>4.36226</td>\n",
       "    </tr>\n",
       "  </tbody>\n",
       "</table>\n",
       "</div>"
      ],
      "text/plain": [
       "  location  coordinates.latitude  coordinates.longitude\n",
       "0  BELAL01              51.23619                4.38522\n",
       "1  BELHB23              51.17030                4.34100\n",
       "2  BELLD01              51.10998                5.00486\n",
       "3  BELLD02              51.12038                5.02155\n",
       "4  BELR833              51.32766                4.36226"
      ]
     },
     "execution_count": 6,
     "metadata": {
      "tags": []
     },
     "output_type": "execute_result"
    }
   ],
   "source": [
    "# Load station coordinate dataset\n",
    "stations_coord = pd.read_csv(\"https://raw.githubusercontent.com/pandas-dev/pandas/master/doc/data/air_quality_stations.csv\")\n",
    "\n",
    "stations_coord.head()"
   ]
  },
  {
   "cell_type": "code",
   "execution_count": 0,
   "metadata": {
    "colab": {
     "base_uri": "https://localhost:8080/",
     "height": 266
    },
    "colab_type": "code",
    "executionInfo": {
     "elapsed": 943,
     "status": "ok",
     "timestamp": 1588793632930,
     "user": {
      "displayName": "Richard Alexander",
      "photoUrl": "https://lh3.googleusercontent.com/a-/AOh14Ghn6F8r3pF0SntsFbxkmhRaWso_lCd_s8ePdlKY_g=s64",
      "userId": "13543676537814105778"
     },
     "user_tz": 300
    },
    "id": "KnLEak6_cTtm",
    "outputId": "3306ace4-dbb9-4966-e1cb-5ab34c7f1ec1"
   },
   "outputs": [
    {
     "data": {
      "text/html": [
       "<div>\n",
       "<style scoped>\n",
       "    .dataframe tbody tr th:only-of-type {\n",
       "        vertical-align: middle;\n",
       "    }\n",
       "\n",
       "    .dataframe tbody tr th {\n",
       "        vertical-align: top;\n",
       "    }\n",
       "\n",
       "    .dataframe thead th {\n",
       "        text-align: right;\n",
       "    }\n",
       "</style>\n",
       "<table border=\"1\" class=\"dataframe\">\n",
       "  <thead>\n",
       "    <tr style=\"text-align: right;\">\n",
       "      <th></th>\n",
       "      <th>id</th>\n",
       "      <th>description</th>\n",
       "      <th>name</th>\n",
       "    </tr>\n",
       "  </thead>\n",
       "  <tbody>\n",
       "    <tr>\n",
       "      <th>0</th>\n",
       "      <td>bc</td>\n",
       "      <td>Black Carbon</td>\n",
       "      <td>BC</td>\n",
       "    </tr>\n",
       "    <tr>\n",
       "      <th>1</th>\n",
       "      <td>co</td>\n",
       "      <td>Carbon Monoxide</td>\n",
       "      <td>CO</td>\n",
       "    </tr>\n",
       "    <tr>\n",
       "      <th>2</th>\n",
       "      <td>no2</td>\n",
       "      <td>Nitrogen Dioxide</td>\n",
       "      <td>NO2</td>\n",
       "    </tr>\n",
       "    <tr>\n",
       "      <th>3</th>\n",
       "      <td>o3</td>\n",
       "      <td>Ozone</td>\n",
       "      <td>O3</td>\n",
       "    </tr>\n",
       "    <tr>\n",
       "      <th>4</th>\n",
       "      <td>pm10</td>\n",
       "      <td>Particulate matter less than 10 micrometers in...</td>\n",
       "      <td>PM10</td>\n",
       "    </tr>\n",
       "    <tr>\n",
       "      <th>5</th>\n",
       "      <td>pm25</td>\n",
       "      <td>Particulate matter less than 2.5 micrometers i...</td>\n",
       "      <td>PM2.5</td>\n",
       "    </tr>\n",
       "    <tr>\n",
       "      <th>6</th>\n",
       "      <td>so2</td>\n",
       "      <td>Sulfur Dioxide</td>\n",
       "      <td>SO2</td>\n",
       "    </tr>\n",
       "  </tbody>\n",
       "</table>\n",
       "</div>"
      ],
      "text/plain": [
       "     id                                        description   name\n",
       "0    bc                                       Black Carbon     BC\n",
       "1    co                                    Carbon Monoxide     CO\n",
       "2   no2                                   Nitrogen Dioxide    NO2\n",
       "3    o3                                              Ozone     O3\n",
       "4  pm10  Particulate matter less than 10 micrometers in...   PM10\n",
       "5  pm25  Particulate matter less than 2.5 micrometers i...  PM2.5\n",
       "6   so2                                     Sulfur Dioxide    SO2"
      ]
     },
     "execution_count": 7,
     "metadata": {
      "tags": []
     },
     "output_type": "execute_result"
    }
   ],
   "source": [
    "# Load parameter dataset\n",
    "air_quality_parameters  = pd.read_csv(\"https://github.com/pandas-dev/pandas/blob/master/doc/data/air_quality_parameters.csv\")\n",
    "\n",
    "air_quality_parameters"
   ]
  },
  {
   "cell_type": "markdown",
   "metadata": {
    "colab_type": "text",
    "id": "APhqTETiNyPS"
   },
   "source": [
    "# Concatenate Dataframes\n",
    "\n",
    "![Concatenate](https://drive.google.com/uc?id=1Led65VvuJgnGDMKlHoAh7QRADz0Nw96X)\n",
    "\n",
    "We can use `concat()` to combine our two air quality datasets into a single Dataframe."
   ]
  },
  {
   "cell_type": "code",
   "execution_count": 0,
   "metadata": {
    "colab": {
     "base_uri": "https://localhost:8080/",
     "height": 204
    },
    "colab_type": "code",
    "executionInfo": {
     "elapsed": 935,
     "status": "ok",
     "timestamp": 1588793632931,
     "user": {
      "displayName": "Richard Alexander",
      "photoUrl": "https://lh3.googleusercontent.com/a-/AOh14Ghn6F8r3pF0SntsFbxkmhRaWso_lCd_s8ePdlKY_g=s64",
      "userId": "13543676537814105778"
     },
     "user_tz": 300
    },
    "id": "tIKKp4MkUSbL",
    "outputId": "12316181-7188-407a-d971-e160e8caaf54"
   },
   "outputs": [
    {
     "data": {
      "text/html": [
       "<div>\n",
       "<style scoped>\n",
       "    .dataframe tbody tr th:only-of-type {\n",
       "        vertical-align: middle;\n",
       "    }\n",
       "\n",
       "    .dataframe tbody tr th {\n",
       "        vertical-align: top;\n",
       "    }\n",
       "\n",
       "    .dataframe thead th {\n",
       "        text-align: right;\n",
       "    }\n",
       "</style>\n",
       "<table border=\"1\" class=\"dataframe\">\n",
       "  <thead>\n",
       "    <tr style=\"text-align: right;\">\n",
       "      <th></th>\n",
       "      <th>date.utc</th>\n",
       "      <th>location</th>\n",
       "      <th>parameter</th>\n",
       "      <th>value</th>\n",
       "    </tr>\n",
       "  </thead>\n",
       "  <tbody>\n",
       "    <tr>\n",
       "      <th>0</th>\n",
       "      <td>2019-06-18 06:00:00+00:00</td>\n",
       "      <td>BETR801</td>\n",
       "      <td>pm25</td>\n",
       "      <td>18.0</td>\n",
       "    </tr>\n",
       "    <tr>\n",
       "      <th>0</th>\n",
       "      <td>2019-06-21 00:00:00+00:00</td>\n",
       "      <td>FR04014</td>\n",
       "      <td>no2</td>\n",
       "      <td>20.0</td>\n",
       "    </tr>\n",
       "    <tr>\n",
       "      <th>1</th>\n",
       "      <td>2019-06-20 23:00:00+00:00</td>\n",
       "      <td>FR04014</td>\n",
       "      <td>no2</td>\n",
       "      <td>21.8</td>\n",
       "    </tr>\n",
       "    <tr>\n",
       "      <th>1</th>\n",
       "      <td>2019-06-17 08:00:00+00:00</td>\n",
       "      <td>BETR801</td>\n",
       "      <td>pm25</td>\n",
       "      <td>6.5</td>\n",
       "    </tr>\n",
       "    <tr>\n",
       "      <th>2</th>\n",
       "      <td>2019-06-17 07:00:00+00:00</td>\n",
       "      <td>BETR801</td>\n",
       "      <td>pm25</td>\n",
       "      <td>18.5</td>\n",
       "    </tr>\n",
       "  </tbody>\n",
       "</table>\n",
       "</div>"
      ],
      "text/plain": [
       "                    date.utc location parameter  value\n",
       "0  2019-06-18 06:00:00+00:00  BETR801      pm25   18.0\n",
       "0  2019-06-21 00:00:00+00:00  FR04014       no2   20.0\n",
       "1  2019-06-20 23:00:00+00:00  FR04014       no2   21.8\n",
       "1  2019-06-17 08:00:00+00:00  BETR801      pm25    6.5\n",
       "2  2019-06-17 07:00:00+00:00  BETR801      pm25   18.5"
      ]
     },
     "execution_count": 8,
     "metadata": {
      "tags": []
     },
     "output_type": "execute_result"
    }
   ],
   "source": [
    "air_quality = pd.concat([air_quality_pm25, air_quality_no2], axis=0).sort_index()\n",
    "\n",
    "air_quality.head()"
   ]
  },
  {
   "cell_type": "markdown",
   "metadata": {
    "colab_type": "text",
    "id": "y5UOS6HVNxiG"
   },
   "source": [
    "We chose to concatenate over `axis=0`, so the rows wer combined. We also notice that the original indexes are retained.\n",
    "\n",
    "We can verify that all rows were combined by looking at the shape of the original dataframes versus the new dataframe:"
   ]
  },
  {
   "cell_type": "code",
   "execution_count": 0,
   "metadata": {
    "colab": {
     "base_uri": "https://localhost:8080/",
     "height": 34
    },
    "colab_type": "code",
    "executionInfo": {
     "elapsed": 928,
     "status": "ok",
     "timestamp": 1588793632932,
     "user": {
      "displayName": "Richard Alexander",
      "photoUrl": "https://lh3.googleusercontent.com/a-/AOh14Ghn6F8r3pF0SntsFbxkmhRaWso_lCd_s8ePdlKY_g=s64",
      "userId": "13543676537814105778"
     },
     "user_tz": 300
    },
    "id": "xNDRTAPXVfYC",
    "outputId": "39e2f3cb-d0b9-435c-c2e4-5dbabac20d6b"
   },
   "outputs": [
    {
     "data": {
      "text/plain": [
       "(1110, 4)"
      ]
     },
     "execution_count": 9,
     "metadata": {
      "tags": []
     },
     "output_type": "execute_result"
    }
   ],
   "source": [
    "air_quality_pm25.shape"
   ]
  },
  {
   "cell_type": "code",
   "execution_count": 0,
   "metadata": {
    "colab": {
     "base_uri": "https://localhost:8080/",
     "height": 34
    },
    "colab_type": "code",
    "executionInfo": {
     "elapsed": 916,
     "status": "ok",
     "timestamp": 1588793632933,
     "user": {
      "displayName": "Richard Alexander",
      "photoUrl": "https://lh3.googleusercontent.com/a-/AOh14Ghn6F8r3pF0SntsFbxkmhRaWso_lCd_s8ePdlKY_g=s64",
      "userId": "13543676537814105778"
     },
     "user_tz": 300
    },
    "id": "FZxirU61VhZV",
    "outputId": "44cb97d6-9c5f-4a0e-fd3e-b39170f08f15"
   },
   "outputs": [
    {
     "data": {
      "text/plain": [
       "(2068, 4)"
      ]
     },
     "execution_count": 10,
     "metadata": {
      "tags": []
     },
     "output_type": "execute_result"
    }
   ],
   "source": [
    "air_quality_no2.shape"
   ]
  },
  {
   "cell_type": "code",
   "execution_count": 0,
   "metadata": {
    "colab": {
     "base_uri": "https://localhost:8080/",
     "height": 34
    },
    "colab_type": "code",
    "executionInfo": {
     "elapsed": 907,
     "status": "ok",
     "timestamp": 1588793632934,
     "user": {
      "displayName": "Richard Alexander",
      "photoUrl": "https://lh3.googleusercontent.com/a-/AOh14Ghn6F8r3pF0SntsFbxkmhRaWso_lCd_s8ePdlKY_g=s64",
      "userId": "13543676537814105778"
     },
     "user_tz": 300
    },
    "id": "iu2x4I8DVjHO",
    "outputId": "0eda02bb-ae40-4af5-9cf6-5fb507d0e9fd"
   },
   "outputs": [
    {
     "data": {
      "text/plain": [
       "(3178, 4)"
      ]
     },
     "execution_count": 11,
     "metadata": {
      "tags": []
     },
     "output_type": "execute_result"
    }
   ],
   "source": [
    "air_quality.shape"
   ]
  },
  {
   "cell_type": "markdown",
   "metadata": {
    "colab_type": "text",
    "id": "y9TXC5zxV8xE"
   },
   "source": [
    "If we wish to reset the index so that they are not duplicated, we can do so with `reset_index()`."
   ]
  },
  {
   "cell_type": "code",
   "execution_count": 0,
   "metadata": {
    "colab": {
     "base_uri": "https://localhost:8080/",
     "height": 419
    },
    "colab_type": "code",
    "executionInfo": {
     "elapsed": 898,
     "status": "ok",
     "timestamp": 1588793632935,
     "user": {
      "displayName": "Richard Alexander",
      "photoUrl": "https://lh3.googleusercontent.com/a-/AOh14Ghn6F8r3pF0SntsFbxkmhRaWso_lCd_s8ePdlKY_g=s64",
      "userId": "13543676537814105778"
     },
     "user_tz": 300
    },
    "id": "6GZa-KgcVlBN",
    "outputId": "0097cbcb-bfb2-4bda-b041-1359d76ba8e8"
   },
   "outputs": [
    {
     "data": {
      "text/html": [
       "<div>\n",
       "<style scoped>\n",
       "    .dataframe tbody tr th:only-of-type {\n",
       "        vertical-align: middle;\n",
       "    }\n",
       "\n",
       "    .dataframe tbody tr th {\n",
       "        vertical-align: top;\n",
       "    }\n",
       "\n",
       "    .dataframe thead th {\n",
       "        text-align: right;\n",
       "    }\n",
       "</style>\n",
       "<table border=\"1\" class=\"dataframe\">\n",
       "  <thead>\n",
       "    <tr style=\"text-align: right;\">\n",
       "      <th></th>\n",
       "      <th>index</th>\n",
       "      <th>date.utc</th>\n",
       "      <th>location</th>\n",
       "      <th>parameter</th>\n",
       "      <th>value</th>\n",
       "    </tr>\n",
       "  </thead>\n",
       "  <tbody>\n",
       "    <tr>\n",
       "      <th>0</th>\n",
       "      <td>0</td>\n",
       "      <td>2019-06-18 06:00:00+00:00</td>\n",
       "      <td>BETR801</td>\n",
       "      <td>pm25</td>\n",
       "      <td>18.0</td>\n",
       "    </tr>\n",
       "    <tr>\n",
       "      <th>1</th>\n",
       "      <td>0</td>\n",
       "      <td>2019-06-21 00:00:00+00:00</td>\n",
       "      <td>FR04014</td>\n",
       "      <td>no2</td>\n",
       "      <td>20.0</td>\n",
       "    </tr>\n",
       "    <tr>\n",
       "      <th>2</th>\n",
       "      <td>1</td>\n",
       "      <td>2019-06-20 23:00:00+00:00</td>\n",
       "      <td>FR04014</td>\n",
       "      <td>no2</td>\n",
       "      <td>21.8</td>\n",
       "    </tr>\n",
       "    <tr>\n",
       "      <th>3</th>\n",
       "      <td>1</td>\n",
       "      <td>2019-06-17 08:00:00+00:00</td>\n",
       "      <td>BETR801</td>\n",
       "      <td>pm25</td>\n",
       "      <td>6.5</td>\n",
       "    </tr>\n",
       "    <tr>\n",
       "      <th>4</th>\n",
       "      <td>2</td>\n",
       "      <td>2019-06-17 07:00:00+00:00</td>\n",
       "      <td>BETR801</td>\n",
       "      <td>pm25</td>\n",
       "      <td>18.5</td>\n",
       "    </tr>\n",
       "    <tr>\n",
       "      <th>...</th>\n",
       "      <td>...</td>\n",
       "      <td>...</td>\n",
       "      <td>...</td>\n",
       "      <td>...</td>\n",
       "      <td>...</td>\n",
       "    </tr>\n",
       "    <tr>\n",
       "      <th>3173</th>\n",
       "      <td>2063</td>\n",
       "      <td>2019-05-07 06:00:00+00:00</td>\n",
       "      <td>London Westminster</td>\n",
       "      <td>no2</td>\n",
       "      <td>26.0</td>\n",
       "    </tr>\n",
       "    <tr>\n",
       "      <th>3174</th>\n",
       "      <td>2064</td>\n",
       "      <td>2019-05-07 04:00:00+00:00</td>\n",
       "      <td>London Westminster</td>\n",
       "      <td>no2</td>\n",
       "      <td>16.0</td>\n",
       "    </tr>\n",
       "    <tr>\n",
       "      <th>3175</th>\n",
       "      <td>2065</td>\n",
       "      <td>2019-05-07 03:00:00+00:00</td>\n",
       "      <td>London Westminster</td>\n",
       "      <td>no2</td>\n",
       "      <td>19.0</td>\n",
       "    </tr>\n",
       "    <tr>\n",
       "      <th>3176</th>\n",
       "      <td>2066</td>\n",
       "      <td>2019-05-07 02:00:00+00:00</td>\n",
       "      <td>London Westminster</td>\n",
       "      <td>no2</td>\n",
       "      <td>19.0</td>\n",
       "    </tr>\n",
       "    <tr>\n",
       "      <th>3177</th>\n",
       "      <td>2067</td>\n",
       "      <td>2019-05-07 01:00:00+00:00</td>\n",
       "      <td>London Westminster</td>\n",
       "      <td>no2</td>\n",
       "      <td>23.0</td>\n",
       "    </tr>\n",
       "  </tbody>\n",
       "</table>\n",
       "<p>3178 rows × 5 columns</p>\n",
       "</div>"
      ],
      "text/plain": [
       "      index                   date.utc            location parameter  value\n",
       "0         0  2019-06-18 06:00:00+00:00             BETR801      pm25   18.0\n",
       "1         0  2019-06-21 00:00:00+00:00             FR04014       no2   20.0\n",
       "2         1  2019-06-20 23:00:00+00:00             FR04014       no2   21.8\n",
       "3         1  2019-06-17 08:00:00+00:00             BETR801      pm25    6.5\n",
       "4         2  2019-06-17 07:00:00+00:00             BETR801      pm25   18.5\n",
       "...     ...                        ...                 ...       ...    ...\n",
       "3173   2063  2019-05-07 06:00:00+00:00  London Westminster       no2   26.0\n",
       "3174   2064  2019-05-07 04:00:00+00:00  London Westminster       no2   16.0\n",
       "3175   2065  2019-05-07 03:00:00+00:00  London Westminster       no2   19.0\n",
       "3176   2066  2019-05-07 02:00:00+00:00  London Westminster       no2   19.0\n",
       "3177   2067  2019-05-07 01:00:00+00:00  London Westminster       no2   23.0\n",
       "\n",
       "[3178 rows x 5 columns]"
      ]
     },
     "execution_count": 12,
     "metadata": {
      "tags": []
     },
     "output_type": "execute_result"
    }
   ],
   "source": [
    "# Reset the index, retaining the old index\n",
    "air_quality.reset_index()"
   ]
  },
  {
   "cell_type": "markdown",
   "metadata": {
    "colab_type": "text",
    "id": "mYrR6BaUWPwq"
   },
   "source": [
    "Note that the original indicies are still contained in the dataframe. If we don't need to keep them, we can drop them by setting `drop=True`."
   ]
  },
  {
   "cell_type": "code",
   "execution_count": 0,
   "metadata": {
    "colab": {
     "base_uri": "https://localhost:8080/",
     "height": 204
    },
    "colab_type": "code",
    "executionInfo": {
     "elapsed": 1007,
     "status": "ok",
     "timestamp": 1588793633053,
     "user": {
      "displayName": "Richard Alexander",
      "photoUrl": "https://lh3.googleusercontent.com/a-/AOh14Ghn6F8r3pF0SntsFbxkmhRaWso_lCd_s8ePdlKY_g=s64",
      "userId": "13543676537814105778"
     },
     "user_tz": 300
    },
    "id": "jQoFbSg0WIsu",
    "outputId": "eb164a95-d00f-4eef-97b0-bd2e6d9b0d37"
   },
   "outputs": [
    {
     "data": {
      "text/html": [
       "<div>\n",
       "<style scoped>\n",
       "    .dataframe tbody tr th:only-of-type {\n",
       "        vertical-align: middle;\n",
       "    }\n",
       "\n",
       "    .dataframe tbody tr th {\n",
       "        vertical-align: top;\n",
       "    }\n",
       "\n",
       "    .dataframe thead th {\n",
       "        text-align: right;\n",
       "    }\n",
       "</style>\n",
       "<table border=\"1\" class=\"dataframe\">\n",
       "  <thead>\n",
       "    <tr style=\"text-align: right;\">\n",
       "      <th></th>\n",
       "      <th>date.utc</th>\n",
       "      <th>location</th>\n",
       "      <th>parameter</th>\n",
       "      <th>value</th>\n",
       "    </tr>\n",
       "  </thead>\n",
       "  <tbody>\n",
       "    <tr>\n",
       "      <th>0</th>\n",
       "      <td>2019-06-18 06:00:00+00:00</td>\n",
       "      <td>BETR801</td>\n",
       "      <td>pm25</td>\n",
       "      <td>18.0</td>\n",
       "    </tr>\n",
       "    <tr>\n",
       "      <th>1</th>\n",
       "      <td>2019-06-21 00:00:00+00:00</td>\n",
       "      <td>FR04014</td>\n",
       "      <td>no2</td>\n",
       "      <td>20.0</td>\n",
       "    </tr>\n",
       "    <tr>\n",
       "      <th>2</th>\n",
       "      <td>2019-06-20 23:00:00+00:00</td>\n",
       "      <td>FR04014</td>\n",
       "      <td>no2</td>\n",
       "      <td>21.8</td>\n",
       "    </tr>\n",
       "    <tr>\n",
       "      <th>3</th>\n",
       "      <td>2019-06-17 08:00:00+00:00</td>\n",
       "      <td>BETR801</td>\n",
       "      <td>pm25</td>\n",
       "      <td>6.5</td>\n",
       "    </tr>\n",
       "    <tr>\n",
       "      <th>4</th>\n",
       "      <td>2019-06-17 07:00:00+00:00</td>\n",
       "      <td>BETR801</td>\n",
       "      <td>pm25</td>\n",
       "      <td>18.5</td>\n",
       "    </tr>\n",
       "  </tbody>\n",
       "</table>\n",
       "</div>"
      ],
      "text/plain": [
       "                    date.utc location parameter  value\n",
       "0  2019-06-18 06:00:00+00:00  BETR801      pm25   18.0\n",
       "1  2019-06-21 00:00:00+00:00  FR04014       no2   20.0\n",
       "2  2019-06-20 23:00:00+00:00  FR04014       no2   21.8\n",
       "3  2019-06-17 08:00:00+00:00  BETR801      pm25    6.5\n",
       "4  2019-06-17 07:00:00+00:00  BETR801      pm25   18.5"
      ]
     },
     "execution_count": 13,
     "metadata": {
      "tags": []
     },
     "output_type": "execute_result"
    }
   ],
   "source": [
    "# Reset the index, dropping the old index\n",
    "air_quality = air_quality.reset_index(drop=True)\n",
    "\n",
    "air_quality.head()"
   ]
  },
  {
   "cell_type": "markdown",
   "metadata": {
    "colab_type": "text",
    "id": "7ARiSi-BZRsG"
   },
   "source": [
    "# Merge\n",
    "\n",
    "![Merge Left](https://drive.google.com/uc?id=1-u_RoscsfLWuRWDe8YYxrdvvv3TLgUQ7)\n",
    "\n",
    "`merge()` enables us to combine two dataframes with a common identifier.\n",
    "\n",
    "We already combined our two datasets into the new **air_quality** dataframe, but we have a more dataframes to combine.\n",
    "\n",
    "Let's start with the station coordinate dataframe and remind ourselves what the data looks like:"
   ]
  },
  {
   "cell_type": "code",
   "execution_count": 0,
   "metadata": {
    "colab": {
     "base_uri": "https://localhost:8080/",
     "height": 204
    },
    "colab_type": "code",
    "executionInfo": {
     "elapsed": 1000,
     "status": "ok",
     "timestamp": 1588793633054,
     "user": {
      "displayName": "Richard Alexander",
      "photoUrl": "https://lh3.googleusercontent.com/a-/AOh14Ghn6F8r3pF0SntsFbxkmhRaWso_lCd_s8ePdlKY_g=s64",
      "userId": "13543676537814105778"
     },
     "user_tz": 300
    },
    "id": "f9LBWsTZWZ86",
    "outputId": "5d9706ae-dd5b-42bd-89a1-4e53e3af61c4"
   },
   "outputs": [
    {
     "data": {
      "text/html": [
       "<div>\n",
       "<style scoped>\n",
       "    .dataframe tbody tr th:only-of-type {\n",
       "        vertical-align: middle;\n",
       "    }\n",
       "\n",
       "    .dataframe tbody tr th {\n",
       "        vertical-align: top;\n",
       "    }\n",
       "\n",
       "    .dataframe thead th {\n",
       "        text-align: right;\n",
       "    }\n",
       "</style>\n",
       "<table border=\"1\" class=\"dataframe\">\n",
       "  <thead>\n",
       "    <tr style=\"text-align: right;\">\n",
       "      <th></th>\n",
       "      <th>date.utc</th>\n",
       "      <th>location</th>\n",
       "      <th>parameter</th>\n",
       "      <th>value</th>\n",
       "    </tr>\n",
       "  </thead>\n",
       "  <tbody>\n",
       "    <tr>\n",
       "      <th>0</th>\n",
       "      <td>2019-06-18 06:00:00+00:00</td>\n",
       "      <td>BETR801</td>\n",
       "      <td>pm25</td>\n",
       "      <td>18.0</td>\n",
       "    </tr>\n",
       "    <tr>\n",
       "      <th>1</th>\n",
       "      <td>2019-06-21 00:00:00+00:00</td>\n",
       "      <td>FR04014</td>\n",
       "      <td>no2</td>\n",
       "      <td>20.0</td>\n",
       "    </tr>\n",
       "    <tr>\n",
       "      <th>2</th>\n",
       "      <td>2019-06-20 23:00:00+00:00</td>\n",
       "      <td>FR04014</td>\n",
       "      <td>no2</td>\n",
       "      <td>21.8</td>\n",
       "    </tr>\n",
       "    <tr>\n",
       "      <th>3</th>\n",
       "      <td>2019-06-17 08:00:00+00:00</td>\n",
       "      <td>BETR801</td>\n",
       "      <td>pm25</td>\n",
       "      <td>6.5</td>\n",
       "    </tr>\n",
       "    <tr>\n",
       "      <th>4</th>\n",
       "      <td>2019-06-17 07:00:00+00:00</td>\n",
       "      <td>BETR801</td>\n",
       "      <td>pm25</td>\n",
       "      <td>18.5</td>\n",
       "    </tr>\n",
       "  </tbody>\n",
       "</table>\n",
       "</div>"
      ],
      "text/plain": [
       "                    date.utc location parameter  value\n",
       "0  2019-06-18 06:00:00+00:00  BETR801      pm25   18.0\n",
       "1  2019-06-21 00:00:00+00:00  FR04014       no2   20.0\n",
       "2  2019-06-20 23:00:00+00:00  FR04014       no2   21.8\n",
       "3  2019-06-17 08:00:00+00:00  BETR801      pm25    6.5\n",
       "4  2019-06-17 07:00:00+00:00  BETR801      pm25   18.5"
      ]
     },
     "execution_count": 14,
     "metadata": {
      "tags": []
     },
     "output_type": "execute_result"
    }
   ],
   "source": [
    "air_quality.head()"
   ]
  },
  {
   "cell_type": "code",
   "execution_count": 0,
   "metadata": {
    "colab": {
     "base_uri": "https://localhost:8080/",
     "height": 204
    },
    "colab_type": "code",
    "executionInfo": {
     "elapsed": 991,
     "status": "ok",
     "timestamp": 1588793633055,
     "user": {
      "displayName": "Richard Alexander",
      "photoUrl": "https://lh3.googleusercontent.com/a-/AOh14Ghn6F8r3pF0SntsFbxkmhRaWso_lCd_s8ePdlKY_g=s64",
      "userId": "13543676537814105778"
     },
     "user_tz": 300
    },
    "id": "fan19TZHaVv9",
    "outputId": "bef7cb2d-5795-4828-c602-bdaee71653ad"
   },
   "outputs": [
    {
     "data": {
      "text/html": [
       "<div>\n",
       "<style scoped>\n",
       "    .dataframe tbody tr th:only-of-type {\n",
       "        vertical-align: middle;\n",
       "    }\n",
       "\n",
       "    .dataframe tbody tr th {\n",
       "        vertical-align: top;\n",
       "    }\n",
       "\n",
       "    .dataframe thead th {\n",
       "        text-align: right;\n",
       "    }\n",
       "</style>\n",
       "<table border=\"1\" class=\"dataframe\">\n",
       "  <thead>\n",
       "    <tr style=\"text-align: right;\">\n",
       "      <th></th>\n",
       "      <th>location</th>\n",
       "      <th>coordinates.latitude</th>\n",
       "      <th>coordinates.longitude</th>\n",
       "    </tr>\n",
       "  </thead>\n",
       "  <tbody>\n",
       "    <tr>\n",
       "      <th>0</th>\n",
       "      <td>BELAL01</td>\n",
       "      <td>51.23619</td>\n",
       "      <td>4.38522</td>\n",
       "    </tr>\n",
       "    <tr>\n",
       "      <th>1</th>\n",
       "      <td>BELHB23</td>\n",
       "      <td>51.17030</td>\n",
       "      <td>4.34100</td>\n",
       "    </tr>\n",
       "    <tr>\n",
       "      <th>2</th>\n",
       "      <td>BELLD01</td>\n",
       "      <td>51.10998</td>\n",
       "      <td>5.00486</td>\n",
       "    </tr>\n",
       "    <tr>\n",
       "      <th>3</th>\n",
       "      <td>BELLD02</td>\n",
       "      <td>51.12038</td>\n",
       "      <td>5.02155</td>\n",
       "    </tr>\n",
       "    <tr>\n",
       "      <th>4</th>\n",
       "      <td>BELR833</td>\n",
       "      <td>51.32766</td>\n",
       "      <td>4.36226</td>\n",
       "    </tr>\n",
       "  </tbody>\n",
       "</table>\n",
       "</div>"
      ],
      "text/plain": [
       "  location  coordinates.latitude  coordinates.longitude\n",
       "0  BELAL01              51.23619                4.38522\n",
       "1  BELHB23              51.17030                4.34100\n",
       "2  BELLD01              51.10998                5.00486\n",
       "3  BELLD02              51.12038                5.02155\n",
       "4  BELR833              51.32766                4.36226"
      ]
     },
     "execution_count": 15,
     "metadata": {
      "tags": []
     },
     "output_type": "execute_result"
    }
   ],
   "source": [
    "stations_coord.head()"
   ]
  },
  {
   "cell_type": "markdown",
   "metadata": {
    "colab_type": "text",
    "id": "noObnraLahBf"
   },
   "source": [
    "We would like to have both the measurements and station coordinates in the same table. Because both tables contain a **location** column, we combine our data on that key. "
   ]
  },
  {
   "cell_type": "code",
   "execution_count": 0,
   "metadata": {
    "colab": {
     "base_uri": "https://localhost:8080/",
     "height": 204
    },
    "colab_type": "code",
    "executionInfo": {
     "elapsed": 983,
     "status": "ok",
     "timestamp": 1588793633055,
     "user": {
      "displayName": "Richard Alexander",
      "photoUrl": "https://lh3.googleusercontent.com/a-/AOh14Ghn6F8r3pF0SntsFbxkmhRaWso_lCd_s8ePdlKY_g=s64",
      "userId": "13543676537814105778"
     },
     "user_tz": 300
    },
    "id": "6nSJQfb2aYby",
    "outputId": "8df1856f-1f35-4193-cbfb-8cdada46010f"
   },
   "outputs": [
    {
     "data": {
      "text/html": [
       "<div>\n",
       "<style scoped>\n",
       "    .dataframe tbody tr th:only-of-type {\n",
       "        vertical-align: middle;\n",
       "    }\n",
       "\n",
       "    .dataframe tbody tr th {\n",
       "        vertical-align: top;\n",
       "    }\n",
       "\n",
       "    .dataframe thead th {\n",
       "        text-align: right;\n",
       "    }\n",
       "</style>\n",
       "<table border=\"1\" class=\"dataframe\">\n",
       "  <thead>\n",
       "    <tr style=\"text-align: right;\">\n",
       "      <th></th>\n",
       "      <th>date.utc</th>\n",
       "      <th>location</th>\n",
       "      <th>parameter</th>\n",
       "      <th>value</th>\n",
       "      <th>coordinates.latitude</th>\n",
       "      <th>coordinates.longitude</th>\n",
       "    </tr>\n",
       "  </thead>\n",
       "  <tbody>\n",
       "    <tr>\n",
       "      <th>0</th>\n",
       "      <td>2019-06-18 06:00:00+00:00</td>\n",
       "      <td>BETR801</td>\n",
       "      <td>pm25</td>\n",
       "      <td>18.0</td>\n",
       "      <td>51.20966</td>\n",
       "      <td>4.43182</td>\n",
       "    </tr>\n",
       "    <tr>\n",
       "      <th>1</th>\n",
       "      <td>2019-06-21 00:00:00+00:00</td>\n",
       "      <td>FR04014</td>\n",
       "      <td>no2</td>\n",
       "      <td>20.0</td>\n",
       "      <td>48.83724</td>\n",
       "      <td>2.39390</td>\n",
       "    </tr>\n",
       "    <tr>\n",
       "      <th>2</th>\n",
       "      <td>2019-06-21 00:00:00+00:00</td>\n",
       "      <td>FR04014</td>\n",
       "      <td>no2</td>\n",
       "      <td>20.0</td>\n",
       "      <td>48.83722</td>\n",
       "      <td>2.39390</td>\n",
       "    </tr>\n",
       "    <tr>\n",
       "      <th>3</th>\n",
       "      <td>2019-06-20 23:00:00+00:00</td>\n",
       "      <td>FR04014</td>\n",
       "      <td>no2</td>\n",
       "      <td>21.8</td>\n",
       "      <td>48.83724</td>\n",
       "      <td>2.39390</td>\n",
       "    </tr>\n",
       "    <tr>\n",
       "      <th>4</th>\n",
       "      <td>2019-06-20 23:00:00+00:00</td>\n",
       "      <td>FR04014</td>\n",
       "      <td>no2</td>\n",
       "      <td>21.8</td>\n",
       "      <td>48.83722</td>\n",
       "      <td>2.39390</td>\n",
       "    </tr>\n",
       "  </tbody>\n",
       "</table>\n",
       "</div>"
      ],
      "text/plain": [
       "                    date.utc  ... coordinates.longitude\n",
       "0  2019-06-18 06:00:00+00:00  ...               4.43182\n",
       "1  2019-06-21 00:00:00+00:00  ...               2.39390\n",
       "2  2019-06-21 00:00:00+00:00  ...               2.39390\n",
       "3  2019-06-20 23:00:00+00:00  ...               2.39390\n",
       "4  2019-06-20 23:00:00+00:00  ...               2.39390\n",
       "\n",
       "[5 rows x 6 columns]"
      ]
     },
     "execution_count": 16,
     "metadata": {
      "tags": []
     },
     "output_type": "execute_result"
    }
   ],
   "source": [
    "air_quality = pd.merge(air_quality, stations_coord,\n",
    "                        how='left', on='location')\n",
    "\n",
    "air_quality.head()"
   ]
  },
  {
   "cell_type": "markdown",
   "metadata": {
    "colab_type": "text",
    "id": "fYwoI0jYdMUJ"
   },
   "source": [
    "Notice that we have our same **air quality** dataframe with two additional columns. \n",
    "\n",
    "Now let's combine the last dataset:"
   ]
  },
  {
   "cell_type": "code",
   "execution_count": 0,
   "metadata": {
    "colab": {
     "base_uri": "https://localhost:8080/",
     "height": 266
    },
    "colab_type": "code",
    "executionInfo": {
     "elapsed": 37202,
     "status": "ok",
     "timestamp": 1588793866789,
     "user": {
      "displayName": "Richard Alexander",
      "photoUrl": "https://lh3.googleusercontent.com/a-/AOh14Ghn6F8r3pF0SntsFbxkmhRaWso_lCd_s8ePdlKY_g=s64",
      "userId": "13543676537814105778"
     },
     "user_tz": 300
    },
    "id": "LEdxWgfRe8In",
    "outputId": "a4b3978b-c6e3-4e09-cf0e-77273d8b9854"
   },
   "outputs": [
    {
     "data": {
      "text/html": [
       "<div>\n",
       "<style scoped>\n",
       "    .dataframe tbody tr th:only-of-type {\n",
       "        vertical-align: middle;\n",
       "    }\n",
       "\n",
       "    .dataframe tbody tr th {\n",
       "        vertical-align: top;\n",
       "    }\n",
       "\n",
       "    .dataframe thead th {\n",
       "        text-align: right;\n",
       "    }\n",
       "</style>\n",
       "<table border=\"1\" class=\"dataframe\">\n",
       "  <thead>\n",
       "    <tr style=\"text-align: right;\">\n",
       "      <th></th>\n",
       "      <th>id</th>\n",
       "      <th>description</th>\n",
       "      <th>name</th>\n",
       "    </tr>\n",
       "  </thead>\n",
       "  <tbody>\n",
       "    <tr>\n",
       "      <th>0</th>\n",
       "      <td>bc</td>\n",
       "      <td>Black Carbon</td>\n",
       "      <td>BC</td>\n",
       "    </tr>\n",
       "    <tr>\n",
       "      <th>1</th>\n",
       "      <td>co</td>\n",
       "      <td>Carbon Monoxide</td>\n",
       "      <td>CO</td>\n",
       "    </tr>\n",
       "    <tr>\n",
       "      <th>2</th>\n",
       "      <td>no2</td>\n",
       "      <td>Nitrogen Dioxide</td>\n",
       "      <td>NO2</td>\n",
       "    </tr>\n",
       "    <tr>\n",
       "      <th>3</th>\n",
       "      <td>o3</td>\n",
       "      <td>Ozone</td>\n",
       "      <td>O3</td>\n",
       "    </tr>\n",
       "    <tr>\n",
       "      <th>4</th>\n",
       "      <td>pm10</td>\n",
       "      <td>Particulate matter less than 10 micrometers in...</td>\n",
       "      <td>PM10</td>\n",
       "    </tr>\n",
       "    <tr>\n",
       "      <th>5</th>\n",
       "      <td>pm25</td>\n",
       "      <td>Particulate matter less than 2.5 micrometers i...</td>\n",
       "      <td>PM2.5</td>\n",
       "    </tr>\n",
       "    <tr>\n",
       "      <th>6</th>\n",
       "      <td>so2</td>\n",
       "      <td>Sulfur Dioxide</td>\n",
       "      <td>SO2</td>\n",
       "    </tr>\n",
       "  </tbody>\n",
       "</table>\n",
       "</div>"
      ],
      "text/plain": [
       "     id                                        description   name\n",
       "0    bc                                       Black Carbon     BC\n",
       "1    co                                    Carbon Monoxide     CO\n",
       "2   no2                                   Nitrogen Dioxide    NO2\n",
       "3    o3                                              Ozone     O3\n",
       "4  pm10  Particulate matter less than 10 micrometers in...   PM10\n",
       "5  pm25  Particulate matter less than 2.5 micrometers i...  PM2.5\n",
       "6   so2                                     Sulfur Dioxide    SO2"
      ]
     },
     "execution_count": 21,
     "metadata": {
      "tags": []
     },
     "output_type": "execute_result"
    }
   ],
   "source": [
    "air_quality_parameters"
   ]
  },
  {
   "cell_type": "markdown",
   "metadata": {
    "colab_type": "text",
    "id": "o1rv-J19fn_f"
   },
   "source": [
    "The **air_quality_parameters** dataframe contains a description and name for each parameter id. But notice that it doesn't have any column names in common with our **air_quality** dataframe.\n",
    "\n",
    "Notice that the **parameter** column in the **air_quality** dataframe matches the **id** column in the **air_quality_parameters** dataframe.\n",
    "\n",
    "Using this informatino, we can still merge the two dataframes by setting additional parameters `left_on` and `right_on`."
   ]
  },
  {
   "cell_type": "code",
   "execution_count": 0,
   "metadata": {
    "colab": {
     "base_uri": "https://localhost:8080/",
     "height": 289
    },
    "colab_type": "code",
    "executionInfo": {
     "elapsed": 387,
     "status": "ok",
     "timestamp": 1588794254975,
     "user": {
      "displayName": "Richard Alexander",
      "photoUrl": "https://lh3.googleusercontent.com/a-/AOh14Ghn6F8r3pF0SntsFbxkmhRaWso_lCd_s8ePdlKY_g=s64",
      "userId": "13543676537814105778"
     },
     "user_tz": 300
    },
    "id": "Zl76dv7YfaZq",
    "outputId": "2deb2407-35fa-49cb-d749-5dd22c9d4a60"
   },
   "outputs": [
    {
     "data": {
      "text/html": [
       "<div>\n",
       "<style scoped>\n",
       "    .dataframe tbody tr th:only-of-type {\n",
       "        vertical-align: middle;\n",
       "    }\n",
       "\n",
       "    .dataframe tbody tr th {\n",
       "        vertical-align: top;\n",
       "    }\n",
       "\n",
       "    .dataframe thead th {\n",
       "        text-align: right;\n",
       "    }\n",
       "</style>\n",
       "<table border=\"1\" class=\"dataframe\">\n",
       "  <thead>\n",
       "    <tr style=\"text-align: right;\">\n",
       "      <th></th>\n",
       "      <th>date.utc</th>\n",
       "      <th>location</th>\n",
       "      <th>parameter</th>\n",
       "      <th>value</th>\n",
       "      <th>id_x</th>\n",
       "      <th>description_x</th>\n",
       "      <th>name_x</th>\n",
       "      <th>id_y</th>\n",
       "      <th>description_y</th>\n",
       "      <th>name_y</th>\n",
       "    </tr>\n",
       "  </thead>\n",
       "  <tbody>\n",
       "    <tr>\n",
       "      <th>0</th>\n",
       "      <td>2019-06-18 06:00:00+00:00</td>\n",
       "      <td>BETR801</td>\n",
       "      <td>pm25</td>\n",
       "      <td>18.0</td>\n",
       "      <td>pm25</td>\n",
       "      <td>Particulate matter less than 2.5 micrometers i...</td>\n",
       "      <td>PM2.5</td>\n",
       "      <td>pm25</td>\n",
       "      <td>Particulate matter less than 2.5 micrometers i...</td>\n",
       "      <td>PM2.5</td>\n",
       "    </tr>\n",
       "    <tr>\n",
       "      <th>1</th>\n",
       "      <td>2019-06-21 00:00:00+00:00</td>\n",
       "      <td>FR04014</td>\n",
       "      <td>no2</td>\n",
       "      <td>20.0</td>\n",
       "      <td>no2</td>\n",
       "      <td>Nitrogen Dioxide</td>\n",
       "      <td>NO2</td>\n",
       "      <td>no2</td>\n",
       "      <td>Nitrogen Dioxide</td>\n",
       "      <td>NO2</td>\n",
       "    </tr>\n",
       "    <tr>\n",
       "      <th>2</th>\n",
       "      <td>2019-06-20 23:00:00+00:00</td>\n",
       "      <td>FR04014</td>\n",
       "      <td>no2</td>\n",
       "      <td>21.8</td>\n",
       "      <td>no2</td>\n",
       "      <td>Nitrogen Dioxide</td>\n",
       "      <td>NO2</td>\n",
       "      <td>no2</td>\n",
       "      <td>Nitrogen Dioxide</td>\n",
       "      <td>NO2</td>\n",
       "    </tr>\n",
       "    <tr>\n",
       "      <th>3</th>\n",
       "      <td>2019-06-17 08:00:00+00:00</td>\n",
       "      <td>BETR801</td>\n",
       "      <td>pm25</td>\n",
       "      <td>6.5</td>\n",
       "      <td>pm25</td>\n",
       "      <td>Particulate matter less than 2.5 micrometers i...</td>\n",
       "      <td>PM2.5</td>\n",
       "      <td>pm25</td>\n",
       "      <td>Particulate matter less than 2.5 micrometers i...</td>\n",
       "      <td>PM2.5</td>\n",
       "    </tr>\n",
       "    <tr>\n",
       "      <th>4</th>\n",
       "      <td>2019-06-17 07:00:00+00:00</td>\n",
       "      <td>BETR801</td>\n",
       "      <td>pm25</td>\n",
       "      <td>18.5</td>\n",
       "      <td>pm25</td>\n",
       "      <td>Particulate matter less than 2.5 micrometers i...</td>\n",
       "      <td>PM2.5</td>\n",
       "      <td>pm25</td>\n",
       "      <td>Particulate matter less than 2.5 micrometers i...</td>\n",
       "      <td>PM2.5</td>\n",
       "    </tr>\n",
       "  </tbody>\n",
       "</table>\n",
       "</div>"
      ],
      "text/plain": [
       "                    date.utc  ... name_y\n",
       "0  2019-06-18 06:00:00+00:00  ...  PM2.5\n",
       "1  2019-06-21 00:00:00+00:00  ...    NO2\n",
       "2  2019-06-20 23:00:00+00:00  ...    NO2\n",
       "3  2019-06-17 08:00:00+00:00  ...  PM2.5\n",
       "4  2019-06-17 07:00:00+00:00  ...  PM2.5\n",
       "\n",
       "[5 rows x 10 columns]"
      ]
     },
     "execution_count": 23,
     "metadata": {
      "tags": []
     },
     "output_type": "execute_result"
    }
   ],
   "source": [
    "air_quality = pd.merge(air_quality, air_quality_parameters,\n",
    "                       how='left', left_on='parameter', right_on='id')\n",
    "\n",
    "air_quality.head()"
   ]
  },
  {
   "cell_type": "markdown",
   "metadata": {
    "colab_type": "text",
    "id": "AQcwn-yphI8-"
   },
   "source": [
    "We have now combined all four of our original datasets into a single Pandas Dataframe!"
   ]
  },
  {
   "cell_type": "markdown",
   "metadata": {
    "colab_type": "text",
    "id": "Iksr7zL7g5Bc"
   },
   "source": [
    "# Summary\n",
    "\n",
    "- Multiple tables can be concatenated both column as row wise using the `concat` function.\n",
    "- For database-like merging/joining of tables, use the `merge` function."
   ]
  },
  {
   "cell_type": "code",
   "execution_count": 0,
   "metadata": {
    "colab": {},
    "colab_type": "code",
    "id": "_eSmxkfEg3yA"
   },
   "outputs": [],
   "source": []
  }
 ],
 "metadata": {
  "colab": {
   "authorship_tag": "ABX9TyOoDFYKdNhdwEAsrinN8Qf5",
   "collapsed_sections": [],
   "mount_file_id": "10lARKdwyBEIChQql9yx8xlm4xsy3OYdX",
   "name": "Pandas_6_Combine_Data.ipynb",
   "provenance": []
  },
  "kernelspec": {
   "display_name": "Python 3",
   "language": "python",
   "name": "python3"
  },
  "language_info": {
   "codemirror_mode": {
    "name": "ipython",
    "version": 3
   },
   "file_extension": ".py",
   "mimetype": "text/x-python",
   "name": "python",
   "nbconvert_exporter": "python",
   "pygments_lexer": "ipython3",
   "version": "3.6.10"
  }
 },
 "nbformat": 4,
 "nbformat_minor": 1
}
