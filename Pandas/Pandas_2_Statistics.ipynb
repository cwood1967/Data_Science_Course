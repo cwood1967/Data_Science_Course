{
 "cells": [
  {
   "cell_type": "markdown",
   "metadata": {
    "colab_type": "text",
    "id": "ws7ClJ9_LVEL"
   },
   "source": [
    "# Dataframe Statistics"
   ]
  },
  {
   "cell_type": "code",
   "execution_count": 0,
   "metadata": {
    "colab": {},
    "colab_type": "code",
    "id": "BWzp8wfuLRUm"
   },
   "outputs": [],
   "source": [
    "import numpy as np\n",
    "import pandas as pd"
   ]
  },
  {
   "cell_type": "markdown",
   "metadata": {
    "colab_type": "text",
    "id": "gHEe9iK6Xttu"
   },
   "source": [
    "There exists a large number of methods for computing descriptive statistics on `Series` and `DataFrame`. Most of these are aggregations (hence producing a lower-dimensional result) like `sum()`, `mean()`, and `quantile()`, but some of them, like `cumsum()` and `cumprod()`, produce an object of the same size. \n",
    "\n",
    "Generally speaking, these methods take an axis argument, and the axis can be specified by name or integer:\n",
    "\n",
    "- `Series`: no axis argument needed\n",
    "- `DataFrame`: “index” (axis=0, default), “columns” (axis=1)"
   ]
  },
  {
   "cell_type": "code",
   "execution_count": 0,
   "metadata": {
    "colab": {
     "base_uri": "https://localhost:8080/",
     "height": 204
    },
    "colab_type": "code",
    "executionInfo": {
     "elapsed": 971,
     "status": "ok",
     "timestamp": 1588199939760,
     "user": {
      "displayName": "Richard Alexander",
      "photoUrl": "https://lh3.googleusercontent.com/a-/AOh14Ghn6F8r3pF0SntsFbxkmhRaWso_lCd_s8ePdlKY_g=s64",
      "userId": "13543676537814105778"
     },
     "user_tz": 300
    },
    "id": "RpEKXyMANi01",
    "outputId": "c3edbd6d-cbf4-4a02-9383-9fde27a61c94"
   },
   "outputs": [
    {
     "data": {
      "text/html": [
       "<div>\n",
       "<style scoped>\n",
       "    .dataframe tbody tr th:only-of-type {\n",
       "        vertical-align: middle;\n",
       "    }\n",
       "\n",
       "    .dataframe tbody tr th {\n",
       "        vertical-align: top;\n",
       "    }\n",
       "\n",
       "    .dataframe thead th {\n",
       "        text-align: right;\n",
       "    }\n",
       "</style>\n",
       "<table border=\"1\" class=\"dataframe\">\n",
       "  <thead>\n",
       "    <tr style=\"text-align: right;\">\n",
       "      <th></th>\n",
       "      <th>date</th>\n",
       "      <th>numbers</th>\n",
       "      <th>fractions</th>\n",
       "      <th>category</th>\n",
       "      <th>boolean</th>\n",
       "    </tr>\n",
       "  </thead>\n",
       "  <tbody>\n",
       "    <tr>\n",
       "      <th>a</th>\n",
       "      <td>2020-01-01</td>\n",
       "      <td>NaN</td>\n",
       "      <td>0.481236</td>\n",
       "      <td>test</td>\n",
       "      <td>True</td>\n",
       "    </tr>\n",
       "    <tr>\n",
       "      <th>b</th>\n",
       "      <td>2020-01-02</td>\n",
       "      <td>1.0</td>\n",
       "      <td>0.758691</td>\n",
       "      <td>train</td>\n",
       "      <td>False</td>\n",
       "    </tr>\n",
       "    <tr>\n",
       "      <th>c</th>\n",
       "      <td>2020-01-03</td>\n",
       "      <td>8.0</td>\n",
       "      <td>0.977380</td>\n",
       "      <td>test</td>\n",
       "      <td>False</td>\n",
       "    </tr>\n",
       "    <tr>\n",
       "      <th>d</th>\n",
       "      <td>2020-01-04</td>\n",
       "      <td>5.0</td>\n",
       "      <td>0.992931</td>\n",
       "      <td>train</td>\n",
       "      <td>False</td>\n",
       "    </tr>\n",
       "    <tr>\n",
       "      <th>e</th>\n",
       "      <td>2020-01-05</td>\n",
       "      <td>1.0</td>\n",
       "      <td>NaN</td>\n",
       "      <td>test</td>\n",
       "      <td>True</td>\n",
       "    </tr>\n",
       "  </tbody>\n",
       "</table>\n",
       "</div>"
      ],
      "text/plain": [
       "        date  numbers  fractions category  boolean\n",
       "a 2020-01-01      NaN   0.481236     test     True\n",
       "b 2020-01-02      1.0   0.758691    train    False\n",
       "c 2020-01-03      8.0   0.977380     test    False\n",
       "d 2020-01-04      5.0   0.992931    train    False\n",
       "e 2020-01-05      1.0        NaN     test     True"
      ]
     },
     "execution_count": 2,
     "metadata": {
      "tags": []
     },
     "output_type": "execute_result"
    }
   ],
   "source": [
    "# Create a demo Dataframe\n",
    "df = pd.DataFrame({'date': pd.date_range('2020-01-01', periods=5),\n",
    "                   'numbers': [np.nan,1,8,5,1],\n",
    "                   'fractions': [0.481236,0.758691, 0.977380, 0.992931,\tnp.nan],\n",
    "                   'category': pd.Categorical([\"test\", \"train\", \"test\", \"train\", \"test\"]),\n",
    "                   'boolean': pd.array([True, False, False, False, True], dtype='boolean')},\n",
    "                  index=['a','b','c','d', 'e'])\n",
    "df"
   ]
  },
  {
   "cell_type": "markdown",
   "metadata": {
    "colab_type": "text",
    "id": "2v53MNiGZFvW"
   },
   "source": [
    "# Statistics over rows or columns\n",
    "\n",
    "## Mean over columns"
   ]
  },
  {
   "cell_type": "code",
   "execution_count": 0,
   "metadata": {
    "colab": {
     "base_uri": "https://localhost:8080/",
     "height": 68
    },
    "colab_type": "code",
    "executionInfo": {
     "elapsed": 962,
     "status": "ok",
     "timestamp": 1588199939760,
     "user": {
      "displayName": "Richard Alexander",
      "photoUrl": "https://lh3.googleusercontent.com/a-/AOh14Ghn6F8r3pF0SntsFbxkmhRaWso_lCd_s8ePdlKY_g=s64",
      "userId": "13543676537814105778"
     },
     "user_tz": 300
    },
    "id": "--6j5I9lSEnj",
    "outputId": "caeeca11-a35b-4ee3-dbe2-10d152868121"
   },
   "outputs": [
    {
     "data": {
      "text/plain": [
       "numbers      3.750000\n",
       "fractions    0.802559\n",
       "dtype: float64"
      ]
     },
     "execution_count": 3,
     "metadata": {
      "tags": []
     },
     "output_type": "execute_result"
    }
   ],
   "source": [
    "df.mean(axis=0)"
   ]
  },
  {
   "cell_type": "markdown",
   "metadata": {
    "colab_type": "text",
    "id": "7D_LjLpVZ8-G"
   },
   "source": [
    "## Mean over rows"
   ]
  },
  {
   "cell_type": "code",
   "execution_count": 0,
   "metadata": {
    "colab": {
     "base_uri": "https://localhost:8080/",
     "height": 119
    },
    "colab_type": "code",
    "executionInfo": {
     "elapsed": 954,
     "status": "ok",
     "timestamp": 1588199939761,
     "user": {
      "displayName": "Richard Alexander",
      "photoUrl": "https://lh3.googleusercontent.com/a-/AOh14Ghn6F8r3pF0SntsFbxkmhRaWso_lCd_s8ePdlKY_g=s64",
      "userId": "13543676537814105778"
     },
     "user_tz": 300
    },
    "id": "LRnv-xHKSMQd",
    "outputId": "1963f1c3-f6ef-48f0-f3f4-72d2ce2d6997"
   },
   "outputs": [
    {
     "data": {
      "text/plain": [
       "a    0.481236\n",
       "b    0.879346\n",
       "c    4.488690\n",
       "d    2.996466\n",
       "e    1.000000\n",
       "dtype: float64"
      ]
     },
     "execution_count": 4,
     "metadata": {
      "tags": []
     },
     "output_type": "execute_result"
    }
   ],
   "source": [
    "df.mean(axis=1)"
   ]
  },
  {
   "cell_type": "markdown",
   "metadata": {
    "colab_type": "text",
    "id": "V5HfgBQPatU8"
   },
   "source": [
    "## NaN values\n",
    "\n",
    "Notice in the above examples that NaN values were ignored in the calculations.\n",
    "\n",
    "All statistical methods have a skipna option signaling whether to exclude missing data (True by default):"
   ]
  },
  {
   "cell_type": "code",
   "execution_count": 0,
   "metadata": {
    "colab": {
     "base_uri": "https://localhost:8080/",
     "height": 119
    },
    "colab_type": "code",
    "executionInfo": {
     "elapsed": 944,
     "status": "ok",
     "timestamp": 1588199939761,
     "user": {
      "displayName": "Richard Alexander",
      "photoUrl": "https://lh3.googleusercontent.com/a-/AOh14Ghn6F8r3pF0SntsFbxkmhRaWso_lCd_s8ePdlKY_g=s64",
      "userId": "13543676537814105778"
     },
     "user_tz": 300
    },
    "id": "cLmcmmjFaA_n",
    "outputId": "819f95a8-79b5-41d2-88b7-313cbfb7bdea"
   },
   "outputs": [
    {
     "data": {
      "text/plain": [
       "a         NaN\n",
       "b    1.758691\n",
       "c    8.977380\n",
       "d    5.992931\n",
       "e         NaN\n",
       "dtype: float64"
      ]
     },
     "execution_count": 5,
     "metadata": {
      "tags": []
     },
     "output_type": "execute_result"
    }
   ],
   "source": [
    "# Sum over rows\n",
    "df.sum(1, skipna=False)"
   ]
  },
  {
   "cell_type": "code",
   "execution_count": 0,
   "metadata": {
    "colab": {
     "base_uri": "https://localhost:8080/",
     "height": 119
    },
    "colab_type": "code",
    "executionInfo": {
     "elapsed": 936,
     "status": "ok",
     "timestamp": 1588199939762,
     "user": {
      "displayName": "Richard Alexander",
      "photoUrl": "https://lh3.googleusercontent.com/a-/AOh14Ghn6F8r3pF0SntsFbxkmhRaWso_lCd_s8ePdlKY_g=s64",
      "userId": "13543676537814105778"
     },
     "user_tz": 300
    },
    "id": "CDfnta3abJA6",
    "outputId": "77065db7-04bb-40cc-f857-a88896979f22"
   },
   "outputs": [
    {
     "data": {
      "text/plain": [
       "a    0.481236\n",
       "b    1.758691\n",
       "c    8.977380\n",
       "d    5.992931\n",
       "e    1.000000\n",
       "dtype: float64"
      ]
     },
     "execution_count": 6,
     "metadata": {
      "tags": []
     },
     "output_type": "execute_result"
    }
   ],
   "source": [
    "# Sum over rows, skipping NaN\n",
    "df.sum(axis=1, skipna=True)"
   ]
  },
  {
   "cell_type": "code",
   "execution_count": 0,
   "metadata": {
    "colab": {
     "base_uri": "https://localhost:8080/",
     "height": 102
    },
    "colab_type": "code",
    "executionInfo": {
     "elapsed": 927,
     "status": "ok",
     "timestamp": 1588199939763,
     "user": {
      "displayName": "Richard Alexander",
      "photoUrl": "https://lh3.googleusercontent.com/a-/AOh14Ghn6F8r3pF0SntsFbxkmhRaWso_lCd_s8ePdlKY_g=s64",
      "userId": "13543676537814105778"
     },
     "user_tz": 300
    },
    "id": "NJXV-8Q6bMtc",
    "outputId": "fe8f5a2b-1a9d-4a63-f615-6ec71b7f2574"
   },
   "outputs": [
    {
     "data": {
      "text/plain": [
       "numbers                          15\n",
       "fractions                   3.21024\n",
       "category     testtraintesttraintest\n",
       "boolean                           2\n",
       "dtype: object"
      ]
     },
     "execution_count": 7,
     "metadata": {
      "tags": []
     },
     "output_type": "execute_result"
    }
   ],
   "source": [
    "# Sum over columns, skipping Nan\n",
    "df.sum(axis=0, skipna=True)"
   ]
  },
  {
   "cell_type": "markdown",
   "metadata": {
    "colab_type": "text",
    "id": "B3_rcj11b-6R"
   },
   "source": [
    "Here is a quick reference summary table of common functions.\n",
    "\n",
    "|Function|Description|\n",
    "|--- |--- |\n",
    "|`count`|Number of non-NA observations|\n",
    "|`sum`|Sum of values|\n",
    "|`mean`|Mean of values|\n",
    "|`mad`|Mean absolute deviation|\n",
    "|`median`|Arithmetic median of values|\n",
    "|`min`|Minimum|\n",
    "|`max`|Maximum|\n",
    "|`mode`|Mode|\n",
    "|`abs`|Absolute Value|\n",
    "|`prod`|Product of values|\n",
    "|`std`|Bessel-corrected sample standard deviation|\n",
    "|`var`|Unbiased variance|\n",
    "|`sem`|Standard error of the mean|\n",
    "|`skew`|Sample skewness (3rd moment)|\n",
    "|`kurt`|Sample kurtosis (4th moment)|\n",
    "|`quantile`|Sample quantile (value at %)|\n",
    "|`cumsum`|Cumulative sum|\n",
    "|`cumprod`|Cumulative product|\n",
    "|`cummax`|Cumulative maximum|\n",
    "|`cummin`|Cumulative minimum|"
   ]
  },
  {
   "cell_type": "markdown",
   "metadata": {
    "colab_type": "text",
    "id": "YfGvNGAnd_Yu"
   },
   "source": [
    "# Unique values"
   ]
  },
  {
   "cell_type": "code",
   "execution_count": 0,
   "metadata": {
    "colab": {
     "base_uri": "https://localhost:8080/",
     "height": 119
    },
    "colab_type": "code",
    "executionInfo": {
     "elapsed": 917,
     "status": "ok",
     "timestamp": 1588199939763,
     "user": {
      "displayName": "Richard Alexander",
      "photoUrl": "https://lh3.googleusercontent.com/a-/AOh14Ghn6F8r3pF0SntsFbxkmhRaWso_lCd_s8ePdlKY_g=s64",
      "userId": "13543676537814105778"
     },
     "user_tz": 300
    },
    "id": "ef6AqohnbURo",
    "outputId": "0cdd079c-1c54-4792-d6c8-bd51bdfd1297"
   },
   "outputs": [
    {
     "data": {
      "text/plain": [
       "a    NaN\n",
       "b    1.0\n",
       "c    8.0\n",
       "d    5.0\n",
       "e    1.0\n",
       "Name: numbers, dtype: float64"
      ]
     },
     "execution_count": 8,
     "metadata": {
      "tags": []
     },
     "output_type": "execute_result"
    }
   ],
   "source": [
    "# Get the number `Series` from the `Dataframe`\n",
    "df['numbers']"
   ]
  },
  {
   "cell_type": "markdown",
   "metadata": {
    "colab_type": "text",
    "id": "WkLZVOVSeGsf"
   },
   "source": [
    "`Series.unique()` will return the unique values in a `Series`:"
   ]
  },
  {
   "cell_type": "code",
   "execution_count": 0,
   "metadata": {
    "colab": {
     "base_uri": "https://localhost:8080/",
     "height": 34
    },
    "colab_type": "code",
    "executionInfo": {
     "elapsed": 910,
     "status": "ok",
     "timestamp": 1588199939764,
     "user": {
      "displayName": "Richard Alexander",
      "photoUrl": "https://lh3.googleusercontent.com/a-/AOh14Ghn6F8r3pF0SntsFbxkmhRaWso_lCd_s8ePdlKY_g=s64",
      "userId": "13543676537814105778"
     },
     "user_tz": 300
    },
    "id": "dsEh0jTSdRvT",
    "outputId": "c60c3f6c-f0d0-46af-93b2-5070427fe713"
   },
   "outputs": [
    {
     "data": {
      "text/plain": [
       "array([nan,  1.,  8.,  5.])"
      ]
     },
     "execution_count": 9,
     "metadata": {
      "tags": []
     },
     "output_type": "execute_result"
    }
   ],
   "source": [
    "df['numbers'].unique()  # return_counts=True (look up)"
   ]
  },
  {
   "cell_type": "markdown",
   "metadata": {
    "colab_type": "text",
    "id": "T4cczqGDeHXj"
   },
   "source": [
    "`Series.nunique()` will return the number of unique non-NA values in a `Series`:"
   ]
  },
  {
   "cell_type": "code",
   "execution_count": 0,
   "metadata": {
    "colab": {
     "base_uri": "https://localhost:8080/",
     "height": 34
    },
    "colab_type": "code",
    "executionInfo": {
     "elapsed": 900,
     "status": "ok",
     "timestamp": 1588199939764,
     "user": {
      "displayName": "Richard Alexander",
      "photoUrl": "https://lh3.googleusercontent.com/a-/AOh14Ghn6F8r3pF0SntsFbxkmhRaWso_lCd_s8ePdlKY_g=s64",
      "userId": "13543676537814105778"
     },
     "user_tz": 300
    },
    "id": "w5xyE6OIeIhj",
    "outputId": "e80ecdf9-94ef-4d8f-bd83-759b363dd897"
   },
   "outputs": [
    {
     "data": {
      "text/plain": [
       "3"
      ]
     },
     "execution_count": 10,
     "metadata": {
      "tags": []
     },
     "output_type": "execute_result"
    }
   ],
   "source": [
    "df['numbers'].nunique()"
   ]
  },
  {
   "cell_type": "markdown",
   "metadata": {
    "colab_type": "text",
    "id": "927xcx52eJDH"
   },
   "source": [
    "# Summarize data with describe\n",
    "\n",
    "Data can be summarized with the `.describe()` method. It works the same for both `Series` and `Dataframe`.\n",
    "\n",
    "As with other statistical methods, NaN is excluded from the results.\n"
   ]
  },
  {
   "cell_type": "code",
   "execution_count": 0,
   "metadata": {
    "colab": {
     "base_uri": "https://localhost:8080/",
     "height": 170
    },
    "colab_type": "code",
    "executionInfo": {
     "elapsed": 894,
     "status": "ok",
     "timestamp": 1588199939765,
     "user": {
      "displayName": "Richard Alexander",
      "photoUrl": "https://lh3.googleusercontent.com/a-/AOh14Ghn6F8r3pF0SntsFbxkmhRaWso_lCd_s8ePdlKY_g=s64",
      "userId": "13543676537814105778"
     },
     "user_tz": 300
    },
    "id": "XbOKQv54fERw",
    "outputId": "379f280b-cd37-41c7-bf54-0d06a6f88ccf"
   },
   "outputs": [
    {
     "data": {
      "text/plain": [
       "count    4.00000\n",
       "mean     3.75000\n",
       "std      3.40343\n",
       "min      1.00000\n",
       "25%      1.00000\n",
       "50%      3.00000\n",
       "75%      5.75000\n",
       "max      8.00000\n",
       "Name: numbers, dtype: float64"
      ]
     },
     "execution_count": 11,
     "metadata": {
      "tags": []
     },
     "output_type": "execute_result"
    }
   ],
   "source": [
    "# Summarize a Series\n",
    "df['numbers'].describe()"
   ]
  },
  {
   "cell_type": "code",
   "execution_count": 0,
   "metadata": {
    "colab": {
     "base_uri": "https://localhost:8080/",
     "height": 297
    },
    "colab_type": "code",
    "executionInfo": {
     "elapsed": 1167,
     "status": "ok",
     "timestamp": 1588199940046,
     "user": {
      "displayName": "Richard Alexander",
      "photoUrl": "https://lh3.googleusercontent.com/a-/AOh14Ghn6F8r3pF0SntsFbxkmhRaWso_lCd_s8ePdlKY_g=s64",
      "userId": "13543676537814105778"
     },
     "user_tz": 300
    },
    "id": "z_4aIhZkfhmN",
    "outputId": "acd319c2-6ca4-434f-cb54-d846adabee94"
   },
   "outputs": [
    {
     "data": {
      "text/html": [
       "<div>\n",
       "<style scoped>\n",
       "    .dataframe tbody tr th:only-of-type {\n",
       "        vertical-align: middle;\n",
       "    }\n",
       "\n",
       "    .dataframe tbody tr th {\n",
       "        vertical-align: top;\n",
       "    }\n",
       "\n",
       "    .dataframe thead th {\n",
       "        text-align: right;\n",
       "    }\n",
       "</style>\n",
       "<table border=\"1\" class=\"dataframe\">\n",
       "  <thead>\n",
       "    <tr style=\"text-align: right;\">\n",
       "      <th></th>\n",
       "      <th>numbers</th>\n",
       "      <th>fractions</th>\n",
       "    </tr>\n",
       "  </thead>\n",
       "  <tbody>\n",
       "    <tr>\n",
       "      <th>count</th>\n",
       "      <td>4.00000</td>\n",
       "      <td>4.000000</td>\n",
       "    </tr>\n",
       "    <tr>\n",
       "      <th>mean</th>\n",
       "      <td>3.75000</td>\n",
       "      <td>0.802559</td>\n",
       "    </tr>\n",
       "    <tr>\n",
       "      <th>std</th>\n",
       "      <td>3.40343</td>\n",
       "      <td>0.239428</td>\n",
       "    </tr>\n",
       "    <tr>\n",
       "      <th>min</th>\n",
       "      <td>1.00000</td>\n",
       "      <td>0.481236</td>\n",
       "    </tr>\n",
       "    <tr>\n",
       "      <th>25%</th>\n",
       "      <td>1.00000</td>\n",
       "      <td>0.689327</td>\n",
       "    </tr>\n",
       "    <tr>\n",
       "      <th>50%</th>\n",
       "      <td>3.00000</td>\n",
       "      <td>0.868035</td>\n",
       "    </tr>\n",
       "    <tr>\n",
       "      <th>75%</th>\n",
       "      <td>5.75000</td>\n",
       "      <td>0.981268</td>\n",
       "    </tr>\n",
       "    <tr>\n",
       "      <th>max</th>\n",
       "      <td>8.00000</td>\n",
       "      <td>0.992931</td>\n",
       "    </tr>\n",
       "  </tbody>\n",
       "</table>\n",
       "</div>"
      ],
      "text/plain": [
       "       numbers  fractions\n",
       "count  4.00000   4.000000\n",
       "mean   3.75000   0.802559\n",
       "std    3.40343   0.239428\n",
       "min    1.00000   0.481236\n",
       "25%    1.00000   0.689327\n",
       "50%    3.00000   0.868035\n",
       "75%    5.75000   0.981268\n",
       "max    8.00000   0.992931"
      ]
     },
     "execution_count": 12,
     "metadata": {
      "tags": []
     },
     "output_type": "execute_result"
    }
   ],
   "source": [
    "# Summarize a Dataframe\n",
    "df.describe()"
   ]
  },
  {
   "cell_type": "markdown",
   "metadata": {
    "colab_type": "text",
    "id": "l2SPOFlMftd7"
   },
   "source": [
    "We can also select specific percentiles to be included in the result."
   ]
  },
  {
   "cell_type": "code",
   "execution_count": 0,
   "metadata": {
    "colab": {
     "base_uri": "https://localhost:8080/",
     "height": 359
    },
    "colab_type": "code",
    "executionInfo": {
     "elapsed": 1161,
     "status": "ok",
     "timestamp": 1588199940047,
     "user": {
      "displayName": "Richard Alexander",
      "photoUrl": "https://lh3.googleusercontent.com/a-/AOh14Ghn6F8r3pF0SntsFbxkmhRaWso_lCd_s8ePdlKY_g=s64",
      "userId": "13543676537814105778"
     },
     "user_tz": 300
    },
    "id": "lZf8jGj_fmlB",
    "outputId": "0be277e4-3471-4893-8553-d51c0533b430"
   },
   "outputs": [
    {
     "data": {
      "text/html": [
       "<div>\n",
       "<style scoped>\n",
       "    .dataframe tbody tr th:only-of-type {\n",
       "        vertical-align: middle;\n",
       "    }\n",
       "\n",
       "    .dataframe tbody tr th {\n",
       "        vertical-align: top;\n",
       "    }\n",
       "\n",
       "    .dataframe thead th {\n",
       "        text-align: right;\n",
       "    }\n",
       "</style>\n",
       "<table border=\"1\" class=\"dataframe\">\n",
       "  <thead>\n",
       "    <tr style=\"text-align: right;\">\n",
       "      <th></th>\n",
       "      <th>numbers</th>\n",
       "      <th>fractions</th>\n",
       "    </tr>\n",
       "  </thead>\n",
       "  <tbody>\n",
       "    <tr>\n",
       "      <th>count</th>\n",
       "      <td>4.00000</td>\n",
       "      <td>4.000000</td>\n",
       "    </tr>\n",
       "    <tr>\n",
       "      <th>mean</th>\n",
       "      <td>3.75000</td>\n",
       "      <td>0.802559</td>\n",
       "    </tr>\n",
       "    <tr>\n",
       "      <th>std</th>\n",
       "      <td>3.40343</td>\n",
       "      <td>0.239428</td>\n",
       "    </tr>\n",
       "    <tr>\n",
       "      <th>min</th>\n",
       "      <td>1.00000</td>\n",
       "      <td>0.481236</td>\n",
       "    </tr>\n",
       "    <tr>\n",
       "      <th>5%</th>\n",
       "      <td>1.00000</td>\n",
       "      <td>0.522854</td>\n",
       "    </tr>\n",
       "    <tr>\n",
       "      <th>25%</th>\n",
       "      <td>1.00000</td>\n",
       "      <td>0.689327</td>\n",
       "    </tr>\n",
       "    <tr>\n",
       "      <th>50%</th>\n",
       "      <td>3.00000</td>\n",
       "      <td>0.868035</td>\n",
       "    </tr>\n",
       "    <tr>\n",
       "      <th>75%</th>\n",
       "      <td>5.75000</td>\n",
       "      <td>0.981268</td>\n",
       "    </tr>\n",
       "    <tr>\n",
       "      <th>95%</th>\n",
       "      <td>7.55000</td>\n",
       "      <td>0.990598</td>\n",
       "    </tr>\n",
       "    <tr>\n",
       "      <th>max</th>\n",
       "      <td>8.00000</td>\n",
       "      <td>0.992931</td>\n",
       "    </tr>\n",
       "  </tbody>\n",
       "</table>\n",
       "</div>"
      ],
      "text/plain": [
       "       numbers  fractions\n",
       "count  4.00000   4.000000\n",
       "mean   3.75000   0.802559\n",
       "std    3.40343   0.239428\n",
       "min    1.00000   0.481236\n",
       "5%     1.00000   0.522854\n",
       "25%    1.00000   0.689327\n",
       "50%    3.00000   0.868035\n",
       "75%    5.75000   0.981268\n",
       "95%    7.55000   0.990598\n",
       "max    8.00000   0.992931"
      ]
     },
     "execution_count": 13,
     "metadata": {
      "tags": []
     },
     "output_type": "execute_result"
    }
   ],
   "source": [
    "df.describe(percentiles=[.05, .25, .75, .95])"
   ]
  },
  {
   "cell_type": "markdown",
   "metadata": {
    "colab_type": "text",
    "id": "Fcx0nDiShkvo"
   },
   "source": [
    "For a non-numerical `Series` object, `describe()` will give a simple summary of the number of unique values and most frequently occurring values:"
   ]
  },
  {
   "cell_type": "code",
   "execution_count": 0,
   "metadata": {
    "colab": {
     "base_uri": "https://localhost:8080/",
     "height": 136
    },
    "colab_type": "code",
    "executionInfo": {
     "elapsed": 1154,
     "status": "ok",
     "timestamp": 1588199940048,
     "user": {
      "displayName": "Richard Alexander",
      "photoUrl": "https://lh3.googleusercontent.com/a-/AOh14Ghn6F8r3pF0SntsFbxkmhRaWso_lCd_s8ePdlKY_g=s64",
      "userId": "13543676537814105778"
     },
     "user_tz": 300
    },
    "id": "1eevqiIChz-J",
    "outputId": "9dba4536-8f22-44cc-e570-c72b84175c18"
   },
   "outputs": [
    {
     "data": {
      "text/plain": [
       "a     test\n",
       "b    train\n",
       "c     test\n",
       "d    train\n",
       "e     test\n",
       "Name: category, dtype: category\n",
       "Categories (2, object): [test, train]"
      ]
     },
     "execution_count": 14,
     "metadata": {
      "tags": []
     },
     "output_type": "execute_result"
    }
   ],
   "source": [
    "df['category']"
   ]
  },
  {
   "cell_type": "code",
   "execution_count": 0,
   "metadata": {
    "colab": {
     "base_uri": "https://localhost:8080/",
     "height": 102
    },
    "colab_type": "code",
    "executionInfo": {
     "elapsed": 1148,
     "status": "ok",
     "timestamp": 1588199940049,
     "user": {
      "displayName": "Richard Alexander",
      "photoUrl": "https://lh3.googleusercontent.com/a-/AOh14Ghn6F8r3pF0SntsFbxkmhRaWso_lCd_s8ePdlKY_g=s64",
      "userId": "13543676537814105778"
     },
     "user_tz": 300
    },
    "id": "PAJmpfpahFcV",
    "outputId": "cf3cbb74-4b08-40ed-b14b-c92d849f6f88"
   },
   "outputs": [
    {
     "data": {
      "text/plain": [
       "count        5\n",
       "unique       2\n",
       "top       test\n",
       "freq         3\n",
       "Name: category, dtype: object"
      ]
     },
     "execution_count": 15,
     "metadata": {
      "tags": []
     },
     "output_type": "execute_result"
    }
   ],
   "source": [
    "df['category'].describe()"
   ]
  },
  {
   "cell_type": "markdown",
   "metadata": {
    "colab_type": "text",
    "id": "0GjXTW8fiAvo"
   },
   "source": [
    "Note that on a mixed-type DataFrame object, describe() will restrict the summary to include only numerical columns or, if none are, only categorical columns.\n",
    "\n",
    "This behavior can be controlled by providing a list of types as **include/exclude** arguments. The special value **all** can also be used:\n"
   ]
  },
  {
   "cell_type": "code",
   "execution_count": 0,
   "metadata": {
    "colab": {
     "base_uri": "https://localhost:8080/",
     "height": 297
    },
    "colab_type": "code",
    "executionInfo": {
     "elapsed": 1140,
     "status": "ok",
     "timestamp": 1588199940049,
     "user": {
      "displayName": "Richard Alexander",
      "photoUrl": "https://lh3.googleusercontent.com/a-/AOh14Ghn6F8r3pF0SntsFbxkmhRaWso_lCd_s8ePdlKY_g=s64",
      "userId": "13543676537814105778"
     },
     "user_tz": 300
    },
    "id": "4TjdIPSUiPyp",
    "outputId": "d2c7b249-1ea9-48f1-a02b-b67e33815293"
   },
   "outputs": [
    {
     "data": {
      "text/html": [
       "<div>\n",
       "<style scoped>\n",
       "    .dataframe tbody tr th:only-of-type {\n",
       "        vertical-align: middle;\n",
       "    }\n",
       "\n",
       "    .dataframe tbody tr th {\n",
       "        vertical-align: top;\n",
       "    }\n",
       "\n",
       "    .dataframe thead th {\n",
       "        text-align: right;\n",
       "    }\n",
       "</style>\n",
       "<table border=\"1\" class=\"dataframe\">\n",
       "  <thead>\n",
       "    <tr style=\"text-align: right;\">\n",
       "      <th></th>\n",
       "      <th>numbers</th>\n",
       "      <th>fractions</th>\n",
       "    </tr>\n",
       "  </thead>\n",
       "  <tbody>\n",
       "    <tr>\n",
       "      <th>count</th>\n",
       "      <td>4.00000</td>\n",
       "      <td>4.000000</td>\n",
       "    </tr>\n",
       "    <tr>\n",
       "      <th>mean</th>\n",
       "      <td>3.75000</td>\n",
       "      <td>0.802559</td>\n",
       "    </tr>\n",
       "    <tr>\n",
       "      <th>std</th>\n",
       "      <td>3.40343</td>\n",
       "      <td>0.239428</td>\n",
       "    </tr>\n",
       "    <tr>\n",
       "      <th>min</th>\n",
       "      <td>1.00000</td>\n",
       "      <td>0.481236</td>\n",
       "    </tr>\n",
       "    <tr>\n",
       "      <th>25%</th>\n",
       "      <td>1.00000</td>\n",
       "      <td>0.689327</td>\n",
       "    </tr>\n",
       "    <tr>\n",
       "      <th>50%</th>\n",
       "      <td>3.00000</td>\n",
       "      <td>0.868035</td>\n",
       "    </tr>\n",
       "    <tr>\n",
       "      <th>75%</th>\n",
       "      <td>5.75000</td>\n",
       "      <td>0.981268</td>\n",
       "    </tr>\n",
       "    <tr>\n",
       "      <th>max</th>\n",
       "      <td>8.00000</td>\n",
       "      <td>0.992931</td>\n",
       "    </tr>\n",
       "  </tbody>\n",
       "</table>\n",
       "</div>"
      ],
      "text/plain": [
       "       numbers  fractions\n",
       "count  4.00000   4.000000\n",
       "mean   3.75000   0.802559\n",
       "std    3.40343   0.239428\n",
       "min    1.00000   0.481236\n",
       "25%    1.00000   0.689327\n",
       "50%    3.00000   0.868035\n",
       "75%    5.75000   0.981268\n",
       "max    8.00000   0.992931"
      ]
     },
     "execution_count": 16,
     "metadata": {
      "tags": []
     },
     "output_type": "execute_result"
    }
   ],
   "source": [
    "# Include only numbers (default)\n",
    "df.describe(include=['number'])"
   ]
  },
  {
   "cell_type": "code",
   "execution_count": 0,
   "metadata": {
    "colab": {
     "base_uri": "https://localhost:8080/",
     "height": 173
    },
    "colab_type": "code",
    "executionInfo": {
     "elapsed": 930,
     "status": "ok",
     "timestamp": 1588200440672,
     "user": {
      "displayName": "Richard Alexander",
      "photoUrl": "https://lh3.googleusercontent.com/a-/AOh14Ghn6F8r3pF0SntsFbxkmhRaWso_lCd_s8ePdlKY_g=s64",
      "userId": "13543676537814105778"
     },
     "user_tz": 300
    },
    "id": "CB7NfuQ1hwKG",
    "outputId": "2552a2e3-fdf7-4f9a-c010-bcf70b6e50f7"
   },
   "outputs": [
    {
     "data": {
      "text/html": [
       "<div>\n",
       "<style scoped>\n",
       "    .dataframe tbody tr th:only-of-type {\n",
       "        vertical-align: middle;\n",
       "    }\n",
       "\n",
       "    .dataframe tbody tr th {\n",
       "        vertical-align: top;\n",
       "    }\n",
       "\n",
       "    .dataframe thead th {\n",
       "        text-align: right;\n",
       "    }\n",
       "</style>\n",
       "<table border=\"1\" class=\"dataframe\">\n",
       "  <thead>\n",
       "    <tr style=\"text-align: right;\">\n",
       "      <th></th>\n",
       "      <th>category</th>\n",
       "    </tr>\n",
       "  </thead>\n",
       "  <tbody>\n",
       "    <tr>\n",
       "      <th>count</th>\n",
       "      <td>5</td>\n",
       "    </tr>\n",
       "    <tr>\n",
       "      <th>unique</th>\n",
       "      <td>2</td>\n",
       "    </tr>\n",
       "    <tr>\n",
       "      <th>top</th>\n",
       "      <td>test</td>\n",
       "    </tr>\n",
       "    <tr>\n",
       "      <th>freq</th>\n",
       "      <td>3</td>\n",
       "    </tr>\n",
       "  </tbody>\n",
       "</table>\n",
       "</div>"
      ],
      "text/plain": [
       "       category\n",
       "count         5\n",
       "unique        2\n",
       "top        test\n",
       "freq          3"
      ]
     },
     "execution_count": 18,
     "metadata": {
      "tags": []
     },
     "output_type": "execute_result"
    }
   ],
   "source": [
    "# Include only category\n",
    "df.describe(include=['category'])"
   ]
  },
  {
   "cell_type": "code",
   "execution_count": 0,
   "metadata": {
    "colab": {
     "base_uri": "https://localhost:8080/",
     "height": 452
    },
    "colab_type": "code",
    "executionInfo": {
     "elapsed": 925,
     "status": "ok",
     "timestamp": 1588200490596,
     "user": {
      "displayName": "Richard Alexander",
      "photoUrl": "https://lh3.googleusercontent.com/a-/AOh14Ghn6F8r3pF0SntsFbxkmhRaWso_lCd_s8ePdlKY_g=s64",
      "userId": "13543676537814105778"
     },
     "user_tz": 300
    },
    "id": "_COFeZ-GiX79",
    "outputId": "ad8bcc76-83ff-4d79-ce3d-e54a91bb0b8d"
   },
   "outputs": [
    {
     "data": {
      "text/html": [
       "<div>\n",
       "<style scoped>\n",
       "    .dataframe tbody tr th:only-of-type {\n",
       "        vertical-align: middle;\n",
       "    }\n",
       "\n",
       "    .dataframe tbody tr th {\n",
       "        vertical-align: top;\n",
       "    }\n",
       "\n",
       "    .dataframe thead th {\n",
       "        text-align: right;\n",
       "    }\n",
       "</style>\n",
       "<table border=\"1\" class=\"dataframe\">\n",
       "  <thead>\n",
       "    <tr style=\"text-align: right;\">\n",
       "      <th></th>\n",
       "      <th>date</th>\n",
       "      <th>numbers</th>\n",
       "      <th>fractions</th>\n",
       "      <th>category</th>\n",
       "      <th>boolean</th>\n",
       "    </tr>\n",
       "  </thead>\n",
       "  <tbody>\n",
       "    <tr>\n",
       "      <th>count</th>\n",
       "      <td>5</td>\n",
       "      <td>4.00000</td>\n",
       "      <td>4.000000</td>\n",
       "      <td>5</td>\n",
       "      <td>5</td>\n",
       "    </tr>\n",
       "    <tr>\n",
       "      <th>unique</th>\n",
       "      <td>5</td>\n",
       "      <td>NaN</td>\n",
       "      <td>NaN</td>\n",
       "      <td>2</td>\n",
       "      <td>2</td>\n",
       "    </tr>\n",
       "    <tr>\n",
       "      <th>top</th>\n",
       "      <td>2020-01-03 00:00:00</td>\n",
       "      <td>NaN</td>\n",
       "      <td>NaN</td>\n",
       "      <td>test</td>\n",
       "      <td>False</td>\n",
       "    </tr>\n",
       "    <tr>\n",
       "      <th>freq</th>\n",
       "      <td>1</td>\n",
       "      <td>NaN</td>\n",
       "      <td>NaN</td>\n",
       "      <td>3</td>\n",
       "      <td>3</td>\n",
       "    </tr>\n",
       "    <tr>\n",
       "      <th>first</th>\n",
       "      <td>2020-01-01 00:00:00</td>\n",
       "      <td>NaN</td>\n",
       "      <td>NaN</td>\n",
       "      <td>NaN</td>\n",
       "      <td>NaN</td>\n",
       "    </tr>\n",
       "    <tr>\n",
       "      <th>last</th>\n",
       "      <td>2020-01-05 00:00:00</td>\n",
       "      <td>NaN</td>\n",
       "      <td>NaN</td>\n",
       "      <td>NaN</td>\n",
       "      <td>NaN</td>\n",
       "    </tr>\n",
       "    <tr>\n",
       "      <th>mean</th>\n",
       "      <td>NaN</td>\n",
       "      <td>3.75000</td>\n",
       "      <td>0.802559</td>\n",
       "      <td>NaN</td>\n",
       "      <td>NaN</td>\n",
       "    </tr>\n",
       "    <tr>\n",
       "      <th>std</th>\n",
       "      <td>NaN</td>\n",
       "      <td>3.40343</td>\n",
       "      <td>0.239428</td>\n",
       "      <td>NaN</td>\n",
       "      <td>NaN</td>\n",
       "    </tr>\n",
       "    <tr>\n",
       "      <th>min</th>\n",
       "      <td>NaN</td>\n",
       "      <td>1.00000</td>\n",
       "      <td>0.481236</td>\n",
       "      <td>NaN</td>\n",
       "      <td>NaN</td>\n",
       "    </tr>\n",
       "    <tr>\n",
       "      <th>25%</th>\n",
       "      <td>NaN</td>\n",
       "      <td>1.00000</td>\n",
       "      <td>0.689327</td>\n",
       "      <td>NaN</td>\n",
       "      <td>NaN</td>\n",
       "    </tr>\n",
       "    <tr>\n",
       "      <th>50%</th>\n",
       "      <td>NaN</td>\n",
       "      <td>3.00000</td>\n",
       "      <td>0.868035</td>\n",
       "      <td>NaN</td>\n",
       "      <td>NaN</td>\n",
       "    </tr>\n",
       "    <tr>\n",
       "      <th>75%</th>\n",
       "      <td>NaN</td>\n",
       "      <td>5.75000</td>\n",
       "      <td>0.981268</td>\n",
       "      <td>NaN</td>\n",
       "      <td>NaN</td>\n",
       "    </tr>\n",
       "    <tr>\n",
       "      <th>max</th>\n",
       "      <td>NaN</td>\n",
       "      <td>8.00000</td>\n",
       "      <td>0.992931</td>\n",
       "      <td>NaN</td>\n",
       "      <td>NaN</td>\n",
       "    </tr>\n",
       "  </tbody>\n",
       "</table>\n",
       "</div>"
      ],
      "text/plain": [
       "                       date  numbers  fractions category boolean\n",
       "count                     5  4.00000   4.000000        5       5\n",
       "unique                    5      NaN        NaN        2       2\n",
       "top     2020-01-03 00:00:00      NaN        NaN     test   False\n",
       "freq                      1      NaN        NaN        3       3\n",
       "first   2020-01-01 00:00:00      NaN        NaN      NaN     NaN\n",
       "last    2020-01-05 00:00:00      NaN        NaN      NaN     NaN\n",
       "mean                    NaN  3.75000   0.802559      NaN     NaN\n",
       "std                     NaN  3.40343   0.239428      NaN     NaN\n",
       "min                     NaN  1.00000   0.481236      NaN     NaN\n",
       "25%                     NaN  1.00000   0.689327      NaN     NaN\n",
       "50%                     NaN  3.00000   0.868035      NaN     NaN\n",
       "75%                     NaN  5.75000   0.981268      NaN     NaN\n",
       "max                     NaN  8.00000   0.992931      NaN     NaN"
      ]
     },
     "execution_count": 19,
     "metadata": {
      "tags": []
     },
     "output_type": "execute_result"
    }
   ],
   "source": [
    "# Include all\n",
    "df.describe(include='all')"
   ]
  },
  {
   "cell_type": "markdown",
   "metadata": {
    "colab_type": "text",
    "id": "LUOTHEmYJbOA"
   },
   "source": [
    "# Max/Min Index\n",
    "\n",
    "It is often desireable to find the index of the minimum and maximum values, which allows us to see what is going on in the rest of the row.\n",
    "\n",
    "Pandas provides helper functions `idxmin` and `idxmax` for this purpose."
   ]
  },
  {
   "cell_type": "code",
   "execution_count": 0,
   "metadata": {
    "colab": {
     "base_uri": "https://localhost:8080/",
     "height": 204
    },
    "colab_type": "code",
    "executionInfo": {
     "elapsed": 474,
     "status": "ok",
     "timestamp": 1588201620743,
     "user": {
      "displayName": "Richard Alexander",
      "photoUrl": "https://lh3.googleusercontent.com/a-/AOh14Ghn6F8r3pF0SntsFbxkmhRaWso_lCd_s8ePdlKY_g=s64",
      "userId": "13543676537814105778"
     },
     "user_tz": 300
    },
    "id": "NN5L6NKJIEJb",
    "outputId": "c649f846-6a77-4bed-846d-2e1f5cd27b62"
   },
   "outputs": [
    {
     "data": {
      "text/html": [
       "<div>\n",
       "<style scoped>\n",
       "    .dataframe tbody tr th:only-of-type {\n",
       "        vertical-align: middle;\n",
       "    }\n",
       "\n",
       "    .dataframe tbody tr th {\n",
       "        vertical-align: top;\n",
       "    }\n",
       "\n",
       "    .dataframe thead th {\n",
       "        text-align: right;\n",
       "    }\n",
       "</style>\n",
       "<table border=\"1\" class=\"dataframe\">\n",
       "  <thead>\n",
       "    <tr style=\"text-align: right;\">\n",
       "      <th></th>\n",
       "      <th>A</th>\n",
       "      <th>B</th>\n",
       "      <th>C</th>\n",
       "    </tr>\n",
       "  </thead>\n",
       "  <tbody>\n",
       "    <tr>\n",
       "      <th>0</th>\n",
       "      <td>0.736578</td>\n",
       "      <td>0.834027</td>\n",
       "      <td>0.672312</td>\n",
       "    </tr>\n",
       "    <tr>\n",
       "      <th>1</th>\n",
       "      <td>0.477935</td>\n",
       "      <td>0.884255</td>\n",
       "      <td>0.913437</td>\n",
       "    </tr>\n",
       "    <tr>\n",
       "      <th>2</th>\n",
       "      <td>0.241817</td>\n",
       "      <td>0.891527</td>\n",
       "      <td>0.185116</td>\n",
       "    </tr>\n",
       "    <tr>\n",
       "      <th>3</th>\n",
       "      <td>0.219596</td>\n",
       "      <td>0.072499</td>\n",
       "      <td>0.512523</td>\n",
       "    </tr>\n",
       "    <tr>\n",
       "      <th>4</th>\n",
       "      <td>0.654276</td>\n",
       "      <td>0.932431</td>\n",
       "      <td>0.493025</td>\n",
       "    </tr>\n",
       "  </tbody>\n",
       "</table>\n",
       "</div>"
      ],
      "text/plain": [
       "          A         B         C\n",
       "0  0.736578  0.834027  0.672312\n",
       "1  0.477935  0.884255  0.913437\n",
       "2  0.241817  0.891527  0.185116\n",
       "3  0.219596  0.072499  0.512523\n",
       "4  0.654276  0.932431  0.493025"
      ]
     },
     "execution_count": 35,
     "metadata": {
      "tags": []
     },
     "output_type": "execute_result"
    }
   ],
   "source": [
    "# Create a new dataframe with only numbers\n",
    "df_numbers = pd.DataFrame(np.random.rand(5,3), columns=['A', 'B', 'C'])\n",
    "df_numbers"
   ]
  },
  {
   "cell_type": "markdown",
   "metadata": {
    "colab_type": "text",
    "id": "QjCFkvxYNkb8"
   },
   "source": [
    "### Minimum"
   ]
  },
  {
   "cell_type": "code",
   "execution_count": 0,
   "metadata": {
    "colab": {
     "base_uri": "https://localhost:8080/",
     "height": 85
    },
    "colab_type": "code",
    "executionInfo": {
     "elapsed": 516,
     "status": "ok",
     "timestamp": 1588202093685,
     "user": {
      "displayName": "Richard Alexander",
      "photoUrl": "https://lh3.googleusercontent.com/a-/AOh14Ghn6F8r3pF0SntsFbxkmhRaWso_lCd_s8ePdlKY_g=s64",
      "userId": "13543676537814105778"
     },
     "user_tz": 300
    },
    "id": "To97ScCqN5m-",
    "outputId": "d5b104c2-4631-4ee5-e1d5-669042945dcc"
   },
   "outputs": [
    {
     "data": {
      "text/plain": [
       "A    0\n",
       "B    4\n",
       "C    1\n",
       "dtype: int64"
      ]
     },
     "execution_count": 42,
     "metadata": {
      "tags": []
     },
     "output_type": "execute_result"
    }
   ],
   "source": [
    "# Find the minumum across the entire dataframe for each column with `idxmin`\n",
    "df_numbers.idxmax(axis=0)"
   ]
  },
  {
   "cell_type": "code",
   "execution_count": 0,
   "metadata": {
    "colab": {
     "base_uri": "https://localhost:8080/",
     "height": 34
    },
    "colab_type": "code",
    "executionInfo": {
     "elapsed": 898,
     "status": "ok",
     "timestamp": 1588202136111,
     "user": {
      "displayName": "Richard Alexander",
      "photoUrl": "https://lh3.googleusercontent.com/a-/AOh14Ghn6F8r3pF0SntsFbxkmhRaWso_lCd_s8ePdlKY_g=s64",
      "userId": "13543676537814105778"
     },
     "user_tz": 300
    },
    "id": "dN69mb8bKis5",
    "outputId": "e76a2c4f-2605-46c3-a18a-a14cd62184ec"
   },
   "outputs": [
    {
     "data": {
      "text/plain": [
       "3"
      ]
     },
     "execution_count": 45,
     "metadata": {
      "tags": []
     },
     "output_type": "execute_result"
    }
   ],
   "source": [
    "# Find the minimum for a specific column series with `idxmin`\n",
    "a_min = df_numbers['A'].idxmin()\n",
    "a_min"
   ]
  },
  {
   "cell_type": "markdown",
   "metadata": {
    "colab_type": "text",
    "id": "bYm709ujNrCQ"
   },
   "source": [
    "### Maximum"
   ]
  },
  {
   "cell_type": "code",
   "execution_count": 0,
   "metadata": {
    "colab": {
     "base_uri": "https://localhost:8080/",
     "height": 85
    },
    "colab_type": "code",
    "executionInfo": {
     "elapsed": 888,
     "status": "ok",
     "timestamp": 1588201791196,
     "user": {
      "displayName": "Richard Alexander",
      "photoUrl": "https://lh3.googleusercontent.com/a-/AOh14Ghn6F8r3pF0SntsFbxkmhRaWso_lCd_s8ePdlKY_g=s64",
      "userId": "13543676537814105778"
     },
     "user_tz": 300
    },
    "id": "TW-RCE65LZrL",
    "outputId": "c566dbcb-660e-48c7-b33b-dea107598de2"
   },
   "outputs": [
    {
     "data": {
      "text/plain": [
       "A    0\n",
       "B    4\n",
       "C    1\n",
       "dtype: int64"
      ]
     },
     "execution_count": 41,
     "metadata": {
      "tags": []
     },
     "output_type": "execute_result"
    }
   ],
   "source": [
    "# Find the maximum across the entire dataframe for each column with `idxmax`\n",
    "df_numbers.idxmax(axis=0)"
   ]
  },
  {
   "cell_type": "code",
   "execution_count": 0,
   "metadata": {
    "colab": {
     "base_uri": "https://localhost:8080/",
     "height": 34
    },
    "colab_type": "code",
    "executionInfo": {
     "elapsed": 513,
     "status": "ok",
     "timestamp": 1588202129998,
     "user": {
      "displayName": "Richard Alexander",
      "photoUrl": "https://lh3.googleusercontent.com/a-/AOh14Ghn6F8r3pF0SntsFbxkmhRaWso_lCd_s8ePdlKY_g=s64",
      "userId": "13543676537814105778"
     },
     "user_tz": 300
    },
    "id": "8iga8gZNN_Ba",
    "outputId": "ca7dc341-7438-4133-ca29-8440b76d0b48"
   },
   "outputs": [
    {
     "data": {
      "text/plain": [
       "0"
      ]
     },
     "execution_count": 44,
     "metadata": {
      "tags": []
     },
     "output_type": "execute_result"
    }
   ],
   "source": [
    "# Find the maximum for a specific column series with `idxmin`\n",
    "a_max = df_numbers['A'].idxmax()\n",
    "a_max"
   ]
  },
  {
   "cell_type": "markdown",
   "metadata": {
    "colab_type": "text",
    "id": "GCo59zSMLYjC"
   },
   "source": [
    "Now that we have some indexes of interest, we can use them to find the rows of interest with `iloc`."
   ]
  },
  {
   "cell_type": "code",
   "execution_count": 0,
   "metadata": {
    "colab": {
     "base_uri": "https://localhost:8080/",
     "height": 85
    },
    "colab_type": "code",
    "executionInfo": {
     "elapsed": 907,
     "status": "ok",
     "timestamp": 1588202296864,
     "user": {
      "displayName": "Richard Alexander",
      "photoUrl": "https://lh3.googleusercontent.com/a-/AOh14Ghn6F8r3pF0SntsFbxkmhRaWso_lCd_s8ePdlKY_g=s64",
      "userId": "13543676537814105778"
     },
     "user_tz": 300
    },
    "id": "JBx4i8ipKpIi",
    "outputId": "5bcafec8-17d6-4706-933a-78d916afaa3c"
   },
   "outputs": [
    {
     "data": {
      "text/plain": [
       "A    0.219596\n",
       "B    0.072499\n",
       "C    0.512523\n",
       "Name: 3, dtype: float64"
      ]
     },
     "execution_count": 48,
     "metadata": {
      "tags": []
     },
     "output_type": "execute_result"
    }
   ],
   "source": [
    "# Get the entire row that contains the minimum value in column A\n",
    "df_numbers.iloc[a_min]"
   ]
  },
  {
   "cell_type": "code",
   "execution_count": 0,
   "metadata": {
    "colab": {
     "base_uri": "https://localhost:8080/",
     "height": 85
    },
    "colab_type": "code",
    "executionInfo": {
     "elapsed": 510,
     "status": "ok",
     "timestamp": 1588202367325,
     "user": {
      "displayName": "Richard Alexander",
      "photoUrl": "https://lh3.googleusercontent.com/a-/AOh14Ghn6F8r3pF0SntsFbxkmhRaWso_lCd_s8ePdlKY_g=s64",
      "userId": "13543676537814105778"
     },
     "user_tz": 300
    },
    "id": "AEbLxh-GK_RG",
    "outputId": "1ea5e607-a0cd-4d82-d346-2447e8efc9e0"
   },
   "outputs": [
    {
     "data": {
      "text/plain": [
       "A    0.736578\n",
       "B    0.834027\n",
       "C    0.672312\n",
       "Name: 0, dtype: float64"
      ]
     },
     "execution_count": 49,
     "metadata": {
      "tags": []
     },
     "output_type": "execute_result"
    }
   ],
   "source": [
    "# Get the entire row that contains the maximum value in column A\n",
    "df_numbers.iloc[a_max]"
   ]
  },
  {
   "cell_type": "markdown",
   "metadata": {
    "colab_type": "text",
    "id": "uFYgDdg2P53C"
   },
   "source": [
    "# Value Counts (Histogram)\n",
    "\n",
    "Pandas Series has a `value_counts` method that calculates a 1D histogram"
   ]
  },
  {
   "cell_type": "code",
   "execution_count": 0,
   "metadata": {
    "colab": {
     "base_uri": "https://localhost:8080/",
     "height": 68
    },
    "colab_type": "code",
    "executionInfo": {
     "elapsed": 642,
     "status": "ok",
     "timestamp": 1588202695255,
     "user": {
      "displayName": "Richard Alexander",
      "photoUrl": "https://lh3.googleusercontent.com/a-/AOh14Ghn6F8r3pF0SntsFbxkmhRaWso_lCd_s8ePdlKY_g=s64",
      "userId": "13543676537814105778"
     },
     "user_tz": 300
    },
    "id": "80VSKGYxPOb0",
    "outputId": "180e2a5e-9082-46d0-c0a5-84f4bd5dc3d1"
   },
   "outputs": [
    {
     "data": {
      "text/plain": [
       "array([5, 5, 1, 2, 5, 6, 3, 6, 0, 5, 6, 3, 4, 6, 0, 5, 2, 2, 3, 5, 1, 2,\n",
       "       3, 5, 5, 2, 4, 6, 5, 4, 5, 6, 1, 5, 6, 3, 3, 4, 0, 3, 3, 6, 0, 5,\n",
       "       4, 5, 5, 2, 2, 0])"
      ]
     },
     "execution_count": 50,
     "metadata": {
      "tags": []
     },
     "output_type": "execute_result"
    }
   ],
   "source": [
    "# Create array data with repeating values\n",
    "data = np.random.randint(0, 7, size=50)\n",
    "data"
   ]
  },
  {
   "cell_type": "code",
   "execution_count": 0,
   "metadata": {
    "colab": {
     "base_uri": "https://localhost:8080/",
     "height": 153
    },
    "colab_type": "code",
    "executionInfo": {
     "elapsed": 483,
     "status": "ok",
     "timestamp": 1588202748505,
     "user": {
      "displayName": "Richard Alexander",
      "photoUrl": "https://lh3.googleusercontent.com/a-/AOh14Ghn6F8r3pF0SntsFbxkmhRaWso_lCd_s8ePdlKY_g=s64",
      "userId": "13543676537814105778"
     },
     "user_tz": 300
    },
    "id": "EXUrmGWgQeeL",
    "outputId": "2782e1f4-b70d-40a8-aba9-24f50ea2649f"
   },
   "outputs": [
    {
     "data": {
      "text/plain": [
       "5    14\n",
       "6     8\n",
       "3     8\n",
       "2     7\n",
       "4     5\n",
       "0     5\n",
       "1     3\n",
       "dtype: int64"
      ]
     },
     "execution_count": 51,
     "metadata": {
      "tags": []
     },
     "output_type": "execute_result"
    }
   ],
   "source": [
    "# Make a series, and caculate the histogram with `value_counts`\n",
    "s = pd.Series(data)\n",
    "s.value_counts()"
   ]
  },
  {
   "cell_type": "markdown",
   "metadata": {
    "colab_type": "text",
    "id": "zxxT1cAHQtc-"
   },
   "source": [
    "Notice that `value_counts` automatically sorts counts from high to low."
   ]
  }
 ],
 "metadata": {
  "colab": {
   "authorship_tag": "ABX9TyP5iGIp3P3z70rhXeaMYyQt",
   "name": "Pandas_2_Statistics.ipynb",
   "provenance": [],
   "toc_visible": true
  },
  "kernelspec": {
   "display_name": "Python 3",
   "language": "python",
   "name": "python3"
  },
  "language_info": {
   "codemirror_mode": {
    "name": "ipython",
    "version": 3
   },
   "file_extension": ".py",
   "mimetype": "text/x-python",
   "name": "python",
   "nbconvert_exporter": "python",
   "pygments_lexer": "ipython3",
   "version": "3.6.10"
  }
 },
 "nbformat": 4,
 "nbformat_minor": 1
}
