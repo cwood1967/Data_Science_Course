{
 "cells": [
  {
   "cell_type": "markdown",
   "metadata": {},
   "source": [
    "# Homework 4:  Concatenation, Merging, String Processing (6,7)"
   ]
  },
  {
   "cell_type": "code",
   "execution_count": 1,
   "metadata": {},
   "outputs": [],
   "source": [
    "import pandas as pd\n",
    "import numpy as np"
   ]
  },
  {
   "cell_type": "raw",
   "metadata": {},
   "source": [
    "pd.Series()\n",
    "df=pd.DataFrame({'A': 1.,\n",
    "                    'B': pd.Timestamp('20130102'),\n",
    "                    'C': pd.Series(1, index=list(range(4)), dtype='float32'),\n",
    "                    'D': np.array([3] * 4, dtype='int32'),\n",
    "                    'E': pd.Categorical([\"test\", \"train\", \"test\", \"train\"]),\n",
    "                    'F': 'foo'})\n",
    "df.T\n",
    "df.index\n",
    "df.columns\n",
    "df.sort_values(by='C')\n",
    "df['A']\n",
    "\n",
    "df.describe(include=['number', 'category', 'all'], percentiles=[.05, .25, .75, .95])\n",
    "df.max(skipna=False)\n",
    "df.min()\n",
    "df.sum()\n",
    "df.mean()\n",
    "df.unique()\n",
    "\n",
    "df.idxmax()\n",
    "df.iloc\n",
    "df.value_counts()\n",
    "\n",
    "df[['A', 'B']]\n",
    "(df['A']>1) & (df['B']>1)\n",
    "df[df['A']>1, 'B']\n",
    "\n",
    "df.loc[df['A']==3.14, 'A']=0\n",
    "df.sort_values(by='A')\n",
    "df.pivot_table(values='Name', aggfunc=np.sum, index='Row', columns='Column')\n",
    "df.melt(id_vars=None, value_vars=None, var_name=None, value_name='value')\n",
    "\n",
    "dfC = pd.concat([dfA,dfB])\n",
    "df = df.merge(dfB, on=[...], left_on=[...], right_on=[...])"
   ]
  },
  {
   "cell_type": "markdown",
   "metadata": {},
   "source": [
    "Some functions we have learned:\n",
    "\n",
    "- pd.Series() \n",
    "- df=pd.DataFrame({'A': 1., 'B': pd.Timestamp('20130102'), 'C': pd.Series(1, index=list(range(4)), dtype='float32'), 'D': np.array([3] * 4, dtype='int32'), 'E': pd.Categorical([\"test\", \"train\", \"test\", \"train\"]), 'F': 'foo'}) \n",
    "- df.T \n",
    "- df.index \n",
    "- df.columns \n",
    "- df.sort_values(by='C') \n",
    "- df['A'] df.describe(include=['number', 'category', 'all'], percentiles=[.05, .25, .75, .95]) \n",
    "- df.max(skipna=False) \n",
    "- df.min() \n",
    "- df.sum() \n",
    "- df.mean() \n",
    "- df.unique() \n",
    "- df.idxmax() \n",
    "- df.iloc \n",
    "- df.value_counts() df[['A', 'B']] \n",
    "- (df['A']>1) & (df['B']>1) \n",
    "- df[df['A']>1, 'B'] \n",
    "- df.loc[df['A']==3.14, 'A']=0 df.sort_values(by='A') \n",
    "- df.pivot_table(values='Name', aggfunc=np.sum, index='Row', columns='Column') \n",
    "- df.melt(id_vars=None, value_vars=None, var_name=None, value_name='value') \n",
    "- dfC = pd.concat([dfA,dfB]) \n",
    "- df = df.merge(dfB, on=[...], left_on=[...], right_on=[...])"
   ]
  },
  {
   "cell_type": "code",
   "execution_count": 2,
   "metadata": {},
   "outputs": [],
   "source": [
    "FileA=pd.read_csv('https://raw.githubusercontent.com/richard-alexander/Data_Science_Course/master/Pandas/Slide_AnalysisA.csv')\n",
    "FileB=pd.read_csv('https://raw.githubusercontent.com/richard-alexander/Data_Science_Course/master/Pandas/Slide_AnalysisB.csv')\n",
    "Mapper=pd.read_csv('https://raw.githubusercontent.com/richard-alexander/Data_Science_Course/master/Pandas/Slide_Mapper.csv')"
   ]
  },
  {
   "cell_type": "code",
   "execution_count": 3,
   "metadata": {},
   "outputs": [
    {
     "output_type": "execute_result",
     "data": {
      "text/plain": "                                              Folder  \\\n0  S:\\micro\\asa\\cgh\\smc\\20200303_3PO_ScreenA\\2020...   \n1  S:\\micro\\asa\\cgh\\smc\\20200303_3PO_ScreenA\\2020...   \n2  S:\\micro\\asa\\cgh\\smc\\20200303_3PO_ScreenA\\2020...   \n3  S:\\micro\\asa\\cgh\\smc\\20200303_3PO_ScreenA\\2020...   \n4  S:\\micro\\asa\\cgh\\smc\\20200303_3PO_ScreenA\\2020...   \n\n                                        File  Spots      Area        DMax  \\\n0  Plate003_Well2_Object2.tif_projection.tif      0  11639576    661.4024   \n1  Plate003_Well1_Object4.tif_projection.tif      1   5042555   2362.7571   \n2  Plate007_Well1_Object2.tif_projection.tif    489   1515167  12584.0840   \n3  Plate003_Well2_Object6.tif_projection.tif      7  10463116   1549.1947   \n4  Plate002_Well4_Object1.tif_projection.tif     31   7595761   2527.1138   \n\n       Dmin  Smax  Smin  Garbage  \n0  110.0419  1819   126      NaN  \n1  125.9414  1969   151      NaN  \n2  141.2762  2509   254      NaN  \n3  127.4712  1848   157      NaN  \n4  111.0442  1887   133      NaN  ",
      "text/html": "<div>\n<style scoped>\n    .dataframe tbody tr th:only-of-type {\n        vertical-align: middle;\n    }\n\n    .dataframe tbody tr th {\n        vertical-align: top;\n    }\n\n    .dataframe thead th {\n        text-align: right;\n    }\n</style>\n<table border=\"1\" class=\"dataframe\">\n  <thead>\n    <tr style=\"text-align: right;\">\n      <th></th>\n      <th>Folder</th>\n      <th>File</th>\n      <th>Spots</th>\n      <th>Area</th>\n      <th>DMax</th>\n      <th>Dmin</th>\n      <th>Smax</th>\n      <th>Smin</th>\n      <th>Garbage</th>\n    </tr>\n  </thead>\n  <tbody>\n    <tr>\n      <th>0</th>\n      <td>S:\\micro\\asa\\cgh\\smc\\20200303_3PO_ScreenA\\2020...</td>\n      <td>Plate003_Well2_Object2.tif_projection.tif</td>\n      <td>0</td>\n      <td>11639576</td>\n      <td>661.4024</td>\n      <td>110.0419</td>\n      <td>1819</td>\n      <td>126</td>\n      <td>NaN</td>\n    </tr>\n    <tr>\n      <th>1</th>\n      <td>S:\\micro\\asa\\cgh\\smc\\20200303_3PO_ScreenA\\2020...</td>\n      <td>Plate003_Well1_Object4.tif_projection.tif</td>\n      <td>1</td>\n      <td>5042555</td>\n      <td>2362.7571</td>\n      <td>125.9414</td>\n      <td>1969</td>\n      <td>151</td>\n      <td>NaN</td>\n    </tr>\n    <tr>\n      <th>2</th>\n      <td>S:\\micro\\asa\\cgh\\smc\\20200303_3PO_ScreenA\\2020...</td>\n      <td>Plate007_Well1_Object2.tif_projection.tif</td>\n      <td>489</td>\n      <td>1515167</td>\n      <td>12584.0840</td>\n      <td>141.2762</td>\n      <td>2509</td>\n      <td>254</td>\n      <td>NaN</td>\n    </tr>\n    <tr>\n      <th>3</th>\n      <td>S:\\micro\\asa\\cgh\\smc\\20200303_3PO_ScreenA\\2020...</td>\n      <td>Plate003_Well2_Object6.tif_projection.tif</td>\n      <td>7</td>\n      <td>10463116</td>\n      <td>1549.1947</td>\n      <td>127.4712</td>\n      <td>1848</td>\n      <td>157</td>\n      <td>NaN</td>\n    </tr>\n    <tr>\n      <th>4</th>\n      <td>S:\\micro\\asa\\cgh\\smc\\20200303_3PO_ScreenA\\2020...</td>\n      <td>Plate002_Well4_Object1.tif_projection.tif</td>\n      <td>31</td>\n      <td>7595761</td>\n      <td>2527.1138</td>\n      <td>111.0442</td>\n      <td>1887</td>\n      <td>133</td>\n      <td>NaN</td>\n    </tr>\n  </tbody>\n</table>\n</div>"
     },
     "metadata": {},
     "execution_count": 3
    }
   ],
   "source": [
    "FileA.head()"
   ]
  },
  {
   "cell_type": "markdown",
   "metadata": {},
   "source": [
    "**Exercise 1:** FileA and FileB are results from the same experiment, concatenate them into a single dataframe Results.  FileA has an extra column \"Garbage\" that we need to get rid of and don't want in our Results dataframe."
   ]
  },
  {
   "cell_type": "code",
   "execution_count": 4,
   "metadata": {},
   "outputs": [
    {
     "output_type": "execute_result",
     "data": {
      "text/plain": "                                              Folder  \\\n0  S:\\micro\\asa\\cgh\\smc\\20200303_3PO_ScreenA\\2020...   \n1  S:\\micro\\asa\\cgh\\smc\\20200303_3PO_ScreenA\\2020...   \n2  S:\\micro\\asa\\cgh\\smc\\20200303_3PO_ScreenA\\2020...   \n3  S:\\micro\\asa\\cgh\\smc\\20200303_3PO_ScreenA\\2020...   \n4  S:\\micro\\asa\\cgh\\smc\\20200303_3PO_ScreenA\\2020...   \n\n                                        File  Spots      Area        DMax  \\\n0  Plate003_Well2_Object2.tif_projection.tif      0  11639576    661.4024   \n1  Plate003_Well1_Object4.tif_projection.tif      1   5042555   2362.7571   \n2  Plate007_Well1_Object2.tif_projection.tif    489   1515167  12584.0840   \n3  Plate003_Well2_Object6.tif_projection.tif      7  10463116   1549.1947   \n4  Plate002_Well4_Object1.tif_projection.tif     31   7595761   2527.1138   \n\n       Dmin  Smax  Smin  \n0  110.0419  1819   126  \n1  125.9414  1969   151  \n2  141.2762  2509   254  \n3  127.4712  1848   157  \n4  111.0442  1887   133  ",
      "text/html": "<div>\n<style scoped>\n    .dataframe tbody tr th:only-of-type {\n        vertical-align: middle;\n    }\n\n    .dataframe tbody tr th {\n        vertical-align: top;\n    }\n\n    .dataframe thead th {\n        text-align: right;\n    }\n</style>\n<table border=\"1\" class=\"dataframe\">\n  <thead>\n    <tr style=\"text-align: right;\">\n      <th></th>\n      <th>Folder</th>\n      <th>File</th>\n      <th>Spots</th>\n      <th>Area</th>\n      <th>DMax</th>\n      <th>Dmin</th>\n      <th>Smax</th>\n      <th>Smin</th>\n    </tr>\n  </thead>\n  <tbody>\n    <tr>\n      <th>0</th>\n      <td>S:\\micro\\asa\\cgh\\smc\\20200303_3PO_ScreenA\\2020...</td>\n      <td>Plate003_Well2_Object2.tif_projection.tif</td>\n      <td>0</td>\n      <td>11639576</td>\n      <td>661.4024</td>\n      <td>110.0419</td>\n      <td>1819</td>\n      <td>126</td>\n    </tr>\n    <tr>\n      <th>1</th>\n      <td>S:\\micro\\asa\\cgh\\smc\\20200303_3PO_ScreenA\\2020...</td>\n      <td>Plate003_Well1_Object4.tif_projection.tif</td>\n      <td>1</td>\n      <td>5042555</td>\n      <td>2362.7571</td>\n      <td>125.9414</td>\n      <td>1969</td>\n      <td>151</td>\n    </tr>\n    <tr>\n      <th>2</th>\n      <td>S:\\micro\\asa\\cgh\\smc\\20200303_3PO_ScreenA\\2020...</td>\n      <td>Plate007_Well1_Object2.tif_projection.tif</td>\n      <td>489</td>\n      <td>1515167</td>\n      <td>12584.0840</td>\n      <td>141.2762</td>\n      <td>2509</td>\n      <td>254</td>\n    </tr>\n    <tr>\n      <th>3</th>\n      <td>S:\\micro\\asa\\cgh\\smc\\20200303_3PO_ScreenA\\2020...</td>\n      <td>Plate003_Well2_Object6.tif_projection.tif</td>\n      <td>7</td>\n      <td>10463116</td>\n      <td>1549.1947</td>\n      <td>127.4712</td>\n      <td>1848</td>\n      <td>157</td>\n    </tr>\n    <tr>\n      <th>4</th>\n      <td>S:\\micro\\asa\\cgh\\smc\\20200303_3PO_ScreenA\\2020...</td>\n      <td>Plate002_Well4_Object1.tif_projection.tif</td>\n      <td>31</td>\n      <td>7595761</td>\n      <td>2527.1138</td>\n      <td>111.0442</td>\n      <td>1887</td>\n      <td>133</td>\n    </tr>\n  </tbody>\n</table>\n</div>"
     },
     "metadata": {},
     "execution_count": 4
    }
   ],
   "source": [
    "Results=pd.concat([FileA.iloc[:,0:-1], FileB])\n",
    "Results.head()"
   ]
  },
  {
   "cell_type": "markdown",
   "metadata": {},
   "source": [
    "**Exercise 2:**  Results['File'] contains the Plate and Well that the data was taken from.  We need to use split() and indexing to get those numbers out and put into new columns:  Results['Plate'] and Results['Well']"
   ]
  },
  {
   "cell_type": "code",
   "execution_count": 12,
   "metadata": {},
   "outputs": [
    {
     "output_type": "execute_result",
     "data": {
      "text/plain": "                                              Folder  \\\n0  S:\\micro\\asa\\cgh\\smc\\20200303_3PO_ScreenA\\2020...   \n1  S:\\micro\\asa\\cgh\\smc\\20200303_3PO_ScreenA\\2020...   \n2  S:\\micro\\asa\\cgh\\smc\\20200303_3PO_ScreenA\\2020...   \n3  S:\\micro\\asa\\cgh\\smc\\20200303_3PO_ScreenA\\2020...   \n4  S:\\micro\\asa\\cgh\\smc\\20200303_3PO_ScreenA\\2020...   \n\n                                        File  Spots      Area        DMax  \\\n0  Plate003_Well2_Object2.tif_projection.tif      0  11639576    661.4024   \n1  Plate003_Well1_Object4.tif_projection.tif      1   5042555   2362.7571   \n2  Plate007_Well1_Object2.tif_projection.tif    489   1515167  12584.0840   \n3  Plate003_Well2_Object6.tif_projection.tif      7  10463116   1549.1947   \n4  Plate002_Well4_Object1.tif_projection.tif     31   7595761   2527.1138   \n\n       Dmin  Smax  Smin Plate Well  \n0  110.0419  1819   126   003    2  \n1  125.9414  1969   151   003    1  \n2  141.2762  2509   254   007    1  \n3  127.4712  1848   157   003    2  \n4  111.0442  1887   133   002    4  ",
      "text/html": "<div>\n<style scoped>\n    .dataframe tbody tr th:only-of-type {\n        vertical-align: middle;\n    }\n\n    .dataframe tbody tr th {\n        vertical-align: top;\n    }\n\n    .dataframe thead th {\n        text-align: right;\n    }\n</style>\n<table border=\"1\" class=\"dataframe\">\n  <thead>\n    <tr style=\"text-align: right;\">\n      <th></th>\n      <th>Folder</th>\n      <th>File</th>\n      <th>Spots</th>\n      <th>Area</th>\n      <th>DMax</th>\n      <th>Dmin</th>\n      <th>Smax</th>\n      <th>Smin</th>\n      <th>Plate</th>\n      <th>Well</th>\n    </tr>\n  </thead>\n  <tbody>\n    <tr>\n      <th>0</th>\n      <td>S:\\micro\\asa\\cgh\\smc\\20200303_3PO_ScreenA\\2020...</td>\n      <td>Plate003_Well2_Object2.tif_projection.tif</td>\n      <td>0</td>\n      <td>11639576</td>\n      <td>661.4024</td>\n      <td>110.0419</td>\n      <td>1819</td>\n      <td>126</td>\n      <td>003</td>\n      <td>2</td>\n    </tr>\n    <tr>\n      <th>1</th>\n      <td>S:\\micro\\asa\\cgh\\smc\\20200303_3PO_ScreenA\\2020...</td>\n      <td>Plate003_Well1_Object4.tif_projection.tif</td>\n      <td>1</td>\n      <td>5042555</td>\n      <td>2362.7571</td>\n      <td>125.9414</td>\n      <td>1969</td>\n      <td>151</td>\n      <td>003</td>\n      <td>1</td>\n    </tr>\n    <tr>\n      <th>2</th>\n      <td>S:\\micro\\asa\\cgh\\smc\\20200303_3PO_ScreenA\\2020...</td>\n      <td>Plate007_Well1_Object2.tif_projection.tif</td>\n      <td>489</td>\n      <td>1515167</td>\n      <td>12584.0840</td>\n      <td>141.2762</td>\n      <td>2509</td>\n      <td>254</td>\n      <td>007</td>\n      <td>1</td>\n    </tr>\n    <tr>\n      <th>3</th>\n      <td>S:\\micro\\asa\\cgh\\smc\\20200303_3PO_ScreenA\\2020...</td>\n      <td>Plate003_Well2_Object6.tif_projection.tif</td>\n      <td>7</td>\n      <td>10463116</td>\n      <td>1549.1947</td>\n      <td>127.4712</td>\n      <td>1848</td>\n      <td>157</td>\n      <td>003</td>\n      <td>2</td>\n    </tr>\n    <tr>\n      <th>4</th>\n      <td>S:\\micro\\asa\\cgh\\smc\\20200303_3PO_ScreenA\\2020...</td>\n      <td>Plate002_Well4_Object1.tif_projection.tif</td>\n      <td>31</td>\n      <td>7595761</td>\n      <td>2527.1138</td>\n      <td>111.0442</td>\n      <td>1887</td>\n      <td>133</td>\n      <td>002</td>\n      <td>4</td>\n    </tr>\n  </tbody>\n</table>\n</div>"
     },
     "metadata": {},
     "execution_count": 12
    }
   ],
   "source": [
    "Results['Plate']=Results['File'].str.split('_').str[0].str[-3:]\n",
    "Results['Well']=Results['File'].str.split('_').str[1].str[-1:]\n",
    "Results.head()"
   ]
  },
  {
   "cell_type": "markdown",
   "metadata": {},
   "source": [
    "Later on it will be important that Results['Plate'] and Results['Well'] are integers and not strings, this code will make sure that is the case.  \n",
    "DO NOT DELETE THIS CODE"
   ]
  },
  {
   "cell_type": "code",
   "execution_count": 13,
   "metadata": {},
   "outputs": [],
   "source": [
    "# DO NOT DELETE\n",
    "# RUN THIS CELL\n",
    "Results['Plate']=Results['Plate'].astype(int)\n",
    "Results['Well']=Results['Well'].astype(int)"
   ]
  },
  {
   "cell_type": "markdown",
   "metadata": {},
   "source": [
    "Now let's have a look at Mapper."
   ]
  },
  {
   "cell_type": "code",
   "execution_count": 7,
   "metadata": {},
   "outputs": [
    {
     "output_type": "execute_result",
     "data": {
      "text/plain": "  Slide no. Drug Time point  Plate no.  Well no.\n0    Slide1  NAC       0dpa          5         1\n1    Slide2  NAC     0.3dpa          5         2\n2    Slide3  NAC       1dpa          5         3\n3    Slide4  NAC       2dpa          5         4\n4    Slide5  NAC       4dpa          6         1",
      "text/html": "<div>\n<style scoped>\n    .dataframe tbody tr th:only-of-type {\n        vertical-align: middle;\n    }\n\n    .dataframe tbody tr th {\n        vertical-align: top;\n    }\n\n    .dataframe thead th {\n        text-align: right;\n    }\n</style>\n<table border=\"1\" class=\"dataframe\">\n  <thead>\n    <tr style=\"text-align: right;\">\n      <th></th>\n      <th>Slide no.</th>\n      <th>Drug</th>\n      <th>Time point</th>\n      <th>Plate no.</th>\n      <th>Well no.</th>\n    </tr>\n  </thead>\n  <tbody>\n    <tr>\n      <th>0</th>\n      <td>Slide1</td>\n      <td>NAC</td>\n      <td>0dpa</td>\n      <td>5</td>\n      <td>1</td>\n    </tr>\n    <tr>\n      <th>1</th>\n      <td>Slide2</td>\n      <td>NAC</td>\n      <td>0.3dpa</td>\n      <td>5</td>\n      <td>2</td>\n    </tr>\n    <tr>\n      <th>2</th>\n      <td>Slide3</td>\n      <td>NAC</td>\n      <td>1dpa</td>\n      <td>5</td>\n      <td>3</td>\n    </tr>\n    <tr>\n      <th>3</th>\n      <td>Slide4</td>\n      <td>NAC</td>\n      <td>2dpa</td>\n      <td>5</td>\n      <td>4</td>\n    </tr>\n    <tr>\n      <th>4</th>\n      <td>Slide5</td>\n      <td>NAC</td>\n      <td>4dpa</td>\n      <td>6</td>\n      <td>1</td>\n    </tr>\n  </tbody>\n</table>\n</div>"
     },
     "metadata": {},
     "execution_count": 7
    }
   ],
   "source": [
    "Mapper.head()"
   ]
  },
  {
   "cell_type": "markdown",
   "metadata": {},
   "source": [
    "Mapper contains a mapping of well/plate to the actual biological info:  the drug and the time point."
   ]
  },
  {
   "cell_type": "markdown",
   "metadata": {},
   "source": [
    "**Exercise 3:**  Merge Results and Mapper into a new dataframe called LabeledResults.  Note that we need to merge on two columns (Plate and Well) and that their naming is slightly different in Results and Mapper."
   ]
  },
  {
   "cell_type": "code",
   "execution_count": 8,
   "metadata": {},
   "outputs": [
    {
     "output_type": "execute_result",
     "data": {
      "text/plain": "                                              Folder  \\\n0  S:\\micro\\asa\\cgh\\smc\\20200303_3PO_ScreenA\\2020...   \n1  S:\\micro\\asa\\cgh\\smc\\20200303_3PO_ScreenA\\2020...   \n2  S:\\micro\\asa\\cgh\\smc\\20200303_3PO_ScreenA\\2020...   \n3  S:\\micro\\asa\\cgh\\smc\\20200303_3PO_ScreenA\\2020...   \n4  S:\\micro\\asa\\cgh\\smc\\20200303_3PO_ScreenA\\2020...   \n\n                                        File  Spots      Area        DMax  \\\n0  Plate007_Well1_Object2.tif_projection.tif    489   1515167  12584.0840   \n1  Plate007_Well1_Object0.tif_projection.tif      0  16488282    826.4921   \n2  Plate007_Well1_Object1.tif_projection.tif    606   1550072  11813.2969   \n3  Plate007_Well1_Object5.tif_projection.tif    475   1255413  10181.5420   \n4  Plate007_Well1_Object4.tif_projection.tif    496   1691192   8576.3564   \n\n       Dmin   Smax  Smin  Plate  Well Slide no. Drug Time point  Plate no.  \\\n0  141.2762   2509   254      7     1   Slide 9   CA       1dpa          7   \n1  113.8177  31403   127      7     1   Slide 9   CA       1dpa          7   \n2  134.8333   2696   188      7     1   Slide 9   CA       1dpa          7   \n3  115.6606   3427   154      7     1   Slide 9   CA       1dpa          7   \n4  117.4974   3882   195      7     1   Slide 9   CA       1dpa          7   \n\n   Well no.  \n0         1  \n1         1  \n2         1  \n3         1  \n4         1  ",
      "text/html": "<div>\n<style scoped>\n    .dataframe tbody tr th:only-of-type {\n        vertical-align: middle;\n    }\n\n    .dataframe tbody tr th {\n        vertical-align: top;\n    }\n\n    .dataframe thead th {\n        text-align: right;\n    }\n</style>\n<table border=\"1\" class=\"dataframe\">\n  <thead>\n    <tr style=\"text-align: right;\">\n      <th></th>\n      <th>Folder</th>\n      <th>File</th>\n      <th>Spots</th>\n      <th>Area</th>\n      <th>DMax</th>\n      <th>Dmin</th>\n      <th>Smax</th>\n      <th>Smin</th>\n      <th>Plate</th>\n      <th>Well</th>\n      <th>Slide no.</th>\n      <th>Drug</th>\n      <th>Time point</th>\n      <th>Plate no.</th>\n      <th>Well no.</th>\n    </tr>\n  </thead>\n  <tbody>\n    <tr>\n      <th>0</th>\n      <td>S:\\micro\\asa\\cgh\\smc\\20200303_3PO_ScreenA\\2020...</td>\n      <td>Plate007_Well1_Object2.tif_projection.tif</td>\n      <td>489</td>\n      <td>1515167</td>\n      <td>12584.0840</td>\n      <td>141.2762</td>\n      <td>2509</td>\n      <td>254</td>\n      <td>7</td>\n      <td>1</td>\n      <td>Slide 9</td>\n      <td>CA</td>\n      <td>1dpa</td>\n      <td>7</td>\n      <td>1</td>\n    </tr>\n    <tr>\n      <th>1</th>\n      <td>S:\\micro\\asa\\cgh\\smc\\20200303_3PO_ScreenA\\2020...</td>\n      <td>Plate007_Well1_Object0.tif_projection.tif</td>\n      <td>0</td>\n      <td>16488282</td>\n      <td>826.4921</td>\n      <td>113.8177</td>\n      <td>31403</td>\n      <td>127</td>\n      <td>7</td>\n      <td>1</td>\n      <td>Slide 9</td>\n      <td>CA</td>\n      <td>1dpa</td>\n      <td>7</td>\n      <td>1</td>\n    </tr>\n    <tr>\n      <th>2</th>\n      <td>S:\\micro\\asa\\cgh\\smc\\20200303_3PO_ScreenA\\2020...</td>\n      <td>Plate007_Well1_Object1.tif_projection.tif</td>\n      <td>606</td>\n      <td>1550072</td>\n      <td>11813.2969</td>\n      <td>134.8333</td>\n      <td>2696</td>\n      <td>188</td>\n      <td>7</td>\n      <td>1</td>\n      <td>Slide 9</td>\n      <td>CA</td>\n      <td>1dpa</td>\n      <td>7</td>\n      <td>1</td>\n    </tr>\n    <tr>\n      <th>3</th>\n      <td>S:\\micro\\asa\\cgh\\smc\\20200303_3PO_ScreenA\\2020...</td>\n      <td>Plate007_Well1_Object5.tif_projection.tif</td>\n      <td>475</td>\n      <td>1255413</td>\n      <td>10181.5420</td>\n      <td>115.6606</td>\n      <td>3427</td>\n      <td>154</td>\n      <td>7</td>\n      <td>1</td>\n      <td>Slide 9</td>\n      <td>CA</td>\n      <td>1dpa</td>\n      <td>7</td>\n      <td>1</td>\n    </tr>\n    <tr>\n      <th>4</th>\n      <td>S:\\micro\\asa\\cgh\\smc\\20200303_3PO_ScreenA\\2020...</td>\n      <td>Plate007_Well1_Object4.tif_projection.tif</td>\n      <td>496</td>\n      <td>1691192</td>\n      <td>8576.3564</td>\n      <td>117.4974</td>\n      <td>3882</td>\n      <td>195</td>\n      <td>7</td>\n      <td>1</td>\n      <td>Slide 9</td>\n      <td>CA</td>\n      <td>1dpa</td>\n      <td>7</td>\n      <td>1</td>\n    </tr>\n  </tbody>\n</table>\n</div>"
     },
     "metadata": {},
     "execution_count": 8
    }
   ],
   "source": [
    "LabeledResults = Results.merge(Mapper, left_on=['Plate', 'Well'], right_on=['Plate no.', 'Well no.'])\n",
    "LabeledResults.head()"
   ]
  },
  {
   "cell_type": "markdown",
   "metadata": {},
   "source": [
    "**Exercise 4:**  For this experiment, we are interested in the spots per unit area.  Make a new column in LabeledResults called 'Density' that calculates that value, multiplied by 10000 for convenience."
   ]
  },
  {
   "cell_type": "code",
   "execution_count": 9,
   "metadata": {},
   "outputs": [],
   "source": [
    "LabeledResults['Density']=LabeledResults['Spots']/LabeledResults['Area']*10000"
   ]
  },
  {
   "cell_type": "markdown",
   "metadata": {},
   "source": [
    "**Exercise 5:**  There are multiple Density measurements for each Drug/Time combination, aggregate their mean into a new table (Means) using pivot_table.  Make the time points the rows and the drug the columns."
   ]
  },
  {
   "cell_type": "code",
   "execution_count": 10,
   "metadata": {},
   "outputs": [],
   "source": [
    "Means=LabeledResults.pivot_table(index='Time point', columns='Drug', values='Density', aggfunc=np.mean)"
   ]
  },
  {
   "cell_type": "markdown",
   "metadata": {},
   "source": [
    "**Exercise 6:**  Unfortunately this does not order things properly in the Time points, look up .reindex or find another solution for fixing that so that the time points go 0, 0.3, 1, 2, 4, 8."
   ]
  },
  {
   "cell_type": "code",
   "execution_count": 11,
   "metadata": {},
   "outputs": [
    {
     "output_type": "execute_result",
     "data": {
      "text/plain": "Drug              CA       NAC\nTime point                    \n0dpa        0.602860  0.040892\n0.3dpa      1.826190  0.184921\n1dpa        2.824780  0.418614\n2dpa        3.044227  3.386241\n4dpa        2.398182  0.733109\n8dpa        1.170609  0.105387",
      "text/html": "<div>\n<style scoped>\n    .dataframe tbody tr th:only-of-type {\n        vertical-align: middle;\n    }\n\n    .dataframe tbody tr th {\n        vertical-align: top;\n    }\n\n    .dataframe thead th {\n        text-align: right;\n    }\n</style>\n<table border=\"1\" class=\"dataframe\">\n  <thead>\n    <tr style=\"text-align: right;\">\n      <th>Drug</th>\n      <th>CA</th>\n      <th>NAC</th>\n    </tr>\n    <tr>\n      <th>Time point</th>\n      <th></th>\n      <th></th>\n    </tr>\n  </thead>\n  <tbody>\n    <tr>\n      <th>0dpa</th>\n      <td>0.602860</td>\n      <td>0.040892</td>\n    </tr>\n    <tr>\n      <th>0.3dpa</th>\n      <td>1.826190</td>\n      <td>0.184921</td>\n    </tr>\n    <tr>\n      <th>1dpa</th>\n      <td>2.824780</td>\n      <td>0.418614</td>\n    </tr>\n    <tr>\n      <th>2dpa</th>\n      <td>3.044227</td>\n      <td>3.386241</td>\n    </tr>\n    <tr>\n      <th>4dpa</th>\n      <td>2.398182</td>\n      <td>0.733109</td>\n    </tr>\n    <tr>\n      <th>8dpa</th>\n      <td>1.170609</td>\n      <td>0.105387</td>\n    </tr>\n  </tbody>\n</table>\n</div>"
     },
     "metadata": {},
     "execution_count": 11
    }
   ],
   "source": [
    "Means.reindex(['0dpa', '0.3dpa', '1dpa', '2dpa', '4dpa', '8dpa'])"
   ]
  },
  {
   "cell_type": "code",
   "execution_count": null,
   "metadata": {},
   "outputs": [],
   "source": []
  }
 ],
 "metadata": {
  "kernelspec": {
   "display_name": "Python 3",
   "language": "python",
   "name": "python3"
  },
  "language_info": {
   "codemirror_mode": {
    "name": "ipython",
    "version": 3
   },
   "file_extension": ".py",
   "mimetype": "text/x-python",
   "name": "python",
   "nbconvert_exporter": "python",
   "pygments_lexer": "ipython3",
   "version": "3.6.10"
  }
 },
 "nbformat": 4,
 "nbformat_minor": 4
}