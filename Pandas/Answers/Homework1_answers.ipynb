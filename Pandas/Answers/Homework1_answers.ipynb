{
 "cells": [
  {
   "cell_type": "markdown",
   "metadata": {},
   "source": [
    "# Homework 1: Construction, structures and simple statistics (0,1,2)"
   ]
  },
  {
   "cell_type": "code",
   "execution_count": 1,
   "metadata": {},
   "outputs": [],
   "source": [
    "import pandas as pd\n",
    "import numpy as np"
   ]
  },
  {
   "cell_type": "markdown",
   "metadata": {},
   "source": [
    "Some functions we have covered\n",
    "\n",
    "- pd.Series() \n",
    "- df=pd.DataFrame({'A': 1., 'B': pd.Timestamp('20130102'), 'C': pd.Series(1, index=list(range(4)), dtype='float32'), 'D': np.array([3] * 4, dtype='int32'), 'E': pd.Categorical([\"test\", \"train\", \"test\", \"train\"]), 'F': 'foo'})\n",
    "- df.T \n",
    "- df.index \n",
    "- df.columns \n",
    "- df.sort_values(by='C') \n",
    "- df['A'] \n",
    "- df.describe(include=['number', 'category', 'all'], percentiles=[.05, .25, .75, .95]) \n",
    "- df.max(skipna=False) \n",
    "- df.min() \n",
    "- df.sum() \n",
    "- df.mean() \n",
    "- df.unique() \n",
    "- df.idxmax() \n",
    "- df.iloc \n",
    "- df.value_counts()"
   ]
  },
  {
   "cell_type": "raw",
   "metadata": {},
   "source": [
    "pd.Series()\n",
    "df=pd.DataFrame({'A': 1.,\n",
    "                    'B': pd.Timestamp('20130102'),\n",
    "                    'C': pd.Series(1, index=list(range(4)), dtype='float32'),\n",
    "                    'D': np.array([3] * 4, dtype='int32'),\n",
    "                    'E': pd.Categorical([\"test\", \"train\", \"test\", \"train\"]),\n",
    "                    'F': 'foo'})\n",
    "df.T\n",
    "df.index\n",
    "df.columns\n",
    "df.sort_values(by='C')\n",
    "df['A']\n",
    "\n",
    "df.describe(include=['number', 'category', 'all'], percentiles=[.05, .25, .75, .95])\n",
    "df.max(skipna=False)\n",
    "df.min()\n",
    "df.sum()\n",
    "df.mean()\n",
    "df.unique()\n",
    "\n",
    "df.idxmax()\n",
    "df.iloc\n",
    "df.value_counts()\n"
   ]
  },
  {
   "cell_type": "markdown",
   "metadata": {},
   "source": [
    "# Constructing the dataset"
   ]
  },
  {
   "cell_type": "markdown",
   "metadata": {},
   "source": [
    "**Exercise 1:  Create 4 Series**  \n",
    "Create a series with 100 entries called Norm1 that has random values that are normally distributed with mean 0 and standard deviation 4.  \n",
    "Create a second series with 100 entries called Norm2 that has random values that are normally distributed with mean 3 and standard deviation 2.  \n",
    "Create a third series with 100 entries called Conditions that has either 'WT' or 'mut', randomly chosen.\n",
    "np.random.choice() can accomplish something like this.  \n",
    "Create a fourth series with 100 entries called Counts that has a poisson distribution, lambda=5."
   ]
  },
  {
   "cell_type": "code",
   "execution_count": 2,
   "metadata": {},
   "outputs": [
    {
     "output_type": "execute_result",
     "data": {
      "text/plain": "0     -1.715169\n1     -3.772064\n2      2.576749\n3      1.081432\n4     -3.491432\n        ...    \n95   -11.852746\n96    -2.793496\n97    -2.262294\n98    -3.872895\n99    -1.395072\nLength: 100, dtype: float64"
     },
     "metadata": {},
     "execution_count": 2
    }
   ],
   "source": [
    "Norm1 = pd.Series(np.random.normal(0, 4, 100))\n",
    "Norm1"
   ]
  },
  {
   "cell_type": "code",
   "execution_count": 3,
   "metadata": {},
   "outputs": [
    {
     "output_type": "execute_result",
     "data": {
      "text/plain": "0     3.113903\n1    -0.492912\n2     0.643590\n3     3.518214\n4     6.134270\n        ...   \n95    8.728064\n96    0.798693\n97    2.791830\n98    4.200515\n99    0.214364\nLength: 100, dtype: float64"
     },
     "metadata": {},
     "execution_count": 3
    }
   ],
   "source": [
    "Norm2 = pd.Series(np.random.normal(3,2,100))\n",
    "Norm2"
   ]
  },
  {
   "cell_type": "code",
   "execution_count": 4,
   "metadata": {},
   "outputs": [
    {
     "output_type": "execute_result",
     "data": {
      "text/plain": "[WT, mut, mut, mut, WT, ..., WT, WT, mut, WT, WT]\nLength: 100\nCategories (2, object): [WT, mut]"
     },
     "metadata": {},
     "execution_count": 4
    }
   ],
   "source": [
    "Conditions = pd.Categorical(pd.Series(np.random.choice(['WT', 'mut'], size=100)))\n",
    "Conditions"
   ]
  },
  {
   "cell_type": "code",
   "execution_count": 5,
   "metadata": {},
   "outputs": [
    {
     "output_type": "execute_result",
     "data": {
      "text/plain": "array([ 6,  6,  5,  4,  6,  3,  4,  5,  5,  7,  5,  4,  5,  7,  7,  7,  3,\n        5,  7,  6,  6,  4,  2,  9,  7,  4,  3,  3,  3,  8,  2,  5,  1,  9,\n        3,  7,  4,  6,  6,  6,  4,  4,  2,  7,  5,  5,  8,  3,  6,  7,  5,\n        5,  7,  3,  4,  6,  7,  2,  3,  4,  9,  6,  1,  5,  6,  1,  5,  2,\n        4,  9,  4,  6,  4,  3,  5,  5,  6,  4,  3,  1,  2,  3,  2,  8,  5,\n       10,  3,  6,  3,  5,  2,  2,  6,  8,  5,  5,  1,  2,  5,  0])"
     },
     "metadata": {},
     "execution_count": 5
    }
   ],
   "source": [
    "Counts=np.random.poisson(5,100)\n",
    "Counts"
   ]
  },
  {
   "cell_type": "markdown",
   "metadata": {},
   "source": [
    "**Exercise 2:  Combine these into a Dataframe called df**"
   ]
  },
  {
   "cell_type": "code",
   "execution_count": 6,
   "metadata": {},
   "outputs": [
    {
     "output_type": "execute_result",
     "data": {
      "text/plain": "      Norm1     Norm2 Conditions  Counts\n0 -1.715169  3.113903         WT       6\n1 -3.772064 -0.492912        mut       6\n2  2.576749  0.643590        mut       5\n3  1.081432  3.518214        mut       4\n4 -3.491432  6.134270         WT       6",
      "text/html": "<div>\n<style scoped>\n    .dataframe tbody tr th:only-of-type {\n        vertical-align: middle;\n    }\n\n    .dataframe tbody tr th {\n        vertical-align: top;\n    }\n\n    .dataframe thead th {\n        text-align: right;\n    }\n</style>\n<table border=\"1\" class=\"dataframe\">\n  <thead>\n    <tr style=\"text-align: right;\">\n      <th></th>\n      <th>Norm1</th>\n      <th>Norm2</th>\n      <th>Conditions</th>\n      <th>Counts</th>\n    </tr>\n  </thead>\n  <tbody>\n    <tr>\n      <th>0</th>\n      <td>-1.715169</td>\n      <td>3.113903</td>\n      <td>WT</td>\n      <td>6</td>\n    </tr>\n    <tr>\n      <th>1</th>\n      <td>-3.772064</td>\n      <td>-0.492912</td>\n      <td>mut</td>\n      <td>6</td>\n    </tr>\n    <tr>\n      <th>2</th>\n      <td>2.576749</td>\n      <td>0.643590</td>\n      <td>mut</td>\n      <td>5</td>\n    </tr>\n    <tr>\n      <th>3</th>\n      <td>1.081432</td>\n      <td>3.518214</td>\n      <td>mut</td>\n      <td>4</td>\n    </tr>\n    <tr>\n      <th>4</th>\n      <td>-3.491432</td>\n      <td>6.134270</td>\n      <td>WT</td>\n      <td>6</td>\n    </tr>\n  </tbody>\n</table>\n</div>"
     },
     "metadata": {},
     "execution_count": 6
    }
   ],
   "source": [
    "df=pd.DataFrame({'Norm1':Norm1, 'Norm2':Norm2, 'Conditions':Conditions, 'Counts':Counts})\n",
    "df.head()"
   ]
  },
  {
   "cell_type": "markdown",
   "metadata": {},
   "source": [
    "# Statistics on the dataset"
   ]
  },
  {
   "cell_type": "markdown",
   "metadata": {},
   "source": [
    "The mean/stdev of Norm1 should be 0/4.  The mean/stdev of Norm2 should be 3/2.  \n",
    "\n",
    "**Question 1:  How far off are these from our dataframe?**"
   ]
  },
  {
   "cell_type": "code",
   "execution_count": 7,
   "metadata": {},
   "outputs": [
    {
     "output_type": "execute_result",
     "data": {
      "text/plain": "             Norm1       Norm2 Conditions      Counts\ncount   100.000000  100.000000        100  100.000000\nunique         NaN         NaN          2         NaN\ntop            NaN         NaN         WT         NaN\nfreq           NaN         NaN         51         NaN\nmean     -0.111468    2.838202        NaN    4.740000\nstd       3.998453    2.312125        NaN    2.115933\nmin     -11.852746   -2.592556        NaN    0.000000\n25%      -2.860259    1.413833        NaN    3.000000\n50%       0.161762    2.831394        NaN    5.000000\n75%       2.778385    4.208645        NaN    6.000000\nmax       7.683296    8.728064        NaN   10.000000",
      "text/html": "<div>\n<style scoped>\n    .dataframe tbody tr th:only-of-type {\n        vertical-align: middle;\n    }\n\n    .dataframe tbody tr th {\n        vertical-align: top;\n    }\n\n    .dataframe thead th {\n        text-align: right;\n    }\n</style>\n<table border=\"1\" class=\"dataframe\">\n  <thead>\n    <tr style=\"text-align: right;\">\n      <th></th>\n      <th>Norm1</th>\n      <th>Norm2</th>\n      <th>Conditions</th>\n      <th>Counts</th>\n    </tr>\n  </thead>\n  <tbody>\n    <tr>\n      <th>count</th>\n      <td>100.000000</td>\n      <td>100.000000</td>\n      <td>100</td>\n      <td>100.000000</td>\n    </tr>\n    <tr>\n      <th>unique</th>\n      <td>NaN</td>\n      <td>NaN</td>\n      <td>2</td>\n      <td>NaN</td>\n    </tr>\n    <tr>\n      <th>top</th>\n      <td>NaN</td>\n      <td>NaN</td>\n      <td>WT</td>\n      <td>NaN</td>\n    </tr>\n    <tr>\n      <th>freq</th>\n      <td>NaN</td>\n      <td>NaN</td>\n      <td>51</td>\n      <td>NaN</td>\n    </tr>\n    <tr>\n      <th>mean</th>\n      <td>-0.111468</td>\n      <td>2.838202</td>\n      <td>NaN</td>\n      <td>4.740000</td>\n    </tr>\n    <tr>\n      <th>std</th>\n      <td>3.998453</td>\n      <td>2.312125</td>\n      <td>NaN</td>\n      <td>2.115933</td>\n    </tr>\n    <tr>\n      <th>min</th>\n      <td>-11.852746</td>\n      <td>-2.592556</td>\n      <td>NaN</td>\n      <td>0.000000</td>\n    </tr>\n    <tr>\n      <th>25%</th>\n      <td>-2.860259</td>\n      <td>1.413833</td>\n      <td>NaN</td>\n      <td>3.000000</td>\n    </tr>\n    <tr>\n      <th>50%</th>\n      <td>0.161762</td>\n      <td>2.831394</td>\n      <td>NaN</td>\n      <td>5.000000</td>\n    </tr>\n    <tr>\n      <th>75%</th>\n      <td>2.778385</td>\n      <td>4.208645</td>\n      <td>NaN</td>\n      <td>6.000000</td>\n    </tr>\n    <tr>\n      <th>max</th>\n      <td>7.683296</td>\n      <td>8.728064</td>\n      <td>NaN</td>\n      <td>10.000000</td>\n    </tr>\n  </tbody>\n</table>\n</div>"
     },
     "metadata": {},
     "execution_count": 7
    }
   ],
   "source": [
    "df.describe(include='all')"
   ]
  },
  {
   "cell_type": "markdown",
   "metadata": {},
   "source": [
    "**Question 2:  What Condition is the entry with the highest Norm1 value?**  \n",
    "You can use sort_values or iloc/idxmax to accomplish this."
   ]
  },
  {
   "cell_type": "code",
   "execution_count": 8,
   "metadata": {},
   "outputs": [
    {
     "output_type": "execute_result",
     "data": {
      "text/plain": "Norm1          7.6833\nNorm2         2.81644\nConditions         WT\nCounts              9\nName: 33, dtype: object"
     },
     "metadata": {},
     "execution_count": 8
    }
   ],
   "source": [
    "df.iloc[df['Norm1'].idxmax()]"
   ]
  },
  {
   "cell_type": "code",
   "execution_count": 9,
   "metadata": {},
   "outputs": [
    {
     "output_type": "execute_result",
     "data": {
      "text/plain": "        Norm1     Norm2 Conditions  Counts\n33   7.683296  2.816443         WT       9\n65   7.462434  2.231428        mut       1\n70   7.148583  0.538604         WT       4\n35   6.678654 -1.455495         WT       7\n89   6.471939  5.669827         WT       5\n..        ...       ...        ...     ...\n67  -6.734791 -0.865765        mut       2\n13  -6.735303  3.856574        mut       7\n16  -6.950979 -0.152023         WT       3\n26  -9.908349  5.914119         WT       3\n95 -11.852746  8.728064         WT       5\n\n[100 rows x 4 columns]",
      "text/html": "<div>\n<style scoped>\n    .dataframe tbody tr th:only-of-type {\n        vertical-align: middle;\n    }\n\n    .dataframe tbody tr th {\n        vertical-align: top;\n    }\n\n    .dataframe thead th {\n        text-align: right;\n    }\n</style>\n<table border=\"1\" class=\"dataframe\">\n  <thead>\n    <tr style=\"text-align: right;\">\n      <th></th>\n      <th>Norm1</th>\n      <th>Norm2</th>\n      <th>Conditions</th>\n      <th>Counts</th>\n    </tr>\n  </thead>\n  <tbody>\n    <tr>\n      <th>33</th>\n      <td>7.683296</td>\n      <td>2.816443</td>\n      <td>WT</td>\n      <td>9</td>\n    </tr>\n    <tr>\n      <th>65</th>\n      <td>7.462434</td>\n      <td>2.231428</td>\n      <td>mut</td>\n      <td>1</td>\n    </tr>\n    <tr>\n      <th>70</th>\n      <td>7.148583</td>\n      <td>0.538604</td>\n      <td>WT</td>\n      <td>4</td>\n    </tr>\n    <tr>\n      <th>35</th>\n      <td>6.678654</td>\n      <td>-1.455495</td>\n      <td>WT</td>\n      <td>7</td>\n    </tr>\n    <tr>\n      <th>89</th>\n      <td>6.471939</td>\n      <td>5.669827</td>\n      <td>WT</td>\n      <td>5</td>\n    </tr>\n    <tr>\n      <th>80</th>\n      <td>6.274475</td>\n      <td>1.442589</td>\n      <td>WT</td>\n      <td>2</td>\n    </tr>\n    <tr>\n      <th>19</th>\n      <td>5.732237</td>\n      <td>5.137042</td>\n      <td>WT</td>\n      <td>6</td>\n    </tr>\n    <tr>\n      <th>91</th>\n      <td>5.596400</td>\n      <td>3.959164</td>\n      <td>WT</td>\n      <td>2</td>\n    </tr>\n    <tr>\n      <th>7</th>\n      <td>5.315438</td>\n      <td>2.846345</td>\n      <td>mut</td>\n      <td>5</td>\n    </tr>\n    <tr>\n      <th>75</th>\n      <td>4.966853</td>\n      <td>-0.656030</td>\n      <td>WT</td>\n      <td>5</td>\n    </tr>\n    <tr>\n      <th>40</th>\n      <td>4.924683</td>\n      <td>8.124204</td>\n      <td>mut</td>\n      <td>4</td>\n    </tr>\n    <tr>\n      <th>73</th>\n      <td>4.631368</td>\n      <td>-1.954164</td>\n      <td>mut</td>\n      <td>3</td>\n    </tr>\n    <tr>\n      <th>15</th>\n      <td>4.590080</td>\n      <td>6.061936</td>\n      <td>mut</td>\n      <td>7</td>\n    </tr>\n    <tr>\n      <th>66</th>\n      <td>4.466211</td>\n      <td>2.291554</td>\n      <td>WT</td>\n      <td>5</td>\n    </tr>\n    <tr>\n      <th>72</th>\n      <td>4.175255</td>\n      <td>1.601721</td>\n      <td>mut</td>\n      <td>4</td>\n    </tr>\n    <tr>\n      <th>90</th>\n      <td>3.804408</td>\n      <td>5.533515</td>\n      <td>WT</td>\n      <td>2</td>\n    </tr>\n    <tr>\n      <th>94</th>\n      <td>3.773737</td>\n      <td>1.416725</td>\n      <td>WT</td>\n      <td>5</td>\n    </tr>\n    <tr>\n      <th>45</th>\n      <td>3.482522</td>\n      <td>1.112622</td>\n      <td>WT</td>\n      <td>5</td>\n    </tr>\n    <tr>\n      <th>56</th>\n      <td>3.438852</td>\n      <td>7.020391</td>\n      <td>mut</td>\n      <td>7</td>\n    </tr>\n    <tr>\n      <th>58</th>\n      <td>3.375764</td>\n      <td>3.655362</td>\n      <td>mut</td>\n      <td>3</td>\n    </tr>\n    <tr>\n      <th>43</th>\n      <td>3.298039</td>\n      <td>3.092702</td>\n      <td>WT</td>\n      <td>7</td>\n    </tr>\n    <tr>\n      <th>55</th>\n      <td>3.100752</td>\n      <td>3.403047</td>\n      <td>WT</td>\n      <td>6</td>\n    </tr>\n    <tr>\n      <th>64</th>\n      <td>3.039148</td>\n      <td>1.952382</td>\n      <td>WT</td>\n      <td>6</td>\n    </tr>\n    <tr>\n      <th>88</th>\n      <td>3.015626</td>\n      <td>1.460545</td>\n      <td>mut</td>\n      <td>3</td>\n    </tr>\n    <tr>\n      <th>41</th>\n      <td>2.991558</td>\n      <td>1.312330</td>\n      <td>WT</td>\n      <td>4</td>\n    </tr>\n    <tr>\n      <th>36</th>\n      <td>2.707328</td>\n      <td>2.589477</td>\n      <td>WT</td>\n      <td>4</td>\n    </tr>\n    <tr>\n      <th>12</th>\n      <td>2.627949</td>\n      <td>6.187906</td>\n      <td>WT</td>\n      <td>5</td>\n    </tr>\n    <tr>\n      <th>2</th>\n      <td>2.576749</td>\n      <td>0.643590</td>\n      <td>mut</td>\n      <td>5</td>\n    </tr>\n    <tr>\n      <th>57</th>\n      <td>2.489930</td>\n      <td>4.208319</td>\n      <td>mut</td>\n      <td>2</td>\n    </tr>\n    <tr>\n      <th>50</th>\n      <td>2.352505</td>\n      <td>3.015610</td>\n      <td>WT</td>\n      <td>5</td>\n    </tr>\n    <tr>\n      <th>...</th>\n      <td>...</td>\n      <td>...</td>\n      <td>...</td>\n      <td>...</td>\n    </tr>\n    <tr>\n      <th>97</th>\n      <td>-2.262294</td>\n      <td>2.791830</td>\n      <td>mut</td>\n      <td>2</td>\n    </tr>\n    <tr>\n      <th>5</th>\n      <td>-2.639499</td>\n      <td>1.636543</td>\n      <td>mut</td>\n      <td>3</td>\n    </tr>\n    <tr>\n      <th>51</th>\n      <td>-2.697916</td>\n      <td>3.439823</td>\n      <td>WT</td>\n      <td>5</td>\n    </tr>\n    <tr>\n      <th>96</th>\n      <td>-2.793496</td>\n      <td>0.798693</td>\n      <td>WT</td>\n      <td>1</td>\n    </tr>\n    <tr>\n      <th>39</th>\n      <td>-2.847654</td>\n      <td>4.396976</td>\n      <td>mut</td>\n      <td>6</td>\n    </tr>\n    <tr>\n      <th>49</th>\n      <td>-2.898072</td>\n      <td>4.209624</td>\n      <td>WT</td>\n      <td>7</td>\n    </tr>\n    <tr>\n      <th>24</th>\n      <td>-3.207223</td>\n      <td>1.325937</td>\n      <td>mut</td>\n      <td>7</td>\n    </tr>\n    <tr>\n      <th>4</th>\n      <td>-3.491432</td>\n      <td>6.134270</td>\n      <td>WT</td>\n      <td>6</td>\n    </tr>\n    <tr>\n      <th>17</th>\n      <td>-3.712050</td>\n      <td>2.331744</td>\n      <td>mut</td>\n      <td>5</td>\n    </tr>\n    <tr>\n      <th>1</th>\n      <td>-3.772064</td>\n      <td>-0.492912</td>\n      <td>mut</td>\n      <td>6</td>\n    </tr>\n    <tr>\n      <th>98</th>\n      <td>-3.872895</td>\n      <td>4.200515</td>\n      <td>WT</td>\n      <td>5</td>\n    </tr>\n    <tr>\n      <th>63</th>\n      <td>-4.032361</td>\n      <td>4.419193</td>\n      <td>mut</td>\n      <td>5</td>\n    </tr>\n    <tr>\n      <th>69</th>\n      <td>-4.612903</td>\n      <td>2.552644</td>\n      <td>mut</td>\n      <td>9</td>\n    </tr>\n    <tr>\n      <th>37</th>\n      <td>-4.715361</td>\n      <td>3.548633</td>\n      <td>WT</td>\n      <td>6</td>\n    </tr>\n    <tr>\n      <th>74</th>\n      <td>-4.735218</td>\n      <td>2.895343</td>\n      <td>mut</td>\n      <td>5</td>\n    </tr>\n    <tr>\n      <th>46</th>\n      <td>-4.786730</td>\n      <td>0.102938</td>\n      <td>mut</td>\n      <td>8</td>\n    </tr>\n    <tr>\n      <th>6</th>\n      <td>-4.859682</td>\n      <td>3.437049</td>\n      <td>mut</td>\n      <td>4</td>\n    </tr>\n    <tr>\n      <th>84</th>\n      <td>-5.154255</td>\n      <td>3.763299</td>\n      <td>WT</td>\n      <td>5</td>\n    </tr>\n    <tr>\n      <th>59</th>\n      <td>-5.345120</td>\n      <td>3.917443</td>\n      <td>mut</td>\n      <td>4</td>\n    </tr>\n    <tr>\n      <th>92</th>\n      <td>-5.461759</td>\n      <td>4.000844</td>\n      <td>mut</td>\n      <td>6</td>\n    </tr>\n    <tr>\n      <th>29</th>\n      <td>-5.530728</td>\n      <td>1.901084</td>\n      <td>WT</td>\n      <td>8</td>\n    </tr>\n    <tr>\n      <th>31</th>\n      <td>-5.549054</td>\n      <td>7.336464</td>\n      <td>mut</td>\n      <td>5</td>\n    </tr>\n    <tr>\n      <th>86</th>\n      <td>-5.731177</td>\n      <td>2.469651</td>\n      <td>mut</td>\n      <td>3</td>\n    </tr>\n    <tr>\n      <th>62</th>\n      <td>-5.819505</td>\n      <td>1.560559</td>\n      <td>WT</td>\n      <td>1</td>\n    </tr>\n    <tr>\n      <th>21</th>\n      <td>-6.133929</td>\n      <td>0.973100</td>\n      <td>mut</td>\n      <td>4</td>\n    </tr>\n    <tr>\n      <th>67</th>\n      <td>-6.734791</td>\n      <td>-0.865765</td>\n      <td>mut</td>\n      <td>2</td>\n    </tr>\n    <tr>\n      <th>13</th>\n      <td>-6.735303</td>\n      <td>3.856574</td>\n      <td>mut</td>\n      <td>7</td>\n    </tr>\n    <tr>\n      <th>16</th>\n      <td>-6.950979</td>\n      <td>-0.152023</td>\n      <td>WT</td>\n      <td>3</td>\n    </tr>\n    <tr>\n      <th>26</th>\n      <td>-9.908349</td>\n      <td>5.914119</td>\n      <td>WT</td>\n      <td>3</td>\n    </tr>\n    <tr>\n      <th>95</th>\n      <td>-11.852746</td>\n      <td>8.728064</td>\n      <td>WT</td>\n      <td>5</td>\n    </tr>\n  </tbody>\n</table>\n<p>100 rows × 4 columns</p>\n</div>"
     },
     "metadata": {},
     "execution_count": 9
    }
   ],
   "source": [
    "df.sort_values(by='Norm1', ascending=False)"
   ]
  },
  {
   "cell_type": "markdown",
   "metadata": {},
   "source": [
    "**Question 3:  What is the most common value for Counts?**"
   ]
  },
  {
   "cell_type": "code",
   "execution_count": 10,
   "metadata": {},
   "outputs": [
    {
     "output_type": "execute_result",
     "data": {
      "text/plain": "5"
     },
     "metadata": {},
     "execution_count": 10
    }
   ],
   "source": [
    "df['Counts'].value_counts().index[0]"
   ]
  },
  {
   "cell_type": "markdown",
   "metadata": {},
   "source": [
    "# Looping"
   ]
  },
  {
   "cell_type": "markdown",
   "metadata": {},
   "source": [
    "**Exercise 3:  Loop through the columns of df and print out their names but with ' (preliminary)' tacked on to the end.**  \n",
    "It should look something like:  \n",
    "\n",
    "Norm1 (preliminary)  \n",
    "Norm2 (preliminary)  \n",
    "Conditions (preliminary)  \n",
    "Counts (preliminary)"
   ]
  },
  {
   "cell_type": "code",
   "execution_count": 11,
   "metadata": {
    "tags": []
   },
   "outputs": [
    {
     "output_type": "stream",
     "name": "stdout",
     "text": "Norm1 (preliminary)\nNorm2 (preliminary)\nConditions (preliminary)\nCounts (preliminary)\n"
    }
   ],
   "source": [
    "for c in df.columns:\n",
    "    print(c+' (preliminary)')"
   ]
  }
 ],
 "metadata": {
  "kernelspec": {
   "display_name": "Python 3",
   "language": "python",
   "name": "python3"
  },
  "language_info": {
   "codemirror_mode": {
    "name": "ipython",
    "version": 3
   },
   "file_extension": ".py",
   "mimetype": "text/x-python",
   "name": "python",
   "nbconvert_exporter": "python",
   "pygments_lexer": "ipython3",
   "version": "3.6.2-final"
  }
 },
 "nbformat": 4,
 "nbformat_minor": 4
}