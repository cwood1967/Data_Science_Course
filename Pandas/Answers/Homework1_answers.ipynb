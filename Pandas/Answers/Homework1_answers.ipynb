{
 "cells": [
  {
   "cell_type": "markdown",
   "metadata": {},
   "source": [
    "# Homework 1: Construction, structures and simple statistics (0,1,2)"
   ]
  },
  {
   "cell_type": "code",
   "execution_count": 1,
   "metadata": {},
   "outputs": [],
   "source": [
    "import pandas as pd\n",
    "import numpy as np"
   ]
  },
  {
   "cell_type": "markdown",
   "metadata": {},
   "source": [
    "Some functions we have covered\n",
    "\n",
    "- pd.Series() \n",
    "- df=pd.DataFrame({'A': 1., 'B': pd.Timestamp('20130102'), 'C': pd.Series(1, index=list(range(4)), dtype='float32'), 'D': np.array([3] * 4, dtype='int32'), 'E': pd.Categorical([\"test\", \"train\", \"test\", \"train\"]), 'F': 'foo'})\n",
    "- df.T \n",
    "- df.index \n",
    "- df.columns \n",
    "- df.sort_values(by='C') \n",
    "- df['A'] \n",
    "- df.describe(include=['number', 'category', 'all'], percentiles=[.05, .25, .75, .95]) \n",
    "- df.max(skipna=False) \n",
    "- df.min() \n",
    "- df.sum() \n",
    "- df.mean() \n",
    "- df.unique() \n",
    "- df.idxmax() \n",
    "- df.iloc \n",
    "- df.value_counts()"
   ]
  },
  {
   "cell_type": "raw",
   "metadata": {},
   "source": [
    "pd.Series()\n",
    "df=pd.DataFrame({'A': 1.,\n",
    "                    'B': pd.Timestamp('20130102'),\n",
    "                    'C': pd.Series(1, index=list(range(4)), dtype='float32'),\n",
    "                    'D': np.array([3] * 4, dtype='int32'),\n",
    "                    'E': pd.Categorical([\"test\", \"train\", \"test\", \"train\"]),\n",
    "                    'F': 'foo'})\n",
    "df.T\n",
    "df.index\n",
    "df.columns\n",
    "df.sort_values(by='C')\n",
    "df['A']\n",
    "\n",
    "df.describe(include=['number', 'category', 'all'], percentiles=[.05, .25, .75, .95])\n",
    "df.max(skipna=False)\n",
    "df.min()\n",
    "df.sum()\n",
    "df.mean()\n",
    "df.unique()\n",
    "\n",
    "df.idxmax()\n",
    "df.iloc\n",
    "df.value_counts()\n"
   ]
  },
  {
   "cell_type": "markdown",
   "metadata": {},
   "source": [
    "# Constructing the dataset"
   ]
  },
  {
   "cell_type": "markdown",
   "metadata": {},
   "source": [
    "**Exercise 1:  Create 4 Series**  \n",
    "Create a series with 100 entries called Norm1 that has random values that are normally distributed with mean 0 and standard deviation 4.  \n",
    "Create a second series with 100 entries called Norm2 that has random values that are normally distributed with mean 3 and standard deviation 2.  \n",
    "Create a third series with 100 entries called Conditions that has either 'WT' or 'mut', randomly chosen.\n",
    "np.random.choice() can accomplish something like this.  \n",
    "Create a fourth series with 100 entries called Counts that has a poisson distribution, lambda=5."
   ]
  },
  {
   "cell_type": "code",
   "execution_count": 12,
   "metadata": {},
   "outputs": [
    {
     "output_type": "execute_result",
     "data": {
      "text/plain": "0    -0.357098\n1     7.375836\n2    -2.494876\n3    -3.173489\n4    -0.443754\n        ...   \n95    2.744113\n96   -1.552398\n97    6.012547\n98   -0.560247\n99   -2.836427\nLength: 100, dtype: float64"
     },
     "metadata": {},
     "execution_count": 12
    }
   ],
   "source": [
    "Norm1 = pd.Series(np.random.normal(0, 4, 100))\n",
    "Norm1"
   ]
  },
  {
   "cell_type": "code",
   "execution_count": 13,
   "metadata": {},
   "outputs": [
    {
     "output_type": "execute_result",
     "data": {
      "text/plain": "0     3.571775\n1     3.310381\n2     6.098811\n3    -0.775727\n4     6.033992\n        ...   \n95   -0.050801\n96    4.293247\n97    4.506856\n98    5.456993\n99    2.442012\nLength: 100, dtype: float64"
     },
     "metadata": {},
     "execution_count": 13
    }
   ],
   "source": [
    "Norm2 = pd.Series(np.random.normal(3,2,100))\n",
    "Norm2"
   ]
  },
  {
   "cell_type": "code",
   "execution_count": 14,
   "metadata": {},
   "outputs": [
    {
     "output_type": "execute_result",
     "data": {
      "text/plain": "[mut, WT, WT, mut, mut, ..., mut, mut, WT, mut, WT]\nLength: 100\nCategories (2, object): [WT, mut]"
     },
     "metadata": {},
     "execution_count": 14
    }
   ],
   "source": [
    "Conditions = pd.Categorical(pd.Series(np.random.choice(['WT', 'mut'], size=100)))\n",
    "Conditions"
   ]
  },
  {
   "cell_type": "code",
   "execution_count": 15,
   "metadata": {},
   "outputs": [
    {
     "output_type": "execute_result",
     "data": {
      "text/plain": "array([6, 6, 7, 4, 3, 8, 5, 5, 6, 6, 4, 7, 6, 5, 1, 5, 7, 5, 6, 6, 4, 5,\n       7, 2, 5, 8, 5, 3, 3, 4, 5, 4, 6, 6, 4, 4, 7, 3, 3, 6, 7, 8, 7, 4,\n       6, 6, 7, 4, 4, 5, 4, 5, 7, 5, 4, 4, 2, 4, 5, 4, 6, 6, 3, 9, 5, 6,\n       3, 8, 9, 8, 6, 8, 7, 6, 3, 9, 4, 8, 2, 6, 3, 6, 5, 5, 4, 8, 1, 3,\n       6, 5, 6, 3, 7, 6, 4, 7, 4, 6, 8, 6])"
     },
     "metadata": {},
     "execution_count": 15
    }
   ],
   "source": [
    "Counts=np.random.poisson(5,100)\n",
    "Counts"
   ]
  },
  {
   "cell_type": "markdown",
   "metadata": {},
   "source": [
    "**Exercise 2:  Combine these into a Dataframe called df**"
   ]
  },
  {
   "cell_type": "code",
   "execution_count": 17,
   "metadata": {},
   "outputs": [
    {
     "output_type": "execute_result",
     "data": {
      "text/plain": "      Norm1     Norm2 Conditions  Counts\n0 -0.357098  3.571775        mut       6\n1  7.375836  3.310381         WT       6\n2 -2.494876  6.098811         WT       7\n3 -3.173489 -0.775727        mut       4\n4 -0.443754  6.033992        mut       3",
      "text/html": "<div>\n<style scoped>\n    .dataframe tbody tr th:only-of-type {\n        vertical-align: middle;\n    }\n\n    .dataframe tbody tr th {\n        vertical-align: top;\n    }\n\n    .dataframe thead th {\n        text-align: right;\n    }\n</style>\n<table border=\"1\" class=\"dataframe\">\n  <thead>\n    <tr style=\"text-align: right;\">\n      <th></th>\n      <th>Norm1</th>\n      <th>Norm2</th>\n      <th>Conditions</th>\n      <th>Counts</th>\n    </tr>\n  </thead>\n  <tbody>\n    <tr>\n      <th>0</th>\n      <td>-0.357098</td>\n      <td>3.571775</td>\n      <td>mut</td>\n      <td>6</td>\n    </tr>\n    <tr>\n      <th>1</th>\n      <td>7.375836</td>\n      <td>3.310381</td>\n      <td>WT</td>\n      <td>6</td>\n    </tr>\n    <tr>\n      <th>2</th>\n      <td>-2.494876</td>\n      <td>6.098811</td>\n      <td>WT</td>\n      <td>7</td>\n    </tr>\n    <tr>\n      <th>3</th>\n      <td>-3.173489</td>\n      <td>-0.775727</td>\n      <td>mut</td>\n      <td>4</td>\n    </tr>\n    <tr>\n      <th>4</th>\n      <td>-0.443754</td>\n      <td>6.033992</td>\n      <td>mut</td>\n      <td>3</td>\n    </tr>\n  </tbody>\n</table>\n</div>"
     },
     "metadata": {},
     "execution_count": 17
    }
   ],
   "source": [
    "df=pd.DataFrame({'Norm1':Norm1, 'Norm2':Norm2, 'Conditions':Conditions, 'Counts':Counts})\n",
    "df.head()"
   ]
  },
  {
   "cell_type": "markdown",
   "metadata": {},
   "source": [
    "# Statistics on the dataset"
   ]
  },
  {
   "cell_type": "markdown",
   "metadata": {},
   "source": [
    "The mean/stdev of Norm1 should be 0/4.  The mean/stdev of Norm2 should be 3/2.  \n",
    "\n",
    "**Question 1:  How far off are these from our dataframe?**"
   ]
  },
  {
   "cell_type": "code",
   "execution_count": 7,
   "metadata": {},
   "outputs": [
    {
     "output_type": "execute_result",
     "data": {
      "text/plain": "             Norm1       Norm2 Conditions      Counts\ncount   100.000000  100.000000        100  100.000000\nunique         NaN         NaN          2         NaN\ntop            NaN         NaN        mut         NaN\nfreq           NaN         NaN         50         NaN\nmean      0.269379    3.292869        NaN    5.250000\nstd       3.483710    2.189701        NaN    2.189853\nmin      -9.210133   -2.417699        NaN    0.000000\n25%      -2.149225    2.034422        NaN    4.000000\n50%       0.388870    3.283669        NaN    5.000000\n75%       2.710613    4.936323        NaN    7.000000\nmax       8.992882    9.791148        NaN   10.000000",
      "text/html": "<div>\n<style scoped>\n    .dataframe tbody tr th:only-of-type {\n        vertical-align: middle;\n    }\n\n    .dataframe tbody tr th {\n        vertical-align: top;\n    }\n\n    .dataframe thead th {\n        text-align: right;\n    }\n</style>\n<table border=\"1\" class=\"dataframe\">\n  <thead>\n    <tr style=\"text-align: right;\">\n      <th></th>\n      <th>Norm1</th>\n      <th>Norm2</th>\n      <th>Conditions</th>\n      <th>Counts</th>\n    </tr>\n  </thead>\n  <tbody>\n    <tr>\n      <th>count</th>\n      <td>100.000000</td>\n      <td>100.000000</td>\n      <td>100</td>\n      <td>100.000000</td>\n    </tr>\n    <tr>\n      <th>unique</th>\n      <td>NaN</td>\n      <td>NaN</td>\n      <td>2</td>\n      <td>NaN</td>\n    </tr>\n    <tr>\n      <th>top</th>\n      <td>NaN</td>\n      <td>NaN</td>\n      <td>mut</td>\n      <td>NaN</td>\n    </tr>\n    <tr>\n      <th>freq</th>\n      <td>NaN</td>\n      <td>NaN</td>\n      <td>50</td>\n      <td>NaN</td>\n    </tr>\n    <tr>\n      <th>mean</th>\n      <td>0.269379</td>\n      <td>3.292869</td>\n      <td>NaN</td>\n      <td>5.250000</td>\n    </tr>\n    <tr>\n      <th>std</th>\n      <td>3.483710</td>\n      <td>2.189701</td>\n      <td>NaN</td>\n      <td>2.189853</td>\n    </tr>\n    <tr>\n      <th>min</th>\n      <td>-9.210133</td>\n      <td>-2.417699</td>\n      <td>NaN</td>\n      <td>0.000000</td>\n    </tr>\n    <tr>\n      <th>25%</th>\n      <td>-2.149225</td>\n      <td>2.034422</td>\n      <td>NaN</td>\n      <td>4.000000</td>\n    </tr>\n    <tr>\n      <th>50%</th>\n      <td>0.388870</td>\n      <td>3.283669</td>\n      <td>NaN</td>\n      <td>5.000000</td>\n    </tr>\n    <tr>\n      <th>75%</th>\n      <td>2.710613</td>\n      <td>4.936323</td>\n      <td>NaN</td>\n      <td>7.000000</td>\n    </tr>\n    <tr>\n      <th>max</th>\n      <td>8.992882</td>\n      <td>9.791148</td>\n      <td>NaN</td>\n      <td>10.000000</td>\n    </tr>\n  </tbody>\n</table>\n</div>"
     },
     "metadata": {},
     "execution_count": 7
    }
   ],
   "source": [
    "df.describe(include='all')"
   ]
  },
  {
   "cell_type": "markdown",
   "metadata": {},
   "source": [
    "**Question 2:  What Condition is the entry with the highest Norm1 value?**  \n",
    "You can use sort_values or iloc/idxmax to accomplish this."
   ]
  },
  {
   "cell_type": "code",
   "execution_count": 8,
   "metadata": {},
   "outputs": [
    {
     "output_type": "execute_result",
     "data": {
      "text/plain": "Norm1         8.99288\nNorm2         6.46602\nConditions         WT\nCounts              5\nName: 88, dtype: object"
     },
     "metadata": {},
     "execution_count": 8
    }
   ],
   "source": [
    "df.iloc[df['Norm1'].idxmax()]"
   ]
  },
  {
   "cell_type": "code",
   "execution_count": 9,
   "metadata": {},
   "outputs": [
    {
     "output_type": "execute_result",
     "data": {
      "text/plain": "       Norm1     Norm2 Conditions  Counts\n88  8.992882  6.466022         WT       5\n55  8.307983  2.486923         WT       8\n17  8.218139  1.919981         WT      10\n76  7.511975  2.515902         WT       4\n56  5.553733  6.829485         WT       7\n..       ...       ...        ...     ...\n16 -5.597666  1.372107        mut       5\n22 -5.955531  4.765511         WT       7\n0  -6.193491  4.285387        mut       9\n45 -7.290479  3.262902         WT       8\n6  -9.210133  3.304436         WT       6\n\n[100 rows x 4 columns]",
      "text/html": "<div>\n<style scoped>\n    .dataframe tbody tr th:only-of-type {\n        vertical-align: middle;\n    }\n\n    .dataframe tbody tr th {\n        vertical-align: top;\n    }\n\n    .dataframe thead th {\n        text-align: right;\n    }\n</style>\n<table border=\"1\" class=\"dataframe\">\n  <thead>\n    <tr style=\"text-align: right;\">\n      <th></th>\n      <th>Norm1</th>\n      <th>Norm2</th>\n      <th>Conditions</th>\n      <th>Counts</th>\n    </tr>\n  </thead>\n  <tbody>\n    <tr>\n      <th>88</th>\n      <td>8.992882</td>\n      <td>6.466022</td>\n      <td>WT</td>\n      <td>5</td>\n    </tr>\n    <tr>\n      <th>55</th>\n      <td>8.307983</td>\n      <td>2.486923</td>\n      <td>WT</td>\n      <td>8</td>\n    </tr>\n    <tr>\n      <th>17</th>\n      <td>8.218139</td>\n      <td>1.919981</td>\n      <td>WT</td>\n      <td>10</td>\n    </tr>\n    <tr>\n      <th>76</th>\n      <td>7.511975</td>\n      <td>2.515902</td>\n      <td>WT</td>\n      <td>4</td>\n    </tr>\n    <tr>\n      <th>56</th>\n      <td>5.553733</td>\n      <td>6.829485</td>\n      <td>WT</td>\n      <td>7</td>\n    </tr>\n    <tr>\n      <th>98</th>\n      <td>5.153251</td>\n      <td>0.518888</td>\n      <td>WT</td>\n      <td>3</td>\n    </tr>\n    <tr>\n      <th>85</th>\n      <td>4.558934</td>\n      <td>3.781484</td>\n      <td>WT</td>\n      <td>4</td>\n    </tr>\n    <tr>\n      <th>68</th>\n      <td>4.519942</td>\n      <td>5.114741</td>\n      <td>WT</td>\n      <td>6</td>\n    </tr>\n    <tr>\n      <th>58</th>\n      <td>4.519255</td>\n      <td>5.518859</td>\n      <td>WT</td>\n      <td>8</td>\n    </tr>\n    <tr>\n      <th>29</th>\n      <td>4.400628</td>\n      <td>5.675915</td>\n      <td>WT</td>\n      <td>1</td>\n    </tr>\n    <tr>\n      <th>43</th>\n      <td>4.378928</td>\n      <td>4.669391</td>\n      <td>mut</td>\n      <td>7</td>\n    </tr>\n    <tr>\n      <th>2</th>\n      <td>4.109532</td>\n      <td>3.893766</td>\n      <td>mut</td>\n      <td>2</td>\n    </tr>\n    <tr>\n      <th>9</th>\n      <td>3.861994</td>\n      <td>-0.567720</td>\n      <td>mut</td>\n      <td>5</td>\n    </tr>\n    <tr>\n      <th>19</th>\n      <td>3.753630</td>\n      <td>5.538561</td>\n      <td>WT</td>\n      <td>5</td>\n    </tr>\n    <tr>\n      <th>78</th>\n      <td>3.654170</td>\n      <td>0.579746</td>\n      <td>mut</td>\n      <td>6</td>\n    </tr>\n    <tr>\n      <th>53</th>\n      <td>3.489828</td>\n      <td>6.831677</td>\n      <td>WT</td>\n      <td>4</td>\n    </tr>\n    <tr>\n      <th>54</th>\n      <td>3.338727</td>\n      <td>-0.898290</td>\n      <td>WT</td>\n      <td>4</td>\n    </tr>\n    <tr>\n      <th>92</th>\n      <td>3.292408</td>\n      <td>2.658247</td>\n      <td>mut</td>\n      <td>3</td>\n    </tr>\n    <tr>\n      <th>91</th>\n      <td>3.242389</td>\n      <td>5.912265</td>\n      <td>mut</td>\n      <td>7</td>\n    </tr>\n    <tr>\n      <th>32</th>\n      <td>3.233460</td>\n      <td>3.331560</td>\n      <td>mut</td>\n      <td>5</td>\n    </tr>\n    <tr>\n      <th>15</th>\n      <td>3.108751</td>\n      <td>3.360426</td>\n      <td>WT</td>\n      <td>5</td>\n    </tr>\n    <tr>\n      <th>5</th>\n      <td>3.089375</td>\n      <td>-0.634028</td>\n      <td>mut</td>\n      <td>6</td>\n    </tr>\n    <tr>\n      <th>81</th>\n      <td>3.053593</td>\n      <td>5.414745</td>\n      <td>mut</td>\n      <td>4</td>\n    </tr>\n    <tr>\n      <th>65</th>\n      <td>2.755880</td>\n      <td>2.113617</td>\n      <td>WT</td>\n      <td>6</td>\n    </tr>\n    <tr>\n      <th>95</th>\n      <td>2.726350</td>\n      <td>1.151461</td>\n      <td>WT</td>\n      <td>5</td>\n    </tr>\n    <tr>\n      <th>61</th>\n      <td>2.705367</td>\n      <td>1.303517</td>\n      <td>mut</td>\n      <td>7</td>\n    </tr>\n    <tr>\n      <th>83</th>\n      <td>2.669500</td>\n      <td>4.938151</td>\n      <td>WT</td>\n      <td>4</td>\n    </tr>\n    <tr>\n      <th>33</th>\n      <td>2.641687</td>\n      <td>2.492838</td>\n      <td>WT</td>\n      <td>4</td>\n    </tr>\n    <tr>\n      <th>3</th>\n      <td>2.585226</td>\n      <td>6.155109</td>\n      <td>mut</td>\n      <td>6</td>\n    </tr>\n    <tr>\n      <th>59</th>\n      <td>2.559858</td>\n      <td>2.277118</td>\n      <td>mut</td>\n      <td>7</td>\n    </tr>\n    <tr>\n      <th>...</th>\n      <td>...</td>\n      <td>...</td>\n      <td>...</td>\n      <td>...</td>\n    </tr>\n    <tr>\n      <th>46</th>\n      <td>-1.766124</td>\n      <td>6.315278</td>\n      <td>mut</td>\n      <td>6</td>\n    </tr>\n    <tr>\n      <th>24</th>\n      <td>-1.798862</td>\n      <td>1.538361</td>\n      <td>WT</td>\n      <td>4</td>\n    </tr>\n    <tr>\n      <th>70</th>\n      <td>-1.935788</td>\n      <td>2.452052</td>\n      <td>mut</td>\n      <td>7</td>\n    </tr>\n    <tr>\n      <th>27</th>\n      <td>-1.943175</td>\n      <td>2.073670</td>\n      <td>mut</td>\n      <td>5</td>\n    </tr>\n    <tr>\n      <th>38</th>\n      <td>-2.047602</td>\n      <td>2.696900</td>\n      <td>mut</td>\n      <td>0</td>\n    </tr>\n    <tr>\n      <th>23</th>\n      <td>-2.454094</td>\n      <td>-1.323744</td>\n      <td>mut</td>\n      <td>7</td>\n    </tr>\n    <tr>\n      <th>48</th>\n      <td>-2.456222</td>\n      <td>2.061389</td>\n      <td>WT</td>\n      <td>3</td>\n    </tr>\n    <tr>\n      <th>21</th>\n      <td>-2.673273</td>\n      <td>-2.417699</td>\n      <td>mut</td>\n      <td>4</td>\n    </tr>\n    <tr>\n      <th>7</th>\n      <td>-2.749968</td>\n      <td>1.746305</td>\n      <td>mut</td>\n      <td>6</td>\n    </tr>\n    <tr>\n      <th>86</th>\n      <td>-2.780704</td>\n      <td>5.117680</td>\n      <td>mut</td>\n      <td>7</td>\n    </tr>\n    <tr>\n      <th>50</th>\n      <td>-2.943896</td>\n      <td>1.953518</td>\n      <td>mut</td>\n      <td>4</td>\n    </tr>\n    <tr>\n      <th>39</th>\n      <td>-3.164639</td>\n      <td>4.439402</td>\n      <td>mut</td>\n      <td>3</td>\n    </tr>\n    <tr>\n      <th>8</th>\n      <td>-3.299899</td>\n      <td>4.423416</td>\n      <td>WT</td>\n      <td>5</td>\n    </tr>\n    <tr>\n      <th>79</th>\n      <td>-3.329058</td>\n      <td>4.917181</td>\n      <td>mut</td>\n      <td>5</td>\n    </tr>\n    <tr>\n      <th>62</th>\n      <td>-3.336264</td>\n      <td>3.209140</td>\n      <td>WT</td>\n      <td>4</td>\n    </tr>\n    <tr>\n      <th>4</th>\n      <td>-3.500428</td>\n      <td>0.035129</td>\n      <td>mut</td>\n      <td>7</td>\n    </tr>\n    <tr>\n      <th>72</th>\n      <td>-3.694407</td>\n      <td>0.949666</td>\n      <td>WT</td>\n      <td>6</td>\n    </tr>\n    <tr>\n      <th>84</th>\n      <td>-3.911672</td>\n      <td>4.484208</td>\n      <td>WT</td>\n      <td>3</td>\n    </tr>\n    <tr>\n      <th>35</th>\n      <td>-3.931711</td>\n      <td>1.314603</td>\n      <td>mut</td>\n      <td>5</td>\n    </tr>\n    <tr>\n      <th>13</th>\n      <td>-4.197120</td>\n      <td>9.791148</td>\n      <td>mut</td>\n      <td>6</td>\n    </tr>\n    <tr>\n      <th>36</th>\n      <td>-4.261302</td>\n      <td>0.431777</td>\n      <td>mut</td>\n      <td>9</td>\n    </tr>\n    <tr>\n      <th>89</th>\n      <td>-4.330553</td>\n      <td>3.124778</td>\n      <td>WT</td>\n      <td>7</td>\n    </tr>\n    <tr>\n      <th>18</th>\n      <td>-4.337934</td>\n      <td>2.153742</td>\n      <td>mut</td>\n      <td>4</td>\n    </tr>\n    <tr>\n      <th>97</th>\n      <td>-4.381945</td>\n      <td>4.795878</td>\n      <td>WT</td>\n      <td>8</td>\n    </tr>\n    <tr>\n      <th>71</th>\n      <td>-5.541319</td>\n      <td>6.076532</td>\n      <td>mut</td>\n      <td>6</td>\n    </tr>\n    <tr>\n      <th>16</th>\n      <td>-5.597666</td>\n      <td>1.372107</td>\n      <td>mut</td>\n      <td>5</td>\n    </tr>\n    <tr>\n      <th>22</th>\n      <td>-5.955531</td>\n      <td>4.765511</td>\n      <td>WT</td>\n      <td>7</td>\n    </tr>\n    <tr>\n      <th>0</th>\n      <td>-6.193491</td>\n      <td>4.285387</td>\n      <td>mut</td>\n      <td>9</td>\n    </tr>\n    <tr>\n      <th>45</th>\n      <td>-7.290479</td>\n      <td>3.262902</td>\n      <td>WT</td>\n      <td>8</td>\n    </tr>\n    <tr>\n      <th>6</th>\n      <td>-9.210133</td>\n      <td>3.304436</td>\n      <td>WT</td>\n      <td>6</td>\n    </tr>\n  </tbody>\n</table>\n<p>100 rows × 4 columns</p>\n</div>"
     },
     "metadata": {},
     "execution_count": 9
    }
   ],
   "source": [
    "df.sort_values(by='Norm1', ascending=False)"
   ]
  },
  {
   "cell_type": "markdown",
   "metadata": {},
   "source": [
    "**Question 3:  What is the most common value for Counts?**"
   ]
  },
  {
   "cell_type": "code",
   "execution_count": 10,
   "metadata": {},
   "outputs": [
    {
     "output_type": "execute_result",
     "data": {
      "text/plain": "4"
     },
     "metadata": {},
     "execution_count": 10
    }
   ],
   "source": [
    "df['Counts'].value_counts().index[0]"
   ]
  },
  {
   "cell_type": "markdown",
   "metadata": {},
   "source": [
    "# Looping"
   ]
  },
  {
   "cell_type": "markdown",
   "metadata": {},
   "source": [
    "**Exercise 3:  Loop through the columns of df and print out their names but with ' (preliminary)' tacked on to the end.**  \n",
    "It should look something like:  \n",
    "\n",
    "Norm1 (preliminary)  \n",
    "Norm2 (preliminary)  \n",
    "Conditions (preliminary)  \n",
    "Counts (preliminary)"
   ]
  },
  {
   "cell_type": "code",
   "execution_count": 11,
   "metadata": {},
   "outputs": [
    {
     "output_type": "stream",
     "name": "stdout",
     "text": "Norm1 (preliminary)\nNorm2 (preliminary)\nConditions (preliminary)\nCounts (preliminary)\n"
    }
   ],
   "source": [
    "for c in df.columns:\n",
    "    print(c+' (preliminary)')"
   ]
  },
  {
   "cell_type": "code",
   "execution_count": null,
   "metadata": {},
   "outputs": [],
   "source": []
  }
 ],
 "metadata": {
  "kernelspec": {
   "display_name": "Python 3",
   "language": "python",
   "name": "python3"
  },
  "language_info": {
   "codemirror_mode": {
    "name": "ipython",
    "version": 3
   },
   "file_extension": ".py",
   "mimetype": "text/x-python",
   "name": "python",
   "nbconvert_exporter": "python",
   "pygments_lexer": "ipython3",
   "version": "3.6.10"
  }
 },
 "nbformat": 4,
 "nbformat_minor": 4
}