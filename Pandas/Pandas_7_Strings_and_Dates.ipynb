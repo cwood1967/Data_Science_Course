{
 "cells": [
  {
   "cell_type": "code",
   "execution_count": null,
   "metadata": {
    "colab": {},
    "colab_type": "code",
    "id": "jeWCzUL0XuGR"
   },
   "outputs": [],
   "source": [
    "import numpy as np\n",
    "import pandas as pd"
   ]
  },
  {
   "cell_type": "markdown",
   "metadata": {
    "colab_type": "text",
    "id": "XKPwCyHn-_k7"
   },
   "source": [
    "# String and Date Manipulation -- CHALLENGE!\n",
    "\n",
    "This is a \"challenge\" section because the answers will not be provided! We will learn how to find the appropriate functions that we need by searching the internet and using question/answer sites like StackOverflow. (Don't worry, we'll do it together.)\n",
    "\n",
    "Manipulating text and dates are a common part of data analysis. Sometimes we will have a single column containing several variables like plate number, well name, and experimental condition. We often need to split those values into their own columns so that we can `group_by` them seperately.\n",
    "\n",
    "Similarly with dates, perhaps we have a single text column representing when the experiment was done, but we need to have the day and the hour in seperate columns to compare data between days.\n",
    "\n",
    "Pandas provides functions for all of these use cases, so let's go find them with our internet search prowess!"
   ]
  },
  {
   "cell_type": "code",
   "execution_count": null,
   "metadata": {
    "colab": {
     "base_uri": "https://localhost:8080/",
     "height": 229
    },
    "colab_type": "code",
    "executionInfo": {
     "elapsed": 324,
     "status": "ok",
     "timestamp": 1589456281183,
     "user": {
      "displayName": "Richard Alexander",
      "photoUrl": "https://lh3.googleusercontent.com/a-/AOh14Ghn6F8r3pF0SntsFbxkmhRaWso_lCd_s8ePdlKY_g=s64",
      "userId": "13543676537814105778"
     },
     "user_tz": 300
    },
    "id": "kZsl6_ck9wcb",
    "outputId": "9b493996-9d4b-4077-c08b-1737a1c20bf3"
   },
   "outputs": [],
   "source": [
    "titanic = pd.read_csv('https://raw.githubusercontent.com/pandas-dev/pandas/master/doc/data/titanic.csv')\n",
    "\n",
    "titanic.head()"
   ]
  },
  {
   "cell_type": "markdown",
   "metadata": {
    "colab_type": "text",
    "id": "aCpA5MWZGXb8"
   },
   "source": [
    "# String Manipulation\n",
    "\n",
    "## Text Case\n",
    "\n",
    "Starting with our titanic dataset, we want to manipulate the text in the \"Name\" column by making it all lowercase. We don't know what function to use, so we will search for it:\n",
    "\n",
    "- Go to google.com and search for\n",
    "  - stackoverflow.com: Pandas text to lowercase\n",
    "- Click on one of the StackOverflow search results\n",
    "- Read the answer and the qustion\n",
    "- Use the code cell below to convert the \"Name\" column to lowercase"
   ]
  },
  {
   "cell_type": "code",
   "execution_count": null,
   "metadata": {
    "colab": {},
    "colab_type": "code",
    "id": "XTlot2w-96NY"
   },
   "outputs": [],
   "source": [
    "# ----------------------------------------------\n",
    "# YOUR CODE HERE\n",
    "# Print the titanic \"Name\" column IN LOWERCASE\n",
    "# ----------------------------------------------\n",
    "\n",
    "titanic['Name']  # You fill in the rest"
   ]
  },
  {
   "cell_type": "markdown",
   "metadata": {
    "colab_type": "text",
    "id": "LJJhOVM_Vjm-"
   },
   "source": [
    "When your code prints the Name column in lowercase, then you did it. Good work!\n",
    "\n",
    "Now find a way to print the Name column in upercase using our internet search method."
   ]
  },
  {
   "cell_type": "code",
   "execution_count": null,
   "metadata": {
    "colab": {},
    "colab_type": "code",
    "id": "MeS5dY2K_sFx"
   },
   "outputs": [],
   "source": [
    "# ----------------------------------------------\n",
    "# YOUR CODE HERE\n",
    "# Print the titanic \"Name\" column in UPPERCASE\n",
    "# ----------------------------------------------\n",
    "\n",
    "titanic['Name'].  # You fill in the rest"
   ]
  },
  {
   "cell_type": "markdown",
   "metadata": {
    "colab_type": "text",
    "id": "MqA6MhCJXD49"
   },
   "source": [
    "# Get Last Name\n",
    "\n",
    "Now we would like to create a new column in the titanic dataset that contains each person's last name. We know in Python that type of string operation is called `split`, so let's see if pandas has a similar function we could use.\n",
    "\n",
    "- Go to google.com and search for\n",
    "  - stackoverflow.com: Pandas split string to new column\n",
    "- Click on one of the StackOverflow search results\n",
    "- Read the answer and the qustion\n",
    "- Create a new \"last_name\" column in the titanic Dataframe"
   ]
  },
  {
   "cell_type": "code",
   "execution_count": null,
   "metadata": {
    "colab": {},
    "colab_type": "code",
    "id": "t0wID40OX752"
   },
   "outputs": [],
   "source": [
    "# ---------------------------------------------------------------\n",
    "# YOUR CODE HERE\n",
    "# Create a last_name column containing each passenger's last name\n",
    "# \n",
    "# HINT: Look at the \"Name\" column and notice that there is always\n",
    "# a comma \",\" after the last name.\n",
    "# ---------------------------------------------------------------\n",
    "\n",
    "titanic['last_name'] =   # You fill in the rest"
   ]
  },
  {
   "cell_type": "markdown",
   "metadata": {
    "colab_type": "text",
    "id": "beZA36muZH9-"
   },
   "source": [
    "Getting the last name is a bit mor complex, so if you have trouble, create more code cells above and experiment by printing intermediate results.\n",
    "\n",
    "Once you have a new column containing each person's last name, you did it. Good job!"
   ]
  },
  {
   "cell_type": "markdown",
   "metadata": {
    "colab_type": "text",
    "id": "jcTKbCNaZmrJ"
   },
   "source": [
    "# Date Manipulation\n",
    "\n",
    "Let's import a new dataset containing dates."
   ]
  },
  {
   "cell_type": "code",
   "execution_count": null,
   "metadata": {
    "colab": {
     "base_uri": "https://localhost:8080/",
     "height": 195
    },
    "colab_type": "code",
    "executionInfo": {
     "elapsed": 817,
     "status": "ok",
     "timestamp": 1589464080207,
     "user": {
      "displayName": "Richard Alexander",
      "photoUrl": "https://lh3.googleusercontent.com/a-/AOh14Ghn6F8r3pF0SntsFbxkmhRaWso_lCd_s8ePdlKY_g=s64",
      "userId": "13543676537814105778"
     },
     "user_tz": 300
    },
    "id": "E7WEkwM_Z75T",
    "outputId": "443076ea-2529-4cfd-fc40-b123c29e132c"
   },
   "outputs": [],
   "source": [
    "air_quality = pd.read_csv('https://raw.githubusercontent.com/pandas-dev/pandas/master/doc/data/air_quality_no2_long.csv')\n",
    "air_quality = air_quality.rename(columns={\"date.utc\": \"date_string\"})\n",
    "\n",
    "air_quality.head()"
   ]
  },
  {
   "cell_type": "markdown",
   "metadata": {
    "colab_type": "text",
    "id": "71fKG-BQai26"
   },
   "source": [
    "Our `air_quality` dataframe contains a column named `date_and_time`. Let's inspect that column to see what datatype it is."
   ]
  },
  {
   "cell_type": "code",
   "execution_count": null,
   "metadata": {
    "colab": {
     "base_uri": "https://localhost:8080/",
     "height": 218
    },
    "colab_type": "code",
    "executionInfo": {
     "elapsed": 366,
     "status": "ok",
     "timestamp": 1589464093613,
     "user": {
      "displayName": "Richard Alexander",
      "photoUrl": "https://lh3.googleusercontent.com/a-/AOh14Ghn6F8r3pF0SntsFbxkmhRaWso_lCd_s8ePdlKY_g=s64",
      "userId": "13543676537814105778"
     },
     "user_tz": 300
    },
    "id": "GQXRQB2XaGZI",
    "outputId": "c617d69b-f80c-42bb-be86-977e1e1a8c7f"
   },
   "outputs": [],
   "source": [
    "air_quality['date_string']"
   ]
  },
  {
   "cell_type": "markdown",
   "metadata": {
    "colab_type": "text",
    "id": "QTpJYvHlb_WT"
   },
   "source": [
    "At the bottom we see that the data type (dtype) is an object. To perform date manipulations, we need the column to have a dtype of `datetime`.\n",
    "\n",
    "- Go to google.com and search for\n",
    "  - stackoverflow.com: Pandas column to datetime\n",
    "- Click on one of the StackOverflow search results\n",
    "- Read the answer and the qustion\n",
    "- Convert the \"date_and_time\" column to `datetime`"
   ]
  },
  {
   "cell_type": "code",
   "execution_count": null,
   "metadata": {
    "colab": {},
    "colab_type": "code",
    "id": "V0-pEXkna5iL"
   },
   "outputs": [],
   "source": [
    "# ---------------------------------------------------------------\n",
    "# YOUR CODE HERE\n",
    "# Convert the date_and_time column to datetime\n",
    "# \n",
    "# HINT: This column will work without any \"format\" parameters\n",
    "# ---------------------------------------------------------------\n",
    "\n",
    "air_quality['date_and_time'] =   # Your code here"
   ]
  },
  {
   "cell_type": "markdown",
   "metadata": {
    "colab_type": "text",
    "id": "NJILFPVSj7uq"
   },
   "source": [
    "Once you have converted the column to a datetime type, the following code cell will compare the earliest and latest dates, giving us the duration of our experiment.\n",
    "\n",
    "Confirm that the code works without error. (If you get an error, go back and make sure your conversion to datetime was successfull.)"
   ]
  },
  {
   "cell_type": "code",
   "execution_count": null,
   "metadata": {
    "colab": {},
    "colab_type": "code",
    "id": "_n5QbfrhdMyl"
   },
   "outputs": [],
   "source": [
    "# Run this cell to confirm your datetime conversion worked\n",
    "\n",
    "air_quality[\"date_and_time\"].max() - air_quality[\"date_and_time\"].min()"
   ]
  },
  {
   "cell_type": "markdown",
   "metadata": {
    "colab_type": "text",
    "id": "VKJB5CQ8lRhJ"
   },
   "source": [
    "Our air quality experiment was run over several weeks, and each week was a replicated experiment. So rather than the date, we need a new \"week\" column so that we can create our figure.\n",
    "\n",
    "- Go to google.com and search for\n",
    "  - stackoverflow.com: Pandas get weekofyear from datetime\n",
    "- Click on one of the StackOverflow search results\n",
    "- Read the answer and the qustion\n",
    "- Create a new \"week\" column from the `date_and_time` column"
   ]
  },
  {
   "cell_type": "code",
   "execution_count": null,
   "metadata": {
    "colab": {},
    "colab_type": "code",
    "id": "MBcPvuV-m093"
   },
   "outputs": [],
   "source": [
    "# ---------------------------------------------------------------\n",
    "# YOUR CODE HERE\n",
    "# Create a new week column from the datetime column\n",
    "#\n",
    "# ---------------------------------------------------------------\n",
    "\n",
    "air_quality['week'] = "
   ]
  },
  {
   "cell_type": "markdown",
   "metadata": {
    "colab_type": "text",
    "id": "IdnyW_LCmzTO"
   },
   "source": [
    "Now that we have the `week` column, we can answer questions like, \"what was the mean NO2 concentration each successive week?\"\n",
    "\n",
    "Confirm that the following code cell runs without error. (If you get an error, fix your code above.)"
   ]
  },
  {
   "cell_type": "code",
   "execution_count": null,
   "metadata": {
    "colab": {},
    "colab_type": "code",
    "id": "rWucYdjnoHz9"
   },
   "outputs": [],
   "source": [
    "# Run this cell to confirm your week conversion worked\n",
    "\n",
    "air_quality.groupby([air_quality[\"week\"], \"location\"])[\"value\"].mean()"
   ]
  }
 ],
 "metadata": {
  "colab": {
   "authorship_tag": "ABX9TyOl/BYHUEfx8MMEoQRUSVQT",
   "collapsed_sections": [],
   "name": "Pandas_7_Strings_and_Dates.ipynb",
   "provenance": []
  },
  "kernelspec": {
   "display_name": "Python 3",
   "language": "python",
   "name": "python3"
  },
  "language_info": {
   "codemirror_mode": {
    "name": "ipython",
    "version": 3
   },
   "file_extension": ".py",
   "mimetype": "text/x-python",
   "name": "python",
   "nbconvert_exporter": "python",
   "pygments_lexer": "ipython3",
   "version": "3.6.2-final"
  }
 },
 "nbformat": 4,
 "nbformat_minor": 1
}