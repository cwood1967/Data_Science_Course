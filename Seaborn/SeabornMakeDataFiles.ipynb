{
 "cells": [
  {
   "cell_type": "code",
   "execution_count": 5,
   "metadata": {},
   "outputs": [],
   "source": [
    "%matplotlib inline\n",
    "import pandas as pd\n",
    "import numpy as np\n",
    "import matplotlib.pyplot as plt\n",
    "import seaborn as sns"
   ]
  },
  {
   "cell_type": "markdown",
   "metadata": {},
   "source": [
    "# Load and prepare data (just ignore)"
   ]
  },
  {
   "cell_type": "markdown",
   "metadata": {},
   "source": [
    "Load the data from up-to-date online sources, combine them into a single dataframe"
   ]
  },
  {
   "cell_type": "code",
   "execution_count": 6,
   "metadata": {},
   "outputs": [],
   "source": [
    "df=pd.read_csv('https://covidtracking.com/api/v1/states/daily.csv')\n",
    "\n",
    "df=df.iloc[::-1]\n",
    "df['Date']=df['date'].astype(str).str[5:]\n",
    "df['DateTime']=pd.to_datetime(df['date'], format='%Y%m%d')\n",
    "df=df.fillna(0)\n",
    "\n",
    "tests_agged=df.groupby(['state']).agg({'totalTestResultsIncrease':np.sum}).reset_index()\n",
    "\n",
    "abb=pd.read_csv('http://www.fonz.net/blog/wp-content/uploads/2008/04/states.csv')\n",
    "abb_to_full_mapper={a:b for a,b in zip(abb['Abbreviation'], abb['State'])}\n",
    "\n",
    "pop=pd.read_csv('http://www2.census.gov/programs-surveys/popest/datasets/2010-2019/national/totals/nst-est2019-alldata.csv', usecols=['NAME', 'CENSUS2010POP'])\n",
    "full_to_pop_mapper={a:b for a,b in zip(pop['NAME'], pop['CENSUS2010POP'])}\n",
    "\n",
    "df['Population']=df['state'].map(abb_to_full_mapper).map(full_to_pop_mapper)\n",
    "df['Per100kDeath']=df['deathIncrease']/df['Population']*100000\n",
    "df['Per100kTests']=df['totalTestResultsIncrease']/df['Population']*100000\n",
    "df['Per100kDeathCumulative']=df['death']/df['Population']*100000\n",
    "df['Per100kTestsCumulative']=df['totalTestResults']/df['Population']*100000\n",
    "\n",
    "df=df.dropna()\n",
    "df=df[['date', 'state', 'Population', 'Per100kDeath', 'Per100kTests', 'Per100kDeathCumulative', 'Per100kTestsCumulative', 'Date', 'DateTime']]\n",
    "\n",
    "Midwest=['MO', 'KS', 'IA', 'NE', 'MN', 'IL', 'IN', 'OH', 'MI', 'WS']\n",
    "midwest_df=df[df['state'].isin(Midwest)]\n",
    "midwest_df.tail()\n",
    "df.to_csv('AllStates.csv')\n",
    "midwest_df.to_csv('Midwest.csv')"
   ]
  },
  {
   "cell_type": "markdown",
   "metadata": {},
   "source": [
    "# Using seaborn for statistical displays"
   ]
  },
  {
   "cell_type": "code",
   "execution_count": 7,
   "metadata": {},
   "outputs": [],
   "source": [
    "df=pd.read_csv('Results.csv')\n",
    "df=df.filter(['File', 'Primary', 'Secondary', 'Spots1', 'Spots3', 'Area', 'Density1', 'Density3'], axis=1)\n",
    "df=df.rename(columns={'Primary':'Condition', 'Secondary':'Time', 'Spots1':'TUNEL', 'Spots3':'H3p', 'Density1':'TUNEL_Density',\n",
    "             'Density3':'H3p_Density'})\n",
    "df['Time']=df['Time'].str.split('d').str[0]\n",
    "df.set_index('File').to_csv('WormDataset.csv')\n",
    "df.to_csv('WormDataset.csv')"
   ]
  },
  {
   "cell_type": "code",
   "execution_count": null,
   "metadata": {},
   "outputs": [],
   "source": []
  }
 ],
 "metadata": {
  "kernelspec": {
   "display_name": "Python 3",
   "language": "python",
   "name": "python3"
  },
  "language_info": {
   "codemirror_mode": {
    "name": "ipython",
    "version": 3
   },
   "file_extension": ".py",
   "mimetype": "text/x-python",
   "name": "python",
   "nbconvert_exporter": "python",
   "pygments_lexer": "ipython3",
   "version": "3.7.4"
  }
 },
 "nbformat": 4,
 "nbformat_minor": 2
}
