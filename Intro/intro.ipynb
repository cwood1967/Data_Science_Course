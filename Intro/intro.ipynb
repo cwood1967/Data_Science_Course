{
  "nbformat": 4,
  "nbformat_minor": 0,
  "metadata": {
    "colab": {
      "name": "intro.ipynb",
      "provenance": [],
      "collapsed_sections": [],
      "authorship_tag": "ABX9TyNcdLp2F2OT2UExfISYYPKQ",
      "include_colab_link": true
    },
    "kernelspec": {
      "name": "python3",
      "display_name": "Python 3"
    }
  },
  "cells": [
    {
      "cell_type": "markdown",
      "metadata": {
        "id": "view-in-github",
        "colab_type": "text"
      },
      "source": [
        "<a href=\"https://colab.research.google.com/github/cwood1967/Data_Science_Course/blob/cjw/Intro/intro.ipynb\" target=\"_parent\"><img src=\"https://colab.research.google.com/assets/colab-badge.svg\" alt=\"Open In Colab\"/></a>"
      ]
    },
    {
      "cell_type": "markdown",
      "metadata": {
        "id": "kARWCGH4qTML"
      },
      "source": [
        "## Python Data Science\n",
        "\n",
        "- Chris Wood cjw@stowers.org\n",
        "- Microscopy Center, 14 years\n",
        "\n",
        "### About the class\n",
        "We will (mostly) cover\n",
        "- Python : an introduction to the language and other aspects that come up as we go.\n",
        "- Pandas : python package for DataFrames.\n",
        "- Seaborn: plotting package with support for DataFrames.\n",
        "\n",
        "### How do I use python\n",
        "- scripts for file/os type of operations (renaming files, deleting, etc)\n",
        "- web frameworks\n",
        "- webcam timelapse\n",
        "- deep learning using Tensorflow and pytorch\n",
        "- curve fitting\n",
        "- image processing\n",
        "- analysis/plotting datasets\n",
        "\n",
        "### Google colab\n",
        "https://colab.research.google.com/\n",
        "\n",
        "- jupyter notebooks on google virtual hardware\n",
        "- we don't need to worry about installing anything\n",
        "- You need a google account to access\n",
        "- Can save to google drive and open from google drive\n",
        "\n",
        "### How to run python code\n",
        "- in a console, e.g., ipython\n",
        "- script written in text editor, run with `% python myscript.py`\n",
        "- jupyter notebook\n",
        "\n",
        "### How to use colab\n",
        "\n",
        "\n",
        "\n"
      ]
    },
    {
      "cell_type": "markdown",
      "metadata": {
        "id": "F8OKtHzFMah8"
      },
      "source": [
        "# New Section"
      ]
    }
  ]
}