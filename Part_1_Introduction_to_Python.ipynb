{
  "nbformat": 4,
  "nbformat_minor": 0,
  "metadata": {
    "colab": {
      "name": "Part_1_Introduction_to_Python.ipynb",
      "provenance": [],
      "private_outputs": true,
      "collapsed_sections": [
        "kH26hnCyWnra",
        "xZXMfXXJhU_T",
        "YrI_n2Ijka-P",
        "bLcqj89Dm1q7",
        "juD0v_GBpkeZ"
      ],
      "include_colab_link": true
    },
    "kernelspec": {
      "name": "python3",
      "display_name": "Python 3"
    }
  },
  "cells": [
    {
      "cell_type": "markdown",
      "metadata": {
        "id": "view-in-github",
        "colab_type": "text"
      },
      "source": [
        "<a href=\"https://colab.research.google.com/github/cwood1967/Data_Science_Course/blob/cjw/Part_1_Introduction_to_Python.ipynb\" target=\"_parent\"><img src=\"https://colab.research.google.com/assets/colab-badge.svg\" alt=\"Open In Colab\"/></a>"
      ]
    },
    {
      "cell_type": "markdown",
      "metadata": {
        "id": "Y--kNPtC8Aun"
      },
      "source": [
        "# PART ONE - INTRODUCTION"
      ]
    },
    {
      "cell_type": "markdown",
      "metadata": {
        "id": "NEksZ-GkNjik"
      },
      "source": [
        "# Hello! Welcome to the HE+ Introduction of the 'Python for Physicists' course.\n",
        "\n",
        "This simple set of tutorials assumes *zero* prior knowledge of Python or progamming, and only a basic understanding of kinematics.\n",
        "\n",
        "The course contains the following:\n",
        "\n",
        "*   Basic python commands\n",
        "*   Describing equations of motions with Python\n",
        "*   Plotting the results\n",
        "*   Some brief exercises for you to try\n",
        "\n",
        "Anyone with some experience in Python may skip Part 1, but they may also find it useful as a reference sheet.\n",
        "\n",
        "You may be currently using this notebook in **Read-Only** mode. To edit it and to run the code, you may need to click '**Open in Playground Mode**' if you can see it at the top of the page, or save a local copy somewhere on your computer.\n",
        "\n",
        "**Note:** when you run the Notebook for the 1st time, you may see a warning pop-up, you can press 'Run Anyway':\n",
        "\n",
        "![alt text](https://i.imgur.com/quiqc6k.png)\n",
        "\n",
        "You then may also see this warning also, you can just click 'Yes':\n",
        "\n",
        "![alt text](https://i.imgur.com/AvIgGZh.png)\n",
        "\n",
        "The first warning is just letting you know that Google didn't make it, and the second warning is saying that the outputs of the code aren't saved when you log off. Both of these points are valid but won't affect this tutorial :)"
      ]
    },
    {
      "cell_type": "markdown",
      "metadata": {
        "id": "OWdPs_L6OOO6"
      },
      "source": [
        "# Why Google Colab?\n",
        "\n",
        "Firstly, we will talk briefly about this website we're using and why we're using it.\n",
        "\n",
        "Colab is a free coding environment (called notebooks from here on) provided by Google, and is very similar to the shared Google Docs that you may have already used.\n",
        "\n",
        "It allows multiple users to write and edit code that is stored on the cloud. It also allows people to execute (run) code without having to go through the hassle of installing various modules and libraries.\n",
        "\n",
        "These particular Colab documents are designed to be able to run Python in 'cells', and we can have text-based cells thrown in the mix too, which is great for teaching people coding.\n",
        "\n"
      ]
    },
    {
      "cell_type": "markdown",
      "metadata": {
        "id": "sTtkiGUBihNt"
      },
      "source": [
        "# Why Python?\n",
        "\n",
        "Python is widely used in research across all disciplines, and requires relatively little programming skills to get a simple script up and running. \n",
        "\n",
        "It is easy to use, very versatile, and very easy to read - a key property when learning programming for the first time. "
      ]
    },
    {
      "cell_type": "markdown",
      "metadata": {
        "id": "_8MjXXFLPJRH"
      },
      "source": [
        "# How to use the notebooks:\n",
        "\n",
        "**Remember** You must first make a clone of this document or run it in ** 'Playground mode'** if you want to try any of the bits of code!\n",
        "\n",
        "1.   A Notebook is constructed of cells (what this text and code is written in), there are 2 types of cells:\n",
        "       \n",
        "       a)  Text cells\n",
        "       \n",
        "       b)  Code cells\n",
        "       \n",
        "2.   To execute any cell, simply press **shift+enter**. This will work for text and code cells, but text cells don't really do anything, you'll just move onto the next cell.\n",
        "3.   If at any point you feel like you've broken the notebook, simply re-load it from the HE+ website for a fresh copy!\n",
        "4.   If it's a code-cell, you can also **hit the small play symbol** to the left of the cell when that cell is highlighted:\n",
        "\n"
      ]
    },
    {
      "cell_type": "code",
      "metadata": {
        "id": "Cr3N10ssdvnW"
      },
      "source": [
        "# This is a python comment, nothing will happen if the line starts with a '#' e.g.:\n",
        "# print ('This is a line of code that starts with a comment, nothing will happen if it's executed)"
      ],
      "execution_count": null,
      "outputs": []
    },
    {
      "cell_type": "code",
      "metadata": {
        "id": "Xj_pzXrZQEV-"
      },
      "source": [
        "# press 'shift+enter' or hit the play button to the left\n",
        "print ('This is a line of code that does not start with a comment, so here is the result when executed')"
      ],
      "execution_count": null,
      "outputs": []
    },
    {
      "cell_type": "markdown",
      "metadata": {
        "id": "bZO_0HH3QK3X"
      },
      "source": [
        "5. The text-cells like this are simply an easy way to convey information/instructions/graphics that wouldn't work in code."
      ]
    },
    {
      "cell_type": "markdown",
      "metadata": {
        "id": "-ybCasQRRVq8"
      },
      "source": [
        "# Basic Python you need to know\n",
        "\n",
        "In this course we will be working with simple kinematic equations (or equations of motion).\n",
        "\n",
        "We will describe these equations with Python code, set some initial conditions, and have a look at the results.\n",
        "\n",
        "There will also be optional exercises for you to complete the missing pieces of the code, but I'll include some very generous hints.\n",
        "\n",
        "Firstly I'll show you some basic things you can do with Python, feel free to play around with any of the numbers or operations\n",
        "\n",
        "** Make sure you run each cell in order, otherwise you may get error messages**\n",
        "\n",
        "You can **restart** the entire notebook by going to **'Runtime'-> 'Restart Runtime'** in the menu\n",
        "\n"
      ]
    },
    {
      "cell_type": "code",
      "metadata": {
        "id": "zhaxlkE7S5lZ"
      },
      "source": [
        "# python can be used for almost any task that requires a computer,\n",
        "# even a just basic calculator\n",
        "\n",
        "# remember to hit shift+enter for the code to execute and you'll see the outcome,\n",
        "# or you canhit that play button to the left of this cell\n",
        "\n",
        "# addition, subtraction, multiplication and division are written as:"
      ],
      "execution_count": null,
      "outputs": []
    },
    {
      "cell_type": "code",
      "metadata": {
        "id": "e_OLoXGUTu3L"
      },
      "source": [
        "10+2"
      ],
      "execution_count": null,
      "outputs": []
    },
    {
      "cell_type": "code",
      "metadata": {
        "id": "W2b5k8jgTEdR"
      },
      "source": [
        "10-2"
      ],
      "execution_count": null,
      "outputs": []
    },
    {
      "cell_type": "code",
      "metadata": {
        "id": "gKqMxTpKTeZi"
      },
      "source": [
        "10*2"
      ],
      "execution_count": null,
      "outputs": []
    },
    {
      "cell_type": "code",
      "metadata": {
        "id": "BiG67PqtTfOa"
      },
      "source": [
        "10/2"
      ],
      "execution_count": null,
      "outputs": []
    },
    {
      "cell_type": "code",
      "metadata": {
        "id": "0oa1a-inTgRj"
      },
      "source": [
        "# we can also do exponents (powers) with a double '*':\n",
        "\n",
        "10**2"
      ],
      "execution_count": null,
      "outputs": []
    },
    {
      "cell_type": "code",
      "metadata": {
        "id": "HD_C_B1wkw8B"
      },
      "source": [
        "# if we want to find the remainder of a division, we use 'modulo':\n",
        "\n",
        "11 % 3"
      ],
      "execution_count": null,
      "outputs": []
    },
    {
      "cell_type": "code",
      "metadata": {
        "id": "trP0jdGXTnJE"
      },
      "source": [
        "# If we wanted to store a number to use later in another calculation, we use variables\n",
        "\n",
        "a = 3\n",
        "b = 6\n",
        "\n",
        "a*b"
      ],
      "execution_count": null,
      "outputs": []
    },
    {
      "cell_type": "code",
      "metadata": {
        "id": "1-0w_fk1T9P7"
      },
      "source": [
        "# We can also use variables to define other variables:\n",
        "# variables can take almost any combination of letters and numbers!\n",
        "# but it's best to use variable names that make sense to you...\n",
        "\n",
        "dog = a*b\n",
        "dog + 3"
      ],
      "execution_count": null,
      "outputs": []
    },
    {
      "cell_type": "code",
      "metadata": {
        "id": "L4QhK-KmUEQl"
      },
      "source": [
        "# We can create lists of numbers:\n",
        "\n",
        "my_list = [0,1,2,3,4,5]\n",
        "\n",
        "# This is list a variable, just like 'x' earlier, but operating on it may give you an unexpected result:\n",
        "\n",
        "my_list*3"
      ],
      "execution_count": null,
      "outputs": []
    },
    {
      "cell_type": "code",
      "metadata": {
        "id": "AM8p0DPz8LEN"
      },
      "source": [
        "# Were you expecting [0,3,6,9,12,15] ?\n",
        "\n",
        "# Maybe this will make sense:\n",
        "\n",
        "my_other_list = ['dog', 'cat', 'fish']\n",
        "my_other_list * 3"
      ],
      "execution_count": null,
      "outputs": []
    },
    {
      "cell_type": "code",
      "metadata": {
        "id": "2_J_IC4OULRj"
      },
      "source": [
        "# So how would we multiply the contents of that list by 3?\n",
        "# Here is where we can import other bits of Python code to help:\n",
        "\n",
        "import numpy as np\n",
        "\n",
        "# 'numpy' is short for 'Numerical Python' and you can think of it as a massive library of nice maths functions for us to use\n",
        "# we give it the shorthand 'np' to save us typing time and filespace\n",
        "\n",
        "# we can then use one of Numpy's inbuilt functions:\n",
        "\n",
        "print (np.multiply(5,3))\n",
        "\n",
        "print (np.multiply(my_list, 3))"
      ],
      "execution_count": null,
      "outputs": []
    },
    {
      "cell_type": "code",
      "metadata": {
        "id": "deALJl3yVTo1"
      },
      "source": [
        "# if we ever want to use a Numpy function, we must start with 'np.{name of function}'\n",
        "# This is because python doesn't inherently know what these functions are, we have to tell it to go look for them in the Numpy library"
      ],
      "execution_count": null,
      "outputs": []
    },
    {
      "cell_type": "code",
      "metadata": {
        "id": "ZPnaOE2J4_Gk"
      },
      "source": [
        "# We can also use Numpy to *generate* some data for us:\n",
        "\n",
        "my_list = np.arange(0,6)\n",
        "\n",
        "print (my_list)"
      ],
      "execution_count": null,
      "outputs": []
    },
    {
      "cell_type": "markdown",
      "metadata": {
        "id": "nx3nBtF2Vigz"
      },
      "source": [
        "For a list of basic Numpy functions, take a look over [here](https://docs.scipy.org/doc/numpy/user/quickstart.html)"
      ]
    },
    {
      "cell_type": "code",
      "metadata": {
        "id": "HTVJREyQVwRW"
      },
      "source": [
        "# As shown earlier, we can easily print things to the screen:\n",
        "\n",
        "print ('Hello World!')"
      ],
      "execution_count": null,
      "outputs": []
    },
    {
      "cell_type": "code",
      "metadata": {
        "id": "msSsUOhhV6WD"
      },
      "source": [
        "# remember we defined the 'dog' variable earlier? Well, this notebook will remember things from earlier cells:\n",
        "print (dog)"
      ],
      "execution_count": null,
      "outputs": []
    },
    {
      "cell_type": "code",
      "metadata": {
        "id": "p_MX90wSXRhI"
      },
      "source": [
        "# If you go back and change the value of 'dog' you will have to re-exectute any following cells that reference it to update any results"
      ],
      "execution_count": null,
      "outputs": []
    },
    {
      "cell_type": "code",
      "metadata": {
        "id": "Ena61CB6V9QZ"
      },
      "source": [
        "# We can take in a string (text) from the user like this\n",
        "name = input(\"What's your name? \\n\")"
      ],
      "execution_count": null,
      "outputs": []
    },
    {
      "cell_type": "code",
      "metadata": {
        "id": "cctxo2hGWMjF"
      },
      "source": [
        "# Now we have a variable that has some text stored in it, we can print that variable along with other text like:\n",
        "print(\"Nice to meet you \" + name + \"!\")"
      ],
      "execution_count": null,
      "outputs": []
    },
    {
      "cell_type": "markdown",
      "metadata": {
        "id": "kH26hnCyWnra"
      },
      "source": [
        "# A word on datatypes\n",
        "\n",
        "A datatype is Pythons way of distinguishing things like numbers, text, figures etc. There are many types and they have special names, for example:\n",
        "\n",
        "1.   A whole number is an **integer**\n",
        "2.   A number with a decimal is a **float**\n",
        "3.   Any text is a **string**\n",
        "4.   Something can that be `True` or `False` is called a **Boolean**\n",
        "\n",
        "There are *many* more datatypes however, you can read about them [here](https://realpython.com/python-data-types/)\n",
        "\n",
        "The datatype of an object defines what can happen to it, for example try this:\n"
      ]
    },
    {
      "cell_type": "code",
      "metadata": {
        "id": "BUMsqWVDYACn"
      },
      "source": [
        "your_number = input('Enter a number: ')\n",
        "print (\"Your number is \" + your_number)"
      ],
      "execution_count": null,
      "outputs": []
    },
    {
      "cell_type": "markdown",
      "metadata": {
        "id": "-_00TeXzaQBO"
      },
      "source": [
        "You've entered a number right? So let's try to print the square of it:"
      ]
    },
    {
      "cell_type": "code",
      "metadata": {
        "id": "r_WCgtthYDwb"
      },
      "source": [
        "print ('Your number squared is: ' + your_number**2)"
      ],
      "execution_count": null,
      "outputs": []
    },
    {
      "cell_type": "markdown",
      "metadata": {
        "id": "a6pLY4TpYk5P"
      },
      "source": [
        "Hopefully the code crashed and showed something like: \n",
        "\n",
        "![alt text](https://i.imgur.com/uylk38G.png)\n",
        "\n",
        "This is because you entered a *string*, even if that string was a number, python still 'sees' it as text and so can't do any maths to it. \n",
        "\n",
        "The error message is `TypeError: unsupported operand type(s) for ** or pow(): 'str' and 'int'` \n",
        "\n",
        "Which is Pythons way of telling you you're tryng to take the power of a string, e.g. it makes as much sense as asking someone 'What is cat sqaured?'\n",
        "\n",
        "We can fix that however by converting the variable `'your_number`' into an interger by doing `int(your_number)`:"
      ]
    },
    {
      "cell_type": "code",
      "metadata": {
        "id": "DqvdAVXBZNds"
      },
      "source": [
        "your_number = int(your_number)\n",
        "\n",
        "print ('Your number squared is: ', your_number**2)"
      ],
      "execution_count": null,
      "outputs": []
    },
    {
      "cell_type": "markdown",
      "metadata": {
        "id": "xZXMfXXJhU_T"
      },
      "source": [
        "# Loops\n",
        "\n",
        "In Python, we might want to take a list of numbers and work through them and do something at each stage (called an interation). \n",
        "\n",
        "The loop will end when the condition which started it is satisfied. \n",
        "\n",
        "We use the inbuilt loops for this: `for`, `while`,  and `if`. Examples below:"
      ]
    },
    {
      "cell_type": "code",
      "metadata": {
        "id": "YTracYBJhoMd"
      },
      "source": [
        "# Here 'i' is just a dummy variable that we can create on the fly,\n",
        "# 'range' is an inbuilt function that will create a list of integers starting at 0 that is as long as the number in brackets\n",
        "\n",
        "for i in range(10):\n",
        "    print (i)"
      ],
      "execution_count": null,
      "outputs": []
    },
    {
      "cell_type": "code",
      "metadata": {
        "id": "f5Z6F4bssrGT"
      },
      "source": [
        "# A 'while' loop will check for a condition at each stage of the loop before it executes:\n",
        "\n",
        "i = 1\n",
        "while i < 6:\n",
        "    print(i)\n",
        "    i = i + 1"
      ],
      "execution_count": null,
      "outputs": []
    },
    {
      "cell_type": "code",
      "metadata": {
        "id": "jTKo9b6Milwi"
      },
      "source": [
        "# We can create an exception using the `if` statement and do something in the event that the statement is true\n",
        "# let's say we wanted the computer to find a certain number, e.g. 5, in this list of random numbers I have:\n",
        "\n",
        "numbers = [2,6,4,5,7,9]\n",
        "\n",
        "for i in numbers:\n",
        "    if i == 5:\n",
        "        print ('I found the number',i,'!')\n",
        "        break\n",
        "    else:\n",
        "        print ('Nope,',i,'is not the number')\n",
        "        \n",
        "# We use the command 'break' to forcifully exit the loop at that point"
      ],
      "execution_count": null,
      "outputs": []
    },
    {
      "cell_type": "code",
      "metadata": {
        "id": "Vzx_4lrWirmA"
      },
      "source": [
        "# We can also loop through lists of strings (text), and use the 'else' statement to do something when the 'if' is false\n",
        "\n",
        "my_fruits = ['apples', 'bananas', 'pears', 'oranges']\n",
        "\n",
        "# we use len(my_fruits) to return a number that is the length of the list `my_fruits`, and set that as our range\n",
        "\n",
        "for i in range(len(my_fruits)):\n",
        "    if my_fruits[i] == 'pears':\n",
        "        print ('Yum, my favourite fruit is', my_fruits[i])\n",
        "    else:\n",
        "        print ('Ew, I do not like', my_fruits[i])"
      ],
      "execution_count": null,
      "outputs": []
    },
    {
      "cell_type": "markdown",
      "metadata": {
        "id": "gq_ZGE06jzvP"
      },
      "source": [
        "You'll see we used some notation called 'list slicing', on the line \n",
        "\n",
        "```\n",
        "if my_fruits[i] == 'pears':\n",
        "```\n",
        "\n",
        "Those square brackets `[i]` mean we are going to take the *i-th* element of the list `my_fruits`, and check if it has the value 'pears'\n",
        "\n",
        "**Note**: Python arrays start at 0, so this means `my_fruits[3]` is the **4th** item in the list.\n",
        "\n",
        "To see what more you can do with those square brackets, have a look at [this](https://www.programiz.com/python-programming/list) site."
      ]
    },
    {
      "cell_type": "markdown",
      "metadata": {
        "id": "jmEixXuU2Iga"
      },
      "source": [
        "We can shorten the `for` statement with the following:"
      ]
    },
    {
      "cell_type": "code",
      "metadata": {
        "id": "N10xk3dx2cAi"
      },
      "source": [
        "for i in my_fruits:\n",
        "    if i == 'pears':\n",
        "        print ('Yum, my favourite fruit is', i)\n",
        "    else:\n",
        "        print ('Ew, I do not like', i)"
      ],
      "execution_count": null,
      "outputs": []
    },
    {
      "cell_type": "markdown",
      "metadata": {
        "id": "5rb0I0sN2yhi"
      },
      "source": [
        "We can also rename the `i` variable to anything, usually something that makes sense in context:"
      ]
    },
    {
      "cell_type": "code",
      "metadata": {
        "id": "zbi_BMMF2_rn"
      },
      "source": [
        "for fruit in my_fruits:\n",
        "    if fruit == 'pears':\n",
        "        print ('Yum, my favourite fruit is', fruit)\n",
        "    else:\n",
        "        print ('Ew, I do not like', fruit)"
      ],
      "execution_count": null,
      "outputs": []
    },
    {
      "cell_type": "markdown",
      "metadata": {
        "id": "YrI_n2Ijka-P"
      },
      "source": [
        "# Functions\n",
        "\n",
        "The penultimate thing we'll go through in this lesson is *functions*.\n",
        "\n",
        "A function is simply a piece of code that we want to use multiple times but don't want to write out each time.\n",
        "\n",
        "For example, if we wanted to continually do Pythagoras' Theorem to work out side lengths of triangles, we could write a function to do it.\n",
        "\n",
        "If you get a error message of  `NameError: name 'np' is not defined`, it means we haven't imported `Numpy` yet. Remember to either run the cell with `import numpy as np` that is earlier in the notebook, or uncomment it below before you run the cell as we're going to use the square-root function `np.sqrt`"
      ]
    },
    {
      "cell_type": "code",
      "metadata": {
        "id": "c-LkFP6Qk4Yo"
      },
      "source": [
        "#import numpy as np\n",
        "def pythagoras(a, b):\n",
        "    \n",
        "    c = np.sqrt(a**2 + b**2)\n",
        "\n",
        "    return c\n",
        "\n",
        "print ('The hypotenuse has length: ', pythagoras(3,4))"
      ],
      "execution_count": null,
      "outputs": []
    },
    {
      "cell_type": "markdown",
      "metadata": {
        "id": "5kqaFQCUlwt0"
      },
      "source": [
        "As you can tell, the more times we use (call) this function, the more space and time we have saved compared to writing that code each time.\n",
        "\n",
        "A function has a few key components, we:\n",
        "\n",
        "1.  Start with the word `def`, this lets python know we're about to define a new function.\n",
        "2.  Give the function almost any name we want, in this case `pythagoras`\n",
        "3.  Let Python know what is going *in* the function, in this case two variables. These are formally called the `arguements` of a function.\n",
        "4.  Define what the function does with some maths\n",
        "5.  Tell Python what the function will output, called the return statement.\n",
        "\n",
        "This function *will* crash if we try to use it on the wrong datatype:"
      ]
    },
    {
      "cell_type": "code",
      "metadata": {
        "id": "3XQ3yG5fmml9"
      },
      "source": [
        "a = 'dog'\n",
        "b = 'cat'\n",
        "c = pythagoras(a, b)"
      ],
      "execution_count": null,
      "outputs": []
    },
    {
      "cell_type": "markdown",
      "metadata": {
        "id": "IdiLwt32mvbT"
      },
      "source": [
        "This crashed because it tried to do some maths on the strings 'dog' and 'cat', which obviously makes no sense.\n",
        "\n",
        "We can easily write functions to handle strings, for example:"
      ]
    },
    {
      "cell_type": "code",
      "metadata": {
        "id": "buFdORHRuPAq"
      },
      "source": [
        "def print_a_word(a):\n",
        "    print ('Your word was', a)\n",
        "    return\n",
        "\n",
        "print_a_word('dog')"
      ],
      "execution_count": null,
      "outputs": []
    },
    {
      "cell_type": "markdown",
      "metadata": {
        "id": "N0moDhmpuhPY"
      },
      "source": [
        "It doesn't matter how you define the arguements of a function (in both cases I called them both `a`), it only matters that you know what the **datatype** of the variables are **inside** the function. "
      ]
    },
    {
      "cell_type": "markdown",
      "metadata": {
        "id": "bLcqj89Dm1q7"
      },
      "source": [
        "# Plotting Data\n",
        "\n",
        "This last thing we'll learn (apart from a list of resources at the end) is how to create and plot some data.\n",
        "\n",
        "By default, Python can't display plots so we have to import a module for this task. I'll write the code below to plot a sine-wave, then I'll explain the key parts after."
      ]
    },
    {
      "cell_type": "code",
      "metadata": {
        "id": "hVtHNitZnakj"
      },
      "source": [
        "import matplotlib.pyplot as plt\n",
        "#import numpy as np\n",
        "\n",
        "# Data for plotting\n",
        "x = np.arange(0.0, 10.0, 0.01)\n",
        "y = np.sin(x)\n",
        "\n",
        "fig = plt.subplots()\n",
        "plt.plot(x, y)\n",
        "\n",
        "plt.show()"
      ],
      "execution_count": null,
      "outputs": []
    },
    {
      "cell_type": "markdown",
      "metadata": {
        "id": "DPmPHf9Tnu9o"
      },
      "source": [
        "We first import the widely used plotting library called [Matplotlib](https://matplotlib.org/index.html). We give it the nickname `plt` to make is easier for us to use.\n",
        "\n",
        "Then we create some data. The `x` is a simple list of numbers from 0 to 10.0 in steps of 0.01. The y data is just taking the `sine` of that number using Numpy.\n",
        "\n",
        "We then create a figure object with `fig = plt.subplots()`. Finally we `plot` the data on the axis, and use the last line to show the plot on the screen. Feel free to play around with the sine function or draw something totally different.\n",
        "\n",
        "e.g. try : `y = 3 * np.cos(2*np.pi*x + 3)`"
      ]
    },
    {
      "cell_type": "markdown",
      "metadata": {
        "id": "juD0v_GBpkeZ"
      },
      "source": [
        "# References\n",
        "\n",
        "What I've written here only scratches the surface of Python, even the basics aren't fully summarised here. You may find these references useful:\n",
        "\n",
        "* [Python Central](https://www.pythoncentral.io/) - Some good beginners tutorials\n",
        "* [Programwiz](https://www.programiz.com/python-programming) - Even more beginner tutorials\n",
        "* [Anaconda](https://www.anaconda.com/) - A nice scientific-based environment to write python in on your own machine (supports Windows, Mac, Linux)\n",
        "\n",
        "I would only recommend installing Anaconda if you plan on writing your own Python scripts from scratch, to run these Notebooks you don't need to install anything.\n",
        "\n",
        "You'll also find the answer to almost any question you might have by Googling something sensible like:\n",
        "\n",
        "'Python create list of random numbers'\n",
        "\n",
        "Chances are someone somewhere has asked this question and it has been answered. \n",
        "\n",
        "# Tips\n",
        "\n",
        "*  Don't be afraid to try things! You can't do any permanent damage to anything (unless you *really* tried to) so experiment.\n",
        "*  Don't be afraid of error messages, they're actually useful!\n",
        "*  Simply reload this Notebook to erase any mistakes you don't want the world to know about (and to try again on a clean slate)\n",
        "\n",
        "\n"
      ]
    },
    {
      "cell_type": "markdown",
      "metadata": {
        "id": "uTfGzhqYCum3"
      },
      "source": [
        "All code, text, figures written by Mr. Richard Hall of the Cavendish Laboratory, University of Cambridge, UK, unless otherwise specified.\n",
        "\n",
        "Please use, share, copy this as you see fit."
      ]
    }
  ]
}